{
 "cells": [
  {
   "cell_type": "code",
   "execution_count": 1,
   "metadata": {},
   "outputs": [],
   "source": [
    "\n",
    "import pandas as pd\n",
    "import numpy as np\n",
    "import matplotlib.pyplot as plt\n",
    "import seaborn as sns\n",
    "import warnings\n",
    "import pandas as pd\n",
    "import numpy as np\n",
    "\n",
    "# import matplotlib.pyplot as plt\n",
    "import seaborn as sns\n",
    "import matplotlib.pyplot as plt\n",
    "import json \n",
    "\n",
    "#plot confusion matrix\n",
    "from sklearn.metrics import confusion_matrix\n",
    "from sklearn.model_selection import cross_val_score\n",
    "from sklearn.model_selection import train_test_split\n",
    "# import stratified k fold\n",
    "from sklearn.model_selection import StratifiedKFold\n",
    "\n",
    "from sklearn.linear_model import LogisticRegression\n",
    "from sklearn.model_selection import train_test_split\n",
    "from sklearn.metrics import accuracy_score, recall_score, precision_score, roc_auc_score, fbeta_score\n",
    "from sklearn.ensemble import RandomForestClassifier\n",
    "\n",
    "from sklearn.neural_network import MLPClassifier\n",
    "\n",
    "\n",
    "from xgboost import XGBClassifier\n",
    "import re\n",
    "\n",
    "\n",
    "import statistics\n",
    "\n",
    "\n",
    "from sklearn.model_selection import GridSearchCV\n",
    "\n",
    "# import RepeatedStratifiedKFold\n",
    "from sklearn.model_selection import RepeatedStratifiedKFold\n",
    "\n",
    "\n",
    "\n",
    "from sklearn.metrics import make_scorer\n",
    "\n",
    "\n",
    "import time\n",
    "\n",
    "\n",
    "warnings.filterwarnings('ignore')"
   ]
  },
  {
   "cell_type": "markdown",
   "metadata": {},
   "source": [
    "# Helper Functions"
   ]
  },
  {
   "cell_type": "code",
   "execution_count": 2,
   "metadata": {},
   "outputs": [],
   "source": [
    "#plot roc curve\n",
    "from sklearn.metrics import roc_curve, auc\n",
    "#plot roc curve\n",
    "def plot_roc_curve(y_test, y_pred,label):\n",
    "    fpr, tpr, thresholds = roc_curve(y_test, y_pred)\n",
    "    roc_auc = auc(fpr, tpr)\n",
    "    plt.figure()\n",
    "    lw = 2\n",
    "    plt.plot(fpr, tpr, color='darkorange', lw=lw, label='ROC curve (area = %0.2f)' % roc_auc)\n",
    "    plt.plot([0, 1], [0, 1], color='navy', lw=lw, linestyle='--')\n",
    "    plt.xlim([0.0, 1.0])\n",
    "    plt.ylim([0.0, 1.05])\n",
    "    plt.xlabel('False Positive Rate')\n",
    "    plt.ylabel('True Positive Rate')\n",
    "    plt.title('Receiver operating characteristic: '+label)\n",
    "    plt.legend(loc=\"lower right\")\n",
    "    plt.show()\n"
   ]
  },
  {
   "cell_type": "code",
   "execution_count": 3,
   "metadata": {},
   "outputs": [],
   "source": [
    "# plot confusion matrix function\n",
    "def plot_confusion_matrix(y_test, y_pred, label):\n",
    "    cm = confusion_matrix(y_test, y_pred)\n",
    "    plt.figure()\n",
    "    sns.heatmap(cm, annot=True, fmt='d', cmap=\"Blues\")\n",
    "    plt.title('Confusion Matrix: '+label)\n",
    "    plt.ylabel('True label')\n",
    "    plt.xlabel('Predicted label')\n",
    "    plt.show()"
   ]
  },
  {
   "cell_type": "code",
   "execution_count": 4,
   "metadata": {},
   "outputs": [],
   "source": [
    "# function for metrics\n",
    "def metrics(X,y,y_test, y_pred, modell = None, crossval = True, parameters = None):\n",
    "\n",
    "\n",
    "    print(\"----- Metric for 80/20 Split -----\")\n",
    "    print(\"Accuracy score:\", accuracy_score(y_test, y_pred))\n",
    "    print(\"Recall score:\", recall_score(y_test, y_pred))\n",
    "    print(\"Precision score:\", precision_score(y_test, y_pred))\n",
    "    print(\"fbeta score:\", fbeta_score(y_test, y_pred, beta=2))\n",
    "    print(\"----- Metric for Cross Validation -----\")\n",
    "\n",
    "    if crossval == True:\n",
    "        modell.fit(X,y)\n",
    "        \n",
    "        print(\"Crossval score whole Dataset:\", statistics.mean(cross_val_score(modell ,X, y, scoring=f2,cv = cv )))\n",
    "        # print all the scores\n",
    "        print(\"Crossval score whole Dataset Detail:\", cross_val_score(modell ,X, y, scoring=f2,cv = cv ))\n",
    "\n",
    "        print(\"Crossval score Train/Test:\", statistics.mean(cross_val_score(modell ,X_train, y_train, scoring=f2,cv = cv )))\n",
    "        # take mean of crossvalidation scores\n",
    "        print(\"Crossval score Train/Test Detail:\", cross_val_score(modell ,X_train, y_train, scoring=f2,cv = cv ))\n",
    "        \n",
    "    \n",
    "       \n",
    "        "
   ]
  },
  {
   "cell_type": "code",
   "execution_count": 5,
   "metadata": {},
   "outputs": [],
   "source": [
    "# append metrics to dictionary\n",
    "def metrics_dict_non_opt(y_test, y_pred, label, modell):\n",
    "    Non_opt_results[\"Algo_name\"].append(label)\n",
    "    Non_opt_results[\"Recall\"].append(recall_score(y_test, y_pred))\n",
    "    Non_opt_results[\"Precision\"].append(precision_score(y_test, y_pred))\n",
    "    Non_opt_results[\"Accuracy\"].append(accuracy_score(y_test, y_pred))\n",
    "    Non_opt_results[\"F2\"].append(fbeta_score(y_test, y_pred,beta=2))\n",
    "    Non_opt_results[\"F2-CV-Whole\"].append(statistics.mean(cross_val_score(modell ,X, y, scoring=f2,cv = cv )))\n",
    "    Non_opt_results[\"F2-CV-Split\"].append(statistics.mean(cross_val_score(modell ,X_train, y_train, scoring=f2,cv = cv )))\n",
    "\n",
    "\n",
    "def metrics_dict_opt(y_test, y_pred, label, modell = None):\n",
    "    Opt_results[\"Algo_name\"].append(label)\n",
    "    Opt_results[\"Recall\"].append(recall_score(y_test, y_pred))\n",
    "    Opt_results[\"Precision\"].append(precision_score(y_test, y_pred))\n",
    "    Opt_results[\"Accuracy\"].append(accuracy_score(y_test, y_pred))\n",
    "    Opt_results[\"F2\"].append(fbeta_score(y_test, y_pred,beta=2))\n",
    "    Opt_results[\"F2-CV-Whole\"].append(statistics.mean(cross_val_score(modell ,X, y, scoring=f2,cv = cv )))\n",
    "    Opt_results[\"F2-CV-Split\"].append(statistics.mean(cross_val_score(modell ,X_train, y_train, scoring=f2,cv = cv )))"
   ]
  },
  {
   "cell_type": "code",
   "execution_count": 6,
   "metadata": {},
   "outputs": [],
   "source": [
    "# define function for crossvalidation and grid search measurement\n",
    "def f2_measure(y_true, y_pred):\n",
    "\treturn fbeta_score(y_true, y_pred, beta=2)\n",
    "f2 = make_scorer(f2_measure)"
   ]
  },
  {
   "cell_type": "code",
   "execution_count": 7,
   "metadata": {},
   "outputs": [],
   "source": [
    "\n",
    "# load german_data_cleaned.csv\n",
    "german_data = pd.read_csv('german_data_cleaned.csv')"
   ]
  },
  {
   "cell_type": "code",
   "execution_count": 8,
   "metadata": {},
   "outputs": [
    {
     "data": {
      "text/html": [
       "<div>\n",
       "<style scoped>\n",
       "    .dataframe tbody tr th:only-of-type {\n",
       "        vertical-align: middle;\n",
       "    }\n",
       "\n",
       "    .dataframe tbody tr th {\n",
       "        vertical-align: top;\n",
       "    }\n",
       "\n",
       "    .dataframe thead th {\n",
       "        text-align: right;\n",
       "    }\n",
       "</style>\n",
       "<table border=\"1\" class=\"dataframe\">\n",
       "  <thead>\n",
       "    <tr style=\"text-align: right;\">\n",
       "      <th></th>\n",
       "      <th>Installmentrate %</th>\n",
       "      <th>PresentResidence</th>\n",
       "      <th>Age in years</th>\n",
       "      <th>Number existing Credits</th>\n",
       "      <th>Number people liable</th>\n",
       "      <th>Target</th>\n",
       "      <th>Credit Amount per Month</th>\n",
       "      <th>Status Checking_0 less than or equal and less than 200 DM</th>\n",
       "      <th>Status Checking_bigger than 200DM / salary assignments for at least 1 year</th>\n",
       "      <th>Status Checking_less than 0 DM</th>\n",
       "      <th>...</th>\n",
       "      <th>Housing_own</th>\n",
       "      <th>Housing_rent</th>\n",
       "      <th>Job_management/self-employed/highly qualified employee/officer</th>\n",
       "      <th>Job_skilled employee /official</th>\n",
       "      <th>Job_unemployed/unskilled-non-resident</th>\n",
       "      <th>Job_unskilled-resident</th>\n",
       "      <th>Telephone_None</th>\n",
       "      <th>Telephone_yes, registered under the customers name</th>\n",
       "      <th>Foreign Worker_no</th>\n",
       "      <th>Foreign Worker_yes</th>\n",
       "    </tr>\n",
       "  </thead>\n",
       "  <tbody>\n",
       "    <tr>\n",
       "      <th>0</th>\n",
       "      <td>4</td>\n",
       "      <td>4</td>\n",
       "      <td>67</td>\n",
       "      <td>2</td>\n",
       "      <td>1</td>\n",
       "      <td>0</td>\n",
       "      <td>194.833333</td>\n",
       "      <td>0</td>\n",
       "      <td>0</td>\n",
       "      <td>1</td>\n",
       "      <td>...</td>\n",
       "      <td>1</td>\n",
       "      <td>0</td>\n",
       "      <td>0</td>\n",
       "      <td>1</td>\n",
       "      <td>0</td>\n",
       "      <td>0</td>\n",
       "      <td>0</td>\n",
       "      <td>1</td>\n",
       "      <td>0</td>\n",
       "      <td>1</td>\n",
       "    </tr>\n",
       "    <tr>\n",
       "      <th>1</th>\n",
       "      <td>2</td>\n",
       "      <td>2</td>\n",
       "      <td>22</td>\n",
       "      <td>1</td>\n",
       "      <td>1</td>\n",
       "      <td>1</td>\n",
       "      <td>123.979167</td>\n",
       "      <td>1</td>\n",
       "      <td>0</td>\n",
       "      <td>0</td>\n",
       "      <td>...</td>\n",
       "      <td>1</td>\n",
       "      <td>0</td>\n",
       "      <td>0</td>\n",
       "      <td>1</td>\n",
       "      <td>0</td>\n",
       "      <td>0</td>\n",
       "      <td>1</td>\n",
       "      <td>0</td>\n",
       "      <td>0</td>\n",
       "      <td>1</td>\n",
       "    </tr>\n",
       "    <tr>\n",
       "      <th>2</th>\n",
       "      <td>2</td>\n",
       "      <td>3</td>\n",
       "      <td>49</td>\n",
       "      <td>1</td>\n",
       "      <td>2</td>\n",
       "      <td>0</td>\n",
       "      <td>174.666667</td>\n",
       "      <td>0</td>\n",
       "      <td>0</td>\n",
       "      <td>0</td>\n",
       "      <td>...</td>\n",
       "      <td>1</td>\n",
       "      <td>0</td>\n",
       "      <td>0</td>\n",
       "      <td>0</td>\n",
       "      <td>0</td>\n",
       "      <td>1</td>\n",
       "      <td>1</td>\n",
       "      <td>0</td>\n",
       "      <td>0</td>\n",
       "      <td>1</td>\n",
       "    </tr>\n",
       "    <tr>\n",
       "      <th>3</th>\n",
       "      <td>2</td>\n",
       "      <td>4</td>\n",
       "      <td>45</td>\n",
       "      <td>1</td>\n",
       "      <td>2</td>\n",
       "      <td>0</td>\n",
       "      <td>187.666667</td>\n",
       "      <td>0</td>\n",
       "      <td>0</td>\n",
       "      <td>1</td>\n",
       "      <td>...</td>\n",
       "      <td>0</td>\n",
       "      <td>0</td>\n",
       "      <td>0</td>\n",
       "      <td>1</td>\n",
       "      <td>0</td>\n",
       "      <td>0</td>\n",
       "      <td>1</td>\n",
       "      <td>0</td>\n",
       "      <td>0</td>\n",
       "      <td>1</td>\n",
       "    </tr>\n",
       "    <tr>\n",
       "      <th>4</th>\n",
       "      <td>3</td>\n",
       "      <td>4</td>\n",
       "      <td>53</td>\n",
       "      <td>2</td>\n",
       "      <td>2</td>\n",
       "      <td>1</td>\n",
       "      <td>202.916667</td>\n",
       "      <td>0</td>\n",
       "      <td>0</td>\n",
       "      <td>1</td>\n",
       "      <td>...</td>\n",
       "      <td>0</td>\n",
       "      <td>0</td>\n",
       "      <td>0</td>\n",
       "      <td>1</td>\n",
       "      <td>0</td>\n",
       "      <td>0</td>\n",
       "      <td>1</td>\n",
       "      <td>0</td>\n",
       "      <td>0</td>\n",
       "      <td>1</td>\n",
       "    </tr>\n",
       "    <tr>\n",
       "      <th>...</th>\n",
       "      <td>...</td>\n",
       "      <td>...</td>\n",
       "      <td>...</td>\n",
       "      <td>...</td>\n",
       "      <td>...</td>\n",
       "      <td>...</td>\n",
       "      <td>...</td>\n",
       "      <td>...</td>\n",
       "      <td>...</td>\n",
       "      <td>...</td>\n",
       "      <td>...</td>\n",
       "      <td>...</td>\n",
       "      <td>...</td>\n",
       "      <td>...</td>\n",
       "      <td>...</td>\n",
       "      <td>...</td>\n",
       "      <td>...</td>\n",
       "      <td>...</td>\n",
       "      <td>...</td>\n",
       "      <td>...</td>\n",
       "      <td>...</td>\n",
       "    </tr>\n",
       "    <tr>\n",
       "      <th>970</th>\n",
       "      <td>3</td>\n",
       "      <td>4</td>\n",
       "      <td>31</td>\n",
       "      <td>1</td>\n",
       "      <td>1</td>\n",
       "      <td>0</td>\n",
       "      <td>144.666667</td>\n",
       "      <td>0</td>\n",
       "      <td>0</td>\n",
       "      <td>0</td>\n",
       "      <td>...</td>\n",
       "      <td>1</td>\n",
       "      <td>0</td>\n",
       "      <td>0</td>\n",
       "      <td>0</td>\n",
       "      <td>0</td>\n",
       "      <td>1</td>\n",
       "      <td>1</td>\n",
       "      <td>0</td>\n",
       "      <td>0</td>\n",
       "      <td>1</td>\n",
       "    </tr>\n",
       "    <tr>\n",
       "      <th>971</th>\n",
       "      <td>4</td>\n",
       "      <td>4</td>\n",
       "      <td>40</td>\n",
       "      <td>1</td>\n",
       "      <td>1</td>\n",
       "      <td>0</td>\n",
       "      <td>128.566667</td>\n",
       "      <td>0</td>\n",
       "      <td>0</td>\n",
       "      <td>1</td>\n",
       "      <td>...</td>\n",
       "      <td>1</td>\n",
       "      <td>0</td>\n",
       "      <td>1</td>\n",
       "      <td>0</td>\n",
       "      <td>0</td>\n",
       "      <td>0</td>\n",
       "      <td>0</td>\n",
       "      <td>1</td>\n",
       "      <td>0</td>\n",
       "      <td>1</td>\n",
       "    </tr>\n",
       "    <tr>\n",
       "      <th>972</th>\n",
       "      <td>4</td>\n",
       "      <td>4</td>\n",
       "      <td>38</td>\n",
       "      <td>1</td>\n",
       "      <td>1</td>\n",
       "      <td>0</td>\n",
       "      <td>67.000000</td>\n",
       "      <td>0</td>\n",
       "      <td>0</td>\n",
       "      <td>0</td>\n",
       "      <td>...</td>\n",
       "      <td>1</td>\n",
       "      <td>0</td>\n",
       "      <td>0</td>\n",
       "      <td>1</td>\n",
       "      <td>0</td>\n",
       "      <td>0</td>\n",
       "      <td>1</td>\n",
       "      <td>0</td>\n",
       "      <td>0</td>\n",
       "      <td>1</td>\n",
       "    </tr>\n",
       "    <tr>\n",
       "      <th>973</th>\n",
       "      <td>4</td>\n",
       "      <td>4</td>\n",
       "      <td>23</td>\n",
       "      <td>1</td>\n",
       "      <td>1</td>\n",
       "      <td>1</td>\n",
       "      <td>41.000000</td>\n",
       "      <td>0</td>\n",
       "      <td>0</td>\n",
       "      <td>1</td>\n",
       "      <td>...</td>\n",
       "      <td>0</td>\n",
       "      <td>0</td>\n",
       "      <td>0</td>\n",
       "      <td>1</td>\n",
       "      <td>0</td>\n",
       "      <td>0</td>\n",
       "      <td>0</td>\n",
       "      <td>1</td>\n",
       "      <td>0</td>\n",
       "      <td>1</td>\n",
       "    </tr>\n",
       "    <tr>\n",
       "      <th>974</th>\n",
       "      <td>3</td>\n",
       "      <td>4</td>\n",
       "      <td>27</td>\n",
       "      <td>1</td>\n",
       "      <td>1</td>\n",
       "      <td>0</td>\n",
       "      <td>101.688889</td>\n",
       "      <td>1</td>\n",
       "      <td>0</td>\n",
       "      <td>0</td>\n",
       "      <td>...</td>\n",
       "      <td>1</td>\n",
       "      <td>0</td>\n",
       "      <td>0</td>\n",
       "      <td>1</td>\n",
       "      <td>0</td>\n",
       "      <td>0</td>\n",
       "      <td>1</td>\n",
       "      <td>0</td>\n",
       "      <td>0</td>\n",
       "      <td>1</td>\n",
       "    </tr>\n",
       "  </tbody>\n",
       "</table>\n",
       "<p>975 rows × 61 columns</p>\n",
       "</div>"
      ],
      "text/plain": [
       "     Installmentrate %  PresentResidence  Age in years  \\\n",
       "0                    4                 4            67   \n",
       "1                    2                 2            22   \n",
       "2                    2                 3            49   \n",
       "3                    2                 4            45   \n",
       "4                    3                 4            53   \n",
       "..                 ...               ...           ...   \n",
       "970                  3                 4            31   \n",
       "971                  4                 4            40   \n",
       "972                  4                 4            38   \n",
       "973                  4                 4            23   \n",
       "974                  3                 4            27   \n",
       "\n",
       "     Number existing Credits  Number people liable  Target  \\\n",
       "0                          2                     1       0   \n",
       "1                          1                     1       1   \n",
       "2                          1                     2       0   \n",
       "3                          1                     2       0   \n",
       "4                          2                     2       1   \n",
       "..                       ...                   ...     ...   \n",
       "970                        1                     1       0   \n",
       "971                        1                     1       0   \n",
       "972                        1                     1       0   \n",
       "973                        1                     1       1   \n",
       "974                        1                     1       0   \n",
       "\n",
       "     Credit Amount per Month  \\\n",
       "0                 194.833333   \n",
       "1                 123.979167   \n",
       "2                 174.666667   \n",
       "3                 187.666667   \n",
       "4                 202.916667   \n",
       "..                       ...   \n",
       "970               144.666667   \n",
       "971               128.566667   \n",
       "972                67.000000   \n",
       "973                41.000000   \n",
       "974               101.688889   \n",
       "\n",
       "     Status Checking_0 less than or equal and less than 200 DM  \\\n",
       "0                                                    0           \n",
       "1                                                    1           \n",
       "2                                                    0           \n",
       "3                                                    0           \n",
       "4                                                    0           \n",
       "..                                                 ...           \n",
       "970                                                  0           \n",
       "971                                                  0           \n",
       "972                                                  0           \n",
       "973                                                  0           \n",
       "974                                                  1           \n",
       "\n",
       "     Status Checking_bigger than 200DM / salary assignments for at least 1 year  \\\n",
       "0                                                    0                            \n",
       "1                                                    0                            \n",
       "2                                                    0                            \n",
       "3                                                    0                            \n",
       "4                                                    0                            \n",
       "..                                                 ...                            \n",
       "970                                                  0                            \n",
       "971                                                  0                            \n",
       "972                                                  0                            \n",
       "973                                                  0                            \n",
       "974                                                  0                            \n",
       "\n",
       "     Status Checking_less than 0 DM  ...  Housing_own  Housing_rent  \\\n",
       "0                                 1  ...            1             0   \n",
       "1                                 0  ...            1             0   \n",
       "2                                 0  ...            1             0   \n",
       "3                                 1  ...            0             0   \n",
       "4                                 1  ...            0             0   \n",
       "..                              ...  ...          ...           ...   \n",
       "970                               0  ...            1             0   \n",
       "971                               1  ...            1             0   \n",
       "972                               0  ...            1             0   \n",
       "973                               1  ...            0             0   \n",
       "974                               0  ...            1             0   \n",
       "\n",
       "     Job_management/self-employed/highly qualified employee/officer  \\\n",
       "0                                                    0                \n",
       "1                                                    0                \n",
       "2                                                    0                \n",
       "3                                                    0                \n",
       "4                                                    0                \n",
       "..                                                 ...                \n",
       "970                                                  0                \n",
       "971                                                  1                \n",
       "972                                                  0                \n",
       "973                                                  0                \n",
       "974                                                  0                \n",
       "\n",
       "     Job_skilled employee /official  Job_unemployed/unskilled-non-resident  \\\n",
       "0                                 1                                      0   \n",
       "1                                 1                                      0   \n",
       "2                                 0                                      0   \n",
       "3                                 1                                      0   \n",
       "4                                 1                                      0   \n",
       "..                              ...                                    ...   \n",
       "970                               0                                      0   \n",
       "971                               0                                      0   \n",
       "972                               1                                      0   \n",
       "973                               1                                      0   \n",
       "974                               1                                      0   \n",
       "\n",
       "     Job_unskilled-resident  Telephone_None  \\\n",
       "0                         0               0   \n",
       "1                         0               1   \n",
       "2                         1               1   \n",
       "3                         0               1   \n",
       "4                         0               1   \n",
       "..                      ...             ...   \n",
       "970                       1               1   \n",
       "971                       0               0   \n",
       "972                       0               1   \n",
       "973                       0               0   \n",
       "974                       0               1   \n",
       "\n",
       "     Telephone_yes, registered under the customers name  Foreign Worker_no  \\\n",
       "0                                                    1                   0   \n",
       "1                                                    0                   0   \n",
       "2                                                    0                   0   \n",
       "3                                                    0                   0   \n",
       "4                                                    0                   0   \n",
       "..                                                 ...                 ...   \n",
       "970                                                  0                   0   \n",
       "971                                                  1                   0   \n",
       "972                                                  0                   0   \n",
       "973                                                  1                   0   \n",
       "974                                                  0                   0   \n",
       "\n",
       "     Foreign Worker_yes  \n",
       "0                     1  \n",
       "1                     1  \n",
       "2                     1  \n",
       "3                     1  \n",
       "4                     1  \n",
       "..                  ...  \n",
       "970                   1  \n",
       "971                   1  \n",
       "972                   1  \n",
       "973                   1  \n",
       "974                   1  \n",
       "\n",
       "[975 rows x 61 columns]"
      ]
     },
     "execution_count": 8,
     "metadata": {},
     "output_type": "execute_result"
    }
   ],
   "source": [
    "german_data"
   ]
  },
  {
   "cell_type": "markdown",
   "metadata": {},
   "source": [
    "# Split Feauture und Target"
   ]
  },
  {
   "cell_type": "code",
   "execution_count": 9,
   "metadata": {},
   "outputs": [],
   "source": [
    "# split features and target\n",
    "X = german_data.drop(['Target'], axis=1)\n",
    "y = german_data['Target']"
   ]
  },
  {
   "cell_type": "code",
   "execution_count": 10,
   "metadata": {},
   "outputs": [],
   "source": [
    "\n",
    "# Kreuzvalidierung\n",
    "cv = RepeatedStratifiedKFold(n_splits=5, n_repeats=2, random_state=1)"
   ]
  },
  {
   "cell_type": "code",
   "execution_count": 11,
   "metadata": {},
   "outputs": [],
   "source": [
    "# create dictionary with algo names and score metrics for later analysis\n",
    "\n",
    "Non_opt_results = {\"Algo_name\": [], \"Recall\": [],\"Precision\": [],\"Accuracy\": [], \"F2\": [], \"F2-CV-Whole\": [], \"F2-CV-Split\": []}"
   ]
  },
  {
   "cell_type": "code",
   "execution_count": 12,
   "metadata": {},
   "outputs": [],
   "source": [
    "# split data into train and test set 80/20\n",
    "X_train, X_test, y_train, y_test = train_test_split(X, y, test_size=0.2, random_state=42)"
   ]
  },
  {
   "cell_type": "code",
   "execution_count": 13,
   "metadata": {},
   "outputs": [
    {
     "data": {
      "text/plain": [
       "199    0\n",
       "789    0\n",
       "174    0\n",
       "467    0\n",
       "66     1\n",
       "      ..\n",
       "688    0\n",
       "631    1\n",
       "880    0\n",
       "522    1\n",
       "529    1\n",
       "Name: Target, Length: 195, dtype: int64"
      ]
     },
     "execution_count": 13,
     "metadata": {},
     "output_type": "execute_result"
    }
   ],
   "source": [
    "y_test"
   ]
  },
  {
   "cell_type": "markdown",
   "metadata": {},
   "source": [
    "# Modelling Non-Optimized"
   ]
  },
  {
   "cell_type": "markdown",
   "metadata": {},
   "source": [
    "## Logistic Regression"
   ]
  },
  {
   "cell_type": "code",
   "execution_count": 14,
   "metadata": {},
   "outputs": [],
   "source": [
    "# use logistic regression to predict target variable\n",
    "# create logistic regression model with standard parameters\n",
    "\n",
    "def logistic_regression(X_train, X_test, y_train, y_test, hyperopt = False, parameters=dict(), opt = False):\n",
    "    logreg = LogisticRegression(random_state=42, **parameters)\n",
    "    \n",
    "   \n",
    "    if hyperopt == False:\n",
    "        # fit the model\n",
    "        logreg.fit(X_train, y_train)\n",
    "\n",
    "        # predict the target variable\n",
    "        y_pred = logreg.predict(X_test)\n",
    "        \n",
    "        # print accuracy score and recall score\n",
    "        metrics(X,y,y_test, y_pred, crossval=True, modell=logreg)\n",
    "\n",
    "        print(X_train.shape ,y_train.shape)\n",
    "\n",
    "        # add algo name and recall score to dictionary\n",
    "        if opt==False:\n",
    "            metrics_dict_non_opt(y_test, y_pred, \"Logistic Regression\", logreg)\n",
    "        elif opt == True:\n",
    "            metrics_dict_opt(y_test, y_pred, \"Logistic Regression\", logreg)\n",
    "\n",
    "        \n",
    "        plot_roc_curve(y_test, y_pred,\"Logistic Regression\")\n",
    "        plot_confusion_matrix(y_test,y_pred,\"Logistic Regression\")\n",
    "    else:\n",
    "\n",
    "        return logreg\n",
    "\n",
    "    return logreg\n"
   ]
  },
  {
   "cell_type": "code",
   "execution_count": 15,
   "metadata": {},
   "outputs": [
    {
     "name": "stdout",
     "output_type": "stream",
     "text": [
      "----- Metric for 80/20 Split -----\n",
      "Accuracy score: 0.7743589743589744\n",
      "Recall score: 0.5172413793103449\n",
      "Precision score: 0.6521739130434783\n",
      "fbeta score: 0.5395683453237411\n",
      "----- Metric for Cross Validation -----\n",
      "Crossval score whole Dataset: 0.45746489823219394\n",
      "Crossval score whole Dataset Detail: [0.41509434 0.43560606 0.39622642 0.48076923 0.51094891 0.45283019\n",
      " 0.52158273 0.42910448 0.45454545 0.47794118]\n",
      "Crossval score Train/Test: 0.40163819730382855\n",
      "Crossval score Train/Test Detail: [0.28846154 0.38095238 0.4245283  0.46728972 0.36764706 0.33175355\n",
      " 0.4589372  0.39719626 0.37209302 0.52752294]\n",
      "(780, 60) (780,)\n"
     ]
    },
    {
     "data": {
      "image/png": "[encoded data removed]",
      "text/plain": [
       "<Figure size 432x288 with 1 Axes>"
      ]
     },
     "metadata": {
      "needs_background": "light"
     },
     "output_type": "display_data"
    },
    {
     "data": {
      "image/png": "[encoded data removed]",
      "text/plain": [
       "<Figure size 432x288 with 2 Axes>"
      ]
     },
     "metadata": {
      "needs_background": "light"
     },
     "output_type": "display_data"
    },
    {
     "data": {
      "text/html": [
       "<style>#sk-container-id-1 {color: black;background-color: white;}#sk-container-id-1 pre{padding: 0;}#sk-container-id-1 div.sk-toggleable {background-color: white;}#sk-container-id-1 label.sk-toggleable__label {cursor: pointer;display: block;width: 100%;margin-bottom: 0;padding: 0.3em;box-sizing: border-box;text-align: center;}#sk-container-id-1 label.sk-toggleable__label-arrow:before {content: \"▸\";float: left;margin-right: 0.25em;color: #696969;}#sk-container-id-1 label.sk-toggleable__label-arrow:hover:before {color: black;}#sk-container-id-1 div.sk-estimator:hover label.sk-toggleable__label-arrow:before {color: black;}#sk-container-id-1 div.sk-toggleable__content {max-height: 0;max-width: 0;overflow: hidden;text-align: left;background-color: #f0f8ff;}#sk-container-id-1 div.sk-toggleable__content pre {margin: 0.2em;color: black;border-radius: 0.25em;background-color: #f0f8ff;}#sk-container-id-1 input.sk-toggleable__control:checked~div.sk-toggleable__content {max-height: 200px;max-width: 100%;overflow: auto;}#sk-container-id-1 input.sk-toggleable__control:checked~label.sk-toggleable__label-arrow:before {content: \"▾\";}#sk-container-id-1 div.sk-estimator input.sk-toggleable__control:checked~label.sk-toggleable__label {background-color: #d4ebff;}#sk-container-id-1 div.sk-label input.sk-toggleable__control:checked~label.sk-toggleable__label {background-color: #d4ebff;}#sk-container-id-1 input.sk-hidden--visually {border: 0;clip: rect(1px 1px 1px 1px);clip: rect(1px, 1px, 1px, 1px);height: 1px;margin: -1px;overflow: hidden;padding: 0;position: absolute;width: 1px;}#sk-container-id-1 div.sk-estimator {font-family: monospace;background-color: #f0f8ff;border: 1px dotted black;border-radius: 0.25em;box-sizing: border-box;margin-bottom: 0.5em;}#sk-container-id-1 div.sk-estimator:hover {background-color: #d4ebff;}#sk-container-id-1 div.sk-parallel-item::after {content: \"\";width: 100%;border-bottom: 1px solid gray;flex-grow: 1;}#sk-container-id-1 div.sk-label:hover label.sk-toggleable__label {background-color: #d4ebff;}#sk-container-id-1 div.sk-serial::before {content: \"\";position: absolute;border-left: 1px solid gray;box-sizing: border-box;top: 0;bottom: 0;left: 50%;z-index: 0;}#sk-container-id-1 div.sk-serial {display: flex;flex-direction: column;align-items: center;background-color: white;padding-right: 0.2em;padding-left: 0.2em;position: relative;}#sk-container-id-1 div.sk-item {position: relative;z-index: 1;}#sk-container-id-1 div.sk-parallel {display: flex;align-items: stretch;justify-content: center;background-color: white;position: relative;}#sk-container-id-1 div.sk-item::before, #sk-container-id-1 div.sk-parallel-item::before {content: \"\";position: absolute;border-left: 1px solid gray;box-sizing: border-box;top: 0;bottom: 0;left: 50%;z-index: -1;}#sk-container-id-1 div.sk-parallel-item {display: flex;flex-direction: column;z-index: 1;position: relative;background-color: white;}#sk-container-id-1 div.sk-parallel-item:first-child::after {align-self: flex-end;width: 50%;}#sk-container-id-1 div.sk-parallel-item:last-child::after {align-self: flex-start;width: 50%;}#sk-container-id-1 div.sk-parallel-item:only-child::after {width: 0;}#sk-container-id-1 div.sk-dashed-wrapped {border: 1px dashed gray;margin: 0 0.4em 0.5em 0.4em;box-sizing: border-box;padding-bottom: 0.4em;background-color: white;}#sk-container-id-1 div.sk-label label {font-family: monospace;font-weight: bold;display: inline-block;line-height: 1.2em;}#sk-container-id-1 div.sk-label-container {text-align: center;}#sk-container-id-1 div.sk-container {/* jupyter's `normalize.less` sets `[hidden] { display: none; }` but bootstrap.min.css set `[hidden] { display: none !important; }` so we also need the `!important` here to be able to override the default hidden behavior on the sphinx rendered scikit-learn.org. See: https://github.com/scikit-learn/scikit-learn/issues/21755 */display: inline-block !important;position: relative;}#sk-container-id-1 div.sk-text-repr-fallback {display: none;}</style><div id=\"sk-container-id-1\" class=\"sk-top-container\"><div class=\"sk-text-repr-fallback\"><pre>LogisticRegression(random_state=42)</pre><b>In a Jupyter environment, please rerun this cell to show the HTML representation or trust the notebook. <br />On GitHub, the HTML representation is unable to render, please try loading this page with nbviewer.org.</b></div><div class=\"sk-container\" hidden><div class=\"sk-item\"><div class=\"sk-estimator sk-toggleable\"><input class=\"sk-toggleable__control sk-hidden--visually\" id=\"sk-estimator-id-1\" type=\"checkbox\" checked><label for=\"sk-estimator-id-1\" class=\"sk-toggleable__label sk-toggleable__label-arrow\">LogisticRegression</label><div class=\"sk-toggleable__content\"><pre>LogisticRegression(random_state=42)</pre></div></div></div></div></div>"
      ],
      "text/plain": [
       "LogisticRegression(random_state=42)"
      ]
     },
     "execution_count": 15,
     "metadata": {},
     "output_type": "execute_result"
    }
   ],
   "source": [
    "logistic_regression(X_train, X_test, y_train, y_test)"
   ]
  },
  {
   "cell_type": "code",
   "execution_count": 16,
   "metadata": {},
   "outputs": [
    {
     "data": {
      "text/html": [
       "<style>#sk-container-id-2 {color: black;background-color: white;}#sk-container-id-2 pre{padding: 0;}#sk-container-id-2 div.sk-toggleable {background-color: white;}#sk-container-id-2 label.sk-toggleable__label {cursor: pointer;display: block;width: 100%;margin-bottom: 0;padding: 0.3em;box-sizing: border-box;text-align: center;}#sk-container-id-2 label.sk-toggleable__label-arrow:before {content: \"▸\";float: left;margin-right: 0.25em;color: #696969;}#sk-container-id-2 label.sk-toggleable__label-arrow:hover:before {color: black;}#sk-container-id-2 div.sk-estimator:hover label.sk-toggleable__label-arrow:before {color: black;}#sk-container-id-2 div.sk-toggleable__content {max-height: 0;max-width: 0;overflow: hidden;text-align: left;background-color: #f0f8ff;}#sk-container-id-2 div.sk-toggleable__content pre {margin: 0.2em;color: black;border-radius: 0.25em;background-color: #f0f8ff;}#sk-container-id-2 input.sk-toggleable__control:checked~div.sk-toggleable__content {max-height: 200px;max-width: 100%;overflow: auto;}#sk-container-id-2 input.sk-toggleable__control:checked~label.sk-toggleable__label-arrow:before {content: \"▾\";}#sk-container-id-2 div.sk-estimator input.sk-toggleable__control:checked~label.sk-toggleable__label {background-color: #d4ebff;}#sk-container-id-2 div.sk-label input.sk-toggleable__control:checked~label.sk-toggleable__label {background-color: #d4ebff;}#sk-container-id-2 input.sk-hidden--visually {border: 0;clip: rect(1px 1px 1px 1px);clip: rect(1px, 1px, 1px, 1px);height: 1px;margin: -1px;overflow: hidden;padding: 0;position: absolute;width: 1px;}#sk-container-id-2 div.sk-estimator {font-family: monospace;background-color: #f0f8ff;border: 1px dotted black;border-radius: 0.25em;box-sizing: border-box;margin-bottom: 0.5em;}#sk-container-id-2 div.sk-estimator:hover {background-color: #d4ebff;}#sk-container-id-2 div.sk-parallel-item::after {content: \"\";width: 100%;border-bottom: 1px solid gray;flex-grow: 1;}#sk-container-id-2 div.sk-label:hover label.sk-toggleable__label {background-color: #d4ebff;}#sk-container-id-2 div.sk-serial::before {content: \"\";position: absolute;border-left: 1px solid gray;box-sizing: border-box;top: 0;bottom: 0;left: 50%;z-index: 0;}#sk-container-id-2 div.sk-serial {display: flex;flex-direction: column;align-items: center;background-color: white;padding-right: 0.2em;padding-left: 0.2em;position: relative;}#sk-container-id-2 div.sk-item {position: relative;z-index: 1;}#sk-container-id-2 div.sk-parallel {display: flex;align-items: stretch;justify-content: center;background-color: white;position: relative;}#sk-container-id-2 div.sk-item::before, #sk-container-id-2 div.sk-parallel-item::before {content: \"\";position: absolute;border-left: 1px solid gray;box-sizing: border-box;top: 0;bottom: 0;left: 50%;z-index: -1;}#sk-container-id-2 div.sk-parallel-item {display: flex;flex-direction: column;z-index: 1;position: relative;background-color: white;}#sk-container-id-2 div.sk-parallel-item:first-child::after {align-self: flex-end;width: 50%;}#sk-container-id-2 div.sk-parallel-item:last-child::after {align-self: flex-start;width: 50%;}#sk-container-id-2 div.sk-parallel-item:only-child::after {width: 0;}#sk-container-id-2 div.sk-dashed-wrapped {border: 1px dashed gray;margin: 0 0.4em 0.5em 0.4em;box-sizing: border-box;padding-bottom: 0.4em;background-color: white;}#sk-container-id-2 div.sk-label label {font-family: monospace;font-weight: bold;display: inline-block;line-height: 1.2em;}#sk-container-id-2 div.sk-label-container {text-align: center;}#sk-container-id-2 div.sk-container {/* jupyter's `normalize.less` sets `[hidden] { display: none; }` but bootstrap.min.css set `[hidden] { display: none !important; }` so we also need the `!important` here to be able to override the default hidden behavior on the sphinx rendered scikit-learn.org. See: https://github.com/scikit-learn/scikit-learn/issues/21755 */display: inline-block !important;position: relative;}#sk-container-id-2 div.sk-text-repr-fallback {display: none;}</style><div id=\"sk-container-id-2\" class=\"sk-top-container\"><div class=\"sk-text-repr-fallback\"><pre>RandomForestClassifier(random_state=42)</pre><b>In a Jupyter environment, please rerun this cell to show the HTML representation or trust the notebook. <br />On GitHub, the HTML representation is unable to render, please try loading this page with nbviewer.org.</b></div><div class=\"sk-container\" hidden><div class=\"sk-item\"><div class=\"sk-estimator sk-toggleable\"><input class=\"sk-toggleable__control sk-hidden--visually\" id=\"sk-estimator-id-2\" type=\"checkbox\" checked><label for=\"sk-estimator-id-2\" class=\"sk-toggleable__label sk-toggleable__label-arrow\">RandomForestClassifier</label><div class=\"sk-toggleable__content\"><pre>RandomForestClassifier(random_state=42)</pre></div></div></div></div></div>"
      ],
      "text/plain": [
       "RandomForestClassifier(random_state=42)"
      ]
     },
     "execution_count": 16,
     "metadata": {},
     "output_type": "execute_result"
    }
   ],
   "source": [
    "log = LogisticRegression()\n",
    "RandomForestClassifier(random_state=42)"
   ]
  },
  {
   "cell_type": "code",
   "execution_count": 17,
   "metadata": {},
   "outputs": [
    {
     "data": {
      "image/png": "[encoded data removed]",
      "text/plain": [
       "<Figure size 432x288 with 2 Axes>"
      ]
     },
     "metadata": {
      "needs_background": "light"
     },
     "output_type": "display_data"
    }
   ],
   "source": [
    "from sklearn.model_selection import cross_val_predict\n",
    "from sklearn.metrics import confusion_matrix\n",
    "y_pred = cross_val_predict(RandomForestClassifier(random_state=42), X, y, cv= 5)\n",
    "conf_mat = confusion_matrix(y, y_pred)\n",
    "#plot confusion matrix\n",
    "plt.figure()\n",
    "sns.heatmap(conf_mat, annot=True, fmt='d', cmap=\"Blues\")\n",
    "plt.title('Confusion Matrix: Logistic Regression')\n",
    "plt.ylabel('True label')\n",
    "plt.xlabel('Predicted label')\n",
    "plt.show()\n",
    "\n"
   ]
  },
  {
   "cell_type": "markdown",
   "metadata": {},
   "source": [
    "## Random Forest"
   ]
  },
  {
   "cell_type": "code",
   "execution_count": 32,
   "metadata": {},
   "outputs": [],
   "source": [
    "def random_forest(X_train, X_test, y_train, y_test, hyperopt = False, parameters=dict(),opt = False):\n",
    "    rf = RandomForestClassifier(random_state=42,**parameters)\n",
    "\n",
    "    if hyperopt == False:\n",
    "        rf.fit(X_train, y_train)\n",
    "        # predict the target variable\n",
    "        y_pred = rf.predict(X_test)\n",
    "        # print accuracy score and recall score\n",
    "        metrics(X,y,y_test, y_pred, crossval=True, modell=rf)\n",
    "\n",
    "        if opt==False:\n",
    "            metrics_dict_non_opt(y_test, y_pred, \"Random forest\", rf)\n",
    "        elif opt == True:\n",
    "            metrics_dict_opt(y_test, y_pred, \"Random forest\", rf)\n",
    "\n",
    "\n",
    "        # show feature importance for random forest\n",
    "\n",
    "        importances = rf.feature_importances_\n",
    "        # plot importances\n",
    "        plt.figure(figsize=(10,10))\n",
    "        # order importances\n",
    "        indices = np.argsort(importances)[::-1]\n",
    "        sns.barplot(x=importances[indices], y=X_train.columns, orient='h')\n",
    "        plt.xlabel('Feature Importance')\n",
    "        plt.ylabel('Features')\n",
    "        plt.title('Feature Importance')\n",
    "        plt.show()\n",
    "\n",
    "        plot_roc_curve(y_test, y_pred,\"Random Forest\")\n",
    "        plot_confusion_matrix(y_test,y_pred,\"Random Forest\")\n",
    "    else:\n",
    "        return rf\n",
    "    return rf"
   ]
  },
  {
   "cell_type": "code",
   "execution_count": 33,
   "metadata": {},
   "outputs": [
    {
     "name": "stdout",
     "output_type": "stream",
     "text": [
      "----- Metric for 80/20 Split -----\n",
      "Accuracy score: 0.7794871794871795\n",
      "Recall score: 0.43103448275862066\n",
      "Precision score: 0.7142857142857143\n",
      "fbeta score: 0.4681647940074906\n",
      "----- Metric for Cross Validation -----\n",
      "Crossval score whole Dataset: 0.36851508700719454\n",
      "Crossval score whole Dataset Detail: [0.39525692 0.3815261  0.32818533 0.37848606 0.40856031 0.32\n",
      " 0.51136364 0.29411765 0.31746032 0.35019455]\n",
      "Crossval score Train/Test: 0.32945163820339535\n",
      "Crossval score Train/Test Detail: [0.34482759 0.34653465 0.27777778 0.39408867 0.31553398 0.20408163\n",
      " 0.46116505 0.32019704 0.28205128 0.34825871]\n"
     ]
    },
    {
     "ename": "TypeError",
     "evalue": "cannot concatenate object of type '<class 'str'>'; only Series and DataFrame objs are valid",
     "output_type": "error",
     "traceback": [
      "\u001b[1;31m---------------------------------------------------------------------------\u001b[0m",
      "\u001b[1;31mTypeError\u001b[0m                                 Traceback (most recent call last)",
      "\u001b[1;32m~\\AppData\\Local\\Temp/ipykernel_11296/1773977696.py\u001b[0m in \u001b[0;36m<module>\u001b[1;34m\u001b[0m\n\u001b[1;32m----> 1\u001b[1;33m \u001b[0mrandom_forest\u001b[0m\u001b[1;33m(\u001b[0m\u001b[0mX_train\u001b[0m\u001b[1;33m,\u001b[0m \u001b[0mX_test\u001b[0m\u001b[1;33m,\u001b[0m \u001b[0my_train\u001b[0m\u001b[1;33m,\u001b[0m \u001b[0my_test\u001b[0m\u001b[1;33m)\u001b[0m\u001b[1;33m\u001b[0m\u001b[1;33m\u001b[0m\u001b[0m\n\u001b[0m",
      "\u001b[1;32m~\\AppData\\Local\\Temp/ipykernel_11296/2193068870.py\u001b[0m in \u001b[0;36mrandom_forest\u001b[1;34m(X_train, X_test, y_train, y_test, hyperopt, parameters, opt)\u001b[0m\n\u001b[0;32m     10\u001b[0m \u001b[1;33m\u001b[0m\u001b[0m\n\u001b[0;32m     11\u001b[0m         \u001b[1;32mif\u001b[0m \u001b[0mopt\u001b[0m\u001b[1;33m==\u001b[0m\u001b[1;32mFalse\u001b[0m\u001b[1;33m:\u001b[0m\u001b[1;33m\u001b[0m\u001b[1;33m\u001b[0m\u001b[0m\n\u001b[1;32m---> 12\u001b[1;33m             \u001b[0mmetrics_dict_non_opt\u001b[0m\u001b[1;33m(\u001b[0m\u001b[0my_test\u001b[0m\u001b[1;33m,\u001b[0m \u001b[0my_pred\u001b[0m\u001b[1;33m,\u001b[0m \u001b[1;34m\"Random forest\"\u001b[0m\u001b[1;33m,\u001b[0m \u001b[0mrf\u001b[0m\u001b[1;33m)\u001b[0m\u001b[1;33m\u001b[0m\u001b[1;33m\u001b[0m\u001b[0m\n\u001b[0m\u001b[0;32m     13\u001b[0m         \u001b[1;32melif\u001b[0m \u001b[0mopt\u001b[0m \u001b[1;33m==\u001b[0m \u001b[1;32mTrue\u001b[0m\u001b[1;33m:\u001b[0m\u001b[1;33m\u001b[0m\u001b[1;33m\u001b[0m\u001b[0m\n\u001b[0;32m     14\u001b[0m             \u001b[0mmetrics_dict_opt\u001b[0m\u001b[1;33m(\u001b[0m\u001b[0my_test\u001b[0m\u001b[1;33m,\u001b[0m \u001b[0my_pred\u001b[0m\u001b[1;33m,\u001b[0m \u001b[1;34m\"Random forest\"\u001b[0m\u001b[1;33m,\u001b[0m \u001b[0mrf\u001b[0m\u001b[1;33m)\u001b[0m\u001b[1;33m\u001b[0m\u001b[1;33m\u001b[0m\u001b[0m\n",
      "\u001b[1;32m~\\AppData\\Local\\Temp/ipykernel_11296/1228719018.py\u001b[0m in \u001b[0;36mmetrics_dict_non_opt\u001b[1;34m(y_test, y_pred, label, modell)\u001b[0m\n\u001b[0;32m      1\u001b[0m \u001b[1;31m# append metrics to dictionary\u001b[0m\u001b[1;33m\u001b[0m\u001b[1;33m\u001b[0m\u001b[0m\n\u001b[0;32m      2\u001b[0m \u001b[1;32mdef\u001b[0m \u001b[0mmetrics_dict_non_opt\u001b[0m\u001b[1;33m(\u001b[0m\u001b[0my_test\u001b[0m\u001b[1;33m,\u001b[0m \u001b[0my_pred\u001b[0m\u001b[1;33m,\u001b[0m \u001b[0mlabel\u001b[0m\u001b[1;33m,\u001b[0m \u001b[0mmodell\u001b[0m\u001b[1;33m)\u001b[0m\u001b[1;33m:\u001b[0m\u001b[1;33m\u001b[0m\u001b[1;33m\u001b[0m\u001b[0m\n\u001b[1;32m----> 3\u001b[1;33m     \u001b[0mNon_opt_results\u001b[0m\u001b[1;33m[\u001b[0m\u001b[1;34m\"Algo_name\"\u001b[0m\u001b[1;33m]\u001b[0m\u001b[1;33m.\u001b[0m\u001b[0mappend\u001b[0m\u001b[1;33m(\u001b[0m\u001b[0mlabel\u001b[0m\u001b[1;33m)\u001b[0m\u001b[1;33m\u001b[0m\u001b[1;33m\u001b[0m\u001b[0m\n\u001b[0m\u001b[0;32m      4\u001b[0m     \u001b[0mNon_opt_results\u001b[0m\u001b[1;33m[\u001b[0m\u001b[1;34m\"Recall\"\u001b[0m\u001b[1;33m]\u001b[0m\u001b[1;33m.\u001b[0m\u001b[0mappend\u001b[0m\u001b[1;33m(\u001b[0m\u001b[0mrecall_score\u001b[0m\u001b[1;33m(\u001b[0m\u001b[0my_test\u001b[0m\u001b[1;33m,\u001b[0m \u001b[0my_pred\u001b[0m\u001b[1;33m)\u001b[0m\u001b[1;33m)\u001b[0m\u001b[1;33m\u001b[0m\u001b[1;33m\u001b[0m\u001b[0m\n\u001b[0;32m      5\u001b[0m     \u001b[0mNon_opt_results\u001b[0m\u001b[1;33m[\u001b[0m\u001b[1;34m\"Precision\"\u001b[0m\u001b[1;33m]\u001b[0m\u001b[1;33m.\u001b[0m\u001b[0mappend\u001b[0m\u001b[1;33m(\u001b[0m\u001b[0mprecision_score\u001b[0m\u001b[1;33m(\u001b[0m\u001b[0my_test\u001b[0m\u001b[1;33m,\u001b[0m \u001b[0my_pred\u001b[0m\u001b[1;33m)\u001b[0m\u001b[1;33m)\u001b[0m\u001b[1;33m\u001b[0m\u001b[1;33m\u001b[0m\u001b[0m\n",
      "\u001b[1;32mc:\\Users\\hornd\\AppData\\Local\\R-MINI~1\\envs\\pyml\\lib\\site-packages\\pandas\\core\\series.py\u001b[0m in \u001b[0;36mappend\u001b[1;34m(self, to_append, ignore_index, verify_integrity)\u001b[0m\n\u001b[0;32m   2932\u001b[0m         )\n\u001b[0;32m   2933\u001b[0m \u001b[1;33m\u001b[0m\u001b[0m\n\u001b[1;32m-> 2934\u001b[1;33m         \u001b[1;32mreturn\u001b[0m \u001b[0mself\u001b[0m\u001b[1;33m.\u001b[0m\u001b[0m_append\u001b[0m\u001b[1;33m(\u001b[0m\u001b[0mto_append\u001b[0m\u001b[1;33m,\u001b[0m \u001b[0mignore_index\u001b[0m\u001b[1;33m,\u001b[0m \u001b[0mverify_integrity\u001b[0m\u001b[1;33m)\u001b[0m\u001b[1;33m\u001b[0m\u001b[1;33m\u001b[0m\u001b[0m\n\u001b[0m\u001b[0;32m   2935\u001b[0m \u001b[1;33m\u001b[0m\u001b[0m\n\u001b[0;32m   2936\u001b[0m     def _append(\n",
      "\u001b[1;32mc:\\Users\\hornd\\AppData\\Local\\R-MINI~1\\envs\\pyml\\lib\\site-packages\\pandas\\core\\series.py\u001b[0m in \u001b[0;36m_append\u001b[1;34m(self, to_append, ignore_index, verify_integrity)\u001b[0m\n\u001b[0;32m   2947\u001b[0m             \u001b[0mmsg\u001b[0m \u001b[1;33m=\u001b[0m \u001b[1;34m\"to_append should be a Series or list/tuple of Series, got DataFrame\"\u001b[0m\u001b[1;33m\u001b[0m\u001b[1;33m\u001b[0m\u001b[0m\n\u001b[0;32m   2948\u001b[0m             \u001b[1;32mraise\u001b[0m \u001b[0mTypeError\u001b[0m\u001b[1;33m(\u001b[0m\u001b[0mmsg\u001b[0m\u001b[1;33m)\u001b[0m\u001b[1;33m\u001b[0m\u001b[1;33m\u001b[0m\u001b[0m\n\u001b[1;32m-> 2949\u001b[1;33m         return concat(\n\u001b[0m\u001b[0;32m   2950\u001b[0m             \u001b[0mto_concat\u001b[0m\u001b[1;33m,\u001b[0m \u001b[0mignore_index\u001b[0m\u001b[1;33m=\u001b[0m\u001b[0mignore_index\u001b[0m\u001b[1;33m,\u001b[0m \u001b[0mverify_integrity\u001b[0m\u001b[1;33m=\u001b[0m\u001b[0mverify_integrity\u001b[0m\u001b[1;33m\u001b[0m\u001b[1;33m\u001b[0m\u001b[0m\n\u001b[0;32m   2951\u001b[0m         )\n",
      "\u001b[1;32mc:\\Users\\hornd\\AppData\\Local\\R-MINI~1\\envs\\pyml\\lib\\site-packages\\pandas\\util\\_decorators.py\u001b[0m in \u001b[0;36mwrapper\u001b[1;34m(*args, **kwargs)\u001b[0m\n\u001b[0;32m    309\u001b[0m                     \u001b[0mstacklevel\u001b[0m\u001b[1;33m=\u001b[0m\u001b[0mstacklevel\u001b[0m\u001b[1;33m,\u001b[0m\u001b[1;33m\u001b[0m\u001b[1;33m\u001b[0m\u001b[0m\n\u001b[0;32m    310\u001b[0m                 )\n\u001b[1;32m--> 311\u001b[1;33m             \u001b[1;32mreturn\u001b[0m \u001b[0mfunc\u001b[0m\u001b[1;33m(\u001b[0m\u001b[1;33m*\u001b[0m\u001b[0margs\u001b[0m\u001b[1;33m,\u001b[0m \u001b[1;33m**\u001b[0m\u001b[0mkwargs\u001b[0m\u001b[1;33m)\u001b[0m\u001b[1;33m\u001b[0m\u001b[1;33m\u001b[0m\u001b[0m\n\u001b[0m\u001b[0;32m    312\u001b[0m \u001b[1;33m\u001b[0m\u001b[0m\n\u001b[0;32m    313\u001b[0m         \u001b[1;32mreturn\u001b[0m \u001b[0mwrapper\u001b[0m\u001b[1;33m\u001b[0m\u001b[1;33m\u001b[0m\u001b[0m\n",
      "\u001b[1;32mc:\\Users\\hornd\\AppData\\Local\\R-MINI~1\\envs\\pyml\\lib\\site-packages\\pandas\\core\\reshape\\concat.py\u001b[0m in \u001b[0;36mconcat\u001b[1;34m(objs, axis, join, ignore_index, keys, levels, names, verify_integrity, sort, copy)\u001b[0m\n\u001b[0;32m    345\u001b[0m     \u001b[0mValueError\u001b[0m\u001b[1;33m:\u001b[0m \u001b[0mIndexes\u001b[0m \u001b[0mhave\u001b[0m \u001b[0moverlapping\u001b[0m \u001b[0mvalues\u001b[0m\u001b[1;33m:\u001b[0m \u001b[1;33m[\u001b[0m\u001b[1;34m'a'\u001b[0m\u001b[1;33m]\u001b[0m\u001b[1;33m\u001b[0m\u001b[1;33m\u001b[0m\u001b[0m\n\u001b[0;32m    346\u001b[0m     \"\"\"\n\u001b[1;32m--> 347\u001b[1;33m     op = _Concatenator(\n\u001b[0m\u001b[0;32m    348\u001b[0m         \u001b[0mobjs\u001b[0m\u001b[1;33m,\u001b[0m\u001b[1;33m\u001b[0m\u001b[1;33m\u001b[0m\u001b[0m\n\u001b[0;32m    349\u001b[0m         \u001b[0maxis\u001b[0m\u001b[1;33m=\u001b[0m\u001b[0maxis\u001b[0m\u001b[1;33m,\u001b[0m\u001b[1;33m\u001b[0m\u001b[1;33m\u001b[0m\u001b[0m\n",
      "\u001b[1;32mc:\\Users\\hornd\\AppData\\Local\\R-MINI~1\\envs\\pyml\\lib\\site-packages\\pandas\\core\\reshape\\concat.py\u001b[0m in \u001b[0;36m__init__\u001b[1;34m(self, objs, axis, join, keys, levels, names, ignore_index, verify_integrity, copy, sort)\u001b[0m\n\u001b[0;32m    435\u001b[0m                     \u001b[1;34m\"only Series and DataFrame objs are valid\"\u001b[0m\u001b[1;33m\u001b[0m\u001b[1;33m\u001b[0m\u001b[0m\n\u001b[0;32m    436\u001b[0m                 )\n\u001b[1;32m--> 437\u001b[1;33m                 \u001b[1;32mraise\u001b[0m \u001b[0mTypeError\u001b[0m\u001b[1;33m(\u001b[0m\u001b[0mmsg\u001b[0m\u001b[1;33m)\u001b[0m\u001b[1;33m\u001b[0m\u001b[1;33m\u001b[0m\u001b[0m\n\u001b[0m\u001b[0;32m    438\u001b[0m \u001b[1;33m\u001b[0m\u001b[0m\n\u001b[0;32m    439\u001b[0m             \u001b[0mndims\u001b[0m\u001b[1;33m.\u001b[0m\u001b[0madd\u001b[0m\u001b[1;33m(\u001b[0m\u001b[0mobj\u001b[0m\u001b[1;33m.\u001b[0m\u001b[0mndim\u001b[0m\u001b[1;33m)\u001b[0m\u001b[1;33m\u001b[0m\u001b[1;33m\u001b[0m\u001b[0m\n",
      "\u001b[1;31mTypeError\u001b[0m: cannot concatenate object of type '<class 'str'>'; only Series and DataFrame objs are valid"
     ]
    }
   ],
   "source": [
    "random_forest(X_train, X_test, y_train, y_test)"
   ]
  },
  {
   "cell_type": "markdown",
   "metadata": {},
   "source": [
    "## Neuronal Network"
   ]
  },
  {
   "cell_type": "markdown",
   "metadata": {},
   "source": [
    "Normalerweise würde man die Daten für das Training mit einem Neuronalen Netz mithilfe eines scaler nomalisieren bzw. skalieren.\n",
    "Dies wurde auch mithilfe des minmax scalers und dem standardscaler versucht. Allerdings hatten beide einen negativen Einfluss auf die Ergebnisse des Modells"
   ]
  },
  {
   "cell_type": "code",
   "execution_count": 34,
   "metadata": {},
   "outputs": [],
   "source": [
    "# use neuro network to predict target variable\n",
    "# als baseline werden die Standardparameter verwendet\n",
    "# normalisieren\n",
    "# fit the model\n",
    "\n",
    "# import standard scaler from sklearn\n",
    "from sklearn.preprocessing import StandardScaler\n",
    "\n",
    "\n",
    "def neuronal_network(X_train, X_test, y_train, y_test, hyperopt = False, parameters=dict(),opt = False):\n",
    "    \n",
    "    if hyperopt == False:\n",
    "        nn = MLPClassifier(random_state=42, **parameters)\n",
    "        nn.fit(X_train, y_train)\n",
    "        # predict the target variable\n",
    "        y_pred = nn.predict(X_test)\n",
    "        # print accuracy score and recall score\n",
    "        metrics(X,y,y_test, y_pred, crossval=True, modell=nn)\n",
    "\n",
    "        if opt==False:\n",
    "            metrics_dict_non_opt(y_test, y_pred, \"Neural Network\", nn)\n",
    "        elif opt == True:\n",
    "            metrics_dict_opt(y_test, y_pred, \"Neural Network\", nn)\n",
    "        plot_roc_curve(y_test, y_pred,\"Neural Network\")\n",
    "        plot_confusion_matrix(y_test,y_pred,\"Neural Network\")\n",
    "    else:\n",
    "        return nn\n",
    "    return nn"
   ]
  },
  {
   "cell_type": "code",
   "execution_count": 21,
   "metadata": {},
   "outputs": [
    {
     "name": "stdout",
     "output_type": "stream",
     "text": [
      "----- Metric for 80/20 Split -----\n",
      "Accuracy score: 0.764102564102564\n",
      "Recall score: 0.6551724137931034\n",
      "Precision score: 0.59375\n",
      "fbeta score: 0.6418918918918919\n",
      "----- Metric for Cross Validation -----\n",
      "Crossval score whole Dataset: 0.4489034131047634\n",
      "Crossval score whole Dataset Detail: [0.4494382  0.41666667 0.34351145 0.45283019 0.49242424 0.40697674\n",
      " 0.56537102 0.45112782 0.38910506 0.52158273]\n",
      "Crossval score Train/Test: 0.48271751817740116\n",
      "Crossval score Train/Test Detail: [0.48034934 0.42056075 0.36945813 0.52995392 0.67073171 0.472103\n",
      " 0.5        0.49295775 0.38647343 0.50458716]\n"
     ]
    },
    {
     "data": {
      "image/png": "[encoded data removed]",
      "text/plain": [
       "<Figure size 432x288 with 1 Axes>"
      ]
     },
     "metadata": {
      "needs_background": "light"
     },
     "output_type": "display_data"
    },
    {
     "data": {
      "image/png": "[encoded data removed]",
      "text/plain": [
       "<Figure size 432x288 with 2 Axes>"
      ]
     },
     "metadata": {
      "needs_background": "light"
     },
     "output_type": "display_data"
    },
    {
     "data": {
      "text/html": [
       "<style>#sk-container-id-4 {color: black;background-color: white;}#sk-container-id-4 pre{padding: 0;}#sk-container-id-4 div.sk-toggleable {background-color: white;}#sk-container-id-4 label.sk-toggleable__label {cursor: pointer;display: block;width: 100%;margin-bottom: 0;padding: 0.3em;box-sizing: border-box;text-align: center;}#sk-container-id-4 label.sk-toggleable__label-arrow:before {content: \"▸\";float: left;margin-right: 0.25em;color: #696969;}#sk-container-id-4 label.sk-toggleable__label-arrow:hover:before {color: black;}#sk-container-id-4 div.sk-estimator:hover label.sk-toggleable__label-arrow:before {color: black;}#sk-container-id-4 div.sk-toggleable__content {max-height: 0;max-width: 0;overflow: hidden;text-align: left;background-color: #f0f8ff;}#sk-container-id-4 div.sk-toggleable__content pre {margin: 0.2em;color: black;border-radius: 0.25em;background-color: #f0f8ff;}#sk-container-id-4 input.sk-toggleable__control:checked~div.sk-toggleable__content {max-height: 200px;max-width: 100%;overflow: auto;}#sk-container-id-4 input.sk-toggleable__control:checked~label.sk-toggleable__label-arrow:before {content: \"▾\";}#sk-container-id-4 div.sk-estimator input.sk-toggleable__control:checked~label.sk-toggleable__label {background-color: #d4ebff;}#sk-container-id-4 div.sk-label input.sk-toggleable__control:checked~label.sk-toggleable__label {background-color: #d4ebff;}#sk-container-id-4 input.sk-hidden--visually {border: 0;clip: rect(1px 1px 1px 1px);clip: rect(1px, 1px, 1px, 1px);height: 1px;margin: -1px;overflow: hidden;padding: 0;position: absolute;width: 1px;}#sk-container-id-4 div.sk-estimator {font-family: monospace;background-color: #f0f8ff;border: 1px dotted black;border-radius: 0.25em;box-sizing: border-box;margin-bottom: 0.5em;}#sk-container-id-4 div.sk-estimator:hover {background-color: #d4ebff;}#sk-container-id-4 div.sk-parallel-item::after {content: \"\";width: 100%;border-bottom: 1px solid gray;flex-grow: 1;}#sk-container-id-4 div.sk-label:hover label.sk-toggleable__label {background-color: #d4ebff;}#sk-container-id-4 div.sk-serial::before {content: \"\";position: absolute;border-left: 1px solid gray;box-sizing: border-box;top: 0;bottom: 0;left: 50%;z-index: 0;}#sk-container-id-4 div.sk-serial {display: flex;flex-direction: column;align-items: center;background-color: white;padding-right: 0.2em;padding-left: 0.2em;position: relative;}#sk-container-id-4 div.sk-item {position: relative;z-index: 1;}#sk-container-id-4 div.sk-parallel {display: flex;align-items: stretch;justify-content: center;background-color: white;position: relative;}#sk-container-id-4 div.sk-item::before, #sk-container-id-4 div.sk-parallel-item::before {content: \"\";position: absolute;border-left: 1px solid gray;box-sizing: border-box;top: 0;bottom: 0;left: 50%;z-index: -1;}#sk-container-id-4 div.sk-parallel-item {display: flex;flex-direction: column;z-index: 1;position: relative;background-color: white;}#sk-container-id-4 div.sk-parallel-item:first-child::after {align-self: flex-end;width: 50%;}#sk-container-id-4 div.sk-parallel-item:last-child::after {align-self: flex-start;width: 50%;}#sk-container-id-4 div.sk-parallel-item:only-child::after {width: 0;}#sk-container-id-4 div.sk-dashed-wrapped {border: 1px dashed gray;margin: 0 0.4em 0.5em 0.4em;box-sizing: border-box;padding-bottom: 0.4em;background-color: white;}#sk-container-id-4 div.sk-label label {font-family: monospace;font-weight: bold;display: inline-block;line-height: 1.2em;}#sk-container-id-4 div.sk-label-container {text-align: center;}#sk-container-id-4 div.sk-container {/* jupyter's `normalize.less` sets `[hidden] { display: none; }` but bootstrap.min.css set `[hidden] { display: none !important; }` so we also need the `!important` here to be able to override the default hidden behavior on the sphinx rendered scikit-learn.org. See: https://github.com/scikit-learn/scikit-learn/issues/21755 */display: inline-block !important;position: relative;}#sk-container-id-4 div.sk-text-repr-fallback {display: none;}</style><div id=\"sk-container-id-4\" class=\"sk-top-container\"><div class=\"sk-text-repr-fallback\"><pre>MLPClassifier(random_state=42)</pre><b>In a Jupyter environment, please rerun this cell to show the HTML representation or trust the notebook. <br />On GitHub, the HTML representation is unable to render, please try loading this page with nbviewer.org.</b></div><div class=\"sk-container\" hidden><div class=\"sk-item\"><div class=\"sk-estimator sk-toggleable\"><input class=\"sk-toggleable__control sk-hidden--visually\" id=\"sk-estimator-id-4\" type=\"checkbox\" checked><label for=\"sk-estimator-id-4\" class=\"sk-toggleable__label sk-toggleable__label-arrow\">MLPClassifier</label><div class=\"sk-toggleable__content\"><pre>MLPClassifier(random_state=42)</pre></div></div></div></div></div>"
      ],
      "text/plain": [
       "MLPClassifier(random_state=42)"
      ]
     },
     "execution_count": 21,
     "metadata": {},
     "output_type": "execute_result"
    }
   ],
   "source": [
    "neuronal_network(X_train, X_test, y_train, y_test)"
   ]
  },
  {
   "cell_type": "markdown",
   "metadata": {},
   "source": [
    "## xGboost"
   ]
  },
  {
   "cell_type": "code",
   "execution_count": 22,
   "metadata": {},
   "outputs": [],
   "source": [
    "# use xgboost to predict target variable\n",
    "def xgboost(X_train, X_test, y_train, y_test, hyperopt = False, parameters=dict(),opt = False):\n",
    "    regex = re.compile(r\"\\[|\\]|<\", re.IGNORECASE)\n",
    "\n",
    "    X_train.columns = [regex.sub(\"_\", col) if any(x in str(col) for x in set(('[', ']', '<'))) else col for col in X_train.columns.values]\n",
    "    X.columns = [regex.sub(\"_\", col) if any(x in str(col) for x in set(('[', ']', '<'))) else col for col in X.columns.values]\n",
    "\n",
    "    # fit the model\n",
    "    xgb = XGBClassifier(random_state=42,**parameters)\n",
    "\n",
    "    if hyperopt == False:\n",
    "        xgb.fit(X_train, y_train)\n",
    "        # predict the target variable\n",
    "        y_pred = xgb.predict(X_test)\n",
    "        # print accuracy score and recall score\n",
    "        metrics(X,y,y_test, y_pred, crossval=True, modell=xgb)\n",
    "\n",
    "\n",
    "        metrics_dict_non_opt(y_test, y_pred, \"xGboost\", xgb)\n",
    "\n",
    "        plot_roc_curve(y_test, y_pred,\"xGboost\")\n",
    "        plot_confusion_matrix(y_test,y_pred,\"xGboost\")\n",
    "    else:\n",
    "        return xgb\n",
    "    return xgb\n"
   ]
  },
  {
   "cell_type": "code",
   "execution_count": 23,
   "metadata": {},
   "outputs": [
    {
     "name": "stdout",
     "output_type": "stream",
     "text": [
      "----- Metric for 80/20 Split -----\n",
      "Accuracy score: 0.7230769230769231\n",
      "Recall score: 0.4827586206896552\n",
      "Precision score: 0.5384615384615384\n",
      "fbeta score: 0.49295774647887325\n",
      "----- Metric for Cross Validation -----\n",
      "Crossval score whole Dataset: 0.47769252231590265\n",
      "Crossval score whole Dataset Detail: [0.5234657  0.38610039 0.37735849 0.45627376 0.55555556 0.45454545\n",
      " 0.54744526 0.55755396 0.42592593 0.49270073]\n",
      "Crossval score Train/Test: 0.45899802908150034\n",
      "Crossval score Train/Test Detail: [0.4028436  0.43981481 0.45238095 0.49107143 0.4954955  0.35714286\n",
      " 0.43269231 0.53488372 0.48837209 0.49528302]\n"
     ]
    },
    {
     "data": {
      "image/png": "[encoded data removed]",
      "text/plain": [
       "<Figure size 432x288 with 1 Axes>"
      ]
     },
     "metadata": {
      "needs_background": "light"
     },
     "output_type": "display_data"
    },
    {
     "data": {
      "image/png": "[encoded data removed]",
      "text/plain": [
       "<Figure size 432x288 with 2 Axes>"
      ]
     },
     "metadata": {
      "needs_background": "light"
     },
     "output_type": "display_data"
    },
    {
     "data": {
      "text/html": [
       "<style>#sk-container-id-5 {color: black;background-color: white;}#sk-container-id-5 pre{padding: 0;}#sk-container-id-5 div.sk-toggleable {background-color: white;}#sk-container-id-5 label.sk-toggleable__label {cursor: pointer;display: block;width: 100%;margin-bottom: 0;padding: 0.3em;box-sizing: border-box;text-align: center;}#sk-container-id-5 label.sk-toggleable__label-arrow:before {content: \"▸\";float: left;margin-right: 0.25em;color: #696969;}#sk-container-id-5 label.sk-toggleable__label-arrow:hover:before {color: black;}#sk-container-id-5 div.sk-estimator:hover label.sk-toggleable__label-arrow:before {color: black;}#sk-container-id-5 div.sk-toggleable__content {max-height: 0;max-width: 0;overflow: hidden;text-align: left;background-color: #f0f8ff;}#sk-container-id-5 div.sk-toggleable__content pre {margin: 0.2em;color: black;border-radius: 0.25em;background-color: #f0f8ff;}#sk-container-id-5 input.sk-toggleable__control:checked~div.sk-toggleable__content {max-height: 200px;max-width: 100%;overflow: auto;}#sk-container-id-5 input.sk-toggleable__control:checked~label.sk-toggleable__label-arrow:before {content: \"▾\";}#sk-container-id-5 div.sk-estimator input.sk-toggleable__control:checked~label.sk-toggleable__label {background-color: #d4ebff;}#sk-container-id-5 div.sk-label input.sk-toggleable__control:checked~label.sk-toggleable__label {background-color: #d4ebff;}#sk-container-id-5 input.sk-hidden--visually {border: 0;clip: rect(1px 1px 1px 1px);clip: rect(1px, 1px, 1px, 1px);height: 1px;margin: -1px;overflow: hidden;padding: 0;position: absolute;width: 1px;}#sk-container-id-5 div.sk-estimator {font-family: monospace;background-color: #f0f8ff;border: 1px dotted black;border-radius: 0.25em;box-sizing: border-box;margin-bottom: 0.5em;}#sk-container-id-5 div.sk-estimator:hover {background-color: #d4ebff;}#sk-container-id-5 div.sk-parallel-item::after {content: \"\";width: 100%;border-bottom: 1px solid gray;flex-grow: 1;}#sk-container-id-5 div.sk-label:hover label.sk-toggleable__label {background-color: #d4ebff;}#sk-container-id-5 div.sk-serial::before {content: \"\";position: absolute;border-left: 1px solid gray;box-sizing: border-box;top: 0;bottom: 0;left: 50%;z-index: 0;}#sk-container-id-5 div.sk-serial {display: flex;flex-direction: column;align-items: center;background-color: white;padding-right: 0.2em;padding-left: 0.2em;position: relative;}#sk-container-id-5 div.sk-item {position: relative;z-index: 1;}#sk-container-id-5 div.sk-parallel {display: flex;align-items: stretch;justify-content: center;background-color: white;position: relative;}#sk-container-id-5 div.sk-item::before, #sk-container-id-5 div.sk-parallel-item::before {content: \"\";position: absolute;border-left: 1px solid gray;box-sizing: border-box;top: 0;bottom: 0;left: 50%;z-index: -1;}#sk-container-id-5 div.sk-parallel-item {display: flex;flex-direction: column;z-index: 1;position: relative;background-color: white;}#sk-container-id-5 div.sk-parallel-item:first-child::after {align-self: flex-end;width: 50%;}#sk-container-id-5 div.sk-parallel-item:last-child::after {align-self: flex-start;width: 50%;}#sk-container-id-5 div.sk-parallel-item:only-child::after {width: 0;}#sk-container-id-5 div.sk-dashed-wrapped {border: 1px dashed gray;margin: 0 0.4em 0.5em 0.4em;box-sizing: border-box;padding-bottom: 0.4em;background-color: white;}#sk-container-id-5 div.sk-label label {font-family: monospace;font-weight: bold;display: inline-block;line-height: 1.2em;}#sk-container-id-5 div.sk-label-container {text-align: center;}#sk-container-id-5 div.sk-container {/* jupyter's `normalize.less` sets `[hidden] { display: none; }` but bootstrap.min.css set `[hidden] { display: none !important; }` so we also need the `!important` here to be able to override the default hidden behavior on the sphinx rendered scikit-learn.org. See: https://github.com/scikit-learn/scikit-learn/issues/21755 */display: inline-block !important;position: relative;}#sk-container-id-5 div.sk-text-repr-fallback {display: none;}</style><div id=\"sk-container-id-5\" class=\"sk-top-container\"><div class=\"sk-text-repr-fallback\"><pre>XGBClassifier(base_score=0.5, booster=&#x27;gbtree&#x27;, callbacks=None,\n",
       "              colsample_bylevel=1, colsample_bynode=1, colsample_bytree=1,\n",
       "              early_stopping_rounds=None, enable_categorical=False,\n",
       "              eval_metric=None, gamma=0, gpu_id=-1, grow_policy=&#x27;depthwise&#x27;,\n",
       "              importance_type=None, interaction_constraints=&#x27;&#x27;,\n",
       "              learning_rate=0.300000012, max_bin=256, max_cat_to_onehot=4,\n",
       "              max_delta_step=0, max_depth=6, max_leaves=0, min_child_weight=1,\n",
       "              missing=nan, monotone_constraints=&#x27;()&#x27;, n_estimators=100,\n",
       "              n_jobs=0, num_parallel_tree=1, predictor=&#x27;auto&#x27;, random_state=42,\n",
       "              reg_alpha=0, reg_lambda=1, ...)</pre><b>In a Jupyter environment, please rerun this cell to show the HTML representation or trust the notebook. <br />On GitHub, the HTML representation is unable to render, please try loading this page with nbviewer.org.</b></div><div class=\"sk-container\" hidden><div class=\"sk-item\"><div class=\"sk-estimator sk-toggleable\"><input class=\"sk-toggleable__control sk-hidden--visually\" id=\"sk-estimator-id-5\" type=\"checkbox\" checked><label for=\"sk-estimator-id-5\" class=\"sk-toggleable__label sk-toggleable__label-arrow\">XGBClassifier</label><div class=\"sk-toggleable__content\"><pre>XGBClassifier(base_score=0.5, booster=&#x27;gbtree&#x27;, callbacks=None,\n",
       "              colsample_bylevel=1, colsample_bynode=1, colsample_bytree=1,\n",
       "              early_stopping_rounds=None, enable_categorical=False,\n",
       "              eval_metric=None, gamma=0, gpu_id=-1, grow_policy=&#x27;depthwise&#x27;,\n",
       "              importance_type=None, interaction_constraints=&#x27;&#x27;,\n",
       "              learning_rate=0.300000012, max_bin=256, max_cat_to_onehot=4,\n",
       "              max_delta_step=0, max_depth=6, max_leaves=0, min_child_weight=1,\n",
       "              missing=nan, monotone_constraints=&#x27;()&#x27;, n_estimators=100,\n",
       "              n_jobs=0, num_parallel_tree=1, predictor=&#x27;auto&#x27;, random_state=42,\n",
       "              reg_alpha=0, reg_lambda=1, ...)</pre></div></div></div></div></div>"
      ],
      "text/plain": [
       "XGBClassifier(base_score=0.5, booster='gbtree', callbacks=None,\n",
       "              colsample_bylevel=1, colsample_bynode=1, colsample_bytree=1,\n",
       "              early_stopping_rounds=None, enable_categorical=False,\n",
       "              eval_metric=None, gamma=0, gpu_id=-1, grow_policy='depthwise',\n",
       "              importance_type=None, interaction_constraints='',\n",
       "              learning_rate=0.300000012, max_bin=256, max_cat_to_onehot=4,\n",
       "              max_delta_step=0, max_depth=6, max_leaves=0, min_child_weight=1,\n",
       "              missing=nan, monotone_constraints='()', n_estimators=100,\n",
       "              n_jobs=0, num_parallel_tree=1, predictor='auto', random_state=42,\n",
       "              reg_alpha=0, reg_lambda=1, ...)"
      ]
     },
     "execution_count": 23,
     "metadata": {},
     "output_type": "execute_result"
    }
   ],
   "source": [
    "xgboost(X_train, X_test, y_train, y_test)"
   ]
  },
  {
   "cell_type": "markdown",
   "metadata": {},
   "source": [
    "# Results to Dataframe"
   ]
  },
  {
   "cell_type": "code",
   "execution_count": 24,
   "metadata": {},
   "outputs": [
    {
     "data": {
      "text/html": [
       "<div>\n",
       "<style scoped>\n",
       "    .dataframe tbody tr th:only-of-type {\n",
       "        vertical-align: middle;\n",
       "    }\n",
       "\n",
       "    .dataframe tbody tr th {\n",
       "        vertical-align: top;\n",
       "    }\n",
       "\n",
       "    .dataframe thead th {\n",
       "        text-align: right;\n",
       "    }\n",
       "</style>\n",
       "<table border=\"1\" class=\"dataframe\">\n",
       "  <thead>\n",
       "    <tr style=\"text-align: right;\">\n",
       "      <th></th>\n",
       "      <th>Algo_name</th>\n",
       "      <th>Recall</th>\n",
       "      <th>Precision</th>\n",
       "      <th>Accuracy</th>\n",
       "      <th>F2</th>\n",
       "      <th>F2-CV-Whole</th>\n",
       "      <th>F2-CV-Split</th>\n",
       "    </tr>\n",
       "  </thead>\n",
       "  <tbody>\n",
       "    <tr>\n",
       "      <th>0</th>\n",
       "      <td>Logistic Regression</td>\n",
       "      <td>0.517241</td>\n",
       "      <td>0.652174</td>\n",
       "      <td>0.774359</td>\n",
       "      <td>0.539568</td>\n",
       "      <td>0.457465</td>\n",
       "      <td>0.401638</td>\n",
       "    </tr>\n",
       "    <tr>\n",
       "      <th>1</th>\n",
       "      <td>Random forest</td>\n",
       "      <td>0.431034</td>\n",
       "      <td>0.714286</td>\n",
       "      <td>0.779487</td>\n",
       "      <td>0.468165</td>\n",
       "      <td>0.368515</td>\n",
       "      <td>0.329452</td>\n",
       "    </tr>\n",
       "    <tr>\n",
       "      <th>2</th>\n",
       "      <td>Neural Network</td>\n",
       "      <td>0.655172</td>\n",
       "      <td>0.593750</td>\n",
       "      <td>0.764103</td>\n",
       "      <td>0.641892</td>\n",
       "      <td>0.448903</td>\n",
       "      <td>0.482718</td>\n",
       "    </tr>\n",
       "    <tr>\n",
       "      <th>3</th>\n",
       "      <td>xGboost</td>\n",
       "      <td>0.482759</td>\n",
       "      <td>0.538462</td>\n",
       "      <td>0.723077</td>\n",
       "      <td>0.492958</td>\n",
       "      <td>0.477693</td>\n",
       "      <td>0.458998</td>\n",
       "    </tr>\n",
       "  </tbody>\n",
       "</table>\n",
       "</div>"
      ],
      "text/plain": [
       "             Algo_name    Recall  Precision  Accuracy        F2  F2-CV-Whole  \\\n",
       "0  Logistic Regression  0.517241   0.652174  0.774359  0.539568     0.457465   \n",
       "1        Random forest  0.431034   0.714286  0.779487  0.468165     0.368515   \n",
       "2       Neural Network  0.655172   0.593750  0.764103  0.641892     0.448903   \n",
       "3              xGboost  0.482759   0.538462  0.723077  0.492958     0.477693   \n",
       "\n",
       "   F2-CV-Split  \n",
       "0     0.401638  \n",
       "1     0.329452  \n",
       "2     0.482718  \n",
       "3     0.458998  "
      ]
     },
     "execution_count": 24,
     "metadata": {},
     "output_type": "execute_result"
    }
   ],
   "source": [
    "Non_opt_results = pd.DataFrame(Non_opt_results)\n",
    "Non_opt_results"
   ]
  },
  {
   "cell_type": "markdown",
   "metadata": {},
   "source": [
    "# Modelling Optimized with Hyperparametertuning"
   ]
  },
  {
   "cell_type": "code",
   "execution_count": 25,
   "metadata": {},
   "outputs": [],
   "source": [
    "# dictionary for hypertuned modells\n",
    "Opt_results = {\"Algo_name\": [], \"Recall\": [],\"Precision\": [],\"Accuracy\": [], \"F2\": [], \"F2-CV-Whole\": [], \"F2-CV-Split\": []}"
   ]
  },
  {
   "cell_type": "markdown",
   "metadata": {},
   "source": [
    "## Logistic Regression Hyperparamter Tuning"
   ]
  },
  {
   "cell_type": "code",
   "execution_count": 26,
   "metadata": {},
   "outputs": [
    {
     "name": "stdout",
     "output_type": "stream",
     "text": [
      "Best hyperparameters: {'C': 0.01, 'class_weight': 'balanced', 'intercept_scaling': 100, 'penalty': 'l2'}\n",
      "Best score: 0.6394525956304628\n"
     ]
    }
   ],
   "source": [
    "#hyperparameter tuning for logistic regression\n",
    "#tune hyperparameters\n",
    "parameters = {'C': [0.001, 0.01, 0.1, 1, 10, 100, 1000], 'penalty': ['l1', 'l2'],'intercept_scaling': [100, 500, 1000, 5000, 10000], 'class_weight': [\"balanced\", None]}\n",
    "# create grid search object with cross validation\n",
    "grid_search = GridSearchCV(logistic_regression(X_train, X_test, y_train, y_test, hyperopt=True), parameters, cv=cv, scoring=f2, n_jobs=-1)\n",
    "# fit the model\n",
    "grid_search.fit(X_train, y_train)\n",
    "# print the best hyperparameters\n",
    "print(\"Best hyperparameters:\", grid_search.best_params_)\n",
    "print(\"Best score:\", grid_search.best_score_)\n",
    "\n",
    "# save best hyperparameters in variable\n",
    "logreg_best_parameters = grid_search.best_params_"
   ]
  },
  {
   "cell_type": "code",
   "execution_count": 27,
   "metadata": {},
   "outputs": [
    {
     "name": "stdout",
     "output_type": "stream",
     "text": [
      "----- Metric for 80/20 Split -----\n",
      "Accuracy score: 0.7128205128205128\n",
      "Recall score: 0.7758620689655172\n",
      "Precision score: 0.5113636363636364\n",
      "fbeta score: 0.703125\n",
      "----- Metric for Cross Validation -----\n",
      "Crossval score whole Dataset: 0.6450302758480313\n",
      "Crossval score whole Dataset Detail: [0.63517915 0.68111455 0.62295082 0.66006601 0.68690096 0.66558442\n",
      " 0.60260586 0.70063694 0.60702875 0.58823529]\n",
      "Crossval score Train/Test: 0.6394525956304628\n",
      "Crossval score Train/Test Detail: [0.65306122 0.65843621 0.64       0.66390041 0.59288538 0.56862745\n",
      " 0.68273092 0.52966102 0.69672131 0.70850202]\n",
      "(780, 60) (780,)\n"
     ]
    },
    {
     "data": {
      "image/png": "[encoded data removed]",
      "text/plain": [
       "<Figure size 432x288 with 1 Axes>"
      ]
     },
     "metadata": {
      "needs_background": "light"
     },
     "output_type": "display_data"
    },
    {
     "data": {
      "image/png": "[encoded data removed]",
      "text/plain": [
       "<Figure size 432x288 with 2 Axes>"
      ]
     },
     "metadata": {
      "needs_background": "light"
     },
     "output_type": "display_data"
    },
    {
     "data": {
      "text/html": [
       "<style>#sk-container-id-6 {color: black;background-color: white;}#sk-container-id-6 pre{padding: 0;}#sk-container-id-6 div.sk-toggleable {background-color: white;}#sk-container-id-6 label.sk-toggleable__label {cursor: pointer;display: block;width: 100%;margin-bottom: 0;padding: 0.3em;box-sizing: border-box;text-align: center;}#sk-container-id-6 label.sk-toggleable__label-arrow:before {content: \"▸\";float: left;margin-right: 0.25em;color: #696969;}#sk-container-id-6 label.sk-toggleable__label-arrow:hover:before {color: black;}#sk-container-id-6 div.sk-estimator:hover label.sk-toggleable__label-arrow:before {color: black;}#sk-container-id-6 div.sk-toggleable__content {max-height: 0;max-width: 0;overflow: hidden;text-align: left;background-color: #f0f8ff;}#sk-container-id-6 div.sk-toggleable__content pre {margin: 0.2em;color: black;border-radius: 0.25em;background-color: #f0f8ff;}#sk-container-id-6 input.sk-toggleable__control:checked~div.sk-toggleable__content {max-height: 200px;max-width: 100%;overflow: auto;}#sk-container-id-6 input.sk-toggleable__control:checked~label.sk-toggleable__label-arrow:before {content: \"▾\";}#sk-container-id-6 div.sk-estimator input.sk-toggleable__control:checked~label.sk-toggleable__label {background-color: #d4ebff;}#sk-container-id-6 div.sk-label input.sk-toggleable__control:checked~label.sk-toggleable__label {background-color: #d4ebff;}#sk-container-id-6 input.sk-hidden--visually {border: 0;clip: rect(1px 1px 1px 1px);clip: rect(1px, 1px, 1px, 1px);height: 1px;margin: -1px;overflow: hidden;padding: 0;position: absolute;width: 1px;}#sk-container-id-6 div.sk-estimator {font-family: monospace;background-color: #f0f8ff;border: 1px dotted black;border-radius: 0.25em;box-sizing: border-box;margin-bottom: 0.5em;}#sk-container-id-6 div.sk-estimator:hover {background-color: #d4ebff;}#sk-container-id-6 div.sk-parallel-item::after {content: \"\";width: 100%;border-bottom: 1px solid gray;flex-grow: 1;}#sk-container-id-6 div.sk-label:hover label.sk-toggleable__label {background-color: #d4ebff;}#sk-container-id-6 div.sk-serial::before {content: \"\";position: absolute;border-left: 1px solid gray;box-sizing: border-box;top: 0;bottom: 0;left: 50%;z-index: 0;}#sk-container-id-6 div.sk-serial {display: flex;flex-direction: column;align-items: center;background-color: white;padding-right: 0.2em;padding-left: 0.2em;position: relative;}#sk-container-id-6 div.sk-item {position: relative;z-index: 1;}#sk-container-id-6 div.sk-parallel {display: flex;align-items: stretch;justify-content: center;background-color: white;position: relative;}#sk-container-id-6 div.sk-item::before, #sk-container-id-6 div.sk-parallel-item::before {content: \"\";position: absolute;border-left: 1px solid gray;box-sizing: border-box;top: 0;bottom: 0;left: 50%;z-index: -1;}#sk-container-id-6 div.sk-parallel-item {display: flex;flex-direction: column;z-index: 1;position: relative;background-color: white;}#sk-container-id-6 div.sk-parallel-item:first-child::after {align-self: flex-end;width: 50%;}#sk-container-id-6 div.sk-parallel-item:last-child::after {align-self: flex-start;width: 50%;}#sk-container-id-6 div.sk-parallel-item:only-child::after {width: 0;}#sk-container-id-6 div.sk-dashed-wrapped {border: 1px dashed gray;margin: 0 0.4em 0.5em 0.4em;box-sizing: border-box;padding-bottom: 0.4em;background-color: white;}#sk-container-id-6 div.sk-label label {font-family: monospace;font-weight: bold;display: inline-block;line-height: 1.2em;}#sk-container-id-6 div.sk-label-container {text-align: center;}#sk-container-id-6 div.sk-container {/* jupyter's `normalize.less` sets `[hidden] { display: none; }` but bootstrap.min.css set `[hidden] { display: none !important; }` so we also need the `!important` here to be able to override the default hidden behavior on the sphinx rendered scikit-learn.org. See: https://github.com/scikit-learn/scikit-learn/issues/21755 */display: inline-block !important;position: relative;}#sk-container-id-6 div.sk-text-repr-fallback {display: none;}</style><div id=\"sk-container-id-6\" class=\"sk-top-container\"><div class=\"sk-text-repr-fallback\"><pre>LogisticRegression(C=0.01, class_weight=&#x27;balanced&#x27;, intercept_scaling=100,\n",
       "                   random_state=42)</pre><b>In a Jupyter environment, please rerun this cell to show the HTML representation or trust the notebook. <br />On GitHub, the HTML representation is unable to render, please try loading this page with nbviewer.org.</b></div><div class=\"sk-container\" hidden><div class=\"sk-item\"><div class=\"sk-estimator sk-toggleable\"><input class=\"sk-toggleable__control sk-hidden--visually\" id=\"sk-estimator-id-6\" type=\"checkbox\" checked><label for=\"sk-estimator-id-6\" class=\"sk-toggleable__label sk-toggleable__label-arrow\">LogisticRegression</label><div class=\"sk-toggleable__content\"><pre>LogisticRegression(C=0.01, class_weight=&#x27;balanced&#x27;, intercept_scaling=100,\n",
       "                   random_state=42)</pre></div></div></div></div></div>"
      ],
      "text/plain": [
       "LogisticRegression(C=0.01, class_weight='balanced', intercept_scaling=100,\n",
       "                   random_state=42)"
      ]
     },
     "execution_count": 27,
     "metadata": {},
     "output_type": "execute_result"
    }
   ],
   "source": [
    "logistic_regression(X_train, X_test, y_train, y_test, hyperopt=False, parameters=logreg_best_parameters, opt=True)"
   ]
  },
  {
   "cell_type": "markdown",
   "metadata": {},
   "source": [
    "## Versuch mit Optuna, Ergebnisse sind allerdings Ähnlich wie bei Grid Search"
   ]
  },
  {
   "cell_type": "code",
   "execution_count": 28,
   "metadata": {},
   "outputs": [
    {
     "name": "stderr",
     "output_type": "stream",
     "text": [
      "\u001b[32m[I 2022-07-27 13:26:02,433]\u001b[0m A new study created in memory with name: no-name-32b72921-e0e5-4b0a-b17b-d08341560238\u001b[0m\n",
      "\u001b[32m[I 2022-07-27 13:26:02,459]\u001b[0m Trial 0 finished with value: 0.5689655172413793 and parameters: {'C': 419.7583379770524, 'penalty': 'l2', 'intercept_scaling': 76993, 'class_weight': None}. Best is trial 0 with value: 0.5689655172413793.\u001b[0m\n",
      "\u001b[32m[I 2022-07-27 13:26:02,486]\u001b[0m Trial 1 finished with value: 0.603448275862069 and parameters: {'C': 556.7432010747034, 'penalty': 'l2', 'intercept_scaling': 13196, 'class_weight': None}. Best is trial 1 with value: 0.603448275862069.\u001b[0m\n",
      "\u001b[32m[I 2022-07-27 13:26:02,508]\u001b[0m Trial 2 finished with value: 0.7931034482758621 and parameters: {'C': 673.3507126469352, 'penalty': 'l2', 'intercept_scaling': 95947, 'class_weight': 'balanced'}. Best is trial 2 with value: 0.7931034482758621.\u001b[0m\n",
      "\u001b[32m[I 2022-07-27 13:26:02,531]\u001b[0m Trial 3 finished with value: 0.7586206896551724 and parameters: {'C': 814.2910476924792, 'penalty': 'l2', 'intercept_scaling': 27570, 'class_weight': 'balanced'}. Best is trial 2 with value: 0.7931034482758621.\u001b[0m\n",
      "\u001b[32m[I 2022-07-27 13:26:02,581]\u001b[0m Trial 4 finished with value: 0.5689655172413793 and parameters: {'C': 238.5312200569507, 'penalty': 'l2', 'intercept_scaling': 74789, 'class_weight': None}. Best is trial 2 with value: 0.7931034482758621.\u001b[0m\n",
      "\u001b[32m[I 2022-07-27 13:26:02,603]\u001b[0m Trial 5 finished with value: 0.7758620689655172 and parameters: {'C': 72.99589047186342, 'penalty': 'l2', 'intercept_scaling': 91042, 'class_weight': 'balanced'}. Best is trial 2 with value: 0.7931034482758621.\u001b[0m\n",
      "\u001b[32m[I 2022-07-27 13:26:02,622]\u001b[0m Trial 6 finished with value: 0.7758620689655172 and parameters: {'C': 168.554692504591, 'penalty': 'l2', 'intercept_scaling': 72763, 'class_weight': 'balanced'}. Best is trial 2 with value: 0.7931034482758621.\u001b[0m\n",
      "\u001b[32m[I 2022-07-27 13:26:02,641]\u001b[0m Trial 7 finished with value: 0.5689655172413793 and parameters: {'C': 685.8427960491368, 'penalty': 'l2', 'intercept_scaling': 42385, 'class_weight': None}. Best is trial 2 with value: 0.7931034482758621.\u001b[0m\n",
      "\u001b[32m[I 2022-07-27 13:26:02,660]\u001b[0m Trial 8 finished with value: 0.5172413793103449 and parameters: {'C': 203.0871054658415, 'penalty': 'l2', 'intercept_scaling': 63894, 'class_weight': None}. Best is trial 2 with value: 0.7931034482758621.\u001b[0m\n",
      "\u001b[32m[I 2022-07-27 13:26:02,681]\u001b[0m Trial 9 finished with value: 0.5689655172413793 and parameters: {'C': 466.29738777587227, 'penalty': 'l2', 'intercept_scaling': 18469, 'class_weight': None}. Best is trial 2 with value: 0.7931034482758621.\u001b[0m\n",
      "\u001b[32m[I 2022-07-27 13:26:02,704]\u001b[0m Trial 10 finished with value: 0.6206896551724138 and parameters: {'C': 989.4617723891699, 'penalty': 'l2', 'intercept_scaling': 98511, 'class_weight': None}. Best is trial 2 with value: 0.7931034482758621.\u001b[0m\n",
      "\u001b[32m[I 2022-07-27 13:26:02,729]\u001b[0m Trial 11 finished with value: 0.7931034482758621 and parameters: {'C': 1.980447557759021, 'penalty': 'l2', 'intercept_scaling': 99036, 'class_weight': 'balanced'}. Best is trial 2 with value: 0.7931034482758621.\u001b[0m\n",
      "\u001b[32m[I 2022-07-27 13:26:02,753]\u001b[0m Trial 12 finished with value: 0.5689655172413793 and parameters: {'C': 2.308501839079213, 'penalty': 'l2', 'intercept_scaling': 99155, 'class_weight': None}. Best is trial 2 with value: 0.7931034482758621.\u001b[0m\n",
      "\u001b[32m[I 2022-07-27 13:26:02,777]\u001b[0m Trial 13 finished with value: 0.5862068965517241 and parameters: {'C': 732.0963587981344, 'penalty': 'l2', 'intercept_scaling': 52795, 'class_weight': None}. Best is trial 2 with value: 0.7931034482758621.\u001b[0m\n",
      "\u001b[32m[I 2022-07-27 13:26:02,800]\u001b[0m Trial 14 finished with value: 0.603448275862069 and parameters: {'C': 339.1049281240484, 'penalty': 'l2', 'intercept_scaling': 85535, 'class_weight': None}. Best is trial 2 with value: 0.7931034482758621.\u001b[0m\n",
      "\u001b[32m[I 2022-07-27 13:26:02,823]\u001b[0m Trial 15 finished with value: 0.5862068965517241 and parameters: {'C': 583.9780277518597, 'penalty': 'l2', 'intercept_scaling': 58082, 'class_weight': None}. Best is trial 2 with value: 0.7931034482758621.\u001b[0m\n",
      "\u001b[32m[I 2022-07-27 13:26:02,848]\u001b[0m Trial 16 finished with value: 0.5517241379310345 and parameters: {'C': 924.4326849221029, 'penalty': 'l2', 'intercept_scaling': 32869, 'class_weight': None}. Best is trial 2 with value: 0.7931034482758621.\u001b[0m\n",
      "\u001b[32m[I 2022-07-27 13:26:02,871]\u001b[0m Trial 17 finished with value: 0.5862068965517241 and parameters: {'C': 673.0121267694036, 'penalty': 'l2', 'intercept_scaling': 85611, 'class_weight': None}. Best is trial 2 with value: 0.7931034482758621.\u001b[0m\n",
      "\u001b[32m[I 2022-07-27 13:26:02,896]\u001b[0m Trial 18 finished with value: 0.5344827586206896 and parameters: {'C': 364.03514983332184, 'penalty': 'l2', 'intercept_scaling': 1437, 'class_weight': None}. Best is trial 2 with value: 0.7931034482758621.\u001b[0m\n",
      "\u001b[32m[I 2022-07-27 13:26:02,920]\u001b[0m Trial 19 finished with value: 0.5517241379310345 and parameters: {'C': 833.7888763175999, 'penalty': 'l2', 'intercept_scaling': 66783, 'class_weight': None}. Best is trial 2 with value: 0.7931034482758621.\u001b[0m\n",
      "\u001b[32m[I 2022-07-27 13:26:02,944]\u001b[0m Trial 20 finished with value: 0.5517241379310345 and parameters: {'C': 556.3934524070615, 'penalty': 'l2', 'intercept_scaling': 86506, 'class_weight': None}. Best is trial 2 with value: 0.7931034482758621.\u001b[0m\n",
      "\u001b[32m[I 2022-07-27 13:26:02,967]\u001b[0m Trial 21 finished with value: 0.7758620689655172 and parameters: {'C': 0.9355612309904944, 'penalty': 'l2', 'intercept_scaling': 92815, 'class_weight': 'balanced'}. Best is trial 2 with value: 0.7931034482758621.\u001b[0m\n",
      "\u001b[32m[I 2022-07-27 13:26:02,991]\u001b[0m Trial 22 finished with value: 0.7758620689655172 and parameters: {'C': 97.09777536225255, 'penalty': 'l2', 'intercept_scaling': 94574, 'class_weight': 'balanced'}. Best is trial 2 with value: 0.7931034482758621.\u001b[0m\n",
      "\u001b[32m[I 2022-07-27 13:26:03,015]\u001b[0m Trial 23 finished with value: 0.5689655172413793 and parameters: {'C': 5.818615031221195, 'penalty': 'l2', 'intercept_scaling': 78882, 'class_weight': None}. Best is trial 2 with value: 0.7931034482758621.\u001b[0m\n",
      "\u001b[32m[I 2022-07-27 13:26:03,039]\u001b[0m Trial 24 finished with value: 0.5689655172413793 and parameters: {'C': 129.3265840796596, 'penalty': 'l2', 'intercept_scaling': 99496, 'class_weight': None}. Best is trial 2 with value: 0.7931034482758621.\u001b[0m\n",
      "\u001b[32m[I 2022-07-27 13:26:03,064]\u001b[0m Trial 25 finished with value: 0.5517241379310345 and parameters: {'C': 295.23429241174324, 'penalty': 'l2', 'intercept_scaling': 90930, 'class_weight': None}. Best is trial 2 with value: 0.7931034482758621.\u001b[0m\n",
      "\u001b[32m[I 2022-07-27 13:26:03,088]\u001b[0m Trial 26 finished with value: 0.5517241379310345 and parameters: {'C': 106.04457937182265, 'penalty': 'l2', 'intercept_scaling': 83119, 'class_weight': None}. Best is trial 2 with value: 0.7931034482758621.\u001b[0m\n",
      "\u001b[32m[I 2022-07-27 13:26:03,111]\u001b[0m Trial 27 finished with value: 0.603448275862069 and parameters: {'C': 258.44005682921033, 'penalty': 'l2', 'intercept_scaling': 66958, 'class_weight': None}. Best is trial 2 with value: 0.7931034482758621.\u001b[0m\n",
      "\u001b[32m[I 2022-07-27 13:26:03,134]\u001b[0m Trial 28 finished with value: 0.5689655172413793 and parameters: {'C': 67.83125742425531, 'penalty': 'l2', 'intercept_scaling': 44831, 'class_weight': None}. Best is trial 2 with value: 0.7931034482758621.\u001b[0m\n",
      "\u001b[32m[I 2022-07-27 13:26:03,156]\u001b[0m Trial 29 finished with value: 0.5689655172413793 and parameters: {'C': 411.7832951705035, 'penalty': 'l2', 'intercept_scaling': 80326, 'class_weight': None}. Best is trial 2 with value: 0.7931034482758621.\u001b[0m\n",
      "\u001b[32m[I 2022-07-27 13:26:03,179]\u001b[0m Trial 30 finished with value: 0.5517241379310345 and parameters: {'C': 487.9887831737283, 'penalty': 'l2', 'intercept_scaling': 90099, 'class_weight': None}. Best is trial 2 with value: 0.7931034482758621.\u001b[0m\n",
      "\u001b[32m[I 2022-07-27 13:26:03,202]\u001b[0m Trial 31 finished with value: 0.7758620689655172 and parameters: {'C': 170.20733901824264, 'penalty': 'l2', 'intercept_scaling': 74819, 'class_weight': 'balanced'}. Best is trial 2 with value: 0.7931034482758621.\u001b[0m\n",
      "\u001b[32m[I 2022-07-27 13:26:03,227]\u001b[0m Trial 32 finished with value: 0.603448275862069 and parameters: {'C': 165.03234146703286, 'penalty': 'l2', 'intercept_scaling': 74173, 'class_weight': None}. Best is trial 2 with value: 0.7931034482758621.\u001b[0m\n",
      "\u001b[32m[I 2022-07-27 13:26:03,251]\u001b[0m Trial 33 finished with value: 0.5689655172413793 and parameters: {'C': 35.11541347548439, 'penalty': 'l2', 'intercept_scaling': 92865, 'class_weight': None}. Best is trial 2 with value: 0.7931034482758621.\u001b[0m\n",
      "\u001b[32m[I 2022-07-27 13:26:03,274]\u001b[0m Trial 34 finished with value: 0.7758620689655172 and parameters: {'C': 147.58644049806736, 'penalty': 'l2', 'intercept_scaling': 94133, 'class_weight': 'balanced'}. Best is trial 2 with value: 0.7931034482758621.\u001b[0m\n",
      "\u001b[32m[I 2022-07-27 13:26:03,298]\u001b[0m Trial 35 finished with value: 0.5517241379310345 and parameters: {'C': 72.96102805018965, 'penalty': 'l2', 'intercept_scaling': 99755, 'class_weight': None}. Best is trial 2 with value: 0.7931034482758621.\u001b[0m\n",
      "\u001b[32m[I 2022-07-27 13:26:03,326]\u001b[0m Trial 36 finished with value: 0.603448275862069 and parameters: {'C': 805.2261992645273, 'penalty': 'l2', 'intercept_scaling': 91592, 'class_weight': None}. Best is trial 2 with value: 0.7931034482758621.\u001b[0m\n",
      "\u001b[32m[I 2022-07-27 13:26:03,353]\u001b[0m Trial 37 finished with value: 0.5689655172413793 and parameters: {'C': 221.9847342876796, 'penalty': 'l2', 'intercept_scaling': 72567, 'class_weight': None}. Best is trial 2 with value: 0.7931034482758621.\u001b[0m\n",
      "\u001b[32m[I 2022-07-27 13:26:03,383]\u001b[0m Trial 38 finished with value: 0.5689655172413793 and parameters: {'C': 41.41096503830749, 'penalty': 'l2', 'intercept_scaling': 77692, 'class_weight': None}. Best is trial 2 with value: 0.7931034482758621.\u001b[0m\n",
      "\u001b[32m[I 2022-07-27 13:26:03,412]\u001b[0m Trial 39 finished with value: 0.5517241379310345 and parameters: {'C': 194.1893157393714, 'penalty': 'l2', 'intercept_scaling': 86922, 'class_weight': None}. Best is trial 2 with value: 0.7931034482758621.\u001b[0m\n",
      "\u001b[32m[I 2022-07-27 13:26:03,458]\u001b[0m Trial 40 finished with value: 0.5517241379310345 and parameters: {'C': 568.1451794366633, 'penalty': 'l2', 'intercept_scaling': 60488, 'class_weight': None}. Best is trial 2 with value: 0.7931034482758621.\u001b[0m\n",
      "\u001b[32m[I 2022-07-27 13:26:03,483]\u001b[0m Trial 41 finished with value: 0.7586206896551724 and parameters: {'C': 167.63987525227685, 'penalty': 'l2', 'intercept_scaling': 71601, 'class_weight': 'balanced'}. Best is trial 2 with value: 0.7931034482758621.\u001b[0m\n",
      "\u001b[32m[I 2022-07-27 13:26:03,504]\u001b[0m Trial 42 finished with value: 0.7931034482758621 and parameters: {'C': 100.18090594398522, 'penalty': 'l2', 'intercept_scaling': 96215, 'class_weight': 'balanced'}. Best is trial 2 with value: 0.7931034482758621.\u001b[0m\n",
      "\u001b[32m[I 2022-07-27 13:26:03,526]\u001b[0m Trial 43 finished with value: 0.603448275862069 and parameters: {'C': 270.44202642675157, 'penalty': 'l2', 'intercept_scaling': 95051, 'class_weight': None}. Best is trial 2 with value: 0.7931034482758621.\u001b[0m\n",
      "\u001b[32m[I 2022-07-27 13:26:03,548]\u001b[0m Trial 44 finished with value: 0.5344827586206896 and parameters: {'C': 15.701775551107133, 'penalty': 'l2', 'intercept_scaling': 81961, 'class_weight': None}. Best is trial 2 with value: 0.7931034482758621.\u001b[0m\n",
      "\u001b[32m[I 2022-07-27 13:26:03,571]\u001b[0m Trial 45 finished with value: 0.5689655172413793 and parameters: {'C': 92.606447527533, 'penalty': 'l2', 'intercept_scaling': 94893, 'class_weight': None}. Best is trial 2 with value: 0.7931034482758621.\u001b[0m\n",
      "\u001b[32m[I 2022-07-27 13:26:03,594]\u001b[0m Trial 46 finished with value: 0.5862068965517241 and parameters: {'C': 654.7251424416866, 'penalty': 'l2', 'intercept_scaling': 96589, 'class_weight': None}. Best is trial 2 with value: 0.7931034482758621.\u001b[0m\n",
      "\u001b[32m[I 2022-07-27 13:26:03,620]\u001b[0m Trial 47 finished with value: 0.5689655172413793 and parameters: {'C': 128.555088793889, 'penalty': 'l2', 'intercept_scaling': 88845, 'class_weight': None}. Best is trial 2 with value: 0.7931034482758621.\u001b[0m\n",
      "\u001b[32m[I 2022-07-27 13:26:03,645]\u001b[0m Trial 48 finished with value: 0.5517241379310345 and parameters: {'C': 42.150206372278774, 'penalty': 'l2', 'intercept_scaling': 83668, 'class_weight': None}. Best is trial 2 with value: 0.7931034482758621.\u001b[0m\n",
      "\u001b[32m[I 2022-07-27 13:26:03,667]\u001b[0m Trial 49 finished with value: 0.5689655172413793 and parameters: {'C': 744.005370654702, 'penalty': 'l2', 'intercept_scaling': 27843, 'class_weight': None}. Best is trial 2 with value: 0.7931034482758621.\u001b[0m\n",
      "\u001b[32m[I 2022-07-27 13:26:03,690]\u001b[0m Trial 50 finished with value: 0.5689655172413793 and parameters: {'C': 619.0719838518642, 'penalty': 'l2', 'intercept_scaling': 88736, 'class_weight': None}. Best is trial 2 with value: 0.7931034482758621.\u001b[0m\n",
      "\u001b[32m[I 2022-07-27 13:26:03,713]\u001b[0m Trial 51 finished with value: 0.7758620689655172 and parameters: {'C': 137.76208399671998, 'penalty': 'l2', 'intercept_scaling': 95625, 'class_weight': 'balanced'}. Best is trial 2 with value: 0.7931034482758621.\u001b[0m\n",
      "\u001b[32m[I 2022-07-27 13:26:03,738]\u001b[0m Trial 52 finished with value: 0.7758620689655172 and parameters: {'C': 114.0413433700511, 'penalty': 'l2', 'intercept_scaling': 95667, 'class_weight': 'balanced'}. Best is trial 2 with value: 0.7931034482758621.\u001b[0m\n",
      "\u001b[32m[I 2022-07-27 13:26:03,765]\u001b[0m Trial 53 finished with value: 0.5344827586206896 and parameters: {'C': 303.9668580524881, 'penalty': 'l2', 'intercept_scaling': 97810, 'class_weight': None}. Best is trial 2 with value: 0.7931034482758621.\u001b[0m\n",
      "\u001b[32m[I 2022-07-27 13:26:03,788]\u001b[0m Trial 54 finished with value: 0.5689655172413793 and parameters: {'C': 214.18852876097046, 'penalty': 'l2', 'intercept_scaling': 86183, 'class_weight': None}. Best is trial 2 with value: 0.7931034482758621.\u001b[0m\n",
      "\u001b[32m[I 2022-07-27 13:26:03,811]\u001b[0m Trial 55 finished with value: 0.5344827586206896 and parameters: {'C': 179.27314871820073, 'penalty': 'l2', 'intercept_scaling': 76825, 'class_weight': None}. Best is trial 2 with value: 0.7931034482758621.\u001b[0m\n",
      "\u001b[32m[I 2022-07-27 13:26:03,833]\u001b[0m Trial 56 finished with value: 0.5862068965517241 and parameters: {'C': 350.069677889084, 'penalty': 'l2', 'intercept_scaling': 54022, 'class_weight': None}. Best is trial 2 with value: 0.7931034482758621.\u001b[0m\n",
      "\u001b[32m[I 2022-07-27 13:26:03,858]\u001b[0m Trial 57 finished with value: 0.5862068965517241 and parameters: {'C': 74.00708599245269, 'penalty': 'l2', 'intercept_scaling': 92531, 'class_weight': None}. Best is trial 2 with value: 0.7931034482758621.\u001b[0m\n",
      "\u001b[32m[I 2022-07-27 13:26:03,882]\u001b[0m Trial 58 finished with value: 0.5517241379310345 and parameters: {'C': 397.81018630328373, 'penalty': 'l2', 'intercept_scaling': 98808, 'class_weight': None}. Best is trial 2 with value: 0.7931034482758621.\u001b[0m\n",
      "\u001b[32m[I 2022-07-27 13:26:03,906]\u001b[0m Trial 59 finished with value: 0.5517241379310345 and parameters: {'C': 997.294422913406, 'penalty': 'l2', 'intercept_scaling': 67842, 'class_weight': None}. Best is trial 2 with value: 0.7931034482758621.\u001b[0m\n",
      "\u001b[32m[I 2022-07-27 13:26:03,929]\u001b[0m Trial 60 finished with value: 0.5689655172413793 and parameters: {'C': 913.5294888342243, 'penalty': 'l2', 'intercept_scaling': 12756, 'class_weight': None}. Best is trial 2 with value: 0.7931034482758621.\u001b[0m\n",
      "\u001b[32m[I 2022-07-27 13:26:03,954]\u001b[0m Trial 61 finished with value: 0.7586206896551724 and parameters: {'C': 79.33834505259215, 'penalty': 'l2', 'intercept_scaling': 90607, 'class_weight': 'balanced'}. Best is trial 2 with value: 0.7931034482758621.\u001b[0m\n",
      "\u001b[32m[I 2022-07-27 13:26:03,978]\u001b[0m Trial 62 finished with value: 0.7931034482758621 and parameters: {'C': 526.977297412869, 'penalty': 'l2', 'intercept_scaling': 47750, 'class_weight': 'balanced'}. Best is trial 2 with value: 0.7931034482758621.\u001b[0m\n",
      "\u001b[32m[I 2022-07-27 13:26:04,001]\u001b[0m Trial 63 finished with value: 0.603448275862069 and parameters: {'C': 757.9354634612203, 'penalty': 'l2', 'intercept_scaling': 38576, 'class_weight': None}. Best is trial 2 with value: 0.7931034482758621.\u001b[0m\n",
      "\u001b[32m[I 2022-07-27 13:26:04,027]\u001b[0m Trial 64 finished with value: 0.5862068965517241 and parameters: {'C': 144.44465404761914, 'penalty': 'l2', 'intercept_scaling': 45695, 'class_weight': None}. Best is trial 2 with value: 0.7931034482758621.\u001b[0m\n",
      "\u001b[32m[I 2022-07-27 13:26:04,054]\u001b[0m Trial 65 finished with value: 0.5689655172413793 and parameters: {'C': 446.84492914169454, 'penalty': 'l2', 'intercept_scaling': 38938, 'class_weight': None}. Best is trial 2 with value: 0.7931034482758621.\u001b[0m\n",
      "\u001b[32m[I 2022-07-27 13:26:04,078]\u001b[0m Trial 66 finished with value: 0.5862068965517241 and parameters: {'C': 527.5074887724907, 'penalty': 'l2', 'intercept_scaling': 50459, 'class_weight': None}. Best is trial 2 with value: 0.7931034482758621.\u001b[0m\n",
      "\u001b[32m[I 2022-07-27 13:26:04,104]\u001b[0m Trial 67 finished with value: 0.5517241379310345 and parameters: {'C': 117.00784561157727, 'penalty': 'l2', 'intercept_scaling': 95953, 'class_weight': None}. Best is trial 2 with value: 0.7931034482758621.\u001b[0m\n",
      "\u001b[32m[I 2022-07-27 13:26:04,128]\u001b[0m Trial 68 finished with value: 0.5689655172413793 and parameters: {'C': 3.1178416342014827, 'penalty': 'l2', 'intercept_scaling': 84091, 'class_weight': None}. Best is trial 2 with value: 0.7931034482758621.\u001b[0m\n",
      "\u001b[32m[I 2022-07-27 13:26:04,152]\u001b[0m Trial 69 finished with value: 0.6206896551724138 and parameters: {'C': 607.0857359879665, 'penalty': 'l2', 'intercept_scaling': 99790, 'class_weight': None}. Best is trial 2 with value: 0.7931034482758621.\u001b[0m\n",
      "\u001b[32m[I 2022-07-27 13:26:04,175]\u001b[0m Trial 70 finished with value: 0.5344827586206896 and parameters: {'C': 251.55009848488146, 'penalty': 'l2', 'intercept_scaling': 63665, 'class_weight': None}. Best is trial 2 with value: 0.7931034482758621.\u001b[0m\n",
      "\u001b[32m[I 2022-07-27 13:26:04,202]\u001b[0m Trial 71 finished with value: 0.7931034482758621 and parameters: {'C': 48.80643424750622, 'penalty': 'l2', 'intercept_scaling': 56865, 'class_weight': 'balanced'}. Best is trial 2 with value: 0.7931034482758621.\u001b[0m\n",
      "\u001b[32m[I 2022-07-27 13:26:04,225]\u001b[0m Trial 72 finished with value: 0.5689655172413793 and parameters: {'C': 51.744825043397796, 'penalty': 'l2', 'intercept_scaling': 53417, 'class_weight': None}. Best is trial 2 with value: 0.7931034482758621.\u001b[0m\n",
      "\u001b[32m[I 2022-07-27 13:26:04,250]\u001b[0m Trial 73 finished with value: 0.7758620689655172 and parameters: {'C': 26.92534719644949, 'penalty': 'l2', 'intercept_scaling': 88299, 'class_weight': 'balanced'}. Best is trial 2 with value: 0.7931034482758621.\u001b[0m\n",
      "\u001b[32m[I 2022-07-27 13:26:04,273]\u001b[0m Trial 74 finished with value: 0.5517241379310345 and parameters: {'C': 142.32255222112008, 'penalty': 'l2', 'intercept_scaling': 56828, 'class_weight': None}. Best is trial 2 with value: 0.7931034482758621.\u001b[0m\n",
      "\u001b[32m[I 2022-07-27 13:26:04,298]\u001b[0m Trial 75 finished with value: 0.5689655172413793 and parameters: {'C': 103.98882851050297, 'penalty': 'l2', 'intercept_scaling': 93902, 'class_weight': None}. Best is trial 2 with value: 0.7931034482758621.\u001b[0m\n",
      "\u001b[32m[I 2022-07-27 13:26:04,321]\u001b[0m Trial 76 finished with value: 0.5862068965517241 and parameters: {'C': 701.999451057977, 'penalty': 'l2', 'intercept_scaling': 46807, 'class_weight': None}. Best is trial 2 with value: 0.7931034482758621.\u001b[0m\n",
      "\u001b[32m[I 2022-07-27 13:26:04,343]\u001b[0m Trial 77 finished with value: 0.5689655172413793 and parameters: {'C': 184.38177048601753, 'penalty': 'l2', 'intercept_scaling': 40860, 'class_weight': None}. Best is trial 2 with value: 0.7931034482758621.\u001b[0m\n",
      "\u001b[32m[I 2022-07-27 13:26:04,384]\u001b[0m Trial 78 finished with value: 0.5862068965517241 and parameters: {'C': 527.3157859198521, 'penalty': 'l2', 'intercept_scaling': 33487, 'class_weight': None}. Best is trial 2 with value: 0.7931034482758621.\u001b[0m\n",
      "\u001b[32m[I 2022-07-27 13:26:04,408]\u001b[0m Trial 79 finished with value: 0.5517241379310345 and parameters: {'C': 93.7449100244542, 'penalty': 'l2', 'intercept_scaling': 80179, 'class_weight': None}. Best is trial 2 with value: 0.7931034482758621.\u001b[0m\n",
      "\u001b[32m[I 2022-07-27 13:26:04,430]\u001b[0m Trial 80 finished with value: 0.5862068965517241 and parameters: {'C': 35.43906808409896, 'penalty': 'l2', 'intercept_scaling': 88119, 'class_weight': None}. Best is trial 2 with value: 0.7931034482758621.\u001b[0m\n",
      "\u001b[32m[I 2022-07-27 13:26:04,453]\u001b[0m Trial 81 finished with value: 0.7758620689655172 and parameters: {'C': 162.2369657529066, 'penalty': 'l2', 'intercept_scaling': 92700, 'class_weight': 'balanced'}. Best is trial 2 with value: 0.7931034482758621.\u001b[0m\n",
      "\u001b[32m[I 2022-07-27 13:26:04,483]\u001b[0m Trial 82 finished with value: 0.7586206896551724 and parameters: {'C': 57.71260128856014, 'penalty': 'l2', 'intercept_scaling': 91903, 'class_weight': 'balanced'}. Best is trial 2 with value: 0.7931034482758621.\u001b[0m\n",
      "\u001b[32m[I 2022-07-27 13:26:04,508]\u001b[0m Trial 83 finished with value: 0.7931034482758621 and parameters: {'C': 224.43045716917976, 'penalty': 'l2', 'intercept_scaling': 96799, 'class_weight': 'balanced'}. Best is trial 2 with value: 0.7931034482758621.\u001b[0m\n",
      "\u001b[32m[I 2022-07-27 13:26:04,536]\u001b[0m Trial 84 finished with value: 0.5862068965517241 and parameters: {'C': 294.3987831356524, 'penalty': 'l2', 'intercept_scaling': 97477, 'class_weight': None}. Best is trial 2 with value: 0.7931034482758621.\u001b[0m\n",
      "\u001b[32m[I 2022-07-27 13:26:04,563]\u001b[0m Trial 85 finished with value: 0.5862068965517241 and parameters: {'C': 25.593933697857157, 'penalty': 'l2', 'intercept_scaling': 96797, 'class_weight': None}. Best is trial 2 with value: 0.7931034482758621.\u001b[0m\n",
      "\u001b[32m[I 2022-07-27 13:26:04,588]\u001b[0m Trial 86 finished with value: 0.603448275862069 and parameters: {'C': 222.93755565233423, 'penalty': 'l2', 'intercept_scaling': 58048, 'class_weight': None}. Best is trial 2 with value: 0.7931034482758621.\u001b[0m\n",
      "\u001b[32m[I 2022-07-27 13:26:04,611]\u001b[0m Trial 87 finished with value: 0.5517241379310345 and parameters: {'C': 119.37397835935208, 'penalty': 'l2', 'intercept_scaling': 106, 'class_weight': None}. Best is trial 2 with value: 0.7931034482758621.\u001b[0m\n",
      "\u001b[32m[I 2022-07-27 13:26:04,634]\u001b[0m Trial 88 finished with value: 0.5862068965517241 and parameters: {'C': 57.84770271777336, 'penalty': 'l2', 'intercept_scaling': 69375, 'class_weight': None}. Best is trial 2 with value: 0.7931034482758621.\u001b[0m\n",
      "\u001b[32m[I 2022-07-27 13:26:04,664]\u001b[0m Trial 89 finished with value: 0.5862068965517241 and parameters: {'C': 653.12492709951, 'penalty': 'l2', 'intercept_scaling': 63326, 'class_weight': None}. Best is trial 2 with value: 0.7931034482758621.\u001b[0m\n",
      "\u001b[32m[I 2022-07-27 13:26:04,687]\u001b[0m Trial 90 finished with value: 0.5689655172413793 and parameters: {'C': 786.381212068718, 'penalty': 'l2', 'intercept_scaling': 76080, 'class_weight': None}. Best is trial 2 with value: 0.7931034482758621.\u001b[0m\n",
      "\u001b[32m[I 2022-07-27 13:26:04,709]\u001b[0m Trial 91 finished with value: 0.5517241379310345 and parameters: {'C': 160.17630731503786, 'penalty': 'l2', 'intercept_scaling': 90146, 'class_weight': None}. Best is trial 2 with value: 0.7931034482758621.\u001b[0m\n",
      "\u001b[32m[I 2022-07-27 13:26:04,734]\u001b[0m Trial 92 finished with value: 0.7758620689655172 and parameters: {'C': 87.40599504638418, 'penalty': 'l2', 'intercept_scaling': 93381, 'class_weight': 'balanced'}. Best is trial 2 with value: 0.7931034482758621.\u001b[0m\n",
      "\u001b[32m[I 2022-07-27 13:26:04,760]\u001b[0m Trial 93 finished with value: 0.6206896551724138 and parameters: {'C': 145.56314108532786, 'penalty': 'l2', 'intercept_scaling': 94932, 'class_weight': None}. Best is trial 2 with value: 0.7931034482758621.\u001b[0m\n",
      "\u001b[32m[I 2022-07-27 13:26:04,785]\u001b[0m Trial 94 finished with value: 0.5689655172413793 and parameters: {'C': 84.65027774592372, 'penalty': 'l2', 'intercept_scaling': 97042, 'class_weight': None}. Best is trial 2 with value: 0.7931034482758621.\u001b[0m\n",
      "\u001b[32m[I 2022-07-27 13:26:04,806]\u001b[0m Trial 95 finished with value: 0.5689655172413793 and parameters: {'C': 2.789276855947275, 'penalty': 'l2', 'intercept_scaling': 87657, 'class_weight': None}. Best is trial 2 with value: 0.7931034482758621.\u001b[0m\n",
      "\u001b[32m[I 2022-07-27 13:26:04,829]\u001b[0m Trial 96 finished with value: 0.5517241379310345 and parameters: {'C': 16.43928672232869, 'penalty': 'l2', 'intercept_scaling': 85312, 'class_weight': None}. Best is trial 2 with value: 0.7931034482758621.\u001b[0m\n",
      "\u001b[32m[I 2022-07-27 13:26:04,853]\u001b[0m Trial 97 finished with value: 0.5689655172413793 and parameters: {'C': 200.34298208871414, 'penalty': 'l2', 'intercept_scaling': 98732, 'class_weight': None}. Best is trial 2 with value: 0.7931034482758621.\u001b[0m\n",
      "\u001b[32m[I 2022-07-27 13:26:04,876]\u001b[0m Trial 98 finished with value: 0.5689655172413793 and parameters: {'C': 471.3904315392947, 'penalty': 'l2', 'intercept_scaling': 91359, 'class_weight': None}. Best is trial 2 with value: 0.7931034482758621.\u001b[0m\n",
      "\u001b[32m[I 2022-07-27 13:26:04,898]\u001b[0m Trial 99 finished with value: 0.6206896551724138 and parameters: {'C': 66.77668534352102, 'penalty': 'l2', 'intercept_scaling': 14378, 'class_weight': None}. Best is trial 2 with value: 0.7931034482758621.\u001b[0m\n"
     ]
    },
    {
     "name": "stdout",
     "output_type": "stream",
     "text": [
      "Best hyperparameters: {'C': 673.3507126469352, 'penalty': 'l2', 'intercept_scaling': 95947, 'class_weight': 'balanced'}\n",
      "Best score: 0.7931034482758621\n",
      "----- Metric for 80/20 Split -----\n",
      "Accuracy score: 0.7076923076923077\n",
      "Recall score: 0.7931034482758621\n",
      "Precision score: 0.5054945054945055\n",
      "fbeta score: 0.7120743034055728\n",
      "----- Metric for Cross Validation -----\n",
      "Crossval score whole Dataset: 0.6231591415646506\n",
      "Crossval score whole Dataset Detail: [0.62091503 0.60855263 0.63311688 0.625      0.63311688 0.67741935\n",
      " 0.64724919 0.61461794 0.58631922 0.58528428]\n",
      "Crossval score Train/Test: 0.6131260178817142\n",
      "Crossval score Train/Test Detail: [0.59670782 0.6        0.66801619 0.65400844 0.6097561  0.48523207\n",
      " 0.57613169 0.61983471 0.60728745 0.71428571]\n"
     ]
    }
   ],
   "source": [
    "\n",
    "# einmal mit optuna ausprobiert\n",
    "# import optuna\n",
    "import optuna \n",
    "# tune hyperparameters with optuna package\n",
    "def tune_logistic_regression(X_train, X_test, y_train, y_test):\n",
    "    # create optuna object\n",
    "    study = optuna.create_study(direction=\"maximize\")\n",
    "    # define objective function\n",
    "    def objective(trial):\n",
    "        # define hyperparameters\n",
    "        C = trial.suggest_uniform(\"C\", 0.001, 1000)\n",
    "        penalty = trial.suggest_categorical(\"penalty\", [ \"l2\"])\n",
    "        intercept_scaling = trial.suggest_int(\"intercept_scaling\", 1, 100000)\n",
    "        class_weight = trial.suggest_categorical(\"class_weight\", [\"balanced\", None])\n",
    "        # create logistic regression object\n",
    "        logreg = LogisticRegression(C=C, penalty=penalty, intercept_scaling=intercept_scaling, class_weight=class_weight, random_state=42)\n",
    "        # fit the model\n",
    "        logreg.fit(X_train, y_train)\n",
    "        # predict the target variable\n",
    "        y_pred = logreg.predict(X_test)\n",
    "        # return recall score\n",
    "        return recall_score(y_test, y_pred)\n",
    "    # run optimization with objective function\n",
    "    study.optimize(objective, n_trials=100)\n",
    "    # print the best hyperparameters\n",
    "    print(\"Best hyperparameters:\", study.best_params)\n",
    "    print(\"Best score:\", study.best_value)\n",
    "    # save best hyperparameters in variable\n",
    "    logreg_best_parameters = study.best_params\n",
    "    # create logistic regression object with best hyperparameters\n",
    "    logreg = LogisticRegression(C=logreg_best_parameters[\"C\"], penalty=logreg_best_parameters[\"penalty\"], intercept_scaling=logreg_best_parameters[\"intercept_scaling\"], class_weight=logreg_best_parameters[\"class_weight\"], random_state=42)\n",
    "    # fit the model\n",
    "    logreg.fit(X_train, y_train)\n",
    "    # predict the target variable\n",
    "    y_pred = logreg.predict(X_test)\n",
    "    # print accuracy score and recall score\n",
    "    metrics(X,y,y_test, y_pred, crossval=True, modell=logreg)\n",
    "\n",
    "tune_logistic_regression(X_train, X_test, y_train, y_test)"
   ]
  },
  {
   "cell_type": "markdown",
   "metadata": {},
   "source": [
    "## Random Forest Optimized"
   ]
  },
  {
   "cell_type": "code",
   "execution_count": 29,
   "metadata": {},
   "outputs": [
    {
     "name": "stdout",
     "output_type": "stream",
     "text": [
      "Time for optimization: 1161.202614068985\n",
      "Best hyperparameters: {'bootstrap': False, 'max_depth': 14, 'max_features': None, 'min_samples_leaf': 1, 'min_samples_split': 2, 'n_estimators': 500}\n",
      "Best score: 0.43853054926835766\n"
     ]
    }
   ],
   "source": [
    "#hyperparameter tuning for random forest\n",
    "#tune hyperparameters\n",
    "parameters = {'n_estimators': [10, 100, 500], 'max_depth': [None, 2, 4, 6, 8, 10, 12, 14, 16, 18, 20], 'max_features': [None, \"auto\", \"sqrt\", \"log2\"], 'min_samples_split': [2, 4, 6, 8, 10], 'min_samples_leaf': [1, 2, 4, 6, 8], 'bootstrap': [True, False]}\n",
    "# create grid search object with cross validation\n",
    "# count time for optimization\n",
    "start = time.time()\n",
    "grid_search = GridSearchCV(random_forest(X_train, X_test, y_train, y_test, hyperopt=True), parameters, cv=cv, scoring=f2 ,n_jobs= -1)\n",
    "# time for optimization\n",
    "\n",
    "# fit the model\n",
    "grid_search.fit(X_train, y_train)\n",
    "end = time.time()\n",
    "print(\"Time for optimization:\", end - start)\n",
    "# print the best hyperparameters\n",
    "print(\"Best hyperparameters:\", grid_search.best_params_)\n",
    "print(\"Best score:\", grid_search.best_score_)\n",
    "# save best hyperparameters in variable\n",
    "rf_best_parameters = grid_search.best_params_\n"
   ]
  },
  {
   "cell_type": "code",
   "execution_count": 35,
   "metadata": {},
   "outputs": [
    {
     "name": "stdout",
     "output_type": "stream",
     "text": [
      "----- Metric for 80/20 Split -----\n",
      "Accuracy score: 0.6153846153846154\n",
      "Recall score: 0.41379310344827586\n",
      "Precision score: 0.36923076923076925\n",
      "fbeta score: 0.4040404040404041\n",
      "----- Metric for Cross Validation -----\n",
      "Crossval score whole Dataset: 0.4360975095182576\n",
      "Crossval score whole Dataset Detail: [0.48951049 0.40441176 0.31481481 0.49270073 0.39145907 0.49822064\n",
      " 0.41516245 0.44169611 0.49488055 0.41811847]\n",
      "Crossval score Train/Test: 0.43853054926835755\n",
      "Crossval score Train/Test Detail: [0.3196347  0.4845815  0.36866359 0.60085837 0.41125541 0.43378995\n",
      " 0.37209302 0.45454545 0.49145299 0.44843049]\n"
     ]
    },
    {
     "data": {
      "image/png": "[encoded data removed]",
      "text/plain": [
       "<Figure size 720x720 with 1 Axes>"
      ]
     },
     "metadata": {
      "needs_background": "light"
     },
     "output_type": "display_data"
    },
    {
     "data": {
      "image/png": "[encoded data removed]",
      "text/plain": [
       "<Figure size 432x288 with 1 Axes>"
      ]
     },
     "metadata": {
      "needs_background": "light"
     },
     "output_type": "display_data"
    },
    {
     "data": {
      "image/png": "[encoded data removed]",
      "text/plain": [
       "<Figure size 432x288 with 2 Axes>"
      ]
     },
     "metadata": {
      "needs_background": "light"
     },
     "output_type": "display_data"
    },
    {
     "data": {
      "text/html": [
       "<style>#sk-container-id-7 {color: black;background-color: white;}#sk-container-id-7 pre{padding: 0;}#sk-container-id-7 div.sk-toggleable {background-color: white;}#sk-container-id-7 label.sk-toggleable__label {cursor: pointer;display: block;width: 100%;margin-bottom: 0;padding: 0.3em;box-sizing: border-box;text-align: center;}#sk-container-id-7 label.sk-toggleable__label-arrow:before {content: \"▸\";float: left;margin-right: 0.25em;color: #696969;}#sk-container-id-7 label.sk-toggleable__label-arrow:hover:before {color: black;}#sk-container-id-7 div.sk-estimator:hover label.sk-toggleable__label-arrow:before {color: black;}#sk-container-id-7 div.sk-toggleable__content {max-height: 0;max-width: 0;overflow: hidden;text-align: left;background-color: #f0f8ff;}#sk-container-id-7 div.sk-toggleable__content pre {margin: 0.2em;color: black;border-radius: 0.25em;background-color: #f0f8ff;}#sk-container-id-7 input.sk-toggleable__control:checked~div.sk-toggleable__content {max-height: 200px;max-width: 100%;overflow: auto;}#sk-container-id-7 input.sk-toggleable__control:checked~label.sk-toggleable__label-arrow:before {content: \"▾\";}#sk-container-id-7 div.sk-estimator input.sk-toggleable__control:checked~label.sk-toggleable__label {background-color: #d4ebff;}#sk-container-id-7 div.sk-label input.sk-toggleable__control:checked~label.sk-toggleable__label {background-color: #d4ebff;}#sk-container-id-7 input.sk-hidden--visually {border: 0;clip: rect(1px 1px 1px 1px);clip: rect(1px, 1px, 1px, 1px);height: 1px;margin: -1px;overflow: hidden;padding: 0;position: absolute;width: 1px;}#sk-container-id-7 div.sk-estimator {font-family: monospace;background-color: #f0f8ff;border: 1px dotted black;border-radius: 0.25em;box-sizing: border-box;margin-bottom: 0.5em;}#sk-container-id-7 div.sk-estimator:hover {background-color: #d4ebff;}#sk-container-id-7 div.sk-parallel-item::after {content: \"\";width: 100%;border-bottom: 1px solid gray;flex-grow: 1;}#sk-container-id-7 div.sk-label:hover label.sk-toggleable__label {background-color: #d4ebff;}#sk-container-id-7 div.sk-serial::before {content: \"\";position: absolute;border-left: 1px solid gray;box-sizing: border-box;top: 0;bottom: 0;left: 50%;z-index: 0;}#sk-container-id-7 div.sk-serial {display: flex;flex-direction: column;align-items: center;background-color: white;padding-right: 0.2em;padding-left: 0.2em;position: relative;}#sk-container-id-7 div.sk-item {position: relative;z-index: 1;}#sk-container-id-7 div.sk-parallel {display: flex;align-items: stretch;justify-content: center;background-color: white;position: relative;}#sk-container-id-7 div.sk-item::before, #sk-container-id-7 div.sk-parallel-item::before {content: \"\";position: absolute;border-left: 1px solid gray;box-sizing: border-box;top: 0;bottom: 0;left: 50%;z-index: -1;}#sk-container-id-7 div.sk-parallel-item {display: flex;flex-direction: column;z-index: 1;position: relative;background-color: white;}#sk-container-id-7 div.sk-parallel-item:first-child::after {align-self: flex-end;width: 50%;}#sk-container-id-7 div.sk-parallel-item:last-child::after {align-self: flex-start;width: 50%;}#sk-container-id-7 div.sk-parallel-item:only-child::after {width: 0;}#sk-container-id-7 div.sk-dashed-wrapped {border: 1px dashed gray;margin: 0 0.4em 0.5em 0.4em;box-sizing: border-box;padding-bottom: 0.4em;background-color: white;}#sk-container-id-7 div.sk-label label {font-family: monospace;font-weight: bold;display: inline-block;line-height: 1.2em;}#sk-container-id-7 div.sk-label-container {text-align: center;}#sk-container-id-7 div.sk-container {/* jupyter's `normalize.less` sets `[hidden] { display: none; }` but bootstrap.min.css set `[hidden] { display: none !important; }` so we also need the `!important` here to be able to override the default hidden behavior on the sphinx rendered scikit-learn.org. See: https://github.com/scikit-learn/scikit-learn/issues/21755 */display: inline-block !important;position: relative;}#sk-container-id-7 div.sk-text-repr-fallback {display: none;}</style><div id=\"sk-container-id-7\" class=\"sk-top-container\"><div class=\"sk-text-repr-fallback\"><pre>RandomForestClassifier(bootstrap=False, max_depth=14, max_features=None,\n",
       "                       n_estimators=500, random_state=42)</pre><b>In a Jupyter environment, please rerun this cell to show the HTML representation or trust the notebook. <br />On GitHub, the HTML representation is unable to render, please try loading this page with nbviewer.org.</b></div><div class=\"sk-container\" hidden><div class=\"sk-item\"><div class=\"sk-estimator sk-toggleable\"><input class=\"sk-toggleable__control sk-hidden--visually\" id=\"sk-estimator-id-7\" type=\"checkbox\" checked><label for=\"sk-estimator-id-7\" class=\"sk-toggleable__label sk-toggleable__label-arrow\">RandomForestClassifier</label><div class=\"sk-toggleable__content\"><pre>RandomForestClassifier(bootstrap=False, max_depth=14, max_features=None,\n",
       "                       n_estimators=500, random_state=42)</pre></div></div></div></div></div>"
      ],
      "text/plain": [
       "RandomForestClassifier(bootstrap=False, max_depth=14, max_features=None,\n",
       "                       n_estimators=500, random_state=42)"
      ]
     },
     "execution_count": 35,
     "metadata": {},
     "output_type": "execute_result"
    }
   ],
   "source": [
    "# pass best hyperparameters to random forest function\n",
    "random_forest(X_train, X_test, y_train, y_test, hyperopt=False, parameters=rf_best_parameters, opt=True)\n",
    "\n"
   ]
  },
  {
   "cell_type": "markdown",
   "metadata": {},
   "source": [
    "## xGboost Optimized"
   ]
  },
  {
   "cell_type": "code",
   "execution_count": null,
   "metadata": {},
   "outputs": [],
   "source": [
    "# hyperparameter tuning for xgboost\n",
    "#tune hyperparameters\n",
    "parameters = {'n_estimators': [10, 100, 500], 'max_depth': [None, 2, 4, 6, 8, 10, 12, 14, 16, 18, 20], 'max_features': [None, \"auto\", \"sqrt\", \"log2\"], 'min_samples_split': [2, 4, 6, 8, 10], 'min_samples_leaf': [1, 2, 4, 6, 8], 'bootstrap': [True, False]}\n",
    "# create grid search object with cross validation\n",
    "# count time for optimization\n",
    "start = time.time()\n",
    "grid_search = GridSearchCV(xgboost(X_train, X_test, y_train, y_test, hyperopt=True), parameters, cv=cv, scoring=f2 ,n_jobs= -1)\n",
    "# fit the model\n",
    "grid_search.fit(X_train, y_train)\n",
    "end = time.time()\n",
    "print(\"Time for optimization:\", end - start)\n",
    "# print the best hyperparameters\n",
    "print(\"Best hyperparameters:\", grid_search.best_params_)\n",
    "print(\"Best score:\", grid_search.best_score_)\n",
    "# save best hyperparameters in variable\n",
    "xgb_best_parameters = grid_search.best_params_\n",
    "\n"
   ]
  },
  {
   "cell_type": "code",
   "execution_count": null,
   "metadata": {},
   "outputs": [],
   "source": [
    "# pass best hyperparameters to xgboost function\n",
    "xgboost(X_train, X_test, y_train, y_test, hyperopt=False, parameters=xgb_best_parameters)"
   ]
  },
  {
   "cell_type": "markdown",
   "metadata": {},
   "source": [
    "## Neuronal Network Optimized"
   ]
  },
  {
   "cell_type": "code",
   "execution_count": null,
   "metadata": {},
   "outputs": [],
   "source": [
    "# hyperparameter MLPClassifier with grid search\n",
    "#tune hyperparameters\n",
    "parameters = {'hidden_layer_sizes': [(15,)],'activation': ['logistic'],'solver': ['lbfgs', 'sgd', 'adam'], 'max_iter': [100], 'alpha': [0.0001, 0.001, 0.01, 0.1, 1.0], 'learning_rate': ['constant', 'invscaling', 'adaptive'], 'learning_rate_init': [0.0001, 0.001, 0.01, 0.1], 'power_t': [0.5, 0.75, 0.9], 'shuffle': [True, False]}\n",
    " # create grid search object with cross validation\n",
    " # count time for optimization\n",
    "grid_search = GridSearchCV(MLPClassifier(random_state=42), parameters, cv=cv, scoring=f2 ,n_jobs= -1)\n",
    "# fit the model\n",
    "grid_search.fit(X_train, y_train)\n",
    "end = time.time()\n",
    "print(\"Time for optimization:\", end - start)\n",
    "# print the best hyperparameters\n",
    "print(\"Best hyperparameters:\", grid_search.best_params_)\n",
    "print(\"Best score:\", grid_search.best_score_)\n",
    "# save best hyperparameters in variable\n",
    "mlp_best_parameters = grid_search.best_params_\n",
    "# pass best hyperparameters to MLPClassifier function\n",
    "\n"
   ]
  },
  {
   "cell_type": "markdown",
   "metadata": {},
   "source": [
    "# Optimized Results to Dataframe"
   ]
  },
  {
   "cell_type": "code",
   "execution_count": null,
   "metadata": {},
   "outputs": [],
   "source": [
    "Opt_results = pd.DataFrame(Opt_results)\n",
    "Opt_results"
   ]
  },
  {
   "cell_type": "markdown",
   "metadata": {},
   "source": [
    "# Oversampling"
   ]
  },
  {
   "cell_type": "code",
   "execution_count": 105,
   "metadata": {},
   "outputs": [],
   "source": [
    "from imblearn.pipeline import make_pipeline, Pipeline\n",
    "from imblearn.over_sampling import SMOTE\n",
    "\n",
    "parameters_log = {'logisticregression__C': [0.001, 0.01, 0.1, 1, 10, 100, 1000], 'logisticregression__penalty': ['l1', 'l2'],'logisticregression__intercept_scaling': [1, 10, 100, 1000], 'logisticregression__class_weight': [\"balanced\", None]}\n",
    "parameters_rf = {'randomforestclassifier__n_estimators': [10, 100, 500], 'randomforestclassifier__max_depth': [None, 2, 4, 6, 8, 10, 12, 14, 16, 18, 20], 'randomforestclassifier__max_features': [None, \"auto\", \"sqrt\", \"log2\"], 'randomforestclassifier__min_samples_split': [2, 4, 6, 8, 10], 'randomforestclassifier__min_samples_leaf': [1, 2, 4, 6, 8], 'randomforestclassifier__bootstrap': [True, False]}\n",
    "parameters_xgb = {'xgbclassifier__n_estimators': [10, 100, 500], 'xgbclassifier__max_depth': [None, 2, 4, 6, 8, 10, 12, 14, 16, 18, 20], 'xgbclassifier__max_features': [None, \"auto\", \"sqrt\", \"log2\"], 'xgbclassifier__min_samples_split': [2, 4, 6, 8, 10], 'xgbclassifier__min_samples_leaf': [1, 2, 4, 6, 8], 'xgbclassifier__bootstrap': [True, False]}\n",
    "parameters_nn = {'randomforestclassifier__n_estimators': [10, 100, 500], 'randomforestclassifier__max_depth': [None, 2, 4, 6, 8, 10, 12, 14, 16, 18, 20], 'randomforestclassifier__max_features': [None, \"auto\", \"sqrt\", \"log2\"], 'randomforestclassifier__min_samples_split': [2, 4, 6, 8, 10], 'randomforestclassifier__min_samples_leaf': [1, 2, 4, 6, 8], 'randomforestclassifier__bootstrap': [True, False]}\n"
   ]
  },
  {
   "cell_type": "code",
   "execution_count": null,
   "metadata": {},
   "outputs": [],
   "source": []
  },
  {
   "cell_type": "code",
   "execution_count": null,
   "metadata": {},
   "outputs": [],
   "source": [
    "# dict for saving the results of the grid search\n",
    "# list with possible strings for the model\n",
    "models = [\"logisticregression__\", \"randomforestclassifier__\"]\n",
    "results = {}"
   ]
  },
  {
   "cell_type": "markdown",
   "metadata": {},
   "source": [
    "In einem nächsten Schritt wird versucht die Modelle mithilfe von Oversampling zu optimieren. Hierbei ist es wichtig, dass das Oversampling nur auf den Trainingdatensatz angewandt wird und nicht auf die gesamten Daten, da es sonst zu einem starken bias führen kann und die ergebnisse verfälscht."
   ]
  },
  {
   "cell_type": "markdown",
   "metadata": {},
   "source": []
  },
  {
   "cell_type": "code",
   "execution_count": 106,
   "metadata": {},
   "outputs": [],
   "source": [
    "# piplne for oversampling grid search\n",
    "def pipeline(modell, parameter_list):\n",
    "\n",
    "    prefix = type(modell()).__name__\n",
    "    print(prefix)\n",
    "    \n",
    "    smote = SMOTE(random_state=42,sampling_strategy=\"auto\")\n",
    "\n",
    "    # logistic regresision classifier\n",
    "    clf = modell(random_state=42)\n",
    "\n",
    "    pipeline = make_pipeline(smote, clf)\n",
    "\n",
    "    Gridsearch = GridSearchCV(pipeline,param_grid = parameter_list,\n",
    "                                    cv = cv, n_jobs=-1, scoring=f2)\n",
    "    # fit the model\n",
    "    Gridsearch.fit(X_train, y_train)\n",
    "\n",
    "    print(\"Best parameters:\"+ prefix, Gridsearch.best_params_)\n",
    "    print(\"Best score:\" + prefix, Gridsearch.best_score_)\n",
    "\n",
    "    best_parameters_new = {}\n",
    "    # check if prefix contains the string \"logisticregression__\"\n",
    "    if prefix == \"LogisticRegression\":\n",
    "        for key, value in Gridsearch.best_params_.items():\n",
    "            key = key.replace(\"logisticregression__\", \"\")\n",
    "            best_parameters_new[key] = value\n",
    "\n",
    "    if prefix == \"RandomForestClassifier\":\n",
    "        for key, value in Gridsearch.best_params_.items():\n",
    "            key = key.replace(\"randomforestclassifier__\", \"\")\n",
    "            best_parameters_new[key] = value\n",
    "    if  prefix == \"XGBClassifier\":\n",
    "        for key, value in Gridsearch.best_params_.items():\n",
    "            key = key.replace(\"xgbclassifier__\", \"\")\n",
    "            best_parameters_new[key] = value\n",
    "    \n",
    "        # save best hyperparameters in variable\n",
    "    results[prefix] = best_parameters_new\n",
    "\n",
    "    return results"
   ]
  },
  {
   "cell_type": "code",
   "execution_count": 107,
   "metadata": {},
   "outputs": [
    {
     "name": "stdout",
     "output_type": "stream",
     "text": [
      "LogisticRegression\n",
      "Best parameters:LogisticRegression {'logisticregression__C': 0.001, 'logisticregression__class_weight': 'balanced', 'logisticregression__intercept_scaling': 1, 'logisticregression__penalty': 'l2'}\n",
      "Best score:LogisticRegression 0.5545027764191022\n"
     ]
    },
    {
     "data": {
      "text/plain": [
       "{'LogisticRegression': {'C': 0.001,\n",
       "  'class_weight': 'balanced',\n",
       "  'intercept_scaling': 1,\n",
       "  'penalty': 'l2'},\n",
       " 'RandomForestClassifier': {'bootstrap': True,\n",
       "  'max_depth': 2,\n",
       "  'max_features': None,\n",
       "  'min_samples_leaf': 6,\n",
       "  'min_samples_split': 2,\n",
       "  'n_estimators': 500}}"
      ]
     },
     "execution_count": 107,
     "metadata": {},
     "output_type": "execute_result"
    }
   ],
   "source": [
    "pipeline(LogisticRegression, parameters_log)"
   ]
  },
  {
   "cell_type": "code",
   "execution_count": null,
   "metadata": {},
   "outputs": [],
   "source": [
    "\n",
    "pipeline(RandomForestClassifier, parameters_rf)"
   ]
  },
  {
   "cell_type": "code",
   "execution_count": 108,
   "metadata": {},
   "outputs": [
    {
     "name": "stdout",
     "output_type": "stream",
     "text": [
      "XGBClassifier\n",
      "[15:51:21] WARNING: C:/Users/Administrator/workspace/xgboost-win64_release_1.6.0/src/learner.cc:627: \n",
      "Parameters: { \"bootstrap\", \"min_samples_leaf\", \"min_samples_split\" } might not be used.\n",
      "\n",
      "  This could be a false alarm, with some parameters getting used by language bindings but\n",
      "  then being mistakenly passed down to XGBoost core, or some parameter actually being used\n",
      "  but getting flagged wrongly here. Please open an issue if you find any such cases.\n",
      "\n",
      "\n",
      "Best parameters:XGBClassifier {'xgbclassifier__bootstrap': True, 'xgbclassifier__max_depth': 2, 'xgbclassifier__max_features': None, 'xgbclassifier__min_samples_leaf': 1, 'xgbclassifier__min_samples_split': 2, 'xgbclassifier__n_estimators': 10}\n",
      "Best score:XGBClassifier 0.5510912375926252\n"
     ]
    },
    {
     "data": {
      "text/plain": [
       "{'LogisticRegression': {'C': 0.001,\n",
       "  'class_weight': 'balanced',\n",
       "  'intercept_scaling': 1,\n",
       "  'penalty': 'l2'},\n",
       " 'RandomForestClassifier': {'bootstrap': True,\n",
       "  'max_depth': 2,\n",
       "  'max_features': None,\n",
       "  'min_samples_leaf': 6,\n",
       "  'min_samples_split': 2,\n",
       "  'n_estimators': 500},\n",
       " 'XGBClassifier': {'bootstrap': True,\n",
       "  'max_depth': 2,\n",
       "  'max_features': None,\n",
       "  'min_samples_leaf': 1,\n",
       "  'min_samples_split': 2,\n",
       "  'n_estimators': 10}}"
      ]
     },
     "execution_count": 108,
     "metadata": {},
     "output_type": "execute_result"
    }
   ],
   "source": [
    "pipeline(XGBClassifier, parameters_xgb)"
   ]
  },
  {
   "cell_type": "code",
   "execution_count": null,
   "metadata": {},
   "outputs": [],
   "source": [
    "pipeline(RandomForestClassifier, parameters_rf)"
   ]
  },
  {
   "cell_type": "code",
   "execution_count": 102,
   "metadata": {},
   "outputs": [
    {
     "data": {
      "text/plain": [
       "{'LogisticRegression': {'C': 0.001,\n",
       "  'class_weight': 'balanced',\n",
       "  'intercept_scaling': 1,\n",
       "  'penalty': 'l2'},\n",
       " 'RandomForestClassifier': {'bootstrap': True,\n",
       "  'max_depth': 2,\n",
       "  'max_features': None,\n",
       "  'min_samples_leaf': 6,\n",
       "  'min_samples_split': 2,\n",
       "  'n_estimators': 500}}"
      ]
     },
     "execution_count": 102,
     "metadata": {},
     "output_type": "execute_result"
    }
   ],
   "source": [
    "results"
   ]
  },
  {
   "cell_type": "code",
   "execution_count": 104,
   "metadata": {},
   "outputs": [
    {
     "name": "stdout",
     "output_type": "stream",
     "text": [
      "f-score: 0.677710843373494\n",
      "f-score: 0.6288343558282208\n",
      "f-score: 0.6018518518518519\n",
      "f-score: 0.6031746031746033\n",
      "f-score: 0.7205882352941176\n",
      "f-score: 0.6583072100313478\n",
      "f-score: 0.6528189910979229\n",
      "f-score: 0.7418397626112758\n",
      "f-score: 0.6325301204819276\n",
      "f-score: 0.6050955414012739\n",
      "Mean f-score: 0.6522751515146036\n",
      "f-score: 0.6031746031746033\n",
      "f-score: 0.5188679245283018\n",
      "f-score: 0.517799352750809\n",
      "f-score: 0.5499999999999999\n",
      "f-score: 0.5732484076433121\n",
      "f-score: 0.5573248407643312\n",
      "f-score: 0.5681818181818181\n",
      "f-score: 0.5769230769230769\n",
      "f-score: 0.5763239875389408\n",
      "f-score: 0.5414012738853503\n",
      "Mean f-score: 0.5583245285390543\n"
     ]
    }
   ],
   "source": [
    "def kreuzvalidierung_manuel(modell, parameters):\n",
    "    f2_scores = []\n",
    "    for train_index, test_index in cv.split(X,y):\n",
    "        X_train = X.iloc[train_index]\n",
    "        y_train = y.iloc[train_index]  \n",
    "        X_test = X.iloc[test_index]\n",
    "        y_test = y.iloc[test_index]  \n",
    "        sm = SMOTE( n_jobs=-1)\n",
    "        X_train_oversampled, y_train_oversampled = sm.fit_resample(X_train, y_train)\n",
    "        model =  modell(random_state=42, **parameters)  # Choose a model here\n",
    "        model.fit(X_train_oversampled, y_train_oversampled)  \n",
    "        y_pred = model.predict(X_test)\n",
    "        print(f'f-score: {fbeta_score(y_test, y_pred, beta = 2)}')\n",
    "        f2_scores.append(fbeta_score(y_test, y_pred, beta = 2))\n",
    "        \n",
    "    print(f'Mean f-score: {statistics.mean(f2_scores)}')\n",
    "\n",
    "kreuzvalidierung_manuel(RandomForestClassifier, results[\"RandomForestClassifier\"])\n",
    "kreuzvalidierung_manuel(LogisticRegression, results[\"LogisticRegression\"])"
   ]
  },
  {
   "cell_type": "code",
   "execution_count": 110,
   "metadata": {},
   "outputs": [
    {
     "name": "stdout",
     "output_type": "stream",
     "text": [
      "[16:05:49] WARNING: C:/Users/Administrator/workspace/xgboost-win64_release_1.6.0/src/learner.cc:627: \n",
      "Parameters: { \"bootstrap\", \"min_samples_leaf\", \"min_samples_split\" } might not be used.\n",
      "\n",
      "  This could be a false alarm, with some parameters getting used by language bindings but\n",
      "  then being mistakenly passed down to XGBoost core, or some parameter actually being used\n",
      "  but getting flagged wrongly here. Please open an issue if you find any such cases.\n",
      "\n",
      "\n",
      "f-score: 0.6040268456375839\n",
      "[16:05:49] WARNING: C:/Users/Administrator/workspace/xgboost-win64_release_1.6.0/src/learner.cc:627: \n",
      "Parameters: { \"bootstrap\", \"min_samples_leaf\", \"min_samples_split\" } might not be used.\n",
      "\n",
      "  This could be a false alarm, with some parameters getting used by language bindings but\n",
      "  then being mistakenly passed down to XGBoost core, or some parameter actually being used\n",
      "  but getting flagged wrongly here. Please open an issue if you find any such cases.\n",
      "\n",
      "\n",
      "f-score: 0.5536912751677853\n",
      "[16:05:49] WARNING: C:/Users/Administrator/workspace/xgboost-win64_release_1.6.0/src/learner.cc:627: \n",
      "Parameters: { \"bootstrap\", \"min_samples_leaf\", \"min_samples_split\" } might not be used.\n",
      "\n",
      "  This could be a false alarm, with some parameters getting used by language bindings but\n",
      "  then being mistakenly passed down to XGBoost core, or some parameter actually being used\n",
      "  but getting flagged wrongly here. Please open an issue if you find any such cases.\n",
      "\n",
      "\n",
      "f-score: 0.546075085324232\n",
      "[16:05:49] WARNING: C:/Users/Administrator/workspace/xgboost-win64_release_1.6.0/src/learner.cc:627: \n",
      "Parameters: { \"bootstrap\", \"min_samples_leaf\", \"min_samples_split\" } might not be used.\n",
      "\n",
      "  This could be a false alarm, with some parameters getting used by language bindings but\n",
      "  then being mistakenly passed down to XGBoost core, or some parameter actually being used\n",
      "  but getting flagged wrongly here. Please open an issue if you find any such cases.\n",
      "\n",
      "\n",
      "f-score: 0.5762711864406779\n",
      "[16:05:49] WARNING: C:/Users/Administrator/workspace/xgboost-win64_release_1.6.0/src/learner.cc:627: \n",
      "Parameters: { \"bootstrap\", \"min_samples_leaf\", \"min_samples_split\" } might not be used.\n",
      "\n",
      "  This could be a false alarm, with some parameters getting used by language bindings but\n",
      "  then being mistakenly passed down to XGBoost core, or some parameter actually being used\n",
      "  but getting flagged wrongly here. Please open an issue if you find any such cases.\n",
      "\n",
      "\n",
      "f-score: 0.5729166666666666\n",
      "[16:05:49] WARNING: C:/Users/Administrator/workspace/xgboost-win64_release_1.6.0/src/learner.cc:627: \n",
      "Parameters: { \"bootstrap\", \"min_samples_leaf\", \"min_samples_split\" } might not be used.\n",
      "\n",
      "  This could be a false alarm, with some parameters getting used by language bindings but\n",
      "  then being mistakenly passed down to XGBoost core, or some parameter actually being used\n",
      "  but getting flagged wrongly here. Please open an issue if you find any such cases.\n",
      "\n",
      "\n",
      "f-score: 0.5704697986577182\n",
      "[16:05:49] WARNING: C:/Users/Administrator/workspace/xgboost-win64_release_1.6.0/src/learner.cc:627: \n",
      "Parameters: { \"bootstrap\", \"min_samples_leaf\", \"min_samples_split\" } might not be used.\n",
      "\n",
      "  This could be a false alarm, with some parameters getting used by language bindings but\n",
      "  then being mistakenly passed down to XGBoost core, or some parameter actually being used\n",
      "  but getting flagged wrongly here. Please open an issue if you find any such cases.\n",
      "\n",
      "\n",
      "f-score: 0.6351791530944625\n",
      "[16:05:50] WARNING: C:/Users/Administrator/workspace/xgboost-win64_release_1.6.0/src/learner.cc:627: \n",
      "Parameters: { \"bootstrap\", \"min_samples_leaf\", \"min_samples_split\" } might not be used.\n",
      "\n",
      "  This could be a false alarm, with some parameters getting used by language bindings but\n",
      "  then being mistakenly passed down to XGBoost core, or some parameter actually being used\n",
      "  but getting flagged wrongly here. Please open an issue if you find any such cases.\n",
      "\n",
      "\n",
      "f-score: 0.614334470989761\n",
      "[16:05:50] WARNING: C:/Users/Administrator/workspace/xgboost-win64_release_1.6.0/src/learner.cc:627: \n",
      "Parameters: { \"bootstrap\", \"min_samples_leaf\", \"min_samples_split\" } might not be used.\n",
      "\n",
      "  This could be a false alarm, with some parameters getting used by language bindings but\n",
      "  then being mistakenly passed down to XGBoost core, or some parameter actually being used\n",
      "  but getting flagged wrongly here. Please open an issue if you find any such cases.\n",
      "\n",
      "\n",
      "f-score: 0.5813953488372093\n",
      "[16:05:50] WARNING: C:/Users/Administrator/workspace/xgboost-win64_release_1.6.0/src/learner.cc:627: \n",
      "Parameters: { \"bootstrap\", \"min_samples_leaf\", \"min_samples_split\" } might not be used.\n",
      "\n",
      "  This could be a false alarm, with some parameters getting used by language bindings but\n",
      "  then being mistakenly passed down to XGBoost core, or some parameter actually being used\n",
      "  but getting flagged wrongly here. Please open an issue if you find any such cases.\n",
      "\n",
      "\n",
      "f-score: 0.5\n",
      "Mean f-score: 0.5754359830816097\n"
     ]
    }
   ],
   "source": [
    "kreuzvalidierung_manuel(XGBClassifier, results[\"XGBClassifier\"])"
   ]
  },
  {
   "cell_type": "markdown",
   "metadata": {},
   "source": [
    "# Over/Undersampling SMOTE"
   ]
  },
  {
   "cell_type": "code",
   "execution_count": 50,
   "metadata": {},
   "outputs": [],
   "source": [
    "# import smote from imbalanced-learn\n",
    "from imblearn.over_sampling import SMOTE\n"
   ]
  },
  {
   "cell_type": "code",
   "execution_count": null,
   "metadata": {},
   "outputs": [],
   "source": [
    "# create smote object\n",
    "smote = SMOTE(random_state=42,sampling_strategy=\"auto\", k_neighbors=10)\n",
    "# create smote train\n",
    "X_train_smote, y_train_smote = smote.fit_resample(X_train, y_train)"
   ]
  },
  {
   "cell_type": "code",
   "execution_count": null,
   "metadata": {},
   "outputs": [
    {
     "name": "stdout",
     "output_type": "stream",
     "text": [
      "Shape before SMOTE: (780, 60) (780,)\n",
      "Shape after SMOTE: (1110, 60) (1110,)\n"
     ]
    }
   ],
   "source": [
    "print(\"Shape before SMOTE:\", X_train.shape, y_train.shape)\n",
    "print(\"Shape after SMOTE:\", X_train_smote.shape, y_train_smote.shape)\n"
   ]
  },
  {
   "cell_type": "code",
   "execution_count": null,
   "metadata": {},
   "outputs": [
    {
     "name": "stdout",
     "output_type": "stream",
     "text": [
      "[0.70615565 0.70615565 0.70615565 0.70615565 0.70615565 0.70615565\n",
      " 0.70615565 0.70615565 0.73534738 0.73534738 0.73534738 0.73534738\n",
      " 0.73609208 0.73609208 0.73609208 0.73609208 0.75650799 0.75650799\n",
      " 0.75650799 0.75650799 0.75252951 0.75252951 0.75252951 0.75252951\n",
      " 0.76088632 0.76088632 0.76088632 0.76088632 0.74921928 0.74921928\n",
      " 0.74921928 0.74921928 0.75097725 0.75097725 0.75097725 0.75097725\n",
      " 0.74988576 0.74988576 0.74988576 0.74988576 0.75504907 0.75504907\n",
      " 0.75504907 0.75504907 0.74056586 0.74056586 0.74056586 0.74056586\n",
      " 0.73422226 0.73422226 0.73422226 0.73422226 0.7577223  0.7577223\n",
      " 0.7577223  0.7577223 ]\n",
      "Best hyperparameters: {'C': 1, 'class_weight': 'balanced', 'intercept_scaling': 1, 'penalty': 'l2'}\n",
      "Best score: 0.760886315085591\n",
      "0.5087719298245614\n"
     ]
    }
   ],
   "source": [
    "# grid search for logistic regression\n",
    "#tune hyperparameters\n",
    "parameters = {'C': [0.001, 0.01, 0.1, 1, 10, 100, 1000], 'penalty': [\"l2\"], 'intercept_scaling': [1, 10, 100, 1000], 'class_weight': [\"balanced\", None]}\n",
    "# create grid search object with cross validation\n",
    "grid_search = GridSearchCV(logistic_regression(X_train_smote, X_test, y_train_smote, y_test, hyperopt=True), parameters, cv=10, scoring=f2 ,n_jobs= -1)\n",
    "# fit the model\n",
    "grid_search.fit(X_train_smote, y_train_smote)\n",
    "\n",
    "print(grid_search.cv_results_['mean_test_score'])\n",
    "\n",
    "\n",
    "\n",
    "\n",
    "# print the best hyperparameters\n",
    "print(\"Best hyperparameters:\", grid_search.best_params_)\n",
    "print(\"Best score:\", grid_search.best_score_)\n",
    "# save best hyperparameters in variable\n",
    "logreg_best_parameters_smote = grid_search.best_params_\n",
    "\n",
    "# logistic regression classifier with best hyperparameters\n",
    "# create logistic regression classifier with best hyperparameters\n",
    "\n",
    "print(recall_score(y_test, grid_search.predict(X_test)))"
   ]
  },
  {
   "cell_type": "code",
   "execution_count": null,
   "metadata": {},
   "outputs": [
    {
     "data": {
      "text/plain": [
       "array([0.75229358, 0.77272727, 0.84532374, 0.74074074, 0.84086799,\n",
       "       0.83029197, 0.78610603, 0.78181818, 0.8076225 , 0.72097378])"
      ]
     },
     "execution_count": 42,
     "metadata": {},
     "output_type": "execute_result"
    }
   ],
   "source": [
    "clf_logreg_smote = LogisticRegression(random_state=42, **logreg_best_parameters_smote)\n",
    "# fit the model\n",
    "clf_logreg_smote.fit(X_train_smote, y_train_smote)\n",
    "# predict on test set\n",
    "y_pred_logreg_smote = clf_logreg_smote.predict(X_test)\n",
    "# print the f2 score\n",
    "cross_val_score(clf_logreg_smote, X_train_smote, y_train_smote, cv=cv, scoring=f2)"
   ]
  },
  {
   "cell_type": "code",
   "execution_count": null,
   "metadata": {},
   "outputs": [
    {
     "name": "stdout",
     "output_type": "stream",
     "text": [
      "----- Metric for 80/20 Split -----\n",
      "Accuracy score: 0.7487179487179487\n",
      "Recall score: 0.5517241379310345\n",
      "Precision score: 0.5818181818181818\n",
      "fbeta score: 0.5574912891986062\n",
      "----- Metric for Cross Validation -----\n",
      "Crossval score: 0.6248532256920957\n",
      "Crossval score: [0.63517915 0.625      0.62706271 0.60606061 0.66343042 0.67307692\n",
      " 0.64935065 0.61258278 0.58631922 0.5704698 ]\n",
      "(1110, 60) (1110,)\n"
     ]
    },
    {
     "data": {
      "image/png": "[encoded data removed]",
      "text/plain": [
       "<Figure size 432x288 with 1 Axes>"
      ]
     },
     "metadata": {
      "needs_background": "light"
     },
     "output_type": "display_data"
    },
    {
     "data": {
      "image/png": "[encoded data removed]",
      "text/plain": [
       "<Figure size 432x288 with 2 Axes>"
      ]
     },
     "metadata": {
      "needs_background": "light"
     },
     "output_type": "display_data"
    },
    {
     "data": {
      "text/html": [
       "<style>#sk-container-id-4 {color: black;background-color: white;}#sk-container-id-4 pre{padding: 0;}#sk-container-id-4 div.sk-toggleable {background-color: white;}#sk-container-id-4 label.sk-toggleable__label {cursor: pointer;display: block;width: 100%;margin-bottom: 0;padding: 0.3em;box-sizing: border-box;text-align: center;}#sk-container-id-4 label.sk-toggleable__label-arrow:before {content: \"▸\";float: left;margin-right: 0.25em;color: #696969;}#sk-container-id-4 label.sk-toggleable__label-arrow:hover:before {color: black;}#sk-container-id-4 div.sk-estimator:hover label.sk-toggleable__label-arrow:before {color: black;}#sk-container-id-4 div.sk-toggleable__content {max-height: 0;max-width: 0;overflow: hidden;text-align: left;background-color: #f0f8ff;}#sk-container-id-4 div.sk-toggleable__content pre {margin: 0.2em;color: black;border-radius: 0.25em;background-color: #f0f8ff;}#sk-container-id-4 input.sk-toggleable__control:checked~div.sk-toggleable__content {max-height: 200px;max-width: 100%;overflow: auto;}#sk-container-id-4 input.sk-toggleable__control:checked~label.sk-toggleable__label-arrow:before {content: \"▾\";}#sk-container-id-4 div.sk-estimator input.sk-toggleable__control:checked~label.sk-toggleable__label {background-color: #d4ebff;}#sk-container-id-4 div.sk-label input.sk-toggleable__control:checked~label.sk-toggleable__label {background-color: #d4ebff;}#sk-container-id-4 input.sk-hidden--visually {border: 0;clip: rect(1px 1px 1px 1px);clip: rect(1px, 1px, 1px, 1px);height: 1px;margin: -1px;overflow: hidden;padding: 0;position: absolute;width: 1px;}#sk-container-id-4 div.sk-estimator {font-family: monospace;background-color: #f0f8ff;border: 1px dotted black;border-radius: 0.25em;box-sizing: border-box;margin-bottom: 0.5em;}#sk-container-id-4 div.sk-estimator:hover {background-color: #d4ebff;}#sk-container-id-4 div.sk-parallel-item::after {content: \"\";width: 100%;border-bottom: 1px solid gray;flex-grow: 1;}#sk-container-id-4 div.sk-label:hover label.sk-toggleable__label {background-color: #d4ebff;}#sk-container-id-4 div.sk-serial::before {content: \"\";position: absolute;border-left: 1px solid gray;box-sizing: border-box;top: 0;bottom: 0;left: 50%;z-index: 0;}#sk-container-id-4 div.sk-serial {display: flex;flex-direction: column;align-items: center;background-color: white;padding-right: 0.2em;padding-left: 0.2em;position: relative;}#sk-container-id-4 div.sk-item {position: relative;z-index: 1;}#sk-container-id-4 div.sk-parallel {display: flex;align-items: stretch;justify-content: center;background-color: white;position: relative;}#sk-container-id-4 div.sk-item::before, #sk-container-id-4 div.sk-parallel-item::before {content: \"\";position: absolute;border-left: 1px solid gray;box-sizing: border-box;top: 0;bottom: 0;left: 50%;z-index: -1;}#sk-container-id-4 div.sk-parallel-item {display: flex;flex-direction: column;z-index: 1;position: relative;background-color: white;}#sk-container-id-4 div.sk-parallel-item:first-child::after {align-self: flex-end;width: 50%;}#sk-container-id-4 div.sk-parallel-item:last-child::after {align-self: flex-start;width: 50%;}#sk-container-id-4 div.sk-parallel-item:only-child::after {width: 0;}#sk-container-id-4 div.sk-dashed-wrapped {border: 1px dashed gray;margin: 0 0.4em 0.5em 0.4em;box-sizing: border-box;padding-bottom: 0.4em;background-color: white;}#sk-container-id-4 div.sk-label label {font-family: monospace;font-weight: bold;display: inline-block;line-height: 1.2em;}#sk-container-id-4 div.sk-label-container {text-align: center;}#sk-container-id-4 div.sk-container {/* jupyter's `normalize.less` sets `[hidden] { display: none; }` but bootstrap.min.css set `[hidden] { display: none !important; }` so we also need the `!important` here to be able to override the default hidden behavior on the sphinx rendered scikit-learn.org. See: https://github.com/scikit-learn/scikit-learn/issues/21755 */display: inline-block !important;position: relative;}#sk-container-id-4 div.sk-text-repr-fallback {display: none;}</style><div id=\"sk-container-id-4\" class=\"sk-top-container\"><div class=\"sk-text-repr-fallback\"><pre>LogisticRegression(C=1, class_weight=&#x27;balanced&#x27;, random_state=42)</pre><b>In a Jupyter environment, please rerun this cell to show the HTML representation or trust the notebook. <br />On GitHub, the HTML representation is unable to render, please try loading this page with nbviewer.org.</b></div><div class=\"sk-container\" hidden><div class=\"sk-item\"><div class=\"sk-estimator sk-toggleable\"><input class=\"sk-toggleable__control sk-hidden--visually\" id=\"sk-estimator-id-4\" type=\"checkbox\" checked><label for=\"sk-estimator-id-4\" class=\"sk-toggleable__label sk-toggleable__label-arrow\">LogisticRegression</label><div class=\"sk-toggleable__content\"><pre>LogisticRegression(C=1, class_weight=&#x27;balanced&#x27;, random_state=42)</pre></div></div></div></div></div>"
      ],
      "text/plain": [
       "LogisticRegression(C=1, class_weight='balanced', random_state=42)"
      ]
     },
     "execution_count": 24,
     "metadata": {},
     "output_type": "execute_result"
    }
   ],
   "source": [
    "logistic_regression(X_train_smote, X_test, y_train_smote, y_test, hyperopt=False, parameters=logreg_best_parameters_smote)"
   ]
  },
  {
   "cell_type": "code",
   "execution_count": null,
   "metadata": {},
   "outputs": [
    {
     "ename": "KeyboardInterrupt",
     "evalue": "",
     "output_type": "error",
     "traceback": [
      "\u001b[1;31m---------------------------------------------------------------------------\u001b[0m",
      "\u001b[1;31mKeyboardInterrupt\u001b[0m                         Traceback (most recent call last)",
      "\u001b[1;32m~\\AppData\\Local\\Temp/ipykernel_50628/3662639337.py\u001b[0m in \u001b[0;36m<module>\u001b[1;34m\u001b[0m\n\u001b[0;32m      5\u001b[0m \u001b[0mgrid_search\u001b[0m \u001b[1;33m=\u001b[0m \u001b[0mGridSearchCV\u001b[0m\u001b[1;33m(\u001b[0m\u001b[0mrandom_forest\u001b[0m\u001b[1;33m(\u001b[0m\u001b[0mX_train_smote\u001b[0m\u001b[1;33m,\u001b[0m \u001b[0mX_test\u001b[0m\u001b[1;33m,\u001b[0m \u001b[0my_train_smote\u001b[0m\u001b[1;33m,\u001b[0m \u001b[0my_test\u001b[0m\u001b[1;33m,\u001b[0m \u001b[0mhyperopt\u001b[0m\u001b[1;33m=\u001b[0m\u001b[1;32mTrue\u001b[0m\u001b[1;33m)\u001b[0m\u001b[1;33m,\u001b[0m \u001b[0mparameters\u001b[0m\u001b[1;33m,\u001b[0m \u001b[0mcv\u001b[0m\u001b[1;33m=\u001b[0m\u001b[0mcv\u001b[0m\u001b[1;33m,\u001b[0m \u001b[0mscoring\u001b[0m\u001b[1;33m=\u001b[0m\u001b[0mf2\u001b[0m \u001b[1;33m,\u001b[0m\u001b[0mn_jobs\u001b[0m\u001b[1;33m=\u001b[0m \u001b[1;33m-\u001b[0m\u001b[1;36m1\u001b[0m\u001b[1;33m)\u001b[0m\u001b[1;33m\u001b[0m\u001b[1;33m\u001b[0m\u001b[0m\n\u001b[0;32m      6\u001b[0m \u001b[1;31m# fit the model\u001b[0m\u001b[1;33m\u001b[0m\u001b[1;33m\u001b[0m\u001b[0m\n\u001b[1;32m----> 7\u001b[1;33m \u001b[0mgrid_search\u001b[0m\u001b[1;33m.\u001b[0m\u001b[0mfit\u001b[0m\u001b[1;33m(\u001b[0m\u001b[0mX_train_smote\u001b[0m\u001b[1;33m,\u001b[0m \u001b[0my_train_smote\u001b[0m\u001b[1;33m)\u001b[0m\u001b[1;33m\u001b[0m\u001b[1;33m\u001b[0m\u001b[0m\n\u001b[0m\u001b[0;32m      8\u001b[0m \u001b[1;31m# print the best hyperparameters\u001b[0m\u001b[1;33m\u001b[0m\u001b[1;33m\u001b[0m\u001b[0m\n\u001b[0;32m      9\u001b[0m \u001b[0mprint\u001b[0m\u001b[1;33m(\u001b[0m\u001b[1;34m\"Best hyperparameters:\"\u001b[0m\u001b[1;33m,\u001b[0m \u001b[0mgrid_search\u001b[0m\u001b[1;33m.\u001b[0m\u001b[0mbest_params_\u001b[0m\u001b[1;33m)\u001b[0m\u001b[1;33m\u001b[0m\u001b[1;33m\u001b[0m\u001b[0m\n",
      "\u001b[1;32mc:\\Users\\hornd\\AppData\\Local\\R-MINI~1\\envs\\pyml\\lib\\site-packages\\sklearn\\model_selection\\_search.py\u001b[0m in \u001b[0;36mfit\u001b[1;34m(self, X, y, groups, **fit_params)\u001b[0m\n\u001b[0;32m    873\u001b[0m                 \u001b[1;32mreturn\u001b[0m \u001b[0mresults\u001b[0m\u001b[1;33m\u001b[0m\u001b[1;33m\u001b[0m\u001b[0m\n\u001b[0;32m    874\u001b[0m \u001b[1;33m\u001b[0m\u001b[0m\n\u001b[1;32m--> 875\u001b[1;33m             \u001b[0mself\u001b[0m\u001b[1;33m.\u001b[0m\u001b[0m_run_search\u001b[0m\u001b[1;33m(\u001b[0m\u001b[0mevaluate_candidates\u001b[0m\u001b[1;33m)\u001b[0m\u001b[1;33m\u001b[0m\u001b[1;33m\u001b[0m\u001b[0m\n\u001b[0m\u001b[0;32m    876\u001b[0m \u001b[1;33m\u001b[0m\u001b[0m\n\u001b[0;32m    877\u001b[0m             \u001b[1;31m# multimetric is determined here because in the case of a callable\u001b[0m\u001b[1;33m\u001b[0m\u001b[1;33m\u001b[0m\u001b[0m\n",
      "\u001b[1;32mc:\\Users\\hornd\\AppData\\Local\\R-MINI~1\\envs\\pyml\\lib\\site-packages\\sklearn\\model_selection\\_search.py\u001b[0m in \u001b[0;36m_run_search\u001b[1;34m(self, evaluate_candidates)\u001b[0m\n\u001b[0;32m   1373\u001b[0m     \u001b[1;32mdef\u001b[0m \u001b[0m_run_search\u001b[0m\u001b[1;33m(\u001b[0m\u001b[0mself\u001b[0m\u001b[1;33m,\u001b[0m \u001b[0mevaluate_candidates\u001b[0m\u001b[1;33m)\u001b[0m\u001b[1;33m:\u001b[0m\u001b[1;33m\u001b[0m\u001b[1;33m\u001b[0m\u001b[0m\n\u001b[0;32m   1374\u001b[0m         \u001b[1;34m\"\"\"Search all candidates in param_grid\"\"\"\u001b[0m\u001b[1;33m\u001b[0m\u001b[1;33m\u001b[0m\u001b[0m\n\u001b[1;32m-> 1375\u001b[1;33m         \u001b[0mevaluate_candidates\u001b[0m\u001b[1;33m(\u001b[0m\u001b[0mParameterGrid\u001b[0m\u001b[1;33m(\u001b[0m\u001b[0mself\u001b[0m\u001b[1;33m.\u001b[0m\u001b[0mparam_grid\u001b[0m\u001b[1;33m)\u001b[0m\u001b[1;33m)\u001b[0m\u001b[1;33m\u001b[0m\u001b[1;33m\u001b[0m\u001b[0m\n\u001b[0m\u001b[0;32m   1376\u001b[0m \u001b[1;33m\u001b[0m\u001b[0m\n\u001b[0;32m   1377\u001b[0m \u001b[1;33m\u001b[0m\u001b[0m\n",
      "\u001b[1;32mc:\\Users\\hornd\\AppData\\Local\\R-MINI~1\\envs\\pyml\\lib\\site-packages\\sklearn\\model_selection\\_search.py\u001b[0m in \u001b[0;36mevaluate_candidates\u001b[1;34m(candidate_params, cv, more_results)\u001b[0m\n\u001b[0;32m    820\u001b[0m                     )\n\u001b[0;32m    821\u001b[0m \u001b[1;33m\u001b[0m\u001b[0m\n\u001b[1;32m--> 822\u001b[1;33m                 out = parallel(\n\u001b[0m\u001b[0;32m    823\u001b[0m                     delayed(_fit_and_score)(\n\u001b[0;32m    824\u001b[0m                         \u001b[0mclone\u001b[0m\u001b[1;33m(\u001b[0m\u001b[0mbase_estimator\u001b[0m\u001b[1;33m)\u001b[0m\u001b[1;33m,\u001b[0m\u001b[1;33m\u001b[0m\u001b[1;33m\u001b[0m\u001b[0m\n",
      "\u001b[1;32mc:\\Users\\hornd\\AppData\\Local\\R-MINI~1\\envs\\pyml\\lib\\site-packages\\joblib\\parallel.py\u001b[0m in \u001b[0;36m__call__\u001b[1;34m(self, iterable)\u001b[0m\n\u001b[0;32m   1054\u001b[0m \u001b[1;33m\u001b[0m\u001b[0m\n\u001b[0;32m   1055\u001b[0m             \u001b[1;32mwith\u001b[0m \u001b[0mself\u001b[0m\u001b[1;33m.\u001b[0m\u001b[0m_backend\u001b[0m\u001b[1;33m.\u001b[0m\u001b[0mretrieval_context\u001b[0m\u001b[1;33m(\u001b[0m\u001b[1;33m)\u001b[0m\u001b[1;33m:\u001b[0m\u001b[1;33m\u001b[0m\u001b[1;33m\u001b[0m\u001b[0m\n\u001b[1;32m-> 1056\u001b[1;33m                 \u001b[0mself\u001b[0m\u001b[1;33m.\u001b[0m\u001b[0mretrieve\u001b[0m\u001b[1;33m(\u001b[0m\u001b[1;33m)\u001b[0m\u001b[1;33m\u001b[0m\u001b[1;33m\u001b[0m\u001b[0m\n\u001b[0m\u001b[0;32m   1057\u001b[0m             \u001b[1;31m# Make sure that we get a last message telling us we are done\u001b[0m\u001b[1;33m\u001b[0m\u001b[1;33m\u001b[0m\u001b[0m\n\u001b[0;32m   1058\u001b[0m             \u001b[0melapsed_time\u001b[0m \u001b[1;33m=\u001b[0m \u001b[0mtime\u001b[0m\u001b[1;33m.\u001b[0m\u001b[0mtime\u001b[0m\u001b[1;33m(\u001b[0m\u001b[1;33m)\u001b[0m \u001b[1;33m-\u001b[0m \u001b[0mself\u001b[0m\u001b[1;33m.\u001b[0m\u001b[0m_start_time\u001b[0m\u001b[1;33m\u001b[0m\u001b[1;33m\u001b[0m\u001b[0m\n",
      "\u001b[1;32mc:\\Users\\hornd\\AppData\\Local\\R-MINI~1\\envs\\pyml\\lib\\site-packages\\joblib\\parallel.py\u001b[0m in \u001b[0;36mretrieve\u001b[1;34m(self)\u001b[0m\n\u001b[0;32m    933\u001b[0m             \u001b[1;32mtry\u001b[0m\u001b[1;33m:\u001b[0m\u001b[1;33m\u001b[0m\u001b[1;33m\u001b[0m\u001b[0m\n\u001b[0;32m    934\u001b[0m                 \u001b[1;32mif\u001b[0m \u001b[0mgetattr\u001b[0m\u001b[1;33m(\u001b[0m\u001b[0mself\u001b[0m\u001b[1;33m.\u001b[0m\u001b[0m_backend\u001b[0m\u001b[1;33m,\u001b[0m \u001b[1;34m'supports_timeout'\u001b[0m\u001b[1;33m,\u001b[0m \u001b[1;32mFalse\u001b[0m\u001b[1;33m)\u001b[0m\u001b[1;33m:\u001b[0m\u001b[1;33m\u001b[0m\u001b[1;33m\u001b[0m\u001b[0m\n\u001b[1;32m--> 935\u001b[1;33m                     \u001b[0mself\u001b[0m\u001b[1;33m.\u001b[0m\u001b[0m_output\u001b[0m\u001b[1;33m.\u001b[0m\u001b[0mextend\u001b[0m\u001b[1;33m(\u001b[0m\u001b[0mjob\u001b[0m\u001b[1;33m.\u001b[0m\u001b[0mget\u001b[0m\u001b[1;33m(\u001b[0m\u001b[0mtimeout\u001b[0m\u001b[1;33m=\u001b[0m\u001b[0mself\u001b[0m\u001b[1;33m.\u001b[0m\u001b[0mtimeout\u001b[0m\u001b[1;33m)\u001b[0m\u001b[1;33m)\u001b[0m\u001b[1;33m\u001b[0m\u001b[1;33m\u001b[0m\u001b[0m\n\u001b[0m\u001b[0;32m    936\u001b[0m                 \u001b[1;32melse\u001b[0m\u001b[1;33m:\u001b[0m\u001b[1;33m\u001b[0m\u001b[1;33m\u001b[0m\u001b[0m\n\u001b[0;32m    937\u001b[0m                     \u001b[0mself\u001b[0m\u001b[1;33m.\u001b[0m\u001b[0m_output\u001b[0m\u001b[1;33m.\u001b[0m\u001b[0mextend\u001b[0m\u001b[1;33m(\u001b[0m\u001b[0mjob\u001b[0m\u001b[1;33m.\u001b[0m\u001b[0mget\u001b[0m\u001b[1;33m(\u001b[0m\u001b[1;33m)\u001b[0m\u001b[1;33m)\u001b[0m\u001b[1;33m\u001b[0m\u001b[1;33m\u001b[0m\u001b[0m\n",
      "\u001b[1;32mc:\\Users\\hornd\\AppData\\Local\\R-MINI~1\\envs\\pyml\\lib\\site-packages\\joblib\\_parallel_backends.py\u001b[0m in \u001b[0;36mwrap_future_result\u001b[1;34m(future, timeout)\u001b[0m\n\u001b[0;32m    540\u001b[0m         AsyncResults.get from multiprocessing.\"\"\"\n\u001b[0;32m    541\u001b[0m         \u001b[1;32mtry\u001b[0m\u001b[1;33m:\u001b[0m\u001b[1;33m\u001b[0m\u001b[1;33m\u001b[0m\u001b[0m\n\u001b[1;32m--> 542\u001b[1;33m             \u001b[1;32mreturn\u001b[0m \u001b[0mfuture\u001b[0m\u001b[1;33m.\u001b[0m\u001b[0mresult\u001b[0m\u001b[1;33m(\u001b[0m\u001b[0mtimeout\u001b[0m\u001b[1;33m=\u001b[0m\u001b[0mtimeout\u001b[0m\u001b[1;33m)\u001b[0m\u001b[1;33m\u001b[0m\u001b[1;33m\u001b[0m\u001b[0m\n\u001b[0m\u001b[0;32m    543\u001b[0m         \u001b[1;32mexcept\u001b[0m \u001b[0mCfTimeoutError\u001b[0m \u001b[1;32mas\u001b[0m \u001b[0me\u001b[0m\u001b[1;33m:\u001b[0m\u001b[1;33m\u001b[0m\u001b[1;33m\u001b[0m\u001b[0m\n\u001b[0;32m    544\u001b[0m             \u001b[1;32mraise\u001b[0m \u001b[0mTimeoutError\u001b[0m \u001b[1;32mfrom\u001b[0m \u001b[0me\u001b[0m\u001b[1;33m\u001b[0m\u001b[1;33m\u001b[0m\u001b[0m\n",
      "\u001b[1;32mc:\\Users\\hornd\\AppData\\Local\\R-MINI~1\\envs\\pyml\\lib\\concurrent\\futures\\_base.py\u001b[0m in \u001b[0;36mresult\u001b[1;34m(self, timeout)\u001b[0m\n\u001b[0;32m    439\u001b[0m                     \u001b[1;32mreturn\u001b[0m \u001b[0mself\u001b[0m\u001b[1;33m.\u001b[0m\u001b[0m__get_result\u001b[0m\u001b[1;33m(\u001b[0m\u001b[1;33m)\u001b[0m\u001b[1;33m\u001b[0m\u001b[1;33m\u001b[0m\u001b[0m\n\u001b[0;32m    440\u001b[0m \u001b[1;33m\u001b[0m\u001b[0m\n\u001b[1;32m--> 441\u001b[1;33m                 \u001b[0mself\u001b[0m\u001b[1;33m.\u001b[0m\u001b[0m_condition\u001b[0m\u001b[1;33m.\u001b[0m\u001b[0mwait\u001b[0m\u001b[1;33m(\u001b[0m\u001b[0mtimeout\u001b[0m\u001b[1;33m)\u001b[0m\u001b[1;33m\u001b[0m\u001b[1;33m\u001b[0m\u001b[0m\n\u001b[0m\u001b[0;32m    442\u001b[0m \u001b[1;33m\u001b[0m\u001b[0m\n\u001b[0;32m    443\u001b[0m                 \u001b[1;32mif\u001b[0m \u001b[0mself\u001b[0m\u001b[1;33m.\u001b[0m\u001b[0m_state\u001b[0m \u001b[1;32min\u001b[0m \u001b[1;33m[\u001b[0m\u001b[0mCANCELLED\u001b[0m\u001b[1;33m,\u001b[0m \u001b[0mCANCELLED_AND_NOTIFIED\u001b[0m\u001b[1;33m]\u001b[0m\u001b[1;33m:\u001b[0m\u001b[1;33m\u001b[0m\u001b[1;33m\u001b[0m\u001b[0m\n",
      "\u001b[1;32mc:\\Users\\hornd\\AppData\\Local\\R-MINI~1\\envs\\pyml\\lib\\threading.py\u001b[0m in \u001b[0;36mwait\u001b[1;34m(self, timeout)\u001b[0m\n\u001b[0;32m    310\u001b[0m         \u001b[1;32mtry\u001b[0m\u001b[1;33m:\u001b[0m    \u001b[1;31m# restore state no matter what (e.g., KeyboardInterrupt)\u001b[0m\u001b[1;33m\u001b[0m\u001b[1;33m\u001b[0m\u001b[0m\n\u001b[0;32m    311\u001b[0m             \u001b[1;32mif\u001b[0m \u001b[0mtimeout\u001b[0m \u001b[1;32mis\u001b[0m \u001b[1;32mNone\u001b[0m\u001b[1;33m:\u001b[0m\u001b[1;33m\u001b[0m\u001b[1;33m\u001b[0m\u001b[0m\n\u001b[1;32m--> 312\u001b[1;33m                 \u001b[0mwaiter\u001b[0m\u001b[1;33m.\u001b[0m\u001b[0macquire\u001b[0m\u001b[1;33m(\u001b[0m\u001b[1;33m)\u001b[0m\u001b[1;33m\u001b[0m\u001b[1;33m\u001b[0m\u001b[0m\n\u001b[0m\u001b[0;32m    313\u001b[0m                 \u001b[0mgotit\u001b[0m \u001b[1;33m=\u001b[0m \u001b[1;32mTrue\u001b[0m\u001b[1;33m\u001b[0m\u001b[1;33m\u001b[0m\u001b[0m\n\u001b[0;32m    314\u001b[0m             \u001b[1;32melse\u001b[0m\u001b[1;33m:\u001b[0m\u001b[1;33m\u001b[0m\u001b[1;33m\u001b[0m\u001b[0m\n",
      "\u001b[1;31mKeyboardInterrupt\u001b[0m: "
     ]
    }
   ],
   "source": [
    "# grid search for random forest\n",
    "#tune hyperparameters\n",
    "parameters = {'n_estimators': [10, 100, 500], 'max_depth': [None, 2, 4, 6, 8, 10, 12, 14, 16, 18, 20], 'max_features': [None, \"auto\", \"sqrt\", \"log2\"], 'min_samples_split': [2, 4, 6, 8, 10], 'min_samples_leaf': [1, 2, 4, 6, 8], 'bootstrap': [True, False]}\n",
    "# create grid search object with cross validation\n",
    "grid_search = GridSearchCV(random_forest(X_train_smote, X_test, y_train_smote, y_test, hyperopt=True), parameters, cv=cv, scoring=f2 ,n_jobs= -1)\n",
    "# fit the model\n",
    "grid_search.fit(X_train_smote, y_train_smote)\n",
    "# print the best hyperparameters\n",
    "print(\"Best hyperparameters:\", grid_search.best_params_)\n",
    "print(\"Best score:\", grid_search.best_score_)\n",
    "# save best hyperparameters in variable\n",
    "rf_best_parameters_smote = grid_search.best_params_\n"
   ]
  },
  {
   "cell_type": "code",
   "execution_count": null,
   "metadata": {},
   "outputs": [],
   "source": [
    "random_forest(X_train_smote, X_test, y_train_smote, y_test, hyperopt=False, parameters=rf_best_parameters_smote)"
   ]
  },
  {
   "cell_type": "code",
   "execution_count": null,
   "metadata": {},
   "outputs": [],
   "source": [
    "f2_scores = []\n",
    "for train_index, test_index in cv.split(X,y):\n",
    "    X_train = X.iloc[train_index]\n",
    "    y_train = y.iloc[train_index]  \n",
    "    X_test = X.iloc[test_index]\n",
    "    y_test = y.iloc[test_index]  \n",
    "    sm = SMOTE(sampling_strategy=\"minority\",random_state=42, k_neighbors=5 , n_jobs=-1)\n",
    "    X_train_oversampled, y_train_oversampled = sm.fit_resample(X_train, y_train)\n",
    "    model =  random_forest(X_train_oversampled, X_test, y_train_oversampled, y_test,hyperopt=True, **parameters)  # Choose a model here\n",
    "    model.fit(X_train_oversampled, y_train_oversampled)  \n",
    "    y_pred = model.predict(X_test)\n",
    "    print(f'f-score: {fbeta_score(y_test, y_pred, beta = 2)}')\n",
    "    f2_scores.append(fbeta_score(y_test, y_pred, beta = 2))\n",
    "    \n",
    "print(f'Mean f-score: {statistics.mean(f2_scores)}')"
   ]
  },
  {
   "cell_type": "markdown",
   "metadata": {},
   "source": [
    "# xGboost"
   ]
  },
  {
   "cell_type": "code",
   "execution_count": null,
   "metadata": {},
   "outputs": [],
   "source": [
    "# grid search for logistic regression\n",
    "#tune hyperparameters\n",
    "parameters = {'n_estimators': [10, 100, 500], 'max_depth': [None, 2, 4, 6, 8, 10, 12, 14, 16, 18, 20], 'max_features': [None, \"auto\", \"sqrt\", \"log2\"], 'min_samples_split': [2, 4, 6, 8, 10], 'min_samples_leaf': [1, 2, 4, 6, 8], 'bootstrap': [True, False]}\n",
    "\n",
    "# create grid search object with cross validation\n",
    "grid_search = GridSearchCV(xgboost(X_train_smote, X_test, y_train_smote, y_test, hyperopt=True), parameters, cv=cv, scoring=f2 ,n_jobs= -1)\n",
    "# fit the model\n",
    "grid_search.fit(X_train_smote, y_train_smote)\n",
    "# print the best hyperparameters\n",
    "print(\"Best hyperparameters:\", grid_search.best_params_)\n",
    "print(\"Best score:\", grid_search.best_score_)\n",
    "# save best hyperparameters in variable\n",
    "xgb_best_parameters_smote = grid_search.best_params_"
   ]
  },
  {
   "cell_type": "code",
   "execution_count": null,
   "metadata": {},
   "outputs": [],
   "source": [
    "f2_scores = []\n",
    "for train_index, test_index in cv.split(X,y):\n",
    "    X_train = X.iloc[train_index]\n",
    "    y_train = y.iloc[train_index]  \n",
    "    X_test = X.iloc[test_index]\n",
    "    y_test = y.iloc[test_index]  \n",
    "    sm = SMOTE(sampling_strategy=\"minority\",random_state=42, k_neighbors=5 , n_jobs=-1)\n",
    "    X_train_oversampled, y_train_oversampled = sm.fit_resample(X_train, y_train)\n",
    "    model =  xgboost(X_train_oversampled, X_test, y_train_oversampled, y_test,hyperopt=True, **parameters)  # Choose a model here\n",
    "    model.fit(X_train_oversampled, y_train_oversampled)  \n",
    "    y_pred = model.predict(X_test)\n",
    "    print(f'f-score: {fbeta_score(y_test, y_pred, beta = 2)}')\n",
    "    f2_scores.append(fbeta_score(y_test, y_pred, beta = 2))\n",
    "    \n",
    "print(f'Mean f-score: {statistics.mean(f2_scores)}')"
   ]
  },
  {
   "cell_type": "markdown",
   "metadata": {},
   "source": [
    "# Neuronale Netze SMOTE"
   ]
  },
  {
   "cell_type": "markdown",
   "metadata": {},
   "source": [
    "# Exkurs Explainable AI"
   ]
  },
  {
   "cell_type": "code",
   "execution_count": null,
   "metadata": {},
   "outputs": [],
   "source": [
    "import wittgenstein as lw\n",
    "from wittgenstein.ripper import RIPPER\n",
    "from wittgenstein.interpret import interpret_model, score_fidelity\n",
    "from sklearn.metrics import precision_score, recall_score, f1_score\n",
    "from sklearn.model_selection import train_test_split\n",
    "from sklearn.metrics import precision_score, recall_score, accuracy_score, f1_score\n",
    "from sklearn.model_selection import cross_val_score, cross_val_predict\n"
   ]
  },
  {
   "cell_type": "code",
   "execution_count": null,
   "metadata": {},
   "outputs": [],
   "source": [
    "# load data to pandas dataframe\n",
    "ripper_data = pd.read_csv(\"german_data_ripper.csv\")"
   ]
  },
  {
   "cell_type": "code",
   "execution_count": null,
   "metadata": {},
   "outputs": [],
   "source": [
    "\n",
    "\n",
    "\n",
    "# split features and target\n",
    "X = ripper_data.drop(['Target'], axis=1)\n",
    "y = ripper_data['Target']"
   ]
  },
  {
   "cell_type": "code",
   "execution_count": null,
   "metadata": {},
   "outputs": [],
   "source": [
    "# train test split\n",
    "X_train, X_test, y_train, y_test = train_test_split(X,y, test_size=0.2, random_state=42)"
   ]
  },
  {
   "cell_type": "markdown",
   "metadata": {},
   "source": []
  },
  {
   "cell_type": "code",
   "execution_count": null,
   "metadata": {},
   "outputs": [],
   "source": [
    "# funktion for fitting Ripper model\n",
    "def ripper(X_train, X_test, y_train, y_test):\n",
    "    # create ripper object\n",
    "    ripper = lw.RIPPER(random_state=42,k=3, dl_allowance=64, n_discretize_bins=10, verbosity=0)\n",
    "    # fit the model\n",
    "    ripper.fit(X_train, y_train)\n",
    "    # predict the target variable\n",
    "    y_pred = ripper.predict(X_test)\n",
    "    # print accuracy score and recall score\n",
    "    metrics(X,y,y_test, y_pred, crossval=True, modell=ripper)\n",
    "\n",
    "    metrics_dict_non_opt(y_test, y_pred, \"Ripper\", ripper)\n",
    "\n",
    "   \n",
    "    ripper.out_model()\n",
    "\n",
    "    plot_roc_curve(y_test, y_pred,\"Ripper\")\n",
    "    plot_confusion_matrix(y_test,y_pred,\"Ripper\")\n",
    "    "
   ]
  },
  {
   "cell_type": "code",
   "execution_count": null,
   "metadata": {},
   "outputs": [],
   "source": [
    "ripper(X_train, X_test, y_train, y_test)"
   ]
  },
  {
   "cell_type": "code",
   "execution_count": null,
   "metadata": {},
   "outputs": [],
   "source": []
  },
  {
   "cell_type": "code",
   "execution_count": null,
   "metadata": {},
   "outputs": [],
   "source": []
  }
 ],
 "metadata": {
  "kernelspec": {
   "display_name": "Python 3.9.13 ('pyml')",
   "language": "python",
   "name": "python3"
  },
  "language_info": {
   "codemirror_mode": {
    "name": "ipython",
    "version": 3
   },
   "file_extension": ".py",
   "mimetype": "text/x-python",
   "name": "python",
   "nbconvert_exporter": "python",
   "pygments_lexer": "ipython3",
   "version": "3.9.13"
  },
  "orig_nbformat": 4,
  "vscode": {
   "interpreter": {
    "hash": "81c0c3b0c60f05152350124d7f4c066f9aabd4ebc0cecf0df048bc22ec2ec965"
   }
  }
 },
 "nbformat": 4,
 "nbformat_minor": 2
}
