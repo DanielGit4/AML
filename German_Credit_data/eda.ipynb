{
 "cells": [
  {
   "cell_type": "code",
   "execution_count": 2,
   "metadata": {},
   "outputs": [],
   "source": [
    "import pandas as pd\n",
    "import numpy as np\n",
    "\n",
    "# import matplotlib.pyplot as plt\n",
    "import seaborn as sns\n",
    "import matplotlib.pyplot as plt\n",
    "import json \n",
    "\n",
    "# import plotly \n"
   ]
  },
  {
   "cell_type": "markdown",
   "metadata": {},
   "source": [
    "# Load the Dataset"
   ]
  },
  {
   "cell_type": "markdown",
   "metadata": {},
   "source": [
    "# Da die Attributsnamen kodiert sind werden diese zu erst mithilfe der zugehörigen Dokumentation ersetzt. (Siehe Categorical.json)\n"
   ]
  },
  {
   "cell_type": "code",
   "execution_count": 3,
   "metadata": {},
   "outputs": [],
   "source": [
    "file_path = \"../German_Credit_data/Data/german.data\"\n",
    "\n",
    "names = ['Status Checking', 'Duration in Month', 'Credit History', 'Purpose', 'Credit Amount', \n",
    "         'Savings Account', 'Employement since', 'Installmentrate %', 'StatusSex', 'Otherdebtos', \n",
    "         'PresentResidence', 'Property', 'Age in years', 'Otherinstallment Plans', 'Housing', \n",
    "         'Number existing Credits', 'Job', 'Number people liable', 'Telephone', 'Foreign Worker', 'Target']\n",
    "german_data = pd.read_csv(file_path,names=names,delim_whitespace=True, header=None)\n",
    "catgories = open('../German_Credit_data/Data/categorical.json')\n",
    "json_data = json.load(catgories)\n",
    "json_data\n",
    "for h in names:\n",
    "    if h in json_data:\n",
    "        german_data[h] = german_data[h].map(json_data[h])"
   ]
  },
  {
   "cell_type": "code",
   "execution_count": 4,
   "metadata": {},
   "outputs": [
    {
     "data": {
      "text/html": [
       "<div>\n",
       "<style scoped>\n",
       "    .dataframe tbody tr th:only-of-type {\n",
       "        vertical-align: middle;\n",
       "    }\n",
       "\n",
       "    .dataframe tbody tr th {\n",
       "        vertical-align: top;\n",
       "    }\n",
       "\n",
       "    .dataframe thead th {\n",
       "        text-align: right;\n",
       "    }\n",
       "</style>\n",
       "<table border=\"1\" class=\"dataframe\">\n",
       "  <thead>\n",
       "    <tr style=\"text-align: right;\">\n",
       "      <th></th>\n",
       "      <th>Status Checking</th>\n",
       "      <th>Duration in Month</th>\n",
       "      <th>Credit History</th>\n",
       "      <th>Purpose</th>\n",
       "      <th>Credit Amount</th>\n",
       "      <th>Savings Account</th>\n",
       "      <th>Employement since</th>\n",
       "      <th>Installmentrate %</th>\n",
       "      <th>StatusSex</th>\n",
       "      <th>Otherdebtos</th>\n",
       "      <th>...</th>\n",
       "      <th>Property</th>\n",
       "      <th>Age in years</th>\n",
       "      <th>Otherinstallment Plans</th>\n",
       "      <th>Housing</th>\n",
       "      <th>Number existing Credits</th>\n",
       "      <th>Job</th>\n",
       "      <th>Number people liable</th>\n",
       "      <th>Telephone</th>\n",
       "      <th>Foreign Worker</th>\n",
       "      <th>Target</th>\n",
       "    </tr>\n",
       "  </thead>\n",
       "  <tbody>\n",
       "    <tr>\n",
       "      <th>0</th>\n",
       "      <td>less than 0 DM</td>\n",
       "      <td>6</td>\n",
       "      <td>critical account / other credits existing (not...</td>\n",
       "      <td>radio/television</td>\n",
       "      <td>1169</td>\n",
       "      <td>unknown / no savings account</td>\n",
       "      <td>bigger than or equal 7 years</td>\n",
       "      <td>4</td>\n",
       "      <td>male : single</td>\n",
       "      <td>None</td>\n",
       "      <td>...</td>\n",
       "      <td>real estate</td>\n",
       "      <td>67</td>\n",
       "      <td>None</td>\n",
       "      <td>own</td>\n",
       "      <td>2</td>\n",
       "      <td>skilled employee /official</td>\n",
       "      <td>1</td>\n",
       "      <td>yes, registered under the customers name</td>\n",
       "      <td>yes</td>\n",
       "      <td>1</td>\n",
       "    </tr>\n",
       "    <tr>\n",
       "      <th>1</th>\n",
       "      <td>0 less than or equal and less than 200 DM</td>\n",
       "      <td>48</td>\n",
       "      <td>existing credits paind back duly till now</td>\n",
       "      <td>radio/television</td>\n",
       "      <td>5951</td>\n",
       "      <td>less than 100DM</td>\n",
       "      <td>1 less than or equal and less than 4 years</td>\n",
       "      <td>2</td>\n",
       "      <td>female : divorced/separated/married</td>\n",
       "      <td>None</td>\n",
       "      <td>...</td>\n",
       "      <td>real estate</td>\n",
       "      <td>22</td>\n",
       "      <td>None</td>\n",
       "      <td>own</td>\n",
       "      <td>1</td>\n",
       "      <td>skilled employee /official</td>\n",
       "      <td>1</td>\n",
       "      <td>None</td>\n",
       "      <td>yes</td>\n",
       "      <td>2</td>\n",
       "    </tr>\n",
       "    <tr>\n",
       "      <th>2</th>\n",
       "      <td>no checking account</td>\n",
       "      <td>12</td>\n",
       "      <td>critical account / other credits existing (not...</td>\n",
       "      <td>education</td>\n",
       "      <td>2096</td>\n",
       "      <td>less than 100DM</td>\n",
       "      <td>4 less than and equal and less than 7 years</td>\n",
       "      <td>2</td>\n",
       "      <td>male : single</td>\n",
       "      <td>None</td>\n",
       "      <td>...</td>\n",
       "      <td>real estate</td>\n",
       "      <td>49</td>\n",
       "      <td>None</td>\n",
       "      <td>own</td>\n",
       "      <td>1</td>\n",
       "      <td>unskilled-resident</td>\n",
       "      <td>2</td>\n",
       "      <td>None</td>\n",
       "      <td>yes</td>\n",
       "      <td>1</td>\n",
       "    </tr>\n",
       "    <tr>\n",
       "      <th>3</th>\n",
       "      <td>less than 0 DM</td>\n",
       "      <td>42</td>\n",
       "      <td>existing credits paind back duly till now</td>\n",
       "      <td>furniture/equipment</td>\n",
       "      <td>7882</td>\n",
       "      <td>less than 100DM</td>\n",
       "      <td>4 less than and equal and less than 7 years</td>\n",
       "      <td>2</td>\n",
       "      <td>male : single</td>\n",
       "      <td>guarantor</td>\n",
       "      <td>...</td>\n",
       "      <td>if not real estate : building society savings ...</td>\n",
       "      <td>45</td>\n",
       "      <td>None</td>\n",
       "      <td>for free</td>\n",
       "      <td>1</td>\n",
       "      <td>skilled employee /official</td>\n",
       "      <td>2</td>\n",
       "      <td>None</td>\n",
       "      <td>yes</td>\n",
       "      <td>1</td>\n",
       "    </tr>\n",
       "    <tr>\n",
       "      <th>4</th>\n",
       "      <td>less than 0 DM</td>\n",
       "      <td>24</td>\n",
       "      <td>delay in paying off in the past</td>\n",
       "      <td>car (new)</td>\n",
       "      <td>4870</td>\n",
       "      <td>less than 100DM</td>\n",
       "      <td>1 less than or equal and less than 4 years</td>\n",
       "      <td>3</td>\n",
       "      <td>male : single</td>\n",
       "      <td>None</td>\n",
       "      <td>...</td>\n",
       "      <td>unknown/no property</td>\n",
       "      <td>53</td>\n",
       "      <td>None</td>\n",
       "      <td>for free</td>\n",
       "      <td>2</td>\n",
       "      <td>skilled employee /official</td>\n",
       "      <td>2</td>\n",
       "      <td>None</td>\n",
       "      <td>yes</td>\n",
       "      <td>2</td>\n",
       "    </tr>\n",
       "    <tr>\n",
       "      <th>...</th>\n",
       "      <td>...</td>\n",
       "      <td>...</td>\n",
       "      <td>...</td>\n",
       "      <td>...</td>\n",
       "      <td>...</td>\n",
       "      <td>...</td>\n",
       "      <td>...</td>\n",
       "      <td>...</td>\n",
       "      <td>...</td>\n",
       "      <td>...</td>\n",
       "      <td>...</td>\n",
       "      <td>...</td>\n",
       "      <td>...</td>\n",
       "      <td>...</td>\n",
       "      <td>...</td>\n",
       "      <td>...</td>\n",
       "      <td>...</td>\n",
       "      <td>...</td>\n",
       "      <td>...</td>\n",
       "      <td>...</td>\n",
       "      <td>...</td>\n",
       "    </tr>\n",
       "    <tr>\n",
       "      <th>995</th>\n",
       "      <td>no checking account</td>\n",
       "      <td>12</td>\n",
       "      <td>existing credits paind back duly till now</td>\n",
       "      <td>furniture/equipment</td>\n",
       "      <td>1736</td>\n",
       "      <td>less than 100DM</td>\n",
       "      <td>4 less than and equal and less than 7 years</td>\n",
       "      <td>3</td>\n",
       "      <td>female : divorced/separated/married</td>\n",
       "      <td>None</td>\n",
       "      <td>...</td>\n",
       "      <td>real estate</td>\n",
       "      <td>31</td>\n",
       "      <td>None</td>\n",
       "      <td>own</td>\n",
       "      <td>1</td>\n",
       "      <td>unskilled-resident</td>\n",
       "      <td>1</td>\n",
       "      <td>None</td>\n",
       "      <td>yes</td>\n",
       "      <td>1</td>\n",
       "    </tr>\n",
       "    <tr>\n",
       "      <th>996</th>\n",
       "      <td>less than 0 DM</td>\n",
       "      <td>30</td>\n",
       "      <td>existing credits paind back duly till now</td>\n",
       "      <td>car (used)</td>\n",
       "      <td>3857</td>\n",
       "      <td>less than 100DM</td>\n",
       "      <td>1 less than or equal and less than 4 years</td>\n",
       "      <td>4</td>\n",
       "      <td>male : divorced/separated</td>\n",
       "      <td>None</td>\n",
       "      <td>...</td>\n",
       "      <td>if not real estate : building society savings ...</td>\n",
       "      <td>40</td>\n",
       "      <td>None</td>\n",
       "      <td>own</td>\n",
       "      <td>1</td>\n",
       "      <td>management/self-employed/highly qualified empl...</td>\n",
       "      <td>1</td>\n",
       "      <td>yes, registered under the customers name</td>\n",
       "      <td>yes</td>\n",
       "      <td>1</td>\n",
       "    </tr>\n",
       "    <tr>\n",
       "      <th>997</th>\n",
       "      <td>no checking account</td>\n",
       "      <td>12</td>\n",
       "      <td>existing credits paind back duly till now</td>\n",
       "      <td>radio/television</td>\n",
       "      <td>804</td>\n",
       "      <td>less than 100DM</td>\n",
       "      <td>bigger than or equal 7 years</td>\n",
       "      <td>4</td>\n",
       "      <td>male : single</td>\n",
       "      <td>None</td>\n",
       "      <td>...</td>\n",
       "      <td>if not others options : car or other, not in s...</td>\n",
       "      <td>38</td>\n",
       "      <td>None</td>\n",
       "      <td>own</td>\n",
       "      <td>1</td>\n",
       "      <td>skilled employee /official</td>\n",
       "      <td>1</td>\n",
       "      <td>None</td>\n",
       "      <td>yes</td>\n",
       "      <td>1</td>\n",
       "    </tr>\n",
       "    <tr>\n",
       "      <th>998</th>\n",
       "      <td>less than 0 DM</td>\n",
       "      <td>45</td>\n",
       "      <td>existing credits paind back duly till now</td>\n",
       "      <td>radio/television</td>\n",
       "      <td>1845</td>\n",
       "      <td>less than 100DM</td>\n",
       "      <td>1 less than or equal and less than 4 years</td>\n",
       "      <td>4</td>\n",
       "      <td>male : single</td>\n",
       "      <td>None</td>\n",
       "      <td>...</td>\n",
       "      <td>unknown/no property</td>\n",
       "      <td>23</td>\n",
       "      <td>None</td>\n",
       "      <td>for free</td>\n",
       "      <td>1</td>\n",
       "      <td>skilled employee /official</td>\n",
       "      <td>1</td>\n",
       "      <td>yes, registered under the customers name</td>\n",
       "      <td>yes</td>\n",
       "      <td>2</td>\n",
       "    </tr>\n",
       "    <tr>\n",
       "      <th>999</th>\n",
       "      <td>0 less than or equal and less than 200 DM</td>\n",
       "      <td>45</td>\n",
       "      <td>critical account / other credits existing (not...</td>\n",
       "      <td>car (used)</td>\n",
       "      <td>4576</td>\n",
       "      <td>100 less than or equal and &lt; 500DM</td>\n",
       "      <td>unemployed</td>\n",
       "      <td>3</td>\n",
       "      <td>male : single</td>\n",
       "      <td>None</td>\n",
       "      <td>...</td>\n",
       "      <td>if not others options : car or other, not in s...</td>\n",
       "      <td>27</td>\n",
       "      <td>None</td>\n",
       "      <td>own</td>\n",
       "      <td>1</td>\n",
       "      <td>skilled employee /official</td>\n",
       "      <td>1</td>\n",
       "      <td>None</td>\n",
       "      <td>yes</td>\n",
       "      <td>1</td>\n",
       "    </tr>\n",
       "  </tbody>\n",
       "</table>\n",
       "<p>1000 rows × 21 columns</p>\n",
       "</div>"
      ],
      "text/plain": [
       "                               Status Checking  Duration in Month  \\\n",
       "0                               less than 0 DM                  6   \n",
       "1    0 less than or equal and less than 200 DM                 48   \n",
       "2                          no checking account                 12   \n",
       "3                               less than 0 DM                 42   \n",
       "4                               less than 0 DM                 24   \n",
       "..                                         ...                ...   \n",
       "995                        no checking account                 12   \n",
       "996                             less than 0 DM                 30   \n",
       "997                        no checking account                 12   \n",
       "998                             less than 0 DM                 45   \n",
       "999  0 less than or equal and less than 200 DM                 45   \n",
       "\n",
       "                                        Credit History              Purpose  \\\n",
       "0    critical account / other credits existing (not...     radio/television   \n",
       "1            existing credits paind back duly till now     radio/television   \n",
       "2    critical account / other credits existing (not...            education   \n",
       "3            existing credits paind back duly till now  furniture/equipment   \n",
       "4                      delay in paying off in the past            car (new)   \n",
       "..                                                 ...                  ...   \n",
       "995          existing credits paind back duly till now  furniture/equipment   \n",
       "996          existing credits paind back duly till now           car (used)   \n",
       "997          existing credits paind back duly till now     radio/television   \n",
       "998          existing credits paind back duly till now     radio/television   \n",
       "999  critical account / other credits existing (not...           car (used)   \n",
       "\n",
       "     Credit Amount                     Savings Account  \\\n",
       "0             1169        unknown / no savings account   \n",
       "1             5951                     less than 100DM   \n",
       "2             2096                     less than 100DM   \n",
       "3             7882                     less than 100DM   \n",
       "4             4870                     less than 100DM   \n",
       "..             ...                                 ...   \n",
       "995           1736                     less than 100DM   \n",
       "996           3857                     less than 100DM   \n",
       "997            804                     less than 100DM   \n",
       "998           1845                     less than 100DM   \n",
       "999           4576  100 less than or equal and < 500DM   \n",
       "\n",
       "                               Employement since  Installmentrate %  \\\n",
       "0                   bigger than or equal 7 years                  4   \n",
       "1     1 less than or equal and less than 4 years                  2   \n",
       "2    4 less than and equal and less than 7 years                  2   \n",
       "3    4 less than and equal and less than 7 years                  2   \n",
       "4     1 less than or equal and less than 4 years                  3   \n",
       "..                                           ...                ...   \n",
       "995  4 less than and equal and less than 7 years                  3   \n",
       "996   1 less than or equal and less than 4 years                  4   \n",
       "997                 bigger than or equal 7 years                  4   \n",
       "998   1 less than or equal and less than 4 years                  4   \n",
       "999                                   unemployed                  3   \n",
       "\n",
       "                               StatusSex Otherdebtos  ...  \\\n",
       "0                          male : single        None  ...   \n",
       "1    female : divorced/separated/married        None  ...   \n",
       "2                          male : single        None  ...   \n",
       "3                          male : single   guarantor  ...   \n",
       "4                          male : single        None  ...   \n",
       "..                                   ...         ...  ...   \n",
       "995  female : divorced/separated/married        None  ...   \n",
       "996            male : divorced/separated        None  ...   \n",
       "997                        male : single        None  ...   \n",
       "998                        male : single        None  ...   \n",
       "999                        male : single        None  ...   \n",
       "\n",
       "                                              Property Age in years  \\\n",
       "0                                          real estate           67   \n",
       "1                                          real estate           22   \n",
       "2                                          real estate           49   \n",
       "3    if not real estate : building society savings ...           45   \n",
       "4                                  unknown/no property           53   \n",
       "..                                                 ...          ...   \n",
       "995                                        real estate           31   \n",
       "996  if not real estate : building society savings ...           40   \n",
       "997  if not others options : car or other, not in s...           38   \n",
       "998                                unknown/no property           23   \n",
       "999  if not others options : car or other, not in s...           27   \n",
       "\n",
       "     Otherinstallment Plans   Housing Number existing Credits  \\\n",
       "0                      None       own                       2   \n",
       "1                      None       own                       1   \n",
       "2                      None       own                       1   \n",
       "3                      None  for free                       1   \n",
       "4                      None  for free                       2   \n",
       "..                      ...       ...                     ...   \n",
       "995                    None       own                       1   \n",
       "996                    None       own                       1   \n",
       "997                    None       own                       1   \n",
       "998                    None  for free                       1   \n",
       "999                    None       own                       1   \n",
       "\n",
       "                                                   Job Number people liable  \\\n",
       "0                           skilled employee /official                    1   \n",
       "1                           skilled employee /official                    1   \n",
       "2                                   unskilled-resident                    2   \n",
       "3                           skilled employee /official                    2   \n",
       "4                           skilled employee /official                    2   \n",
       "..                                                 ...                  ...   \n",
       "995                                 unskilled-resident                    1   \n",
       "996  management/self-employed/highly qualified empl...                    1   \n",
       "997                         skilled employee /official                    1   \n",
       "998                         skilled employee /official                    1   \n",
       "999                         skilled employee /official                    1   \n",
       "\n",
       "                                    Telephone Foreign Worker Target  \n",
       "0    yes, registered under the customers name            yes      1  \n",
       "1                                        None            yes      2  \n",
       "2                                        None            yes      1  \n",
       "3                                        None            yes      1  \n",
       "4                                        None            yes      2  \n",
       "..                                        ...            ...    ...  \n",
       "995                                      None            yes      1  \n",
       "996  yes, registered under the customers name            yes      1  \n",
       "997                                      None            yes      1  \n",
       "998  yes, registered under the customers name            yes      2  \n",
       "999                                      None            yes      1  \n",
       "\n",
       "[1000 rows x 21 columns]"
      ]
     },
     "execution_count": 4,
     "metadata": {},
     "output_type": "execute_result"
    }
   ],
   "source": [
    "german_data"
   ]
  },
  {
   "cell_type": "code",
   "execution_count": 5,
   "metadata": {},
   "outputs": [
    {
     "data": {
      "text/plain": [
       "Status Checking            0\n",
       "Duration in Month          0\n",
       "Credit History             0\n",
       "Purpose                    0\n",
       "Credit Amount              0\n",
       "Savings Account            0\n",
       "Employement since          0\n",
       "Installmentrate %          0\n",
       "StatusSex                  0\n",
       "Otherdebtos                0\n",
       "PresentResidence           0\n",
       "Property                   0\n",
       "Age in years               0\n",
       "Otherinstallment Plans     0\n",
       "Housing                    0\n",
       "Number existing Credits    0\n",
       "Job                        0\n",
       "Number people liable       0\n",
       "Telephone                  0\n",
       "Foreign Worker             0\n",
       "Target                     0\n",
       "dtype: int64"
      ]
     },
     "execution_count": 5,
     "metadata": {},
     "output_type": "execute_result"
    }
   ],
   "source": [
    "# check for missing values\n",
    "german_data.isnull().sum()\n"
   ]
  },
  {
   "cell_type": "markdown",
   "metadata": {},
   "source": [
    "# Daten auf Plausibilität prüfen"
   ]
  },
  {
   "cell_type": "code",
   "execution_count": 6,
   "metadata": {},
   "outputs": [
    {
     "data": {
      "text/html": [
       "<div>\n",
       "<style scoped>\n",
       "    .dataframe tbody tr th:only-of-type {\n",
       "        vertical-align: middle;\n",
       "    }\n",
       "\n",
       "    .dataframe tbody tr th {\n",
       "        vertical-align: top;\n",
       "    }\n",
       "\n",
       "    .dataframe thead th {\n",
       "        text-align: right;\n",
       "    }\n",
       "</style>\n",
       "<table border=\"1\" class=\"dataframe\">\n",
       "  <thead>\n",
       "    <tr style=\"text-align: right;\">\n",
       "      <th></th>\n",
       "      <th>Duration in Month</th>\n",
       "      <th>Credit Amount</th>\n",
       "      <th>Installmentrate %</th>\n",
       "      <th>PresentResidence</th>\n",
       "      <th>Age in years</th>\n",
       "      <th>Number existing Credits</th>\n",
       "      <th>Number people liable</th>\n",
       "      <th>Target</th>\n",
       "    </tr>\n",
       "  </thead>\n",
       "  <tbody>\n",
       "    <tr>\n",
       "      <th>count</th>\n",
       "      <td>1000.000000</td>\n",
       "      <td>1000.000000</td>\n",
       "      <td>1000.000000</td>\n",
       "      <td>1000.000000</td>\n",
       "      <td>1000.000000</td>\n",
       "      <td>1000.000000</td>\n",
       "      <td>1000.000000</td>\n",
       "      <td>1000.000000</td>\n",
       "    </tr>\n",
       "    <tr>\n",
       "      <th>mean</th>\n",
       "      <td>20.903000</td>\n",
       "      <td>3271.258000</td>\n",
       "      <td>2.973000</td>\n",
       "      <td>2.845000</td>\n",
       "      <td>35.546000</td>\n",
       "      <td>1.407000</td>\n",
       "      <td>1.155000</td>\n",
       "      <td>1.300000</td>\n",
       "    </tr>\n",
       "    <tr>\n",
       "      <th>std</th>\n",
       "      <td>12.058814</td>\n",
       "      <td>2822.736876</td>\n",
       "      <td>1.118715</td>\n",
       "      <td>1.103718</td>\n",
       "      <td>11.375469</td>\n",
       "      <td>0.577654</td>\n",
       "      <td>0.362086</td>\n",
       "      <td>0.458487</td>\n",
       "    </tr>\n",
       "    <tr>\n",
       "      <th>min</th>\n",
       "      <td>4.000000</td>\n",
       "      <td>250.000000</td>\n",
       "      <td>1.000000</td>\n",
       "      <td>1.000000</td>\n",
       "      <td>19.000000</td>\n",
       "      <td>1.000000</td>\n",
       "      <td>1.000000</td>\n",
       "      <td>1.000000</td>\n",
       "    </tr>\n",
       "    <tr>\n",
       "      <th>25%</th>\n",
       "      <td>12.000000</td>\n",
       "      <td>1365.500000</td>\n",
       "      <td>2.000000</td>\n",
       "      <td>2.000000</td>\n",
       "      <td>27.000000</td>\n",
       "      <td>1.000000</td>\n",
       "      <td>1.000000</td>\n",
       "      <td>1.000000</td>\n",
       "    </tr>\n",
       "    <tr>\n",
       "      <th>50%</th>\n",
       "      <td>18.000000</td>\n",
       "      <td>2319.500000</td>\n",
       "      <td>3.000000</td>\n",
       "      <td>3.000000</td>\n",
       "      <td>33.000000</td>\n",
       "      <td>1.000000</td>\n",
       "      <td>1.000000</td>\n",
       "      <td>1.000000</td>\n",
       "    </tr>\n",
       "    <tr>\n",
       "      <th>75%</th>\n",
       "      <td>24.000000</td>\n",
       "      <td>3972.250000</td>\n",
       "      <td>4.000000</td>\n",
       "      <td>4.000000</td>\n",
       "      <td>42.000000</td>\n",
       "      <td>2.000000</td>\n",
       "      <td>1.000000</td>\n",
       "      <td>2.000000</td>\n",
       "    </tr>\n",
       "    <tr>\n",
       "      <th>max</th>\n",
       "      <td>72.000000</td>\n",
       "      <td>18424.000000</td>\n",
       "      <td>4.000000</td>\n",
       "      <td>4.000000</td>\n",
       "      <td>75.000000</td>\n",
       "      <td>4.000000</td>\n",
       "      <td>2.000000</td>\n",
       "      <td>2.000000</td>\n",
       "    </tr>\n",
       "  </tbody>\n",
       "</table>\n",
       "</div>"
      ],
      "text/plain": [
       "       Duration in Month  Credit Amount  Installmentrate %  PresentResidence  \\\n",
       "count        1000.000000    1000.000000        1000.000000       1000.000000   \n",
       "mean           20.903000    3271.258000           2.973000          2.845000   \n",
       "std            12.058814    2822.736876           1.118715          1.103718   \n",
       "min             4.000000     250.000000           1.000000          1.000000   \n",
       "25%            12.000000    1365.500000           2.000000          2.000000   \n",
       "50%            18.000000    2319.500000           3.000000          3.000000   \n",
       "75%            24.000000    3972.250000           4.000000          4.000000   \n",
       "max            72.000000   18424.000000           4.000000          4.000000   \n",
       "\n",
       "       Age in years  Number existing Credits  Number people liable  \\\n",
       "count   1000.000000              1000.000000           1000.000000   \n",
       "mean      35.546000                 1.407000              1.155000   \n",
       "std       11.375469                 0.577654              0.362086   \n",
       "min       19.000000                 1.000000              1.000000   \n",
       "25%       27.000000                 1.000000              1.000000   \n",
       "50%       33.000000                 1.000000              1.000000   \n",
       "75%       42.000000                 2.000000              1.000000   \n",
       "max       75.000000                 4.000000              2.000000   \n",
       "\n",
       "            Target  \n",
       "count  1000.000000  \n",
       "mean      1.300000  \n",
       "std       0.458487  \n",
       "min       1.000000  \n",
       "25%       1.000000  \n",
       "50%       1.000000  \n",
       "75%       2.000000  \n",
       "max       2.000000  "
      ]
     },
     "execution_count": 6,
     "metadata": {},
     "output_type": "execute_result"
    }
   ],
   "source": [
    "# describe the data\n",
    "german_data.describe()\n"
   ]
  },
  {
   "cell_type": "code",
   "execution_count": 9,
   "metadata": {},
   "outputs": [
    {
     "data": {
      "image/png": "[encoded data removed]",
      "text/plain": [
       "<Figure size 432x288 with 1 Axes>"
      ]
     },
     "metadata": {
      "needs_background": "light"
     },
     "output_type": "display_data"
    }
   ],
   "source": [
    "#check credit amount for outliers\n",
    "german_data['Credit Amount'].hist(bins=50)\n",
    "# x achse log \n",
    "\n"
   ]
  },
  {
   "cell_type": "code",
   "execution_count": 92,
   "metadata": {},
   "outputs": [
    {
     "data": {
      "text/plain": [
       "<AxesSubplot:ylabel='Frequency'>"
      ]
     },
     "execution_count": 92,
     "metadata": {},
     "output_type": "execute_result"
    },
    {
     "data": {
      "image/png": "[encoded data removed]",
      "text/plain": [
       "<Figure size 1080x360 with 1 Axes>"
      ]
     },
     "metadata": {
      "needs_background": "light"
     },
     "output_type": "display_data"
    }
   ],
   "source": [
    "plt.subplot(1, 2, 1)\n",
    "german_data['Credit Amount'].plot(kind='hist', logx=False, bins=50)\n",
    "# plot histogram credit amout where target is 2\n",
    "german_data.loc[german_data['Target'] == 2, 'Credit Amount'].plot(kind='hist', logx=False, bins=50, color='red', figsize=(15, 5))\n"
   ]
  },
  {
   "cell_type": "code",
   "execution_count": 76,
   "metadata": {},
   "outputs": [
    {
     "data": {
      "text/plain": [
       "<AxesSubplot:ylabel='Target'>"
      ]
     },
     "execution_count": 76,
     "metadata": {},
     "output_type": "execute_result"
    },
    {
     "data": {
      "image/png": "[encoded data removed]",
      "text/plain": [
       "<Figure size 1080x360 with 1 Axes>"
      ]
     },
     "metadata": {},
     "output_type": "display_data"
    }
   ],
   "source": [
    "# plot target variable as pie chart with target 1 and target 2 as labels colored red and blue\n",
    "\n",
    "german_data['Target'].value_counts().plot(kind='pie', colors=['red', 'blue'], autopct='%1.1f%%', figsize=(15, 5))"
   ]
  },
  {
   "cell_type": "markdown",
   "metadata": {},
   "source": [
    "# Zielvariable ist Ungleichverteilt"
   ]
  },
  {
   "cell_type": "markdown",
   "metadata": {},
   "source": [
    "# Untersuchung auf Outlier"
   ]
  },
  {
   "cell_type": "code",
   "execution_count": 101,
   "metadata": {},
   "outputs": [
    {
     "data": {
      "text/plain": [
       "<AxesSubplot:title={'center':'Credit Amount'}, xlabel='Target'>"
      ]
     },
     "execution_count": 101,
     "metadata": {},
     "output_type": "execute_result"
    },
    {
     "data": {
      "image/png": "[encoded data removed]",
      "text/plain": [
       "<Figure size 1080x360 with 1 Axes>"
      ]
     },
     "metadata": {
      "needs_background": "light"
     },
     "output_type": "display_data"
    }
   ],
   "source": [
    "#box plot credit amount outliers\n",
    "german_data.boxplot(column='Credit Amount', by='Target', figsize=(15, 5))"
   ]
  },
  {
   "cell_type": "code",
   "execution_count": 102,
   "metadata": {},
   "outputs": [
    {
     "data": {
      "text/plain": [
       "<AxesSubplot:xlabel='Credit Amount', ylabel='Target'>"
      ]
     },
     "execution_count": 102,
     "metadata": {},
     "output_type": "execute_result"
    },
    {
     "data": {
      "image/png": "[encoded data removed]",
      "text/plain": [
       "<Figure size 1080x360 with 1 Axes>"
      ]
     },
     "metadata": {
      "needs_background": "light"
     },
     "output_type": "display_data"
    }
   ],
   "source": [
    "# scatter plot credit amount\n",
    "german_data.plot(kind='scatter', x='Credit Amount', y='Target', figsize=(15, 5))"
   ]
  },
  {
   "cell_type": "code",
   "execution_count": 103,
   "metadata": {},
   "outputs": [],
   "source": [
    "# calculate ZScore for credit amount\n",
    "german_data['ZScore'] = (german_data['Credit Amount'] - german_data['Credit Amount'].mean()) / german_data['Credit Amount'].std()\n"
   ]
  },
  {
   "cell_type": "code",
   "execution_count": 106,
   "metadata": {},
   "outputs": [
    {
     "data": {
      "text/plain": [
       "<AxesSubplot:ylabel='Frequency'>"
      ]
     },
     "execution_count": 106,
     "metadata": {},
     "output_type": "execute_result"
    },
    {
     "data": {
      "image/png": "[encoded data removed]",
      "text/plain": [
       "<Figure size 1080x360 with 1 Axes>"
      ]
     },
     "metadata": {
      "needs_background": "light"
     },
     "output_type": "display_data"
    }
   ],
   "source": [
    "#plot zscore for credit amount\n",
    "german_data['ZScore'].plot(kind='hist', bins=50, figsize=(15, 5))\n"
   ]
  },
  {
   "cell_type": "code",
   "execution_count": 112,
   "metadata": {},
   "outputs": [
    {
     "name": "stdout",
     "output_type": "stream",
     "text": [
      "Upper bound: 0      False\n",
      "1      False\n",
      "2      False\n",
      "3      False\n",
      "4      False\n",
      "       ...  \n",
      "995    False\n",
      "996    False\n",
      "997    False\n",
      "998    False\n",
      "999    False\n",
      "Name: Credit Amount, Length: 1000, dtype: bool\n",
      "(array([  5,  17,  18,  57,  63,  70,  78,  87,  95, 105, 130, 134, 136,\n",
      "       180, 205, 226, 236, 268, 272, 274, 285, 291, 295, 304, 333, 373,\n",
      "       374, 378, 381, 395, 402, 417, 431, 450, 491, 496, 509, 525, 549,\n",
      "       563, 615, 616, 637, 645, 653, 657, 672, 684, 714, 736, 744, 763,\n",
      "       771, 805, 808, 812, 818, 828, 832, 854, 881, 887, 895, 902, 915,\n",
      "       917, 921, 927, 945, 953, 980, 983]),)\n",
      "Lower bound: 0      False\n",
      "1      False\n",
      "2      False\n",
      "3      False\n",
      "4      False\n",
      "       ...  \n",
      "995    False\n",
      "996    False\n",
      "997    False\n",
      "998    False\n",
      "999    False\n",
      "Name: Credit Amount, Length: 1000, dtype: bool\n",
      "(array([], dtype=int64),)\n"
     ]
    },
    {
     "name": "stderr",
     "output_type": "stream",
     "text": [
      "/var/folders/rf/kg6tbnbs6md8psmvxmk30hmw0000gn/T/ipykernel_4216/1560321043.py:2: DeprecationWarning: the `interpolation=` argument to percentile was renamed to `method=`, which has additional options.\n",
      "Users of the modes 'nearest', 'lower', 'higher', or 'midpoint' are encouraged to review the method they. (Deprecated NumPy 1.22)\n",
      "  Q1 = np.percentile(german_data['Credit Amount'], 25,\n",
      "/var/folders/rf/kg6tbnbs6md8psmvxmk30hmw0000gn/T/ipykernel_4216/1560321043.py:5: DeprecationWarning: the `interpolation=` argument to percentile was renamed to `method=`, which has additional options.\n",
      "Users of the modes 'nearest', 'lower', 'higher', or 'midpoint' are encouraged to review the method they. (Deprecated NumPy 1.22)\n",
      "  Q3 = np.percentile(german_data['Credit Amount'], 75,\n"
     ]
    }
   ],
   "source": [
    "# calculate IQR for credit amount\n",
    "Q1 = np.percentile(german_data['Credit Amount'], 25,\n",
    "                   interpolation = 'midpoint')\n",
    " \n",
    "Q3 = np.percentile(german_data['Credit Amount'], 75,\n",
    "                   interpolation = 'midpoint')\n",
    "IQR = Q3 - Q1\n",
    "\n",
    "upper = Q3 +1.5*IQR\n",
    "lower = Q1 - 1.5*IQR\n",
    "upper = german_data['Credit Amount'] >= (Q3+1.5*IQR)\n",
    " \n",
    "print(\"Upper bound:\",upper)\n",
    "print(np.where(upper))\n",
    " \n",
    "# Below Lower bound\n",
    "lower = german_data['Credit Amount'] <= (Q1-1.5*IQR)\n",
    "print(\"Lower bound:\", lower)\n",
    "print(np.where(lower))"
   ]
  },
  {
   "cell_type": "code",
   "execution_count": 84,
   "metadata": {},
   "outputs": [
    {
     "data": {
      "text/plain": [
       "(array([  5,  17,  18,  57,  63,  70,  78,  87,  95, 105, 130, 134, 136,\n",
       "        180, 205, 226, 236, 268, 272, 274, 285, 291, 295, 304, 333, 373,\n",
       "        374, 378, 381, 395, 402, 417, 431, 450, 491, 496, 509, 525, 549,\n",
       "        563, 615, 616, 637, 645, 653, 657, 672, 684, 714, 736, 744, 763,\n",
       "        771, 805, 808, 812, 818, 828, 832, 854, 881, 887, 895, 902, 915,\n",
       "        917, 921, 927, 945, 953, 980, 983]),)"
      ]
     },
     "execution_count": 84,
     "metadata": {},
     "output_type": "execute_result"
    }
   ],
   "source": [
    "# function to determine outlier values\n",
    "def outlier_iqr(x):\n",
    "    quartile_1, quartile_3 = np.percentile(x, [25, 75])\n",
    "    iqr = quartile_3 - quartile_1\n",
    "    lower_bound = quartile_1 - (iqr * 1.5)\n",
    "    upper_bound = quartile_3 + (iqr * 1.5)\n",
    "    return np.where((x > upper_bound) | (x < lower_bound))\n",
    "# calculate the outlier values\n",
    "outlier_iqr(german_data['Credit Amount'])"
   ]
  },
  {
   "cell_type": "code",
   "execution_count": 94,
   "metadata": {},
   "outputs": [],
   "source": [
    "# transform target value 2 to 1 and 1 to 0 to be binary\n",
    "german_data['Target'] = german_data['Target'].map({2:1, 1:0})\n"
   ]
  },
  {
   "cell_type": "code",
   "execution_count": 99,
   "metadata": {},
   "outputs": [
    {
     "ename": "ValueError",
     "evalue": "could not convert string to float: 'delay in paying off in the past'",
     "output_type": "error",
     "traceback": [
      "\u001b[0;31m---------------------------------------------------------------------------\u001b[0m",
      "\u001b[0;31mValueError\u001b[0m                                Traceback (most recent call last)",
      "\u001b[1;32m/Users/danielhorn/Desktop/AML_Project_2/AML/German_Credit_data/eda.ipynb Cell 17'\u001b[0m in \u001b[0;36m<cell line: 11>\u001b[0;34m()\u001b[0m\n\u001b[1;32m      <a href='vscode-notebook-cell:/Users/danielhorn/Desktop/AML_Project_2/AML/German_Credit_data/eda.ipynb#ch0000026?line=8'>9</a>\u001b[0m logreg \u001b[39m=\u001b[39m LogisticRegression()\n\u001b[1;32m     <a href='vscode-notebook-cell:/Users/danielhorn/Desktop/AML_Project_2/AML/German_Credit_data/eda.ipynb#ch0000026?line=9'>10</a>\u001b[0m \u001b[39m# fit the model\u001b[39;00m\n\u001b[0;32m---> <a href='vscode-notebook-cell:/Users/danielhorn/Desktop/AML_Project_2/AML/German_Credit_data/eda.ipynb#ch0000026?line=10'>11</a>\u001b[0m logreg\u001b[39m.\u001b[39;49mfit(X_train, y_train)\n\u001b[1;32m     <a href='vscode-notebook-cell:/Users/danielhorn/Desktop/AML_Project_2/AML/German_Credit_data/eda.ipynb#ch0000026?line=11'>12</a>\u001b[0m \u001b[39m# predict the target variable\u001b[39;00m\n\u001b[1;32m     <a href='vscode-notebook-cell:/Users/danielhorn/Desktop/AML_Project_2/AML/German_Credit_data/eda.ipynb#ch0000026?line=12'>13</a>\u001b[0m y_pred \u001b[39m=\u001b[39m logreg\u001b[39m.\u001b[39mpredict(X_test)\n",
      "File \u001b[0;32m~/opt/anaconda3/lib/python3.9/site-packages/sklearn/linear_model/_logistic.py:1508\u001b[0m, in \u001b[0;36mLogisticRegression.fit\u001b[0;34m(self, X, y, sample_weight)\u001b[0m\n\u001b[1;32m   <a href='file:///Users/danielhorn/opt/anaconda3/lib/python3.9/site-packages/sklearn/linear_model/_logistic.py?line=1504'>1505</a>\u001b[0m \u001b[39melse\u001b[39;00m:\n\u001b[1;32m   <a href='file:///Users/danielhorn/opt/anaconda3/lib/python3.9/site-packages/sklearn/linear_model/_logistic.py?line=1505'>1506</a>\u001b[0m     _dtype \u001b[39m=\u001b[39m [np\u001b[39m.\u001b[39mfloat64, np\u001b[39m.\u001b[39mfloat32]\n\u001b[0;32m-> <a href='file:///Users/danielhorn/opt/anaconda3/lib/python3.9/site-packages/sklearn/linear_model/_logistic.py?line=1507'>1508</a>\u001b[0m X, y \u001b[39m=\u001b[39m \u001b[39mself\u001b[39;49m\u001b[39m.\u001b[39;49m_validate_data(\n\u001b[1;32m   <a href='file:///Users/danielhorn/opt/anaconda3/lib/python3.9/site-packages/sklearn/linear_model/_logistic.py?line=1508'>1509</a>\u001b[0m     X,\n\u001b[1;32m   <a href='file:///Users/danielhorn/opt/anaconda3/lib/python3.9/site-packages/sklearn/linear_model/_logistic.py?line=1509'>1510</a>\u001b[0m     y,\n\u001b[1;32m   <a href='file:///Users/danielhorn/opt/anaconda3/lib/python3.9/site-packages/sklearn/linear_model/_logistic.py?line=1510'>1511</a>\u001b[0m     accept_sparse\u001b[39m=\u001b[39;49m\u001b[39m\"\u001b[39;49m\u001b[39mcsr\u001b[39;49m\u001b[39m\"\u001b[39;49m,\n\u001b[1;32m   <a href='file:///Users/danielhorn/opt/anaconda3/lib/python3.9/site-packages/sklearn/linear_model/_logistic.py?line=1511'>1512</a>\u001b[0m     dtype\u001b[39m=\u001b[39;49m_dtype,\n\u001b[1;32m   <a href='file:///Users/danielhorn/opt/anaconda3/lib/python3.9/site-packages/sklearn/linear_model/_logistic.py?line=1512'>1513</a>\u001b[0m     order\u001b[39m=\u001b[39;49m\u001b[39m\"\u001b[39;49m\u001b[39mC\u001b[39;49m\u001b[39m\"\u001b[39;49m,\n\u001b[1;32m   <a href='file:///Users/danielhorn/opt/anaconda3/lib/python3.9/site-packages/sklearn/linear_model/_logistic.py?line=1513'>1514</a>\u001b[0m     accept_large_sparse\u001b[39m=\u001b[39;49msolver \u001b[39mnot\u001b[39;49;00m \u001b[39min\u001b[39;49;00m [\u001b[39m\"\u001b[39;49m\u001b[39mliblinear\u001b[39;49m\u001b[39m\"\u001b[39;49m, \u001b[39m\"\u001b[39;49m\u001b[39msag\u001b[39;49m\u001b[39m\"\u001b[39;49m, \u001b[39m\"\u001b[39;49m\u001b[39msaga\u001b[39;49m\u001b[39m\"\u001b[39;49m],\n\u001b[1;32m   <a href='file:///Users/danielhorn/opt/anaconda3/lib/python3.9/site-packages/sklearn/linear_model/_logistic.py?line=1514'>1515</a>\u001b[0m )\n\u001b[1;32m   <a href='file:///Users/danielhorn/opt/anaconda3/lib/python3.9/site-packages/sklearn/linear_model/_logistic.py?line=1515'>1516</a>\u001b[0m check_classification_targets(y)\n\u001b[1;32m   <a href='file:///Users/danielhorn/opt/anaconda3/lib/python3.9/site-packages/sklearn/linear_model/_logistic.py?line=1516'>1517</a>\u001b[0m \u001b[39mself\u001b[39m\u001b[39m.\u001b[39mclasses_ \u001b[39m=\u001b[39m np\u001b[39m.\u001b[39munique(y)\n",
      "File \u001b[0;32m~/opt/anaconda3/lib/python3.9/site-packages/sklearn/base.py:581\u001b[0m, in \u001b[0;36mBaseEstimator._validate_data\u001b[0;34m(self, X, y, reset, validate_separately, **check_params)\u001b[0m\n\u001b[1;32m    <a href='file:///Users/danielhorn/opt/anaconda3/lib/python3.9/site-packages/sklearn/base.py?line=578'>579</a>\u001b[0m         y \u001b[39m=\u001b[39m check_array(y, \u001b[39m*\u001b[39m\u001b[39m*\u001b[39mcheck_y_params)\n\u001b[1;32m    <a href='file:///Users/danielhorn/opt/anaconda3/lib/python3.9/site-packages/sklearn/base.py?line=579'>580</a>\u001b[0m     \u001b[39melse\u001b[39;00m:\n\u001b[0;32m--> <a href='file:///Users/danielhorn/opt/anaconda3/lib/python3.9/site-packages/sklearn/base.py?line=580'>581</a>\u001b[0m         X, y \u001b[39m=\u001b[39m check_X_y(X, y, \u001b[39m*\u001b[39;49m\u001b[39m*\u001b[39;49mcheck_params)\n\u001b[1;32m    <a href='file:///Users/danielhorn/opt/anaconda3/lib/python3.9/site-packages/sklearn/base.py?line=581'>582</a>\u001b[0m     out \u001b[39m=\u001b[39m X, y\n\u001b[1;32m    <a href='file:///Users/danielhorn/opt/anaconda3/lib/python3.9/site-packages/sklearn/base.py?line=583'>584</a>\u001b[0m \u001b[39mif\u001b[39;00m \u001b[39mnot\u001b[39;00m no_val_X \u001b[39mand\u001b[39;00m check_params\u001b[39m.\u001b[39mget(\u001b[39m\"\u001b[39m\u001b[39mensure_2d\u001b[39m\u001b[39m\"\u001b[39m, \u001b[39mTrue\u001b[39;00m):\n",
      "File \u001b[0;32m~/opt/anaconda3/lib/python3.9/site-packages/sklearn/utils/validation.py:964\u001b[0m, in \u001b[0;36mcheck_X_y\u001b[0;34m(X, y, accept_sparse, accept_large_sparse, dtype, order, copy, force_all_finite, ensure_2d, allow_nd, multi_output, ensure_min_samples, ensure_min_features, y_numeric, estimator)\u001b[0m\n\u001b[1;32m    <a href='file:///Users/danielhorn/opt/anaconda3/lib/python3.9/site-packages/sklearn/utils/validation.py?line=960'>961</a>\u001b[0m \u001b[39mif\u001b[39;00m y \u001b[39mis\u001b[39;00m \u001b[39mNone\u001b[39;00m:\n\u001b[1;32m    <a href='file:///Users/danielhorn/opt/anaconda3/lib/python3.9/site-packages/sklearn/utils/validation.py?line=961'>962</a>\u001b[0m     \u001b[39mraise\u001b[39;00m \u001b[39mValueError\u001b[39;00m(\u001b[39m\"\u001b[39m\u001b[39my cannot be None\u001b[39m\u001b[39m\"\u001b[39m)\n\u001b[0;32m--> <a href='file:///Users/danielhorn/opt/anaconda3/lib/python3.9/site-packages/sklearn/utils/validation.py?line=963'>964</a>\u001b[0m X \u001b[39m=\u001b[39m check_array(\n\u001b[1;32m    <a href='file:///Users/danielhorn/opt/anaconda3/lib/python3.9/site-packages/sklearn/utils/validation.py?line=964'>965</a>\u001b[0m     X,\n\u001b[1;32m    <a href='file:///Users/danielhorn/opt/anaconda3/lib/python3.9/site-packages/sklearn/utils/validation.py?line=965'>966</a>\u001b[0m     accept_sparse\u001b[39m=\u001b[39;49maccept_sparse,\n\u001b[1;32m    <a href='file:///Users/danielhorn/opt/anaconda3/lib/python3.9/site-packages/sklearn/utils/validation.py?line=966'>967</a>\u001b[0m     accept_large_sparse\u001b[39m=\u001b[39;49maccept_large_sparse,\n\u001b[1;32m    <a href='file:///Users/danielhorn/opt/anaconda3/lib/python3.9/site-packages/sklearn/utils/validation.py?line=967'>968</a>\u001b[0m     dtype\u001b[39m=\u001b[39;49mdtype,\n\u001b[1;32m    <a href='file:///Users/danielhorn/opt/anaconda3/lib/python3.9/site-packages/sklearn/utils/validation.py?line=968'>969</a>\u001b[0m     order\u001b[39m=\u001b[39;49morder,\n\u001b[1;32m    <a href='file:///Users/danielhorn/opt/anaconda3/lib/python3.9/site-packages/sklearn/utils/validation.py?line=969'>970</a>\u001b[0m     copy\u001b[39m=\u001b[39;49mcopy,\n\u001b[1;32m    <a href='file:///Users/danielhorn/opt/anaconda3/lib/python3.9/site-packages/sklearn/utils/validation.py?line=970'>971</a>\u001b[0m     force_all_finite\u001b[39m=\u001b[39;49mforce_all_finite,\n\u001b[1;32m    <a href='file:///Users/danielhorn/opt/anaconda3/lib/python3.9/site-packages/sklearn/utils/validation.py?line=971'>972</a>\u001b[0m     ensure_2d\u001b[39m=\u001b[39;49mensure_2d,\n\u001b[1;32m    <a href='file:///Users/danielhorn/opt/anaconda3/lib/python3.9/site-packages/sklearn/utils/validation.py?line=972'>973</a>\u001b[0m     allow_nd\u001b[39m=\u001b[39;49mallow_nd,\n\u001b[1;32m    <a href='file:///Users/danielhorn/opt/anaconda3/lib/python3.9/site-packages/sklearn/utils/validation.py?line=973'>974</a>\u001b[0m     ensure_min_samples\u001b[39m=\u001b[39;49mensure_min_samples,\n\u001b[1;32m    <a href='file:///Users/danielhorn/opt/anaconda3/lib/python3.9/site-packages/sklearn/utils/validation.py?line=974'>975</a>\u001b[0m     ensure_min_features\u001b[39m=\u001b[39;49mensure_min_features,\n\u001b[1;32m    <a href='file:///Users/danielhorn/opt/anaconda3/lib/python3.9/site-packages/sklearn/utils/validation.py?line=975'>976</a>\u001b[0m     estimator\u001b[39m=\u001b[39;49mestimator,\n\u001b[1;32m    <a href='file:///Users/danielhorn/opt/anaconda3/lib/python3.9/site-packages/sklearn/utils/validation.py?line=976'>977</a>\u001b[0m )\n\u001b[1;32m    <a href='file:///Users/danielhorn/opt/anaconda3/lib/python3.9/site-packages/sklearn/utils/validation.py?line=978'>979</a>\u001b[0m y \u001b[39m=\u001b[39m _check_y(y, multi_output\u001b[39m=\u001b[39mmulti_output, y_numeric\u001b[39m=\u001b[39my_numeric)\n\u001b[1;32m    <a href='file:///Users/danielhorn/opt/anaconda3/lib/python3.9/site-packages/sklearn/utils/validation.py?line=980'>981</a>\u001b[0m check_consistent_length(X, y)\n",
      "File \u001b[0;32m~/opt/anaconda3/lib/python3.9/site-packages/sklearn/utils/validation.py:746\u001b[0m, in \u001b[0;36mcheck_array\u001b[0;34m(array, accept_sparse, accept_large_sparse, dtype, order, copy, force_all_finite, ensure_2d, allow_nd, ensure_min_samples, ensure_min_features, estimator)\u001b[0m\n\u001b[1;32m    <a href='file:///Users/danielhorn/opt/anaconda3/lib/python3.9/site-packages/sklearn/utils/validation.py?line=743'>744</a>\u001b[0m         array \u001b[39m=\u001b[39m array\u001b[39m.\u001b[39mastype(dtype, casting\u001b[39m=\u001b[39m\u001b[39m\"\u001b[39m\u001b[39munsafe\u001b[39m\u001b[39m\"\u001b[39m, copy\u001b[39m=\u001b[39m\u001b[39mFalse\u001b[39;00m)\n\u001b[1;32m    <a href='file:///Users/danielhorn/opt/anaconda3/lib/python3.9/site-packages/sklearn/utils/validation.py?line=744'>745</a>\u001b[0m     \u001b[39melse\u001b[39;00m:\n\u001b[0;32m--> <a href='file:///Users/danielhorn/opt/anaconda3/lib/python3.9/site-packages/sklearn/utils/validation.py?line=745'>746</a>\u001b[0m         array \u001b[39m=\u001b[39m np\u001b[39m.\u001b[39;49masarray(array, order\u001b[39m=\u001b[39;49morder, dtype\u001b[39m=\u001b[39;49mdtype)\n\u001b[1;32m    <a href='file:///Users/danielhorn/opt/anaconda3/lib/python3.9/site-packages/sklearn/utils/validation.py?line=746'>747</a>\u001b[0m \u001b[39mexcept\u001b[39;00m ComplexWarning \u001b[39mas\u001b[39;00m complex_warning:\n\u001b[1;32m    <a href='file:///Users/danielhorn/opt/anaconda3/lib/python3.9/site-packages/sklearn/utils/validation.py?line=747'>748</a>\u001b[0m     \u001b[39mraise\u001b[39;00m \u001b[39mValueError\u001b[39;00m(\n\u001b[1;32m    <a href='file:///Users/danielhorn/opt/anaconda3/lib/python3.9/site-packages/sklearn/utils/validation.py?line=748'>749</a>\u001b[0m         \u001b[39m\"\u001b[39m\u001b[39mComplex data not supported\u001b[39m\u001b[39m\\n\u001b[39;00m\u001b[39m{}\u001b[39;00m\u001b[39m\\n\u001b[39;00m\u001b[39m\"\u001b[39m\u001b[39m.\u001b[39mformat(array)\n\u001b[1;32m    <a href='file:///Users/danielhorn/opt/anaconda3/lib/python3.9/site-packages/sklearn/utils/validation.py?line=749'>750</a>\u001b[0m     ) \u001b[39mfrom\u001b[39;00m \u001b[39mcomplex_warning\u001b[39;00m\n",
      "File \u001b[0;32m~/opt/anaconda3/lib/python3.9/site-packages/pandas/core/generic.py:2064\u001b[0m, in \u001b[0;36mNDFrame.__array__\u001b[0;34m(self, dtype)\u001b[0m\n\u001b[1;32m   <a href='file:///Users/danielhorn/opt/anaconda3/lib/python3.9/site-packages/pandas/core/generic.py?line=2062'>2063</a>\u001b[0m \u001b[39mdef\u001b[39;00m \u001b[39m__array__\u001b[39m(\u001b[39mself\u001b[39m, dtype: npt\u001b[39m.\u001b[39mDTypeLike \u001b[39m|\u001b[39m \u001b[39mNone\u001b[39;00m \u001b[39m=\u001b[39m \u001b[39mNone\u001b[39;00m) \u001b[39m-\u001b[39m\u001b[39m>\u001b[39m np\u001b[39m.\u001b[39mndarray:\n\u001b[0;32m-> <a href='file:///Users/danielhorn/opt/anaconda3/lib/python3.9/site-packages/pandas/core/generic.py?line=2063'>2064</a>\u001b[0m     \u001b[39mreturn\u001b[39;00m np\u001b[39m.\u001b[39;49masarray(\u001b[39mself\u001b[39;49m\u001b[39m.\u001b[39;49m_values, dtype\u001b[39m=\u001b[39;49mdtype)\n",
      "\u001b[0;31mValueError\u001b[0m: could not convert string to float: 'delay in paying off in the past'"
     ]
    }
   ],
   "source": [
    "# use logistic regression to predict target variable\n",
    "from sklearn.linear_model import LogisticRegression\n",
    "from sklearn.model_selection import train_test_split\n",
    "\n",
    "# split data into train and test set\n",
    "X_train, X_test, y_train, y_test = train_test_split(german_data.drop('Target', axis=1), german_data['Target'], test_size=0.3, random_state=42)\n",
    "\n",
    "# create logistic regression model\n",
    "logreg = LogisticRegression()\n",
    "# fit the model\n",
    "logreg.fit(X_train, y_train)\n",
    "# predict the target variable\n",
    "y_pred = logreg.predict(X_test)\n",
    "\n",
    "# calculate the accuracy of the model\n",
    "from sklearn.metrics import accuracy_score\n",
    "accuracy_score(y_test, y_pred)\n",
    "\n"
   ]
  },
  {
   "cell_type": "code",
   "execution_count": null,
   "metadata": {},
   "outputs": [],
   "source": [
    "\n",
    "\n"
   ]
  }
 ],
 "metadata": {
  "interpreter": {
   "hash": "800f0b85eeee35c3cacd47e90f543e046d27129974546771a66e11c352dc03d2"
  },
  "kernelspec": {
   "display_name": "Python 3.9.7 ('base')",
   "language": "python",
   "name": "python3"
  },
  "language_info": {
   "codemirror_mode": {
    "name": "ipython",
    "version": 3
   },
   "file_extension": ".py",
   "mimetype": "text/x-python",
   "name": "python",
   "nbconvert_exporter": "python",
   "pygments_lexer": "ipython3",
   "version": "3.9.7"
  },
  "orig_nbformat": 4
 },
 "nbformat": 4,
 "nbformat_minor": 2
}
