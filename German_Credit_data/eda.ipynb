{
 "cells": [
  {
   "cell_type": "code",
   "execution_count": 58,
   "metadata": {},
   "outputs": [],
   "source": [
    "import pandas as pd\n",
    "import numpy as np\n",
    "\n",
    "# import matplotlib.pyplot as plt\n",
    "import seaborn as sns\n",
    "import matplotlib.pyplot as plt\n",
    "import json \n",
    "\n",
    "#plot confusion matrix\n",
    "from sklearn.metrics import confusion_matrix\n",
    "\n",
    "\n"
   ]
  },
  {
   "cell_type": "markdown",
   "metadata": {},
   "source": [
    "# Load the Dataset"
   ]
  },
  {
   "cell_type": "code",
   "execution_count": 59,
   "metadata": {},
   "outputs": [
    {
     "data": {
      "text/html": [
       "<div>\n",
       "<style scoped>\n",
       "    .dataframe tbody tr th:only-of-type {\n",
       "        vertical-align: middle;\n",
       "    }\n",
       "\n",
       "    .dataframe tbody tr th {\n",
       "        vertical-align: top;\n",
       "    }\n",
       "\n",
       "    .dataframe thead th {\n",
       "        text-align: right;\n",
       "    }\n",
       "</style>\n",
       "<table border=\"1\" class=\"dataframe\">\n",
       "  <thead>\n",
       "    <tr style=\"text-align: right;\">\n",
       "      <th></th>\n",
       "      <th>A11</th>\n",
       "      <th>6</th>\n",
       "      <th>A34</th>\n",
       "      <th>A43</th>\n",
       "      <th>1169</th>\n",
       "      <th>A65</th>\n",
       "      <th>A75</th>\n",
       "      <th>4</th>\n",
       "      <th>A93</th>\n",
       "      <th>A101</th>\n",
       "      <th>...</th>\n",
       "      <th>A121</th>\n",
       "      <th>67</th>\n",
       "      <th>A143</th>\n",
       "      <th>A152</th>\n",
       "      <th>2</th>\n",
       "      <th>A173</th>\n",
       "      <th>1</th>\n",
       "      <th>A192</th>\n",
       "      <th>A201</th>\n",
       "      <th>1.1</th>\n",
       "    </tr>\n",
       "  </thead>\n",
       "  <tbody>\n",
       "    <tr>\n",
       "      <th>0</th>\n",
       "      <td>A12</td>\n",
       "      <td>48</td>\n",
       "      <td>A32</td>\n",
       "      <td>A43</td>\n",
       "      <td>5951</td>\n",
       "      <td>A61</td>\n",
       "      <td>A73</td>\n",
       "      <td>2</td>\n",
       "      <td>A92</td>\n",
       "      <td>A101</td>\n",
       "      <td>...</td>\n",
       "      <td>A121</td>\n",
       "      <td>22</td>\n",
       "      <td>A143</td>\n",
       "      <td>A152</td>\n",
       "      <td>1</td>\n",
       "      <td>A173</td>\n",
       "      <td>1</td>\n",
       "      <td>A191</td>\n",
       "      <td>A201</td>\n",
       "      <td>2</td>\n",
       "    </tr>\n",
       "    <tr>\n",
       "      <th>1</th>\n",
       "      <td>A14</td>\n",
       "      <td>12</td>\n",
       "      <td>A34</td>\n",
       "      <td>A46</td>\n",
       "      <td>2096</td>\n",
       "      <td>A61</td>\n",
       "      <td>A74</td>\n",
       "      <td>2</td>\n",
       "      <td>A93</td>\n",
       "      <td>A101</td>\n",
       "      <td>...</td>\n",
       "      <td>A121</td>\n",
       "      <td>49</td>\n",
       "      <td>A143</td>\n",
       "      <td>A152</td>\n",
       "      <td>1</td>\n",
       "      <td>A172</td>\n",
       "      <td>2</td>\n",
       "      <td>A191</td>\n",
       "      <td>A201</td>\n",
       "      <td>1</td>\n",
       "    </tr>\n",
       "    <tr>\n",
       "      <th>2</th>\n",
       "      <td>A11</td>\n",
       "      <td>42</td>\n",
       "      <td>A32</td>\n",
       "      <td>A42</td>\n",
       "      <td>7882</td>\n",
       "      <td>A61</td>\n",
       "      <td>A74</td>\n",
       "      <td>2</td>\n",
       "      <td>A93</td>\n",
       "      <td>A103</td>\n",
       "      <td>...</td>\n",
       "      <td>A122</td>\n",
       "      <td>45</td>\n",
       "      <td>A143</td>\n",
       "      <td>A153</td>\n",
       "      <td>1</td>\n",
       "      <td>A173</td>\n",
       "      <td>2</td>\n",
       "      <td>A191</td>\n",
       "      <td>A201</td>\n",
       "      <td>1</td>\n",
       "    </tr>\n",
       "    <tr>\n",
       "      <th>3</th>\n",
       "      <td>A11</td>\n",
       "      <td>24</td>\n",
       "      <td>A33</td>\n",
       "      <td>A40</td>\n",
       "      <td>4870</td>\n",
       "      <td>A61</td>\n",
       "      <td>A73</td>\n",
       "      <td>3</td>\n",
       "      <td>A93</td>\n",
       "      <td>A101</td>\n",
       "      <td>...</td>\n",
       "      <td>A124</td>\n",
       "      <td>53</td>\n",
       "      <td>A143</td>\n",
       "      <td>A153</td>\n",
       "      <td>2</td>\n",
       "      <td>A173</td>\n",
       "      <td>2</td>\n",
       "      <td>A191</td>\n",
       "      <td>A201</td>\n",
       "      <td>2</td>\n",
       "    </tr>\n",
       "    <tr>\n",
       "      <th>4</th>\n",
       "      <td>A14</td>\n",
       "      <td>36</td>\n",
       "      <td>A32</td>\n",
       "      <td>A46</td>\n",
       "      <td>9055</td>\n",
       "      <td>A65</td>\n",
       "      <td>A73</td>\n",
       "      <td>2</td>\n",
       "      <td>A93</td>\n",
       "      <td>A101</td>\n",
       "      <td>...</td>\n",
       "      <td>A124</td>\n",
       "      <td>35</td>\n",
       "      <td>A143</td>\n",
       "      <td>A153</td>\n",
       "      <td>1</td>\n",
       "      <td>A172</td>\n",
       "      <td>2</td>\n",
       "      <td>A192</td>\n",
       "      <td>A201</td>\n",
       "      <td>1</td>\n",
       "    </tr>\n",
       "    <tr>\n",
       "      <th>...</th>\n",
       "      <td>...</td>\n",
       "      <td>...</td>\n",
       "      <td>...</td>\n",
       "      <td>...</td>\n",
       "      <td>...</td>\n",
       "      <td>...</td>\n",
       "      <td>...</td>\n",
       "      <td>...</td>\n",
       "      <td>...</td>\n",
       "      <td>...</td>\n",
       "      <td>...</td>\n",
       "      <td>...</td>\n",
       "      <td>...</td>\n",
       "      <td>...</td>\n",
       "      <td>...</td>\n",
       "      <td>...</td>\n",
       "      <td>...</td>\n",
       "      <td>...</td>\n",
       "      <td>...</td>\n",
       "      <td>...</td>\n",
       "      <td>...</td>\n",
       "    </tr>\n",
       "    <tr>\n",
       "      <th>994</th>\n",
       "      <td>A14</td>\n",
       "      <td>12</td>\n",
       "      <td>A32</td>\n",
       "      <td>A42</td>\n",
       "      <td>1736</td>\n",
       "      <td>A61</td>\n",
       "      <td>A74</td>\n",
       "      <td>3</td>\n",
       "      <td>A92</td>\n",
       "      <td>A101</td>\n",
       "      <td>...</td>\n",
       "      <td>A121</td>\n",
       "      <td>31</td>\n",
       "      <td>A143</td>\n",
       "      <td>A152</td>\n",
       "      <td>1</td>\n",
       "      <td>A172</td>\n",
       "      <td>1</td>\n",
       "      <td>A191</td>\n",
       "      <td>A201</td>\n",
       "      <td>1</td>\n",
       "    </tr>\n",
       "    <tr>\n",
       "      <th>995</th>\n",
       "      <td>A11</td>\n",
       "      <td>30</td>\n",
       "      <td>A32</td>\n",
       "      <td>A41</td>\n",
       "      <td>3857</td>\n",
       "      <td>A61</td>\n",
       "      <td>A73</td>\n",
       "      <td>4</td>\n",
       "      <td>A91</td>\n",
       "      <td>A101</td>\n",
       "      <td>...</td>\n",
       "      <td>A122</td>\n",
       "      <td>40</td>\n",
       "      <td>A143</td>\n",
       "      <td>A152</td>\n",
       "      <td>1</td>\n",
       "      <td>A174</td>\n",
       "      <td>1</td>\n",
       "      <td>A192</td>\n",
       "      <td>A201</td>\n",
       "      <td>1</td>\n",
       "    </tr>\n",
       "    <tr>\n",
       "      <th>996</th>\n",
       "      <td>A14</td>\n",
       "      <td>12</td>\n",
       "      <td>A32</td>\n",
       "      <td>A43</td>\n",
       "      <td>804</td>\n",
       "      <td>A61</td>\n",
       "      <td>A75</td>\n",
       "      <td>4</td>\n",
       "      <td>A93</td>\n",
       "      <td>A101</td>\n",
       "      <td>...</td>\n",
       "      <td>A123</td>\n",
       "      <td>38</td>\n",
       "      <td>A143</td>\n",
       "      <td>A152</td>\n",
       "      <td>1</td>\n",
       "      <td>A173</td>\n",
       "      <td>1</td>\n",
       "      <td>A191</td>\n",
       "      <td>A201</td>\n",
       "      <td>1</td>\n",
       "    </tr>\n",
       "    <tr>\n",
       "      <th>997</th>\n",
       "      <td>A11</td>\n",
       "      <td>45</td>\n",
       "      <td>A32</td>\n",
       "      <td>A43</td>\n",
       "      <td>1845</td>\n",
       "      <td>A61</td>\n",
       "      <td>A73</td>\n",
       "      <td>4</td>\n",
       "      <td>A93</td>\n",
       "      <td>A101</td>\n",
       "      <td>...</td>\n",
       "      <td>A124</td>\n",
       "      <td>23</td>\n",
       "      <td>A143</td>\n",
       "      <td>A153</td>\n",
       "      <td>1</td>\n",
       "      <td>A173</td>\n",
       "      <td>1</td>\n",
       "      <td>A192</td>\n",
       "      <td>A201</td>\n",
       "      <td>2</td>\n",
       "    </tr>\n",
       "    <tr>\n",
       "      <th>998</th>\n",
       "      <td>A12</td>\n",
       "      <td>45</td>\n",
       "      <td>A34</td>\n",
       "      <td>A41</td>\n",
       "      <td>4576</td>\n",
       "      <td>A62</td>\n",
       "      <td>A71</td>\n",
       "      <td>3</td>\n",
       "      <td>A93</td>\n",
       "      <td>A101</td>\n",
       "      <td>...</td>\n",
       "      <td>A123</td>\n",
       "      <td>27</td>\n",
       "      <td>A143</td>\n",
       "      <td>A152</td>\n",
       "      <td>1</td>\n",
       "      <td>A173</td>\n",
       "      <td>1</td>\n",
       "      <td>A191</td>\n",
       "      <td>A201</td>\n",
       "      <td>1</td>\n",
       "    </tr>\n",
       "  </tbody>\n",
       "</table>\n",
       "<p>999 rows × 21 columns</p>\n",
       "</div>"
      ],
      "text/plain": [
       "     A11   6  A34  A43  1169  A65  A75  4  A93  A101  ...  A121  67  A143  \\\n",
       "0    A12  48  A32  A43  5951  A61  A73  2  A92  A101  ...  A121  22  A143   \n",
       "1    A14  12  A34  A46  2096  A61  A74  2  A93  A101  ...  A121  49  A143   \n",
       "2    A11  42  A32  A42  7882  A61  A74  2  A93  A103  ...  A122  45  A143   \n",
       "3    A11  24  A33  A40  4870  A61  A73  3  A93  A101  ...  A124  53  A143   \n",
       "4    A14  36  A32  A46  9055  A65  A73  2  A93  A101  ...  A124  35  A143   \n",
       "..   ...  ..  ...  ...   ...  ...  ... ..  ...   ...  ...   ...  ..   ...   \n",
       "994  A14  12  A32  A42  1736  A61  A74  3  A92  A101  ...  A121  31  A143   \n",
       "995  A11  30  A32  A41  3857  A61  A73  4  A91  A101  ...  A122  40  A143   \n",
       "996  A14  12  A32  A43   804  A61  A75  4  A93  A101  ...  A123  38  A143   \n",
       "997  A11  45  A32  A43  1845  A61  A73  4  A93  A101  ...  A124  23  A143   \n",
       "998  A12  45  A34  A41  4576  A62  A71  3  A93  A101  ...  A123  27  A143   \n",
       "\n",
       "     A152  2  A173  1  A192  A201 1.1  \n",
       "0    A152  1  A173  1  A191  A201   2  \n",
       "1    A152  1  A172  2  A191  A201   1  \n",
       "2    A153  1  A173  2  A191  A201   1  \n",
       "3    A153  2  A173  2  A191  A201   2  \n",
       "4    A153  1  A172  2  A192  A201   1  \n",
       "..    ... ..   ... ..   ...   ...  ..  \n",
       "994  A152  1  A172  1  A191  A201   1  \n",
       "995  A152  1  A174  1  A192  A201   1  \n",
       "996  A152  1  A173  1  A191  A201   1  \n",
       "997  A153  1  A173  1  A192  A201   2  \n",
       "998  A152  1  A173  1  A191  A201   1  \n",
       "\n",
       "[999 rows x 21 columns]"
      ]
     },
     "execution_count": 59,
     "metadata": {},
     "output_type": "execute_result"
    }
   ],
   "source": [
    "df = pandas = pd.read_csv('../German_Credit_data/Data/german.data', sep=' ')\n",
    "df"
   ]
  },
  {
   "cell_type": "markdown",
   "metadata": {},
   "source": [
    "# Da die Attributsnamen kodiert sind werden diese zu erst mithilfe der zugehörigen Dokumentation ersetzt. (Siehe Categorical.json)\n"
   ]
  },
  {
   "cell_type": "code",
   "execution_count": 60,
   "metadata": {},
   "outputs": [],
   "source": [
    "file_path = \"../German_Credit_data/Data/german.data\"\n",
    "\n",
    "names = ['Status Checking', 'Duration in Month', 'Credit History', 'Purpose', 'Credit Amount', \n",
    "         'Savings Account', 'Employement since', 'Installmentrate %', 'StatusSex', 'Otherdebtos', \n",
    "         'PresentResidence', 'Property', 'Age in years', 'Otherinstallment Plans', 'Housing', \n",
    "         'Number existing Credits', 'Job', 'Number people liable', 'Telephone', 'Foreign Worker', 'Target']\n",
    "german_data = pd.read_csv(file_path,names=names,delim_whitespace=True, header=None)\n",
    "catgories = open('../German_Credit_data/Data/categorical.json')\n",
    "json_data = json.load(catgories)\n",
    "json_data\n",
    "for h in names:\n",
    "    if h in json_data:\n",
    "        german_data[h] = german_data[h].map(json_data[h])"
   ]
  },
  {
   "cell_type": "code",
   "execution_count": 61,
   "metadata": {},
   "outputs": [
    {
     "data": {
      "text/html": [
       "<div>\n",
       "<style scoped>\n",
       "    .dataframe tbody tr th:only-of-type {\n",
       "        vertical-align: middle;\n",
       "    }\n",
       "\n",
       "    .dataframe tbody tr th {\n",
       "        vertical-align: top;\n",
       "    }\n",
       "\n",
       "    .dataframe thead th {\n",
       "        text-align: right;\n",
       "    }\n",
       "</style>\n",
       "<table border=\"1\" class=\"dataframe\">\n",
       "  <thead>\n",
       "    <tr style=\"text-align: right;\">\n",
       "      <th></th>\n",
       "      <th>Status Checking</th>\n",
       "      <th>Duration in Month</th>\n",
       "      <th>Credit History</th>\n",
       "      <th>Purpose</th>\n",
       "      <th>Credit Amount</th>\n",
       "      <th>Savings Account</th>\n",
       "      <th>Employement since</th>\n",
       "      <th>Installmentrate %</th>\n",
       "      <th>StatusSex</th>\n",
       "      <th>Otherdebtos</th>\n",
       "      <th>...</th>\n",
       "      <th>Property</th>\n",
       "      <th>Age in years</th>\n",
       "      <th>Otherinstallment Plans</th>\n",
       "      <th>Housing</th>\n",
       "      <th>Number existing Credits</th>\n",
       "      <th>Job</th>\n",
       "      <th>Number people liable</th>\n",
       "      <th>Telephone</th>\n",
       "      <th>Foreign Worker</th>\n",
       "      <th>Target</th>\n",
       "    </tr>\n",
       "  </thead>\n",
       "  <tbody>\n",
       "    <tr>\n",
       "      <th>0</th>\n",
       "      <td>less than 0 DM</td>\n",
       "      <td>6</td>\n",
       "      <td>critical account / other credits existing (not...</td>\n",
       "      <td>radio/television</td>\n",
       "      <td>1169</td>\n",
       "      <td>unknown / no savings account</td>\n",
       "      <td>bigger than or equal 7 years</td>\n",
       "      <td>4</td>\n",
       "      <td>male : single</td>\n",
       "      <td>None</td>\n",
       "      <td>...</td>\n",
       "      <td>real estate</td>\n",
       "      <td>67</td>\n",
       "      <td>None</td>\n",
       "      <td>own</td>\n",
       "      <td>2</td>\n",
       "      <td>skilled employee /official</td>\n",
       "      <td>1</td>\n",
       "      <td>yes, registered under the customers name</td>\n",
       "      <td>yes</td>\n",
       "      <td>1</td>\n",
       "    </tr>\n",
       "    <tr>\n",
       "      <th>1</th>\n",
       "      <td>0 less than or equal and less than 200 DM</td>\n",
       "      <td>48</td>\n",
       "      <td>existing credits paind back duly till now</td>\n",
       "      <td>radio/television</td>\n",
       "      <td>5951</td>\n",
       "      <td>less than 100DM</td>\n",
       "      <td>1 less than or equal and less than 4 years</td>\n",
       "      <td>2</td>\n",
       "      <td>female : divorced/separated/married</td>\n",
       "      <td>None</td>\n",
       "      <td>...</td>\n",
       "      <td>real estate</td>\n",
       "      <td>22</td>\n",
       "      <td>None</td>\n",
       "      <td>own</td>\n",
       "      <td>1</td>\n",
       "      <td>skilled employee /official</td>\n",
       "      <td>1</td>\n",
       "      <td>None</td>\n",
       "      <td>yes</td>\n",
       "      <td>2</td>\n",
       "    </tr>\n",
       "    <tr>\n",
       "      <th>2</th>\n",
       "      <td>no checking account</td>\n",
       "      <td>12</td>\n",
       "      <td>critical account / other credits existing (not...</td>\n",
       "      <td>education</td>\n",
       "      <td>2096</td>\n",
       "      <td>less than 100DM</td>\n",
       "      <td>4 less than and equal and less than 7 years</td>\n",
       "      <td>2</td>\n",
       "      <td>male : single</td>\n",
       "      <td>None</td>\n",
       "      <td>...</td>\n",
       "      <td>real estate</td>\n",
       "      <td>49</td>\n",
       "      <td>None</td>\n",
       "      <td>own</td>\n",
       "      <td>1</td>\n",
       "      <td>unskilled-resident</td>\n",
       "      <td>2</td>\n",
       "      <td>None</td>\n",
       "      <td>yes</td>\n",
       "      <td>1</td>\n",
       "    </tr>\n",
       "    <tr>\n",
       "      <th>3</th>\n",
       "      <td>less than 0 DM</td>\n",
       "      <td>42</td>\n",
       "      <td>existing credits paind back duly till now</td>\n",
       "      <td>furniture/equipment</td>\n",
       "      <td>7882</td>\n",
       "      <td>less than 100DM</td>\n",
       "      <td>4 less than and equal and less than 7 years</td>\n",
       "      <td>2</td>\n",
       "      <td>male : single</td>\n",
       "      <td>guarantor</td>\n",
       "      <td>...</td>\n",
       "      <td>if not real estate : building society savings ...</td>\n",
       "      <td>45</td>\n",
       "      <td>None</td>\n",
       "      <td>for free</td>\n",
       "      <td>1</td>\n",
       "      <td>skilled employee /official</td>\n",
       "      <td>2</td>\n",
       "      <td>None</td>\n",
       "      <td>yes</td>\n",
       "      <td>1</td>\n",
       "    </tr>\n",
       "    <tr>\n",
       "      <th>4</th>\n",
       "      <td>less than 0 DM</td>\n",
       "      <td>24</td>\n",
       "      <td>delay in paying off in the past</td>\n",
       "      <td>car (new)</td>\n",
       "      <td>4870</td>\n",
       "      <td>less than 100DM</td>\n",
       "      <td>1 less than or equal and less than 4 years</td>\n",
       "      <td>3</td>\n",
       "      <td>male : single</td>\n",
       "      <td>None</td>\n",
       "      <td>...</td>\n",
       "      <td>unknown/no property</td>\n",
       "      <td>53</td>\n",
       "      <td>None</td>\n",
       "      <td>for free</td>\n",
       "      <td>2</td>\n",
       "      <td>skilled employee /official</td>\n",
       "      <td>2</td>\n",
       "      <td>None</td>\n",
       "      <td>yes</td>\n",
       "      <td>2</td>\n",
       "    </tr>\n",
       "  </tbody>\n",
       "</table>\n",
       "<p>5 rows × 21 columns</p>\n",
       "</div>"
      ],
      "text/plain": [
       "                             Status Checking  Duration in Month  \\\n",
       "0                             less than 0 DM                  6   \n",
       "1  0 less than or equal and less than 200 DM                 48   \n",
       "2                        no checking account                 12   \n",
       "3                             less than 0 DM                 42   \n",
       "4                             less than 0 DM                 24   \n",
       "\n",
       "                                      Credit History              Purpose  \\\n",
       "0  critical account / other credits existing (not...     radio/television   \n",
       "1          existing credits paind back duly till now     radio/television   \n",
       "2  critical account / other credits existing (not...            education   \n",
       "3          existing credits paind back duly till now  furniture/equipment   \n",
       "4                    delay in paying off in the past            car (new)   \n",
       "\n",
       "   Credit Amount               Savings Account  \\\n",
       "0           1169  unknown / no savings account   \n",
       "1           5951               less than 100DM   \n",
       "2           2096               less than 100DM   \n",
       "3           7882               less than 100DM   \n",
       "4           4870               less than 100DM   \n",
       "\n",
       "                             Employement since  Installmentrate %  \\\n",
       "0                 bigger than or equal 7 years                  4   \n",
       "1   1 less than or equal and less than 4 years                  2   \n",
       "2  4 less than and equal and less than 7 years                  2   \n",
       "3  4 less than and equal and less than 7 years                  2   \n",
       "4   1 less than or equal and less than 4 years                  3   \n",
       "\n",
       "                             StatusSex Otherdebtos  ...  \\\n",
       "0                        male : single        None  ...   \n",
       "1  female : divorced/separated/married        None  ...   \n",
       "2                        male : single        None  ...   \n",
       "3                        male : single   guarantor  ...   \n",
       "4                        male : single        None  ...   \n",
       "\n",
       "                                            Property Age in years  \\\n",
       "0                                        real estate           67   \n",
       "1                                        real estate           22   \n",
       "2                                        real estate           49   \n",
       "3  if not real estate : building society savings ...           45   \n",
       "4                                unknown/no property           53   \n",
       "\n",
       "   Otherinstallment Plans   Housing Number existing Credits  \\\n",
       "0                    None       own                       2   \n",
       "1                    None       own                       1   \n",
       "2                    None       own                       1   \n",
       "3                    None  for free                       1   \n",
       "4                    None  for free                       2   \n",
       "\n",
       "                          Job Number people liable  \\\n",
       "0  skilled employee /official                    1   \n",
       "1  skilled employee /official                    1   \n",
       "2          unskilled-resident                    2   \n",
       "3  skilled employee /official                    2   \n",
       "4  skilled employee /official                    2   \n",
       "\n",
       "                                  Telephone Foreign Worker Target  \n",
       "0  yes, registered under the customers name            yes      1  \n",
       "1                                      None            yes      2  \n",
       "2                                      None            yes      1  \n",
       "3                                      None            yes      1  \n",
       "4                                      None            yes      2  \n",
       "\n",
       "[5 rows x 21 columns]"
      ]
     },
     "execution_count": 61,
     "metadata": {},
     "output_type": "execute_result"
    }
   ],
   "source": [
    "german_data.head(5)"
   ]
  },
  {
   "cell_type": "code",
   "execution_count": 62,
   "metadata": {},
   "outputs": [
    {
     "name": "stderr",
     "output_type": "stream",
     "text": [
      "objc[37674]: Class WebSwapCGLLayer is implemented in both /System/Library/Frameworks/WebKit.framework/Versions/A/Frameworks/WebCore.framework/Versions/A/Frameworks/libANGLE-shared.dylib (0x7ffb4328e948) and /Applications/Google Chrome.app/Contents/Frameworks/Google Chrome Framework.framework/Versions/102.0.5005.61/Libraries/libGLESv2.dylib (0x113142290). One of the two will be used. Which one is undefined.\n",
      "[0601/132958.568037:INFO:headless_shell.cc(660)] Written to file /var/folders/rf/kg6tbnbs6md8psmvxmk30hmw0000gn/T/tmpmq32x7g3/temp.png.\n",
      "objc[37701]: Class WebSwapCGLLayer is implemented in both /System/Library/Frameworks/WebKit.framework/Versions/A/Frameworks/WebCore.framework/Versions/A/Frameworks/libANGLE-shared.dylib (0x7ffb4328e948) and /Applications/Google Chrome.app/Contents/Frameworks/Google Chrome Framework.framework/Versions/102.0.5005.61/Libraries/libGLESv2.dylib (0x1093e3290). One of the two will be used. Which one is undefined.\n",
      "[0601/133000.915264:INFO:headless_shell.cc(660)] Written to file /var/folders/rf/kg6tbnbs6md8psmvxmk30hmw0000gn/T/tmpg5j6iu2d/temp.png.\n",
      "objc[37714]: Class WebSwapCGLLayer is implemented in both /System/Library/Frameworks/WebKit.framework/Versions/A/Frameworks/WebCore.framework/Versions/A/Frameworks/libANGLE-shared.dylib (0x7ffb4328e948) and /Applications/Google Chrome.app/Contents/Frameworks/Google Chrome Framework.framework/Versions/102.0.5005.61/Libraries/libGLESv2.dylib (0x11a0de290). One of the two will be used. Which one is undefined.\n",
      "[0601/133003.435612:INFO:headless_shell.cc(660)] Written to file /var/folders/rf/kg6tbnbs6md8psmvxmk30hmw0000gn/T/tmpl31jj3_f/temp.png.\n",
      "objc[37730]: Class WebSwapCGLLayer is implemented in both /System/Library/Frameworks/WebKit.framework/Versions/A/Frameworks/WebCore.framework/Versions/A/Frameworks/libANGLE-shared.dylib (0x7ffb4328e948) and /Applications/Google Chrome.app/Contents/Frameworks/Google Chrome Framework.framework/Versions/102.0.5005.61/Libraries/libGLESv2.dylib (0x112379290). One of the two will be used. Which one is undefined.\n",
      "[0601/133007.563628:INFO:headless_shell.cc(660)] Written to file /var/folders/rf/kg6tbnbs6md8psmvxmk30hmw0000gn/T/tmp7cg9w1o5/temp.png.\n"
     ]
    }
   ],
   "source": [
    "import dataframe_image as dfi\n",
    "german_data.head(5).dfi.export('df.png')"
   ]
  },
  {
   "cell_type": "code",
   "execution_count": 63,
   "metadata": {},
   "outputs": [
    {
     "data": {
      "text/plain": [
       "Status Checking            0\n",
       "Duration in Month          0\n",
       "Credit History             0\n",
       "Purpose                    0\n",
       "Credit Amount              0\n",
       "Savings Account            0\n",
       "Employement since          0\n",
       "Installmentrate %          0\n",
       "StatusSex                  0\n",
       "Otherdebtos                0\n",
       "PresentResidence           0\n",
       "Property                   0\n",
       "Age in years               0\n",
       "Otherinstallment Plans     0\n",
       "Housing                    0\n",
       "Number existing Credits    0\n",
       "Job                        0\n",
       "Number people liable       0\n",
       "Telephone                  0\n",
       "Foreign Worker             0\n",
       "Target                     0\n",
       "dtype: int64"
      ]
     },
     "execution_count": 63,
     "metadata": {},
     "output_type": "execute_result"
    }
   ],
   "source": [
    "# check for missing values\n",
    "german_data.isnull().sum()\n"
   ]
  },
  {
   "cell_type": "code",
   "execution_count": 64,
   "metadata": {},
   "outputs": [],
   "source": [
    "df_styled = german_data.describe().style.background_gradient()"
   ]
  },
  {
   "cell_type": "markdown",
   "metadata": {},
   "source": [
    "# Daten auf Plausibilität prüfen"
   ]
  },
  {
   "cell_type": "code",
   "execution_count": 65,
   "metadata": {},
   "outputs": [
    {
     "name": "stderr",
     "output_type": "stream",
     "text": [
      "/Users/danielhorn/opt/anaconda3/lib/python3.9/site-packages/dataframe_image/_pandas_accessor.py:69: FutureWarning: this method is deprecated in favour of `Styler.to_html()`\n",
      "  html = '<div>' + obj.render() + '</div>'\n",
      "objc[37748]: Class WebSwapCGLLayer is implemented in both /System/Library/Frameworks/WebKit.framework/Versions/A/Frameworks/WebCore.framework/Versions/A/Frameworks/libANGLE-shared.dylib (0x7ffb4328e948) and /Applications/Google Chrome.app/Contents/Frameworks/Google Chrome Framework.framework/Versions/102.0.5005.61/Libraries/libGLESv2.dylib (0x11642a290). One of the two will be used. Which one is undefined.\n",
      "[0601/133010.522546:INFO:headless_shell.cc(660)] Written to file /var/folders/rf/kg6tbnbs6md8psmvxmk30hmw0000gn/T/tmpyrcs5jy2/temp.png.\n"
     ]
    }
   ],
   "source": [
    "# describe the data\n",
    "dfi.export(df_styled, 'df_stats.png')\n"
   ]
  },
  {
   "cell_type": "code",
   "execution_count": 66,
   "metadata": {},
   "outputs": [
    {
     "data": {
      "text/plain": [
       "<AxesSubplot:>"
      ]
     },
     "execution_count": 66,
     "metadata": {},
     "output_type": "execute_result"
    },
    {
     "data": {
      "image/png": "[encoded data removed]",
      "text/plain": [
       "<Figure size 432x288 with 1 Axes>"
      ]
     },
     "metadata": {
      "needs_background": "light"
     },
     "output_type": "display_data"
    }
   ],
   "source": [
    "#check credit amount for outliers\n",
    "german_data['Credit Amount'].hist(bins=50)\n",
    "# x achse log \n",
    "\n"
   ]
  },
  {
   "cell_type": "code",
   "execution_count": 67,
   "metadata": {},
   "outputs": [
    {
     "data": {
      "text/plain": [
       "<AxesSubplot:ylabel='Frequency'>"
      ]
     },
     "execution_count": 67,
     "metadata": {},
     "output_type": "execute_result"
    },
    {
     "data": {
      "image/png": "[encoded data removed]",
      "text/plain": [
       "<Figure size 1080x360 with 1 Axes>"
      ]
     },
     "metadata": {
      "needs_background": "light"
     },
     "output_type": "display_data"
    }
   ],
   "source": [
    "plt.subplot(1, 2, 1)\n",
    "german_data['Credit Amount'].plot(kind='hist', logx=False, bins=50)\n",
    "# plot histogram credit amout where target is 2\n",
    "german_data.loc[german_data['Target'] == 2, 'Credit Amount'].plot(kind='hist', logx=False, bins=50, color='red', figsize=(15, 5))\n"
   ]
  },
  {
   "cell_type": "code",
   "execution_count": 68,
   "metadata": {},
   "outputs": [
    {
     "data": {
      "text/plain": [
       "<AxesSubplot:ylabel='Target'>"
      ]
     },
     "execution_count": 68,
     "metadata": {},
     "output_type": "execute_result"
    },
    {
     "data": {
      "image/png": "[encoded data removed]",
      "text/plain": [
       "<Figure size 1080x360 with 1 Axes>"
      ]
     },
     "metadata": {},
     "output_type": "display_data"
    }
   ],
   "source": [
    "# plot target variable as pie chart with target 1 and target 2 as labels colored red and blue\n",
    "\n",
    "german_data['Target'].value_counts().plot(kind='pie', colors=['red', 'blue'], autopct='%1.1f%%', figsize=(15, 5))"
   ]
  },
  {
   "cell_type": "markdown",
   "metadata": {},
   "source": [
    "# Zielvariable ist Ungleichverteilt"
   ]
  },
  {
   "cell_type": "markdown",
   "metadata": {},
   "source": [
    "# Untersuchung auf Outlier"
   ]
  },
  {
   "cell_type": "code",
   "execution_count": 69,
   "metadata": {},
   "outputs": [
    {
     "data": {
      "text/plain": [
       "<AxesSubplot:title={'center':'Credit Amount'}, xlabel='Target'>"
      ]
     },
     "execution_count": 69,
     "metadata": {},
     "output_type": "execute_result"
    },
    {
     "data": {
      "image/png": "[encoded data removed]",
      "text/plain": [
       "<Figure size 1080x360 with 1 Axes>"
      ]
     },
     "metadata": {
      "needs_background": "light"
     },
     "output_type": "display_data"
    }
   ],
   "source": [
    "#box plot credit amount outliers\n",
    "german_data.boxplot(column='Credit Amount', by='Target', figsize=(15, 5))"
   ]
  },
  {
   "cell_type": "code",
   "execution_count": 70,
   "metadata": {},
   "outputs": [
    {
     "data": {
      "text/plain": [
       "<AxesSubplot:xlabel='Credit Amount', ylabel='Target'>"
      ]
     },
     "execution_count": 70,
     "metadata": {},
     "output_type": "execute_result"
    },
    {
     "data": {
      "image/png": "[encoded data removed]",
      "text/plain": [
       "<Figure size 1080x360 with 1 Axes>"
      ]
     },
     "metadata": {
      "needs_background": "light"
     },
     "output_type": "display_data"
    }
   ],
   "source": [
    "# scatter plot credit amount\n",
    "german_data.plot(kind='scatter', x='Credit Amount', y='Target', figsize=(15, 5))"
   ]
  },
  {
   "cell_type": "code",
   "execution_count": 71,
   "metadata": {},
   "outputs": [
    {
     "data": {
      "text/plain": [
       "<AxesSubplot:>"
      ]
     },
     "execution_count": 71,
     "metadata": {},
     "output_type": "execute_result"
    },
    {
     "data": {
      "image/png": "[encoded data removed]",
      "text/plain": [
       "<Figure size 1080x360 with 1 Axes>"
      ]
     },
     "metadata": {
      "needs_background": "light"
     },
     "output_type": "display_data"
    }
   ],
   "source": [
    "# plot distribution of target variable with color 2 as red and color 1 as blue\n",
    "\n",
    "german_data['Target'].value_counts().plot(kind='bar', figsize=(15, 5), color=['blue', 'red'])"
   ]
  },
  {
   "cell_type": "code",
   "execution_count": 72,
   "metadata": {},
   "outputs": [],
   "source": [
    "# calculate ZScore for credit amount\n",
    "german_data['ZScore'] = (german_data['Credit Amount'] - german_data['Credit Amount'].mean()) / german_data['Credit Amount'].std()\n"
   ]
  },
  {
   "cell_type": "code",
   "execution_count": 73,
   "metadata": {},
   "outputs": [
    {
     "data": {
      "text/plain": [
       "<AxesSubplot:ylabel='Frequency'>"
      ]
     },
     "execution_count": 73,
     "metadata": {},
     "output_type": "execute_result"
    },
    {
     "data": {
      "image/png": "[encoded data removed]",
      "text/plain": [
       "<Figure size 1080x360 with 1 Axes>"
      ]
     },
     "metadata": {
      "needs_background": "light"
     },
     "output_type": "display_data"
    }
   ],
   "source": [
    "#plot zscore for credit amount\n",
    "german_data['ZScore'].plot(kind='hist', bins=50, figsize=(15, 5))\n"
   ]
  },
  {
   "cell_type": "code",
   "execution_count": 74,
   "metadata": {},
   "outputs": [
    {
     "name": "stdout",
     "output_type": "stream",
     "text": [
      "Upper bound: 0      False\n",
      "1      False\n",
      "2      False\n",
      "3      False\n",
      "4      False\n",
      "       ...  \n",
      "995    False\n",
      "996    False\n",
      "997    False\n",
      "998    False\n",
      "999    False\n",
      "Name: Credit Amount, Length: 1000, dtype: bool\n",
      "(array([  5,  17,  18,  57,  63,  70,  78,  87,  95, 105, 130, 134, 136,\n",
      "       180, 205, 226, 236, 268, 272, 274, 285, 291, 295, 304, 333, 373,\n",
      "       374, 378, 381, 395, 402, 417, 431, 450, 491, 496, 509, 525, 549,\n",
      "       563, 615, 616, 637, 645, 653, 657, 672, 684, 714, 736, 744, 763,\n",
      "       771, 805, 808, 812, 818, 828, 832, 854, 881, 887, 895, 902, 915,\n",
      "       917, 921, 927, 945, 953, 980, 983]),)\n",
      "Lower bound: 0      False\n",
      "1      False\n",
      "2      False\n",
      "3      False\n",
      "4      False\n",
      "       ...  \n",
      "995    False\n",
      "996    False\n",
      "997    False\n",
      "998    False\n",
      "999    False\n",
      "Name: Credit Amount, Length: 1000, dtype: bool\n",
      "(array([], dtype=int64),)\n"
     ]
    },
    {
     "name": "stderr",
     "output_type": "stream",
     "text": [
      "/var/folders/rf/kg6tbnbs6md8psmvxmk30hmw0000gn/T/ipykernel_32130/3230260827.py:2: DeprecationWarning: the `interpolation=` argument to percentile was renamed to `method=`, which has additional options.\n",
      "Users of the modes 'nearest', 'lower', 'higher', or 'midpoint' are encouraged to review the method they. (Deprecated NumPy 1.22)\n",
      "  Q1 = np.percentile(german_data['Credit Amount'], 25,\n",
      "/var/folders/rf/kg6tbnbs6md8psmvxmk30hmw0000gn/T/ipykernel_32130/3230260827.py:5: DeprecationWarning: the `interpolation=` argument to percentile was renamed to `method=`, which has additional options.\n",
      "Users of the modes 'nearest', 'lower', 'higher', or 'midpoint' are encouraged to review the method they. (Deprecated NumPy 1.22)\n",
      "  Q3 = np.percentile(german_data['Credit Amount'], 75,\n"
     ]
    }
   ],
   "source": [
    "# calculate IQR for credit amount\n",
    "Q1 = np.percentile(german_data['Credit Amount'], 25,\n",
    "                   interpolation = 'midpoint')\n",
    " \n",
    "Q3 = np.percentile(german_data['Credit Amount'], 75,\n",
    "                   interpolation = 'midpoint')\n",
    "IQR = Q3 - Q1\n",
    "\n",
    "upper = Q3 +1.5*IQR\n",
    "lower = Q1 - 1.5*IQR\n",
    "upper = german_data['Credit Amount'] >= (Q3+1.5*IQR)\n",
    " \n",
    "print(\"Upper bound:\",upper)\n",
    "print(np.where(upper))\n",
    " \n",
    "# Below Lower bound\n",
    "lower = german_data['Credit Amount'] <= (Q1-1.5*IQR)\n",
    "print(\"Lower bound:\", lower)\n",
    "print(np.where(lower))"
   ]
  },
  {
   "cell_type": "code",
   "execution_count": 75,
   "metadata": {},
   "outputs": [
    {
     "data": {
      "text/plain": [
       "(array([  5,  17,  18,  57,  63,  70,  78,  87,  95, 105, 130, 134, 136,\n",
       "        180, 205, 226, 236, 268, 272, 274, 285, 291, 295, 304, 333, 373,\n",
       "        374, 378, 381, 395, 402, 417, 431, 450, 491, 496, 509, 525, 549,\n",
       "        563, 615, 616, 637, 645, 653, 657, 672, 684, 714, 736, 744, 763,\n",
       "        771, 805, 808, 812, 818, 828, 832, 854, 881, 887, 895, 902, 915,\n",
       "        917, 921, 927, 945, 953, 980, 983]),)"
      ]
     },
     "execution_count": 75,
     "metadata": {},
     "output_type": "execute_result"
    }
   ],
   "source": [
    "# function to determine outlier values\n",
    "def outlier_iqr(x):\n",
    "    quartile_1, quartile_3 = np.percentile(x, [25, 75])\n",
    "    iqr = quartile_3 - quartile_1\n",
    "    lower_bound = quartile_1 - (iqr * 1.5)\n",
    "    upper_bound = quartile_3 + (iqr * 1.5)\n",
    "    return np.where((x > upper_bound) | (x < lower_bound))\n",
    "# calculate the outlier values\n",
    "outlier_iqr(german_data['Credit Amount'])"
   ]
  },
  {
   "cell_type": "code",
   "execution_count": 76,
   "metadata": {},
   "outputs": [],
   "source": [
    "# transform target value 2 to 1 and 1 to 0 to be binary\n",
    "german_data['Target'] = german_data['Target'].map({2:1, 1:0})\n"
   ]
  },
  {
   "cell_type": "code",
   "execution_count": 77,
   "metadata": {},
   "outputs": [
    {
     "name": "stdout",
     "output_type": "stream",
     "text": [
      "Status Checking object\n",
      "Status Checking object\n",
      "Duration in Month int64\n",
      "Duration in Month int64\n",
      "Credit History object\n",
      "Credit History object\n",
      "Purpose object\n",
      "Purpose object\n",
      "Credit Amount int64\n",
      "Credit Amount int64\n",
      "Savings Account object\n",
      "Savings Account object\n",
      "Employement since object\n",
      "Employement since object\n",
      "Installmentrate % int64\n",
      "Installmentrate % int64\n",
      "StatusSex object\n",
      "StatusSex object\n",
      "Otherdebtos object\n",
      "Otherdebtos object\n",
      "PresentResidence int64\n",
      "PresentResidence int64\n",
      "Property object\n",
      "Property object\n",
      "Age in years int64\n",
      "Age in years int64\n",
      "Otherinstallment Plans object\n",
      "Otherinstallment Plans object\n",
      "Housing object\n",
      "Housing object\n",
      "Number existing Credits int64\n",
      "Number existing Credits int64\n",
      "Job object\n",
      "Job object\n",
      "Number people liable int64\n",
      "Number people liable int64\n",
      "Telephone object\n",
      "Telephone object\n",
      "Foreign Worker object\n",
      "Foreign Worker object\n",
      "Target int64\n",
      "Target int64\n",
      "ZScore float64\n",
      "ZScore float64\n",
      "['Status Checking', 'Credit History', 'Purpose', 'Savings Account', 'Employement since', 'StatusSex', 'Otherdebtos', 'Property', 'Otherinstallment Plans', 'Housing', 'Job', 'Telephone', 'Foreign Worker'] Numerical: ['Duration in Month', 'Credit Amount', 'Installmentrate %', 'PresentResidence', 'Age in years', 'Number existing Credits', 'Number people liable', 'Target', 'ZScore']\n"
     ]
    }
   ],
   "source": [
    "#iterate through feautures and get datatype and check if they are categorical or numerical and store them into list for one hot encoding\n",
    "categorical_features = []\n",
    "numerical_features = []\n",
    "for i in german_data.columns:\n",
    "    print(i, german_data[i].dtype)\n",
    "    if german_data[i].dtype == 'object':\n",
    "        print(i, german_data[i].dtype)\n",
    "        categorical_features.append(i)\n",
    "    else:\n",
    "        print(i, german_data[i].dtype)\n",
    "        numerical_features.append(i)\n",
    "\n",
    "\n",
    "print(categorical_features, \"Numerical:\" ,numerical_features)\n",
    "    \n"
   ]
  },
  {
   "cell_type": "code",
   "execution_count": 78,
   "metadata": {},
   "outputs": [
    {
     "data": {
      "text/html": [
       "<div>\n",
       "<style scoped>\n",
       "    .dataframe tbody tr th:only-of-type {\n",
       "        vertical-align: middle;\n",
       "    }\n",
       "\n",
       "    .dataframe tbody tr th {\n",
       "        vertical-align: top;\n",
       "    }\n",
       "\n",
       "    .dataframe thead th {\n",
       "        text-align: right;\n",
       "    }\n",
       "</style>\n",
       "<table border=\"1\" class=\"dataframe\">\n",
       "  <thead>\n",
       "    <tr style=\"text-align: right;\">\n",
       "      <th></th>\n",
       "      <th>Status Checking</th>\n",
       "      <th>Duration in Month</th>\n",
       "      <th>Credit History</th>\n",
       "      <th>Purpose</th>\n",
       "      <th>Credit Amount</th>\n",
       "      <th>Savings Account</th>\n",
       "      <th>Employement since</th>\n",
       "      <th>Installmentrate %</th>\n",
       "      <th>StatusSex</th>\n",
       "      <th>Otherdebtos</th>\n",
       "      <th>...</th>\n",
       "      <th>Age in years</th>\n",
       "      <th>Otherinstallment Plans</th>\n",
       "      <th>Housing</th>\n",
       "      <th>Number existing Credits</th>\n",
       "      <th>Job</th>\n",
       "      <th>Number people liable</th>\n",
       "      <th>Telephone</th>\n",
       "      <th>Foreign Worker</th>\n",
       "      <th>Target</th>\n",
       "      <th>ZScore</th>\n",
       "    </tr>\n",
       "  </thead>\n",
       "  <tbody>\n",
       "    <tr>\n",
       "      <th>0</th>\n",
       "      <td>less than 0 DM</td>\n",
       "      <td>6</td>\n",
       "      <td>critical account / other credits existing (not...</td>\n",
       "      <td>radio/television</td>\n",
       "      <td>1169</td>\n",
       "      <td>unknown / no savings account</td>\n",
       "      <td>bigger than or equal 7 years</td>\n",
       "      <td>4</td>\n",
       "      <td>male : single</td>\n",
       "      <td>None</td>\n",
       "      <td>...</td>\n",
       "      <td>67</td>\n",
       "      <td>None</td>\n",
       "      <td>own</td>\n",
       "      <td>2</td>\n",
       "      <td>skilled employee /official</td>\n",
       "      <td>1</td>\n",
       "      <td>yes, registered under the customers name</td>\n",
       "      <td>yes</td>\n",
       "      <td>0</td>\n",
       "      <td>-0.744759</td>\n",
       "    </tr>\n",
       "    <tr>\n",
       "      <th>1</th>\n",
       "      <td>0 less than or equal and less than 200 DM</td>\n",
       "      <td>48</td>\n",
       "      <td>existing credits paind back duly till now</td>\n",
       "      <td>radio/television</td>\n",
       "      <td>5951</td>\n",
       "      <td>less than 100DM</td>\n",
       "      <td>1 less than or equal and less than 4 years</td>\n",
       "      <td>2</td>\n",
       "      <td>female : divorced/separated/married</td>\n",
       "      <td>None</td>\n",
       "      <td>...</td>\n",
       "      <td>22</td>\n",
       "      <td>None</td>\n",
       "      <td>own</td>\n",
       "      <td>1</td>\n",
       "      <td>skilled employee /official</td>\n",
       "      <td>1</td>\n",
       "      <td>None</td>\n",
       "      <td>yes</td>\n",
       "      <td>1</td>\n",
       "      <td>0.949342</td>\n",
       "    </tr>\n",
       "    <tr>\n",
       "      <th>2</th>\n",
       "      <td>no checking account</td>\n",
       "      <td>12</td>\n",
       "      <td>critical account / other credits existing (not...</td>\n",
       "      <td>education</td>\n",
       "      <td>2096</td>\n",
       "      <td>less than 100DM</td>\n",
       "      <td>4 less than and equal and less than 7 years</td>\n",
       "      <td>2</td>\n",
       "      <td>male : single</td>\n",
       "      <td>None</td>\n",
       "      <td>...</td>\n",
       "      <td>49</td>\n",
       "      <td>None</td>\n",
       "      <td>own</td>\n",
       "      <td>1</td>\n",
       "      <td>unskilled-resident</td>\n",
       "      <td>2</td>\n",
       "      <td>None</td>\n",
       "      <td>yes</td>\n",
       "      <td>0</td>\n",
       "      <td>-0.416354</td>\n",
       "    </tr>\n",
       "    <tr>\n",
       "      <th>3</th>\n",
       "      <td>less than 0 DM</td>\n",
       "      <td>42</td>\n",
       "      <td>existing credits paind back duly till now</td>\n",
       "      <td>furniture/equipment</td>\n",
       "      <td>7882</td>\n",
       "      <td>less than 100DM</td>\n",
       "      <td>4 less than and equal and less than 7 years</td>\n",
       "      <td>2</td>\n",
       "      <td>male : single</td>\n",
       "      <td>guarantor</td>\n",
       "      <td>...</td>\n",
       "      <td>45</td>\n",
       "      <td>None</td>\n",
       "      <td>for free</td>\n",
       "      <td>1</td>\n",
       "      <td>skilled employee /official</td>\n",
       "      <td>2</td>\n",
       "      <td>None</td>\n",
       "      <td>yes</td>\n",
       "      <td>0</td>\n",
       "      <td>1.633430</td>\n",
       "    </tr>\n",
       "    <tr>\n",
       "      <th>4</th>\n",
       "      <td>less than 0 DM</td>\n",
       "      <td>24</td>\n",
       "      <td>delay in paying off in the past</td>\n",
       "      <td>car (new)</td>\n",
       "      <td>4870</td>\n",
       "      <td>less than 100DM</td>\n",
       "      <td>1 less than or equal and less than 4 years</td>\n",
       "      <td>3</td>\n",
       "      <td>male : single</td>\n",
       "      <td>None</td>\n",
       "      <td>...</td>\n",
       "      <td>53</td>\n",
       "      <td>None</td>\n",
       "      <td>for free</td>\n",
       "      <td>2</td>\n",
       "      <td>skilled employee /official</td>\n",
       "      <td>2</td>\n",
       "      <td>None</td>\n",
       "      <td>yes</td>\n",
       "      <td>1</td>\n",
       "      <td>0.566380</td>\n",
       "    </tr>\n",
       "    <tr>\n",
       "      <th>...</th>\n",
       "      <td>...</td>\n",
       "      <td>...</td>\n",
       "      <td>...</td>\n",
       "      <td>...</td>\n",
       "      <td>...</td>\n",
       "      <td>...</td>\n",
       "      <td>...</td>\n",
       "      <td>...</td>\n",
       "      <td>...</td>\n",
       "      <td>...</td>\n",
       "      <td>...</td>\n",
       "      <td>...</td>\n",
       "      <td>...</td>\n",
       "      <td>...</td>\n",
       "      <td>...</td>\n",
       "      <td>...</td>\n",
       "      <td>...</td>\n",
       "      <td>...</td>\n",
       "      <td>...</td>\n",
       "      <td>...</td>\n",
       "      <td>...</td>\n",
       "    </tr>\n",
       "    <tr>\n",
       "      <th>995</th>\n",
       "      <td>no checking account</td>\n",
       "      <td>12</td>\n",
       "      <td>existing credits paind back duly till now</td>\n",
       "      <td>furniture/equipment</td>\n",
       "      <td>1736</td>\n",
       "      <td>less than 100DM</td>\n",
       "      <td>4 less than and equal and less than 7 years</td>\n",
       "      <td>3</td>\n",
       "      <td>female : divorced/separated/married</td>\n",
       "      <td>None</td>\n",
       "      <td>...</td>\n",
       "      <td>31</td>\n",
       "      <td>None</td>\n",
       "      <td>own</td>\n",
       "      <td>1</td>\n",
       "      <td>unskilled-resident</td>\n",
       "      <td>1</td>\n",
       "      <td>None</td>\n",
       "      <td>yes</td>\n",
       "      <td>0</td>\n",
       "      <td>-0.543890</td>\n",
       "    </tr>\n",
       "    <tr>\n",
       "      <th>996</th>\n",
       "      <td>less than 0 DM</td>\n",
       "      <td>30</td>\n",
       "      <td>existing credits paind back duly till now</td>\n",
       "      <td>car (used)</td>\n",
       "      <td>3857</td>\n",
       "      <td>less than 100DM</td>\n",
       "      <td>1 less than or equal and less than 4 years</td>\n",
       "      <td>4</td>\n",
       "      <td>male : divorced/separated</td>\n",
       "      <td>None</td>\n",
       "      <td>...</td>\n",
       "      <td>40</td>\n",
       "      <td>None</td>\n",
       "      <td>own</td>\n",
       "      <td>1</td>\n",
       "      <td>management/self-employed/highly qualified empl...</td>\n",
       "      <td>1</td>\n",
       "      <td>yes, registered under the customers name</td>\n",
       "      <td>yes</td>\n",
       "      <td>0</td>\n",
       "      <td>0.207509</td>\n",
       "    </tr>\n",
       "    <tr>\n",
       "      <th>997</th>\n",
       "      <td>no checking account</td>\n",
       "      <td>12</td>\n",
       "      <td>existing credits paind back duly till now</td>\n",
       "      <td>radio/television</td>\n",
       "      <td>804</td>\n",
       "      <td>less than 100DM</td>\n",
       "      <td>bigger than or equal 7 years</td>\n",
       "      <td>4</td>\n",
       "      <td>male : single</td>\n",
       "      <td>None</td>\n",
       "      <td>...</td>\n",
       "      <td>38</td>\n",
       "      <td>None</td>\n",
       "      <td>own</td>\n",
       "      <td>1</td>\n",
       "      <td>skilled employee /official</td>\n",
       "      <td>1</td>\n",
       "      <td>None</td>\n",
       "      <td>yes</td>\n",
       "      <td>0</td>\n",
       "      <td>-0.874066</td>\n",
       "    </tr>\n",
       "    <tr>\n",
       "      <th>998</th>\n",
       "      <td>less than 0 DM</td>\n",
       "      <td>45</td>\n",
       "      <td>existing credits paind back duly till now</td>\n",
       "      <td>radio/television</td>\n",
       "      <td>1845</td>\n",
       "      <td>less than 100DM</td>\n",
       "      <td>1 less than or equal and less than 4 years</td>\n",
       "      <td>4</td>\n",
       "      <td>male : single</td>\n",
       "      <td>None</td>\n",
       "      <td>...</td>\n",
       "      <td>23</td>\n",
       "      <td>None</td>\n",
       "      <td>for free</td>\n",
       "      <td>1</td>\n",
       "      <td>skilled employee /official</td>\n",
       "      <td>1</td>\n",
       "      <td>yes, registered under the customers name</td>\n",
       "      <td>yes</td>\n",
       "      <td>1</td>\n",
       "      <td>-0.505275</td>\n",
       "    </tr>\n",
       "    <tr>\n",
       "      <th>999</th>\n",
       "      <td>0 less than or equal and less than 200 DM</td>\n",
       "      <td>45</td>\n",
       "      <td>critical account / other credits existing (not...</td>\n",
       "      <td>car (used)</td>\n",
       "      <td>4576</td>\n",
       "      <td>100 less than or equal and &lt; 500DM</td>\n",
       "      <td>unemployed</td>\n",
       "      <td>3</td>\n",
       "      <td>male : single</td>\n",
       "      <td>None</td>\n",
       "      <td>...</td>\n",
       "      <td>27</td>\n",
       "      <td>None</td>\n",
       "      <td>own</td>\n",
       "      <td>1</td>\n",
       "      <td>skilled employee /official</td>\n",
       "      <td>1</td>\n",
       "      <td>None</td>\n",
       "      <td>yes</td>\n",
       "      <td>0</td>\n",
       "      <td>0.462226</td>\n",
       "    </tr>\n",
       "  </tbody>\n",
       "</table>\n",
       "<p>1000 rows × 22 columns</p>\n",
       "</div>"
      ],
      "text/plain": [
       "                               Status Checking  Duration in Month  \\\n",
       "0                               less than 0 DM                  6   \n",
       "1    0 less than or equal and less than 200 DM                 48   \n",
       "2                          no checking account                 12   \n",
       "3                               less than 0 DM                 42   \n",
       "4                               less than 0 DM                 24   \n",
       "..                                         ...                ...   \n",
       "995                        no checking account                 12   \n",
       "996                             less than 0 DM                 30   \n",
       "997                        no checking account                 12   \n",
       "998                             less than 0 DM                 45   \n",
       "999  0 less than or equal and less than 200 DM                 45   \n",
       "\n",
       "                                        Credit History              Purpose  \\\n",
       "0    critical account / other credits existing (not...     radio/television   \n",
       "1            existing credits paind back duly till now     radio/television   \n",
       "2    critical account / other credits existing (not...            education   \n",
       "3            existing credits paind back duly till now  furniture/equipment   \n",
       "4                      delay in paying off in the past            car (new)   \n",
       "..                                                 ...                  ...   \n",
       "995          existing credits paind back duly till now  furniture/equipment   \n",
       "996          existing credits paind back duly till now           car (used)   \n",
       "997          existing credits paind back duly till now     radio/television   \n",
       "998          existing credits paind back duly till now     radio/television   \n",
       "999  critical account / other credits existing (not...           car (used)   \n",
       "\n",
       "     Credit Amount                     Savings Account  \\\n",
       "0             1169        unknown / no savings account   \n",
       "1             5951                     less than 100DM   \n",
       "2             2096                     less than 100DM   \n",
       "3             7882                     less than 100DM   \n",
       "4             4870                     less than 100DM   \n",
       "..             ...                                 ...   \n",
       "995           1736                     less than 100DM   \n",
       "996           3857                     less than 100DM   \n",
       "997            804                     less than 100DM   \n",
       "998           1845                     less than 100DM   \n",
       "999           4576  100 less than or equal and < 500DM   \n",
       "\n",
       "                               Employement since  Installmentrate %  \\\n",
       "0                   bigger than or equal 7 years                  4   \n",
       "1     1 less than or equal and less than 4 years                  2   \n",
       "2    4 less than and equal and less than 7 years                  2   \n",
       "3    4 less than and equal and less than 7 years                  2   \n",
       "4     1 less than or equal and less than 4 years                  3   \n",
       "..                                           ...                ...   \n",
       "995  4 less than and equal and less than 7 years                  3   \n",
       "996   1 less than or equal and less than 4 years                  4   \n",
       "997                 bigger than or equal 7 years                  4   \n",
       "998   1 less than or equal and less than 4 years                  4   \n",
       "999                                   unemployed                  3   \n",
       "\n",
       "                               StatusSex Otherdebtos  ...  Age in years  \\\n",
       "0                          male : single        None  ...            67   \n",
       "1    female : divorced/separated/married        None  ...            22   \n",
       "2                          male : single        None  ...            49   \n",
       "3                          male : single   guarantor  ...            45   \n",
       "4                          male : single        None  ...            53   \n",
       "..                                   ...         ...  ...           ...   \n",
       "995  female : divorced/separated/married        None  ...            31   \n",
       "996            male : divorced/separated        None  ...            40   \n",
       "997                        male : single        None  ...            38   \n",
       "998                        male : single        None  ...            23   \n",
       "999                        male : single        None  ...            27   \n",
       "\n",
       "    Otherinstallment Plans   Housing Number existing Credits  \\\n",
       "0                     None       own                       2   \n",
       "1                     None       own                       1   \n",
       "2                     None       own                       1   \n",
       "3                     None  for free                       1   \n",
       "4                     None  for free                       2   \n",
       "..                     ...       ...                     ...   \n",
       "995                   None       own                       1   \n",
       "996                   None       own                       1   \n",
       "997                   None       own                       1   \n",
       "998                   None  for free                       1   \n",
       "999                   None       own                       1   \n",
       "\n",
       "                                                   Job  Number people liable  \\\n",
       "0                           skilled employee /official                     1   \n",
       "1                           skilled employee /official                     1   \n",
       "2                                   unskilled-resident                     2   \n",
       "3                           skilled employee /official                     2   \n",
       "4                           skilled employee /official                     2   \n",
       "..                                                 ...                   ...   \n",
       "995                                 unskilled-resident                     1   \n",
       "996  management/self-employed/highly qualified empl...                     1   \n",
       "997                         skilled employee /official                     1   \n",
       "998                         skilled employee /official                     1   \n",
       "999                         skilled employee /official                     1   \n",
       "\n",
       "                                    Telephone  Foreign Worker Target    ZScore  \n",
       "0    yes, registered under the customers name             yes      0 -0.744759  \n",
       "1                                        None             yes      1  0.949342  \n",
       "2                                        None             yes      0 -0.416354  \n",
       "3                                        None             yes      0  1.633430  \n",
       "4                                        None             yes      1  0.566380  \n",
       "..                                        ...             ...    ...       ...  \n",
       "995                                      None             yes      0 -0.543890  \n",
       "996  yes, registered under the customers name             yes      0  0.207509  \n",
       "997                                      None             yes      0 -0.874066  \n",
       "998  yes, registered under the customers name             yes      1 -0.505275  \n",
       "999                                      None             yes      0  0.462226  \n",
       "\n",
       "[1000 rows x 22 columns]"
      ]
     },
     "execution_count": 78,
     "metadata": {},
     "output_type": "execute_result"
    }
   ],
   "source": [
    "german_data"
   ]
  },
  {
   "cell_type": "code",
   "execution_count": 79,
   "metadata": {},
   "outputs": [
    {
     "ename": "TypeError",
     "evalue": "'tuple' object is not callable",
     "output_type": "error",
     "traceback": [
      "\u001b[0;31m---------------------------------------------------------------------------\u001b[0m",
      "\u001b[0;31mTypeError\u001b[0m                                 Traceback (most recent call last)",
      "\u001b[1;32m/Users/danielhorn/Desktop/AML_Project_2/AML/German_Credit_data/eda.ipynb Cell 27'\u001b[0m in \u001b[0;36m<cell line: 3>\u001b[0;34m()\u001b[0m\n\u001b[1;32m      <a href='vscode-notebook-cell:/Users/danielhorn/Desktop/AML_Project_2/AML/German_Credit_data/eda.ipynb#ch0000022?line=0'>1</a>\u001b[0m \u001b[39m# one hot encode categorical features\u001b[39;00m\n\u001b[1;32m      <a href='vscode-notebook-cell:/Users/danielhorn/Desktop/AML_Project_2/AML/German_Credit_data/eda.ipynb#ch0000022?line=1'>2</a>\u001b[0m german_data \u001b[39m=\u001b[39m pd\u001b[39m.\u001b[39mget_dummies(german_data, columns\u001b[39m=\u001b[39mcategorical_features)\n\u001b[0;32m----> <a href='vscode-notebook-cell:/Users/danielhorn/Desktop/AML_Project_2/AML/German_Credit_data/eda.ipynb#ch0000022?line=2'>3</a>\u001b[0m german_data\u001b[39m.\u001b[39;49mshape()\n",
      "\u001b[0;31mTypeError\u001b[0m: 'tuple' object is not callable"
     ]
    }
   ],
   "source": [
    "# one hot encode categorical features\n",
    "german_data = pd.get_dummies(german_data, columns=categorical_features)\n",
    "\n"
   ]
  },
  {
   "cell_type": "code",
   "execution_count": 80,
   "metadata": {},
   "outputs": [
    {
     "data": {
      "text/plain": [
       "(1000, 63)"
      ]
     },
     "execution_count": 80,
     "metadata": {},
     "output_type": "execute_result"
    }
   ],
   "source": [
    "german_data.shape"
   ]
  },
  {
   "cell_type": "markdown",
   "metadata": {},
   "source": [
    "# Untersuchung auf Korrelation"
   ]
  },
  {
   "cell_type": "code",
   "execution_count": null,
   "metadata": {},
   "outputs": [
    {
     "data": {
      "image/png": "[encoded data removed]",
      "text/plain": [
       "<Figure size 720x720 with 2 Axes>"
      ]
     },
     "metadata": {
      "needs_background": "light"
     },
     "output_type": "display_data"
    },
    {
     "name": "stdout",
     "output_type": "stream",
     "text": [
      " Positive Correlations:\n",
      " Age in years              -0.091127\n",
      "Number existing Credits   -0.045732\n",
      "Number people liable      -0.003015\n",
      "PresentResidence           0.002967\n",
      "Installmentrate %          0.072404\n",
      "Credit Amount              0.154739\n",
      "Duration in Month          0.214927\n",
      "Target                     1.000000\n",
      "Name: Target, dtype: float64\n",
      " Negative Correlations:\n",
      " Age in years              -0.091127\n",
      "Number existing Credits   -0.045732\n",
      "Number people liable      -0.003015\n",
      "PresentResidence           0.002967\n",
      "Installmentrate %          0.072404\n",
      "Credit Amount              0.154739\n",
      "Duration in Month          0.214927\n",
      "Target                     1.000000\n",
      "Name: Target, dtype: float64\n"
     ]
    }
   ],
   "source": [
    "# function to calculate correlation between target and feautures \n",
    "def correlation_matrix(df):\n",
    "    corr_matrix = df.corr()\n",
    "    plt.figure(figsize=(10,10))\n",
    "    sns.heatmap(corr_matrix, annot=True)\n",
    "    plt.show()\n",
    "\n",
    "    correlations = df.corr()['Target'].sort_values()\n",
    "\n",
    "    # Display correlations\n",
    "    print(' Positive Correlations:\\n', correlations)\n",
    "    print(' Negative Correlations:\\n', correlations)\n",
    "\n",
    "correlation_matrix(german_data)"
   ]
  },
  {
   "cell_type": "code",
   "execution_count": null,
   "metadata": {},
   "outputs": [],
   "source": [
    "#drop zscore\n",
    "german_data = german_data.drop(['ZScore'], axis=1)\n"
   ]
  },
  {
   "cell_type": "code",
   "execution_count": null,
   "metadata": {},
   "outputs": [
    {
     "name": "stdout",
     "output_type": "stream",
     "text": [
      "Accuracy score: 0.7678571428571429\n",
      "Recall score: 0.4880952380952381\n",
      "Precision score: 0.6507936507936508\n",
      "fbeta score: 0.5137844611528822\n"
     ]
    }
   ],
   "source": [
    "# use logistic regression to predict target variable\n",
    "from sklearn.linear_model import LogisticRegression\n",
    "from sklearn.model_selection import train_test_split\n",
    "from sklearn.metrics import accuracy_score, recall_score, precision_score, roc_auc_score, fbeta_score\n",
    "\n",
    "# split data into train and test set\n",
    "X_train, X_test, y_train, y_test = train_test_split(german_data.drop('Target', axis=1), german_data['Target'], test_size=0.28, random_state=42)\n",
    "\n",
    "# create logistic regression model\n",
    "'''\n",
    "solver to liblinear --> better score; standard lbfgs\n",
    "'''\n",
    "logreg = LogisticRegression(max_iter=100, intercept_scaling=100, solver = 'liblinear')\n",
    "# fit the model\n",
    "logreg.fit(X_train, y_train)\n",
    "# predict the target variable\n",
    "y_pred = logreg.predict(X_test)\n",
    "\n",
    "# print accuracy score and recall score\n",
    "print(\"Accuracy score:\", accuracy_score(y_test, y_pred))\n",
    "print(\"Recall score:\", recall_score(y_test, y_pred))\n",
    "print(\"Precision score:\", precision_score(y_test, y_pred))\n",
    "print(\"fbeta score:\", fbeta_score(y_test, y_pred, beta=2))\n",
    "\n",
    "\n",
    "\n",
    "\n"
   ]
  },
  {
   "cell_type": "code",
   "execution_count": null,
   "metadata": {},
   "outputs": [
    {
     "name": "stdout",
     "output_type": "stream",
     "text": [
      "Best hyperparameters: {'C': 1, 'intercept_scaling': 10000, 'penalty': 'l2'}\n",
      "Best score: 0.7402777777777778\n"
     ]
    }
   ],
   "source": [
    "#hyperparameter tuning for logistic regression\n",
    "from sklearn.model_selection import GridSearchCV\n",
    "#tune hyperparameters\n",
    "parameters = {'C': [0.001, 0.01, 0.1, 1, 10, 100, 1000], 'penalty': ['l1', 'l2'],'intercept_scaling': [100, 500, 1000, 5000, 10000]}\n",
    "# create grid search object\n",
    "grid_search = GridSearchCV(logreg, parameters, cv=5, scoring='accuracy')\n",
    "# fit the model\n",
    "grid_search.fit(X_train, y_train)\n",
    "# print the best hyperparameters\n",
    "print(\"Best hyperparameters:\", grid_search.best_params_)\n",
    "print(\"Best score:\", grid_search.best_score_)\n"
   ]
  },
  {
   "cell_type": "code",
   "execution_count": null,
   "metadata": {},
   "outputs": [
    {
     "data": {
      "image/png": "[encoded data removed]",
      "text/plain": [
       "<Figure size 432x288 with 1 Axes>"
      ]
     },
     "metadata": {
      "needs_background": "light"
     },
     "output_type": "display_data"
    }
   ],
   "source": [
    "#plot roc curve\n",
    "from sklearn.metrics import roc_curve, auc\n",
    "#plot roc curve\n",
    "def plot_roc_curve(y_test, y_pred):\n",
    "    fpr, tpr, thresholds = roc_curve(y_test, y_pred)\n",
    "    roc_auc = auc(fpr, tpr)\n",
    "    plt.figure()\n",
    "    lw = 2\n",
    "    plt.plot(fpr, tpr, color='darkorange', lw=lw, label='ROC curve (area = %0.2f)' % roc_auc)\n",
    "    plt.plot([0, 1], [0, 1], color='navy', lw=lw, linestyle='--')\n",
    "    plt.xlim([0.0, 1.0])\n",
    "    plt.ylim([0.0, 1.05])\n",
    "    plt.xlabel('False Positive Rate')\n",
    "    plt.ylabel('True Positive Rate')\n",
    "    plt.title('Receiver operating characteristic')\n",
    "    plt.legend(loc=\"lower right\")\n",
    "    plt.show()\n",
    "# call the function roc curve\n",
    "plot_roc_curve(y_test, y_pred)"
   ]
  },
  {
   "cell_type": "code",
   "execution_count": null,
   "metadata": {},
   "outputs": [
    {
     "data": {
      "image/png": "[encoded data removed]",
      "text/plain": [
       "<Figure size 432x288 with 2 Axes>"
      ]
     },
     "metadata": {
      "needs_background": "light"
     },
     "output_type": "display_data"
    }
   ],
   "source": [
    "confusion_matrix = confusion_matrix(y_test, y_pred)\n",
    "def plot_confusion_matrix():\n",
    "    #plot confusion matrix with labels\n",
    "    plt.figure()\n",
    "    sns.heatmap(confusion_matrix, annot=True, fmt='d')\n",
    "    plt.title('Confusion matrix')\n",
    "    plt.ylabel('True label')\n",
    "    plt.xlabel('Predicted label')\n",
    "    plt.show()\n",
    "\n",
    "\n",
    "# plot confusion matrix\n",
    "plot_confusion_matrix()\n"
   ]
  },
  {
   "cell_type": "code",
   "execution_count": null,
   "metadata": {},
   "outputs": [
    {
     "name": "stdout",
     "output_type": "stream",
     "text": [
      "Accuracy score: 0.7642857142857142\n",
      "Recall score: 0.36904761904761907\n",
      "Precision score: 0.7045454545454546\n",
      "fbeta score: 0.4078947368421053\n"
     ]
    }
   ],
   "source": [
    "# use random forest to predict target variable\n",
    "from sklearn.ensemble import RandomForestClassifier\n",
    "# fit the model\n",
    "rf = RandomForestClassifier(n_estimators=1000, max_depth=1000, random_state=42)\n",
    "rf.fit(X_train, y_train)\n",
    "# predict the target variable\n",
    "y_pred = rf.predict(X_test)\n",
    "# print accuracy score and recall score\n",
    "print(\"Accuracy score:\", accuracy_score(y_test, y_pred))\n",
    "print(\"Recall score:\", recall_score(y_test, y_pred))\n",
    "print(\"Precision score:\", precision_score(y_test, y_pred))\n",
    "print(\"fbeta score:\", fbeta_score(y_test, y_pred, beta=2))\n"
   ]
  },
  {
   "cell_type": "code",
   "execution_count": null,
   "metadata": {},
   "outputs": [
    {
     "data": {
      "image/png": "[encoded data removed]",
      "text/plain": [
       "<Figure size 432x288 with 1 Axes>"
      ]
     },
     "metadata": {
      "needs_background": "light"
     },
     "output_type": "display_data"
    }
   ],
   "source": [
    "fpr, tpr, thresholds = roc_curve(y_test, y_pred)\n",
    "roc_auc = auc(fpr, tpr)\n",
    "plt.figure()\n",
    "lw = 2\n",
    "plt.plot(fpr, tpr, color='darkorange', lw=lw, label='ROC curve (area = %0.2f)' % roc_auc)\n",
    "plt.plot([0, 1], [0, 1], color='navy', lw=lw, linestyle='--')\n",
    "plt.xlim([0.0, 1.0])\n",
    "plt.ylim([0.0, 1.05])\n",
    "plt.xlabel('False Positive Rate')\n",
    "plt.ylabel('True Positive Rate')\n",
    "plt.title('Receiver operating characteristic')\n",
    "plt.legend(loc=\"lower right\")\n",
    "plt.show()"
   ]
  },
  {
   "cell_type": "code",
   "execution_count": null,
   "metadata": {},
   "outputs": [
    {
     "name": "stdout",
     "output_type": "stream",
     "text": [
      "Accuracy score: 0.6357142857142857\n",
      "Recall score: 0.5833333333333334\n",
      "Precision score: 0.4224137931034483\n",
      "fbeta score: 0.5420353982300885\n"
     ]
    }
   ],
   "source": [
    "# use neuro network to predict target variable\n",
    "from sklearn.neural_network import MLPClassifier\n",
    "# fit the model\n",
    "nn = MLPClassifier(hidden_layer_sizes=(10,), max_iter=1000, random_state=0)\n",
    "nn.fit(X_train, y_train)\n",
    "# predict the target variable\n",
    "y_pred = nn.predict(X_test)\n",
    "# print accuracy score and recall score\n",
    "print(\"Accuracy score:\", accuracy_score(y_test, y_pred))\n",
    "print(\"Recall score:\", recall_score(y_test, y_pred))\n",
    "print(\"Precision score:\", precision_score(y_test, y_pred))\n",
    "print(\"fbeta score:\", fbeta_score(y_test, y_pred, beta=2))"
   ]
  },
  {
   "cell_type": "code",
   "execution_count": null,
   "metadata": {},
   "outputs": [
    {
     "data": {
      "image/png": "[encoded data removed]",
      "text/plain": [
       "<Figure size 432x288 with 1 Axes>"
      ]
     },
     "metadata": {
      "needs_background": "light"
     },
     "output_type": "display_data"
    }
   ],
   "source": [
    "fpr, tpr, thresholds = roc_curve(y_test, y_pred)\n",
    "roc_auc = auc(fpr, tpr)\n",
    "plt.figure()\n",
    "lw = 2\n",
    "plt.plot(fpr, tpr, color='darkorange', lw=lw, label='ROC curve (area = %0.2f)' % roc_auc)\n",
    "plt.plot([0, 1], [0, 1], color='navy', lw=lw, linestyle='--')\n",
    "plt.xlim([0.0, 1.0])\n",
    "plt.ylim([0.0, 1.05])\n",
    "plt.xlabel('False Positive Rate')\n",
    "plt.ylabel('True Positive Rate')\n",
    "plt.title('Receiver operating characteristic')\n",
    "plt.legend(loc=\"lower right\")\n",
    "plt.show()"
   ]
  },
  {
   "cell_type": "code",
   "execution_count": null,
   "metadata": {},
   "outputs": [
    {
     "name": "stdout",
     "output_type": "stream",
     "text": [
      "Accuracy score: 0.7571428571428571\n",
      "Recall score: 0.47619047619047616\n",
      "Precision score: 0.625\n",
      "fbeta score: 0.49999999999999994\n"
     ]
    }
   ],
   "source": [
    "# use xgboost to predict target variable\n",
    "from xgboost import XGBClassifier\n",
    "import re\n",
    "\n",
    "regex = re.compile(r\"\\[|\\]|<\", re.IGNORECASE)\n",
    "\n",
    "X_train.columns = [regex.sub(\"_\", col) if any(x in str(col) for x in set(('[', ']', '<'))) else col for col in X_train.columns.values]\n",
    "\n",
    "# fit the model\n",
    "xgb = XGBClassifier(n_estimators=1000, max_depth=1000, random_state=42)\n",
    "\n",
    "\n",
    "xgb.fit(X_train, y_train)\n",
    "# predict the target variable\n",
    "y_pred = xgb.predict(X_test)\n",
    "# print accuracy score and recall score\n",
    "print(\"Accuracy score:\", accuracy_score(y_test, y_pred))\n",
    "print(\"Recall score:\", recall_score(y_test, y_pred))\n",
    "print(\"Precision score:\", precision_score(y_test, y_pred))\n",
    "print(\"fbeta score:\", fbeta_score(y_test, y_pred, beta=2))\n"
   ]
  },
  {
   "cell_type": "code",
   "execution_count": null,
   "metadata": {},
   "outputs": [],
   "source": []
  }
 ],
 "metadata": {
  "interpreter": {
   "hash": "800f0b85eeee35c3cacd47e90f543e046d27129974546771a66e11c352dc03d2"
  },
  "kernelspec": {
   "display_name": "Python 3.9.7 ('base')",
   "language": "python",
   "name": "python3"
  },
  "language_info": {
   "codemirror_mode": {
    "name": "ipython",
    "version": 3
   },
   "file_extension": ".py",
   "mimetype": "text/x-python",
   "name": "python",
   "nbconvert_exporter": "python",
   "pygments_lexer": "ipython3",
   "version": "3.9.7"
  },
  "orig_nbformat": 4
 },
 "nbformat": 4,
 "nbformat_minor": 2
}
