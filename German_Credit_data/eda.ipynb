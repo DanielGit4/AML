{
 "cells": [
  {
   "cell_type": "code",
   "execution_count": 1,
   "metadata": {},
   "outputs": [],
   "source": [
    "import pandas as pd\n",
    "import numpy as np\n",
    "\n",
    "# import matplotlib.pyplot as plt\n",
    "import seaborn as sns\n",
    "import matplotlib.pyplot as plt\n",
    "import json \n",
    "\n",
    "\n"
   ]
  },
  {
   "cell_type": "markdown",
   "metadata": {},
   "source": [
    "# Load the Dataset"
   ]
  },
  {
   "cell_type": "markdown",
   "metadata": {},
   "source": [
    "# Da die Attributsnamen kodiert sind werden diese zu erst mithilfe der zugehörigen Dokumentation ersetzt. (Siehe Categorical.json)\n"
   ]
  },
  {
   "cell_type": "code",
   "execution_count": 2,
   "metadata": {},
   "outputs": [],
   "source": [
    "file_path = \"../German_Credit_data/Data/german.data\"\n",
    "\n",
    "names = ['Status Checking', 'Duration in Month', 'Credit History', 'Purpose', 'Credit Amount', \n",
    "         'Savings Account', 'Employement since', 'Installmentrate %', 'StatusSex', 'Otherdebtos', \n",
    "         'PresentResidence', 'Property', 'Age in years', 'Otherinstallment Plans', 'Housing', \n",
    "         'Number existing Credits', 'Job', 'Number people liable', 'Telephone', 'Foreign Worker', 'Target']\n",
    "german_data = pd.read_csv(file_path,names=names,delim_whitespace=True, header=None)\n",
    "catgories = open('../German_Credit_data/Data/categorical.json')\n",
    "json_data = json.load(catgories)\n",
    "json_data\n",
    "for h in names:\n",
    "    if h in json_data:\n",
    "        german_data[h] = german_data[h].map(json_data[h])"
   ]
  },
  {
   "cell_type": "code",
   "execution_count": 3,
   "metadata": {},
   "outputs": [
    {
     "data": {
      "text/html": [
       "<div>\n",
       "<style scoped>\n",
       "    .dataframe tbody tr th:only-of-type {\n",
       "        vertical-align: middle;\n",
       "    }\n",
       "\n",
       "    .dataframe tbody tr th {\n",
       "        vertical-align: top;\n",
       "    }\n",
       "\n",
       "    .dataframe thead th {\n",
       "        text-align: right;\n",
       "    }\n",
       "</style>\n",
       "<table border=\"1\" class=\"dataframe\">\n",
       "  <thead>\n",
       "    <tr style=\"text-align: right;\">\n",
       "      <th></th>\n",
       "      <th>Status Checking</th>\n",
       "      <th>Duration in Month</th>\n",
       "      <th>Credit History</th>\n",
       "      <th>Purpose</th>\n",
       "      <th>Credit Amount</th>\n",
       "      <th>Savings Account</th>\n",
       "      <th>Employement since</th>\n",
       "      <th>Installmentrate %</th>\n",
       "      <th>StatusSex</th>\n",
       "      <th>Otherdebtos</th>\n",
       "      <th>...</th>\n",
       "      <th>Property</th>\n",
       "      <th>Age in years</th>\n",
       "      <th>Otherinstallment Plans</th>\n",
       "      <th>Housing</th>\n",
       "      <th>Number existing Credits</th>\n",
       "      <th>Job</th>\n",
       "      <th>Number people liable</th>\n",
       "      <th>Telephone</th>\n",
       "      <th>Foreign Worker</th>\n",
       "      <th>Target</th>\n",
       "    </tr>\n",
       "  </thead>\n",
       "  <tbody>\n",
       "    <tr>\n",
       "      <th>0</th>\n",
       "      <td>less than 0 DM</td>\n",
       "      <td>6</td>\n",
       "      <td>critical account / other credits existing (not...</td>\n",
       "      <td>radio/television</td>\n",
       "      <td>1169</td>\n",
       "      <td>unknown / no savings account</td>\n",
       "      <td>bigger than or equal 7 years</td>\n",
       "      <td>4</td>\n",
       "      <td>male : single</td>\n",
       "      <td>None</td>\n",
       "      <td>...</td>\n",
       "      <td>real estate</td>\n",
       "      <td>67</td>\n",
       "      <td>None</td>\n",
       "      <td>own</td>\n",
       "      <td>2</td>\n",
       "      <td>skilled employee /official</td>\n",
       "      <td>1</td>\n",
       "      <td>yes, registered under the customers name</td>\n",
       "      <td>yes</td>\n",
       "      <td>1</td>\n",
       "    </tr>\n",
       "    <tr>\n",
       "      <th>1</th>\n",
       "      <td>0 less than or equal and less than 200 DM</td>\n",
       "      <td>48</td>\n",
       "      <td>existing credits paind back duly till now</td>\n",
       "      <td>radio/television</td>\n",
       "      <td>5951</td>\n",
       "      <td>less than 100DM</td>\n",
       "      <td>1 less than or equal and less than 4 years</td>\n",
       "      <td>2</td>\n",
       "      <td>female : divorced/separated/married</td>\n",
       "      <td>None</td>\n",
       "      <td>...</td>\n",
       "      <td>real estate</td>\n",
       "      <td>22</td>\n",
       "      <td>None</td>\n",
       "      <td>own</td>\n",
       "      <td>1</td>\n",
       "      <td>skilled employee /official</td>\n",
       "      <td>1</td>\n",
       "      <td>None</td>\n",
       "      <td>yes</td>\n",
       "      <td>2</td>\n",
       "    </tr>\n",
       "    <tr>\n",
       "      <th>2</th>\n",
       "      <td>no checking account</td>\n",
       "      <td>12</td>\n",
       "      <td>critical account / other credits existing (not...</td>\n",
       "      <td>education</td>\n",
       "      <td>2096</td>\n",
       "      <td>less than 100DM</td>\n",
       "      <td>4 less than and equal and less than 7 years</td>\n",
       "      <td>2</td>\n",
       "      <td>male : single</td>\n",
       "      <td>None</td>\n",
       "      <td>...</td>\n",
       "      <td>real estate</td>\n",
       "      <td>49</td>\n",
       "      <td>None</td>\n",
       "      <td>own</td>\n",
       "      <td>1</td>\n",
       "      <td>unskilled-resident</td>\n",
       "      <td>2</td>\n",
       "      <td>None</td>\n",
       "      <td>yes</td>\n",
       "      <td>1</td>\n",
       "    </tr>\n",
       "    <tr>\n",
       "      <th>3</th>\n",
       "      <td>less than 0 DM</td>\n",
       "      <td>42</td>\n",
       "      <td>existing credits paind back duly till now</td>\n",
       "      <td>furniture/equipment</td>\n",
       "      <td>7882</td>\n",
       "      <td>less than 100DM</td>\n",
       "      <td>4 less than and equal and less than 7 years</td>\n",
       "      <td>2</td>\n",
       "      <td>male : single</td>\n",
       "      <td>guarantor</td>\n",
       "      <td>...</td>\n",
       "      <td>if not real estate : building society savings ...</td>\n",
       "      <td>45</td>\n",
       "      <td>None</td>\n",
       "      <td>for free</td>\n",
       "      <td>1</td>\n",
       "      <td>skilled employee /official</td>\n",
       "      <td>2</td>\n",
       "      <td>None</td>\n",
       "      <td>yes</td>\n",
       "      <td>1</td>\n",
       "    </tr>\n",
       "    <tr>\n",
       "      <th>4</th>\n",
       "      <td>less than 0 DM</td>\n",
       "      <td>24</td>\n",
       "      <td>delay in paying off in the past</td>\n",
       "      <td>car (new)</td>\n",
       "      <td>4870</td>\n",
       "      <td>less than 100DM</td>\n",
       "      <td>1 less than or equal and less than 4 years</td>\n",
       "      <td>3</td>\n",
       "      <td>male : single</td>\n",
       "      <td>None</td>\n",
       "      <td>...</td>\n",
       "      <td>unknown/no property</td>\n",
       "      <td>53</td>\n",
       "      <td>None</td>\n",
       "      <td>for free</td>\n",
       "      <td>2</td>\n",
       "      <td>skilled employee /official</td>\n",
       "      <td>2</td>\n",
       "      <td>None</td>\n",
       "      <td>yes</td>\n",
       "      <td>2</td>\n",
       "    </tr>\n",
       "    <tr>\n",
       "      <th>...</th>\n",
       "      <td>...</td>\n",
       "      <td>...</td>\n",
       "      <td>...</td>\n",
       "      <td>...</td>\n",
       "      <td>...</td>\n",
       "      <td>...</td>\n",
       "      <td>...</td>\n",
       "      <td>...</td>\n",
       "      <td>...</td>\n",
       "      <td>...</td>\n",
       "      <td>...</td>\n",
       "      <td>...</td>\n",
       "      <td>...</td>\n",
       "      <td>...</td>\n",
       "      <td>...</td>\n",
       "      <td>...</td>\n",
       "      <td>...</td>\n",
       "      <td>...</td>\n",
       "      <td>...</td>\n",
       "      <td>...</td>\n",
       "      <td>...</td>\n",
       "    </tr>\n",
       "    <tr>\n",
       "      <th>995</th>\n",
       "      <td>no checking account</td>\n",
       "      <td>12</td>\n",
       "      <td>existing credits paind back duly till now</td>\n",
       "      <td>furniture/equipment</td>\n",
       "      <td>1736</td>\n",
       "      <td>less than 100DM</td>\n",
       "      <td>4 less than and equal and less than 7 years</td>\n",
       "      <td>3</td>\n",
       "      <td>female : divorced/separated/married</td>\n",
       "      <td>None</td>\n",
       "      <td>...</td>\n",
       "      <td>real estate</td>\n",
       "      <td>31</td>\n",
       "      <td>None</td>\n",
       "      <td>own</td>\n",
       "      <td>1</td>\n",
       "      <td>unskilled-resident</td>\n",
       "      <td>1</td>\n",
       "      <td>None</td>\n",
       "      <td>yes</td>\n",
       "      <td>1</td>\n",
       "    </tr>\n",
       "    <tr>\n",
       "      <th>996</th>\n",
       "      <td>less than 0 DM</td>\n",
       "      <td>30</td>\n",
       "      <td>existing credits paind back duly till now</td>\n",
       "      <td>car (used)</td>\n",
       "      <td>3857</td>\n",
       "      <td>less than 100DM</td>\n",
       "      <td>1 less than or equal and less than 4 years</td>\n",
       "      <td>4</td>\n",
       "      <td>male : divorced/separated</td>\n",
       "      <td>None</td>\n",
       "      <td>...</td>\n",
       "      <td>if not real estate : building society savings ...</td>\n",
       "      <td>40</td>\n",
       "      <td>None</td>\n",
       "      <td>own</td>\n",
       "      <td>1</td>\n",
       "      <td>management/self-employed/highly qualified empl...</td>\n",
       "      <td>1</td>\n",
       "      <td>yes, registered under the customers name</td>\n",
       "      <td>yes</td>\n",
       "      <td>1</td>\n",
       "    </tr>\n",
       "    <tr>\n",
       "      <th>997</th>\n",
       "      <td>no checking account</td>\n",
       "      <td>12</td>\n",
       "      <td>existing credits paind back duly till now</td>\n",
       "      <td>radio/television</td>\n",
       "      <td>804</td>\n",
       "      <td>less than 100DM</td>\n",
       "      <td>bigger than or equal 7 years</td>\n",
       "      <td>4</td>\n",
       "      <td>male : single</td>\n",
       "      <td>None</td>\n",
       "      <td>...</td>\n",
       "      <td>if not others options : car or other, not in s...</td>\n",
       "      <td>38</td>\n",
       "      <td>None</td>\n",
       "      <td>own</td>\n",
       "      <td>1</td>\n",
       "      <td>skilled employee /official</td>\n",
       "      <td>1</td>\n",
       "      <td>None</td>\n",
       "      <td>yes</td>\n",
       "      <td>1</td>\n",
       "    </tr>\n",
       "    <tr>\n",
       "      <th>998</th>\n",
       "      <td>less than 0 DM</td>\n",
       "      <td>45</td>\n",
       "      <td>existing credits paind back duly till now</td>\n",
       "      <td>radio/television</td>\n",
       "      <td>1845</td>\n",
       "      <td>less than 100DM</td>\n",
       "      <td>1 less than or equal and less than 4 years</td>\n",
       "      <td>4</td>\n",
       "      <td>male : single</td>\n",
       "      <td>None</td>\n",
       "      <td>...</td>\n",
       "      <td>unknown/no property</td>\n",
       "      <td>23</td>\n",
       "      <td>None</td>\n",
       "      <td>for free</td>\n",
       "      <td>1</td>\n",
       "      <td>skilled employee /official</td>\n",
       "      <td>1</td>\n",
       "      <td>yes, registered under the customers name</td>\n",
       "      <td>yes</td>\n",
       "      <td>2</td>\n",
       "    </tr>\n",
       "    <tr>\n",
       "      <th>999</th>\n",
       "      <td>0 less than or equal and less than 200 DM</td>\n",
       "      <td>45</td>\n",
       "      <td>critical account / other credits existing (not...</td>\n",
       "      <td>car (used)</td>\n",
       "      <td>4576</td>\n",
       "      <td>100 less than or equal and &lt; 500DM</td>\n",
       "      <td>unemployed</td>\n",
       "      <td>3</td>\n",
       "      <td>male : single</td>\n",
       "      <td>None</td>\n",
       "      <td>...</td>\n",
       "      <td>if not others options : car or other, not in s...</td>\n",
       "      <td>27</td>\n",
       "      <td>None</td>\n",
       "      <td>own</td>\n",
       "      <td>1</td>\n",
       "      <td>skilled employee /official</td>\n",
       "      <td>1</td>\n",
       "      <td>None</td>\n",
       "      <td>yes</td>\n",
       "      <td>1</td>\n",
       "    </tr>\n",
       "  </tbody>\n",
       "</table>\n",
       "<p>1000 rows × 21 columns</p>\n",
       "</div>"
      ],
      "text/plain": [
       "                               Status Checking  Duration in Month  \\\n",
       "0                               less than 0 DM                  6   \n",
       "1    0 less than or equal and less than 200 DM                 48   \n",
       "2                          no checking account                 12   \n",
       "3                               less than 0 DM                 42   \n",
       "4                               less than 0 DM                 24   \n",
       "..                                         ...                ...   \n",
       "995                        no checking account                 12   \n",
       "996                             less than 0 DM                 30   \n",
       "997                        no checking account                 12   \n",
       "998                             less than 0 DM                 45   \n",
       "999  0 less than or equal and less than 200 DM                 45   \n",
       "\n",
       "                                        Credit History              Purpose  \\\n",
       "0    critical account / other credits existing (not...     radio/television   \n",
       "1            existing credits paind back duly till now     radio/television   \n",
       "2    critical account / other credits existing (not...            education   \n",
       "3            existing credits paind back duly till now  furniture/equipment   \n",
       "4                      delay in paying off in the past            car (new)   \n",
       "..                                                 ...                  ...   \n",
       "995          existing credits paind back duly till now  furniture/equipment   \n",
       "996          existing credits paind back duly till now           car (used)   \n",
       "997          existing credits paind back duly till now     radio/television   \n",
       "998          existing credits paind back duly till now     radio/television   \n",
       "999  critical account / other credits existing (not...           car (used)   \n",
       "\n",
       "     Credit Amount                     Savings Account  \\\n",
       "0             1169        unknown / no savings account   \n",
       "1             5951                     less than 100DM   \n",
       "2             2096                     less than 100DM   \n",
       "3             7882                     less than 100DM   \n",
       "4             4870                     less than 100DM   \n",
       "..             ...                                 ...   \n",
       "995           1736                     less than 100DM   \n",
       "996           3857                     less than 100DM   \n",
       "997            804                     less than 100DM   \n",
       "998           1845                     less than 100DM   \n",
       "999           4576  100 less than or equal and < 500DM   \n",
       "\n",
       "                               Employement since  Installmentrate %  \\\n",
       "0                   bigger than or equal 7 years                  4   \n",
       "1     1 less than or equal and less than 4 years                  2   \n",
       "2    4 less than and equal and less than 7 years                  2   \n",
       "3    4 less than and equal and less than 7 years                  2   \n",
       "4     1 less than or equal and less than 4 years                  3   \n",
       "..                                           ...                ...   \n",
       "995  4 less than and equal and less than 7 years                  3   \n",
       "996   1 less than or equal and less than 4 years                  4   \n",
       "997                 bigger than or equal 7 years                  4   \n",
       "998   1 less than or equal and less than 4 years                  4   \n",
       "999                                   unemployed                  3   \n",
       "\n",
       "                               StatusSex Otherdebtos  ...  \\\n",
       "0                          male : single        None  ...   \n",
       "1    female : divorced/separated/married        None  ...   \n",
       "2                          male : single        None  ...   \n",
       "3                          male : single   guarantor  ...   \n",
       "4                          male : single        None  ...   \n",
       "..                                   ...         ...  ...   \n",
       "995  female : divorced/separated/married        None  ...   \n",
       "996            male : divorced/separated        None  ...   \n",
       "997                        male : single        None  ...   \n",
       "998                        male : single        None  ...   \n",
       "999                        male : single        None  ...   \n",
       "\n",
       "                                              Property Age in years  \\\n",
       "0                                          real estate           67   \n",
       "1                                          real estate           22   \n",
       "2                                          real estate           49   \n",
       "3    if not real estate : building society savings ...           45   \n",
       "4                                  unknown/no property           53   \n",
       "..                                                 ...          ...   \n",
       "995                                        real estate           31   \n",
       "996  if not real estate : building society savings ...           40   \n",
       "997  if not others options : car or other, not in s...           38   \n",
       "998                                unknown/no property           23   \n",
       "999  if not others options : car or other, not in s...           27   \n",
       "\n",
       "     Otherinstallment Plans   Housing Number existing Credits  \\\n",
       "0                      None       own                       2   \n",
       "1                      None       own                       1   \n",
       "2                      None       own                       1   \n",
       "3                      None  for free                       1   \n",
       "4                      None  for free                       2   \n",
       "..                      ...       ...                     ...   \n",
       "995                    None       own                       1   \n",
       "996                    None       own                       1   \n",
       "997                    None       own                       1   \n",
       "998                    None  for free                       1   \n",
       "999                    None       own                       1   \n",
       "\n",
       "                                                   Job Number people liable  \\\n",
       "0                           skilled employee /official                    1   \n",
       "1                           skilled employee /official                    1   \n",
       "2                                   unskilled-resident                    2   \n",
       "3                           skilled employee /official                    2   \n",
       "4                           skilled employee /official                    2   \n",
       "..                                                 ...                  ...   \n",
       "995                                 unskilled-resident                    1   \n",
       "996  management/self-employed/highly qualified empl...                    1   \n",
       "997                         skilled employee /official                    1   \n",
       "998                         skilled employee /official                    1   \n",
       "999                         skilled employee /official                    1   \n",
       "\n",
       "                                    Telephone Foreign Worker Target  \n",
       "0    yes, registered under the customers name            yes      1  \n",
       "1                                        None            yes      2  \n",
       "2                                        None            yes      1  \n",
       "3                                        None            yes      1  \n",
       "4                                        None            yes      2  \n",
       "..                                        ...            ...    ...  \n",
       "995                                      None            yes      1  \n",
       "996  yes, registered under the customers name            yes      1  \n",
       "997                                      None            yes      1  \n",
       "998  yes, registered under the customers name            yes      2  \n",
       "999                                      None            yes      1  \n",
       "\n",
       "[1000 rows x 21 columns]"
      ]
     },
     "execution_count": 3,
     "metadata": {},
     "output_type": "execute_result"
    }
   ],
   "source": [
    "german_data"
   ]
  },
  {
   "cell_type": "code",
   "execution_count": 4,
   "metadata": {},
   "outputs": [
    {
     "data": {
      "text/plain": [
       "Status Checking            0\n",
       "Duration in Month          0\n",
       "Credit History             0\n",
       "Purpose                    0\n",
       "Credit Amount              0\n",
       "Savings Account            0\n",
       "Employement since          0\n",
       "Installmentrate %          0\n",
       "StatusSex                  0\n",
       "Otherdebtos                0\n",
       "PresentResidence           0\n",
       "Property                   0\n",
       "Age in years               0\n",
       "Otherinstallment Plans     0\n",
       "Housing                    0\n",
       "Number existing Credits    0\n",
       "Job                        0\n",
       "Number people liable       0\n",
       "Telephone                  0\n",
       "Foreign Worker             0\n",
       "Target                     0\n",
       "dtype: int64"
      ]
     },
     "execution_count": 4,
     "metadata": {},
     "output_type": "execute_result"
    }
   ],
   "source": [
    "# check for missing values\n",
    "german_data.isnull().sum()\n"
   ]
  },
  {
   "cell_type": "markdown",
   "metadata": {},
   "source": [
    "# Daten auf Plausibilität prüfen"
   ]
  },
  {
   "cell_type": "code",
   "execution_count": 5,
   "metadata": {},
   "outputs": [
    {
     "data": {
      "text/html": [
       "<div>\n",
       "<style scoped>\n",
       "    .dataframe tbody tr th:only-of-type {\n",
       "        vertical-align: middle;\n",
       "    }\n",
       "\n",
       "    .dataframe tbody tr th {\n",
       "        vertical-align: top;\n",
       "    }\n",
       "\n",
       "    .dataframe thead th {\n",
       "        text-align: right;\n",
       "    }\n",
       "</style>\n",
       "<table border=\"1\" class=\"dataframe\">\n",
       "  <thead>\n",
       "    <tr style=\"text-align: right;\">\n",
       "      <th></th>\n",
       "      <th>Duration in Month</th>\n",
       "      <th>Credit Amount</th>\n",
       "      <th>Installmentrate %</th>\n",
       "      <th>PresentResidence</th>\n",
       "      <th>Age in years</th>\n",
       "      <th>Number existing Credits</th>\n",
       "      <th>Number people liable</th>\n",
       "      <th>Target</th>\n",
       "    </tr>\n",
       "  </thead>\n",
       "  <tbody>\n",
       "    <tr>\n",
       "      <th>count</th>\n",
       "      <td>1000.000000</td>\n",
       "      <td>1000.000000</td>\n",
       "      <td>1000.000000</td>\n",
       "      <td>1000.000000</td>\n",
       "      <td>1000.000000</td>\n",
       "      <td>1000.000000</td>\n",
       "      <td>1000.000000</td>\n",
       "      <td>1000.000000</td>\n",
       "    </tr>\n",
       "    <tr>\n",
       "      <th>mean</th>\n",
       "      <td>20.903000</td>\n",
       "      <td>3271.258000</td>\n",
       "      <td>2.973000</td>\n",
       "      <td>2.845000</td>\n",
       "      <td>35.546000</td>\n",
       "      <td>1.407000</td>\n",
       "      <td>1.155000</td>\n",
       "      <td>1.300000</td>\n",
       "    </tr>\n",
       "    <tr>\n",
       "      <th>std</th>\n",
       "      <td>12.058814</td>\n",
       "      <td>2822.736876</td>\n",
       "      <td>1.118715</td>\n",
       "      <td>1.103718</td>\n",
       "      <td>11.375469</td>\n",
       "      <td>0.577654</td>\n",
       "      <td>0.362086</td>\n",
       "      <td>0.458487</td>\n",
       "    </tr>\n",
       "    <tr>\n",
       "      <th>min</th>\n",
       "      <td>4.000000</td>\n",
       "      <td>250.000000</td>\n",
       "      <td>1.000000</td>\n",
       "      <td>1.000000</td>\n",
       "      <td>19.000000</td>\n",
       "      <td>1.000000</td>\n",
       "      <td>1.000000</td>\n",
       "      <td>1.000000</td>\n",
       "    </tr>\n",
       "    <tr>\n",
       "      <th>25%</th>\n",
       "      <td>12.000000</td>\n",
       "      <td>1365.500000</td>\n",
       "      <td>2.000000</td>\n",
       "      <td>2.000000</td>\n",
       "      <td>27.000000</td>\n",
       "      <td>1.000000</td>\n",
       "      <td>1.000000</td>\n",
       "      <td>1.000000</td>\n",
       "    </tr>\n",
       "    <tr>\n",
       "      <th>50%</th>\n",
       "      <td>18.000000</td>\n",
       "      <td>2319.500000</td>\n",
       "      <td>3.000000</td>\n",
       "      <td>3.000000</td>\n",
       "      <td>33.000000</td>\n",
       "      <td>1.000000</td>\n",
       "      <td>1.000000</td>\n",
       "      <td>1.000000</td>\n",
       "    </tr>\n",
       "    <tr>\n",
       "      <th>75%</th>\n",
       "      <td>24.000000</td>\n",
       "      <td>3972.250000</td>\n",
       "      <td>4.000000</td>\n",
       "      <td>4.000000</td>\n",
       "      <td>42.000000</td>\n",
       "      <td>2.000000</td>\n",
       "      <td>1.000000</td>\n",
       "      <td>2.000000</td>\n",
       "    </tr>\n",
       "    <tr>\n",
       "      <th>max</th>\n",
       "      <td>72.000000</td>\n",
       "      <td>18424.000000</td>\n",
       "      <td>4.000000</td>\n",
       "      <td>4.000000</td>\n",
       "      <td>75.000000</td>\n",
       "      <td>4.000000</td>\n",
       "      <td>2.000000</td>\n",
       "      <td>2.000000</td>\n",
       "    </tr>\n",
       "  </tbody>\n",
       "</table>\n",
       "</div>"
      ],
      "text/plain": [
       "       Duration in Month  Credit Amount  Installmentrate %  PresentResidence  \\\n",
       "count        1000.000000    1000.000000        1000.000000       1000.000000   \n",
       "mean           20.903000    3271.258000           2.973000          2.845000   \n",
       "std            12.058814    2822.736876           1.118715          1.103718   \n",
       "min             4.000000     250.000000           1.000000          1.000000   \n",
       "25%            12.000000    1365.500000           2.000000          2.000000   \n",
       "50%            18.000000    2319.500000           3.000000          3.000000   \n",
       "75%            24.000000    3972.250000           4.000000          4.000000   \n",
       "max            72.000000   18424.000000           4.000000          4.000000   \n",
       "\n",
       "       Age in years  Number existing Credits  Number people liable  \\\n",
       "count   1000.000000              1000.000000           1000.000000   \n",
       "mean      35.546000                 1.407000              1.155000   \n",
       "std       11.375469                 0.577654              0.362086   \n",
       "min       19.000000                 1.000000              1.000000   \n",
       "25%       27.000000                 1.000000              1.000000   \n",
       "50%       33.000000                 1.000000              1.000000   \n",
       "75%       42.000000                 2.000000              1.000000   \n",
       "max       75.000000                 4.000000              2.000000   \n",
       "\n",
       "            Target  \n",
       "count  1000.000000  \n",
       "mean      1.300000  \n",
       "std       0.458487  \n",
       "min       1.000000  \n",
       "25%       1.000000  \n",
       "50%       1.000000  \n",
       "75%       2.000000  \n",
       "max       2.000000  "
      ]
     },
     "execution_count": 5,
     "metadata": {},
     "output_type": "execute_result"
    }
   ],
   "source": [
    "# describe the data\n",
    "german_data.describe()\n"
   ]
  },
  {
   "cell_type": "code",
   "execution_count": 6,
   "metadata": {},
   "outputs": [
    {
     "data": {
      "text/plain": [
       "<AxesSubplot:>"
      ]
     },
     "execution_count": 6,
     "metadata": {},
     "output_type": "execute_result"
    },
    {
     "data": {
      "image/png": "[encoded data removed]",
      "text/plain": [
       "<Figure size 432x288 with 1 Axes>"
      ]
     },
     "metadata": {
      "needs_background": "light"
     },
     "output_type": "display_data"
    }
   ],
   "source": [
    "#check credit amount for outliers\n",
    "german_data['Credit Amount'].hist(bins=50)\n",
    "# x achse log \n",
    "\n"
   ]
  },
  {
   "cell_type": "code",
   "execution_count": 7,
   "metadata": {},
   "outputs": [
    {
     "data": {
      "text/plain": [
       "<AxesSubplot:ylabel='Frequency'>"
      ]
     },
     "execution_count": 7,
     "metadata": {},
     "output_type": "execute_result"
    },
    {
     "data": {
      "image/png": "[encoded data removed]",
      "text/plain": [
       "<Figure size 1080x360 with 1 Axes>"
      ]
     },
     "metadata": {
      "needs_background": "light"
     },
     "output_type": "display_data"
    }
   ],
   "source": [
    "plt.subplot(1, 2, 1)\n",
    "german_data['Credit Amount'].plot(kind='hist', logx=False, bins=50)\n",
    "# plot histogram credit amout where target is 2\n",
    "german_data.loc[german_data['Target'] == 2, 'Credit Amount'].plot(kind='hist', logx=False, bins=50, color='red', figsize=(15, 5))\n"
   ]
  },
  {
   "cell_type": "code",
   "execution_count": 8,
   "metadata": {},
   "outputs": [
    {
     "data": {
      "text/plain": [
       "<AxesSubplot:ylabel='Target'>"
      ]
     },
     "execution_count": 8,
     "metadata": {},
     "output_type": "execute_result"
    },
    {
     "data": {
      "image/png": "[encoded data removed]",
      "text/plain": [
       "<Figure size 1080x360 with 1 Axes>"
      ]
     },
     "metadata": {},
     "output_type": "display_data"
    }
   ],
   "source": [
    "# plot target variable as pie chart with target 1 and target 2 as labels colored red and blue\n",
    "\n",
    "german_data['Target'].value_counts().plot(kind='pie', colors=['red', 'blue'], autopct='%1.1f%%', figsize=(15, 5))"
   ]
  },
  {
   "cell_type": "markdown",
   "metadata": {},
   "source": [
    "# Zielvariable ist Ungleichverteilt"
   ]
  },
  {
   "cell_type": "markdown",
   "metadata": {},
   "source": [
    "# Untersuchung auf Outlier"
   ]
  },
  {
   "cell_type": "code",
   "execution_count": 9,
   "metadata": {},
   "outputs": [
    {
     "data": {
      "text/plain": [
       "<AxesSubplot:title={'center':'Credit Amount'}, xlabel='Target'>"
      ]
     },
     "execution_count": 9,
     "metadata": {},
     "output_type": "execute_result"
    },
    {
     "data": {
      "image/png": "[encoded data removed]",
      "text/plain": [
       "<Figure size 1080x360 with 1 Axes>"
      ]
     },
     "metadata": {
      "needs_background": "light"
     },
     "output_type": "display_data"
    }
   ],
   "source": [
    "#box plot credit amount outliers\n",
    "german_data.boxplot(column='Credit Amount', by='Target', figsize=(15, 5))"
   ]
  },
  {
   "cell_type": "code",
   "execution_count": 10,
   "metadata": {},
   "outputs": [
    {
     "data": {
      "text/plain": [
       "<AxesSubplot:xlabel='Credit Amount', ylabel='Target'>"
      ]
     },
     "execution_count": 10,
     "metadata": {},
     "output_type": "execute_result"
    },
    {
     "data": {
      "image/png": "[encoded data removed]",
      "text/plain": [
       "<Figure size 1080x360 with 1 Axes>"
      ]
     },
     "metadata": {
      "needs_background": "light"
     },
     "output_type": "display_data"
    }
   ],
   "source": [
    "# scatter plot credit amount\n",
    "german_data.plot(kind='scatter', x='Credit Amount', y='Target', figsize=(15, 5))"
   ]
  },
  {
   "cell_type": "code",
   "execution_count": 11,
   "metadata": {},
   "outputs": [],
   "source": [
    "# calculate ZScore for credit amount\n",
    "german_data['ZScore'] = (german_data['Credit Amount'] - german_data['Credit Amount'].mean()) / german_data['Credit Amount'].std()\n"
   ]
  },
  {
   "cell_type": "code",
   "execution_count": 12,
   "metadata": {},
   "outputs": [
    {
     "data": {
      "text/plain": [
       "<AxesSubplot:ylabel='Frequency'>"
      ]
     },
     "execution_count": 12,
     "metadata": {},
     "output_type": "execute_result"
    },
    {
     "data": {
      "image/png": "[encoded data removed]",
      "text/plain": [
       "<Figure size 1080x360 with 1 Axes>"
      ]
     },
     "metadata": {
      "needs_background": "light"
     },
     "output_type": "display_data"
    }
   ],
   "source": [
    "#plot zscore for credit amount\n",
    "german_data['ZScore'].plot(kind='hist', bins=50, figsize=(15, 5))\n"
   ]
  },
  {
   "cell_type": "code",
   "execution_count": 13,
   "metadata": {},
   "outputs": [
    {
     "name": "stdout",
     "output_type": "stream",
     "text": [
      "Upper bound: 0      False\n",
      "1      False\n",
      "2      False\n",
      "3      False\n",
      "4      False\n",
      "       ...  \n",
      "995    False\n",
      "996    False\n",
      "997    False\n",
      "998    False\n",
      "999    False\n",
      "Name: Credit Amount, Length: 1000, dtype: bool\n",
      "(array([  5,  17,  18,  57,  63,  70,  78,  87,  95, 105, 130, 134, 136,\n",
      "       180, 205, 226, 236, 268, 272, 274, 285, 291, 295, 304, 333, 373,\n",
      "       374, 378, 381, 395, 402, 417, 431, 450, 491, 496, 509, 525, 549,\n",
      "       563, 615, 616, 637, 645, 653, 657, 672, 684, 714, 736, 744, 763,\n",
      "       771, 805, 808, 812, 818, 828, 832, 854, 881, 887, 895, 902, 915,\n",
      "       917, 921, 927, 945, 953, 980, 983]),)\n",
      "Lower bound: 0      False\n",
      "1      False\n",
      "2      False\n",
      "3      False\n",
      "4      False\n",
      "       ...  \n",
      "995    False\n",
      "996    False\n",
      "997    False\n",
      "998    False\n",
      "999    False\n",
      "Name: Credit Amount, Length: 1000, dtype: bool\n",
      "(array([], dtype=int64),)\n"
     ]
    },
    {
     "name": "stderr",
     "output_type": "stream",
     "text": [
      "/var/folders/rf/kg6tbnbs6md8psmvxmk30hmw0000gn/T/ipykernel_8094/3230260827.py:2: DeprecationWarning: the `interpolation=` argument to percentile was renamed to `method=`, which has additional options.\n",
      "Users of the modes 'nearest', 'lower', 'higher', or 'midpoint' are encouraged to review the method they. (Deprecated NumPy 1.22)\n",
      "  Q1 = np.percentile(german_data['Credit Amount'], 25,\n",
      "/var/folders/rf/kg6tbnbs6md8psmvxmk30hmw0000gn/T/ipykernel_8094/3230260827.py:5: DeprecationWarning: the `interpolation=` argument to percentile was renamed to `method=`, which has additional options.\n",
      "Users of the modes 'nearest', 'lower', 'higher', or 'midpoint' are encouraged to review the method they. (Deprecated NumPy 1.22)\n",
      "  Q3 = np.percentile(german_data['Credit Amount'], 75,\n"
     ]
    }
   ],
   "source": [
    "# calculate IQR for credit amount\n",
    "Q1 = np.percentile(german_data['Credit Amount'], 25,\n",
    "                   interpolation = 'midpoint')\n",
    " \n",
    "Q3 = np.percentile(german_data['Credit Amount'], 75,\n",
    "                   interpolation = 'midpoint')\n",
    "IQR = Q3 - Q1\n",
    "\n",
    "upper = Q3 +1.5*IQR\n",
    "lower = Q1 - 1.5*IQR\n",
    "upper = german_data['Credit Amount'] >= (Q3+1.5*IQR)\n",
    " \n",
    "print(\"Upper bound:\",upper)\n",
    "print(np.where(upper))\n",
    " \n",
    "# Below Lower bound\n",
    "lower = german_data['Credit Amount'] <= (Q1-1.5*IQR)\n",
    "print(\"Lower bound:\", lower)\n",
    "print(np.where(lower))"
   ]
  },
  {
   "cell_type": "code",
   "execution_count": 14,
   "metadata": {},
   "outputs": [
    {
     "data": {
      "text/plain": [
       "(array([  5,  17,  18,  57,  63,  70,  78,  87,  95, 105, 130, 134, 136,\n",
       "        180, 205, 226, 236, 268, 272, 274, 285, 291, 295, 304, 333, 373,\n",
       "        374, 378, 381, 395, 402, 417, 431, 450, 491, 496, 509, 525, 549,\n",
       "        563, 615, 616, 637, 645, 653, 657, 672, 684, 714, 736, 744, 763,\n",
       "        771, 805, 808, 812, 818, 828, 832, 854, 881, 887, 895, 902, 915,\n",
       "        917, 921, 927, 945, 953, 980, 983]),)"
      ]
     },
     "execution_count": 14,
     "metadata": {},
     "output_type": "execute_result"
    }
   ],
   "source": [
    "# function to determine outlier values\n",
    "def outlier_iqr(x):\n",
    "    quartile_1, quartile_3 = np.percentile(x, [25, 75])\n",
    "    iqr = quartile_3 - quartile_1\n",
    "    lower_bound = quartile_1 - (iqr * 1.5)\n",
    "    upper_bound = quartile_3 + (iqr * 1.5)\n",
    "    return np.where((x > upper_bound) | (x < lower_bound))\n",
    "# calculate the outlier values\n",
    "outlier_iqr(german_data['Credit Amount'])"
   ]
  },
  {
   "cell_type": "code",
   "execution_count": 15,
   "metadata": {},
   "outputs": [],
   "source": [
    "# transform target value 2 to 1 and 1 to 0 to be binary\n",
    "german_data['Target'] = german_data['Target'].map({2:1, 1:0})\n"
   ]
  },
  {
   "cell_type": "code",
   "execution_count": 16,
   "metadata": {},
   "outputs": [
    {
     "data": {
      "text/plain": [
       "<AxesSubplot:>"
      ]
     },
     "execution_count": 16,
     "metadata": {},
     "output_type": "execute_result"
    },
    {
     "data": {
      "image/png": "[encoded data removed]",
      "text/plain": [
       "<Figure size 432x288 with 2 Axes>"
      ]
     },
     "metadata": {
      "needs_background": "light"
     },
     "output_type": "display_data"
    }
   ],
   "source": [
    "# check if feautures are correlated\n",
    "corr = german_data.corr()\n",
    "# plot correlation matrix\n",
    "sns.heatmap(corr, xticklabels=corr.columns, yticklabels=corr.columns)\n"
   ]
  },
  {
   "cell_type": "code",
   "execution_count": 17,
   "metadata": {},
   "outputs": [
    {
     "name": "stdout",
     "output_type": "stream",
     "text": [
      "Status Checking object\n",
      "Status Checking object\n",
      "Duration in Month int64\n",
      "Duration in Month int64\n",
      "Credit History object\n",
      "Credit History object\n",
      "Purpose object\n",
      "Purpose object\n",
      "Credit Amount int64\n",
      "Credit Amount int64\n",
      "Savings Account object\n",
      "Savings Account object\n",
      "Employement since object\n",
      "Employement since object\n",
      "Installmentrate % int64\n",
      "Installmentrate % int64\n",
      "StatusSex object\n",
      "StatusSex object\n",
      "Otherdebtos object\n",
      "Otherdebtos object\n",
      "PresentResidence int64\n",
      "PresentResidence int64\n",
      "Property object\n",
      "Property object\n",
      "Age in years int64\n",
      "Age in years int64\n",
      "Otherinstallment Plans object\n",
      "Otherinstallment Plans object\n",
      "Housing object\n",
      "Housing object\n",
      "Number existing Credits int64\n",
      "Number existing Credits int64\n",
      "Job object\n",
      "Job object\n",
      "Number people liable int64\n",
      "Number people liable int64\n",
      "Telephone object\n",
      "Telephone object\n",
      "Foreign Worker object\n",
      "Foreign Worker object\n",
      "Target int64\n",
      "Target int64\n",
      "ZScore float64\n",
      "ZScore float64\n",
      "['Status Checking', 'Credit History', 'Purpose', 'Savings Account', 'Employement since', 'StatusSex', 'Otherdebtos', 'Property', 'Otherinstallment Plans', 'Housing', 'Job', 'Telephone', 'Foreign Worker'] Numerical: ['Duration in Month', 'Credit Amount', 'Installmentrate %', 'PresentResidence', 'Age in years', 'Number existing Credits', 'Number people liable', 'Target', 'ZScore']\n"
     ]
    }
   ],
   "source": [
    "#iterate through feautures and get datatype and check if they are categorical or numerical and store them into list\n",
    "categorical_features = []\n",
    "numerical_features = []\n",
    "for i in german_data.columns:\n",
    "    print(i, german_data[i].dtype)\n",
    "    if german_data[i].dtype == 'object':\n",
    "        print(i, german_data[i].dtype)\n",
    "        categorical_features.append(i)\n",
    "    else:\n",
    "        print(i, german_data[i].dtype)\n",
    "        numerical_features.append(i)\n",
    "\n",
    "\n",
    "print(categorical_features, \"Numerical:\" ,numerical_features)\n",
    "    \n"
   ]
  },
  {
   "cell_type": "code",
   "execution_count": 18,
   "metadata": {},
   "outputs": [],
   "source": [
    "# one hot encode categorical features\n",
    "german_data = pd.get_dummies(german_data, columns=categorical_features)\n"
   ]
  },
  {
   "cell_type": "code",
   "execution_count": 19,
   "metadata": {},
   "outputs": [],
   "source": [
    "#drop zscore\n",
    "german_data = german_data.drop(['ZScore'], axis=1)\n"
   ]
  },
  {
   "cell_type": "code",
   "execution_count": 20,
   "metadata": {},
   "outputs": [
    {
     "name": "stdout",
     "output_type": "stream",
     "text": [
      "Accuracy score: 0.7678571428571429\n",
      "Recall score: 0.4880952380952381\n",
      "Precision score: 0.6507936507936508\n",
      "fbeta score: 0.5137844611528822\n"
     ]
    }
   ],
   "source": [
    "# use logistic regression to predict target variable\n",
    "from sklearn.linear_model import LogisticRegression\n",
    "from sklearn.model_selection import train_test_split\n",
    "from sklearn.metrics import accuracy_score, recall_score, precision_score, roc_auc_score, fbeta_score\n",
    "\n",
    "# split data into train and test set\n",
    "X_train, X_test, y_train, y_test = train_test_split(german_data.drop('Target', axis=1), german_data['Target'], test_size=0.28, random_state=42)\n",
    "\n",
    "# create logistic regression model\n",
    "'''\n",
    "solver to liblinear --> better score; standard lbfgs\n",
    "'''\n",
    "logreg = LogisticRegression(max_iter=100, intercept_scaling=100, solver = 'liblinear')\n",
    "# fit the model\n",
    "logreg.fit(X_train, y_train)\n",
    "# predict the target variable\n",
    "y_pred = logreg.predict(X_test)\n",
    "\n",
    "# print accuracy score and recall score\n",
    "print(\"Accuracy score:\", accuracy_score(y_test, y_pred))\n",
    "print(\"Recall score:\", recall_score(y_test, y_pred))\n",
    "print(\"Precision score:\", precision_score(y_test, y_pred))\n",
    "print(\"fbeta score:\", fbeta_score(y_test, y_pred, beta=2))\n",
    "\n",
    "\n",
    "\n",
    "\n"
   ]
  },
  {
   "cell_type": "code",
   "execution_count": 21,
   "metadata": {},
   "outputs": [
    {
     "name": "stdout",
     "output_type": "stream",
     "text": [
      "Best hyperparameters: {'C': 1, 'intercept_scaling': 10000, 'penalty': 'l2'}\n",
      "Best score: 0.7402777777777778\n"
     ]
    }
   ],
   "source": [
    "#hyperparameter tuning for logistic regression\n",
    "from sklearn.model_selection import GridSearchCV\n",
    "#tune hyperparameters\n",
    "parameters = {'C': [0.001, 0.01, 0.1, 1, 10, 100, 1000], 'penalty': ['l1', 'l2'],'intercept_scaling': [100, 500, 1000, 5000, 10000]}\n",
    "# create grid search object\n",
    "grid_search = GridSearchCV(logreg, parameters, cv=5, scoring='accuracy')\n",
    "# fit the model\n",
    "grid_search.fit(X_train, y_train)\n",
    "# print the best hyperparameters\n",
    "print(\"Best hyperparameters:\", grid_search.best_params_)\n",
    "print(\"Best score:\", grid_search.best_score_)\n"
   ]
  },
  {
   "cell_type": "code",
   "execution_count": 22,
   "metadata": {},
   "outputs": [
    {
     "data": {
      "image/png": "[encoded data removed]",
      "text/plain": [
       "<Figure size 432x288 with 1 Axes>"
      ]
     },
     "metadata": {
      "needs_background": "light"
     },
     "output_type": "display_data"
    }
   ],
   "source": [
    "#plot roc curve\n",
    "from sklearn.metrics import roc_curve, auc\n",
    "#plot roc curve\n",
    "fpr, tpr, thresholds = roc_curve(y_test, y_pred)\n",
    "roc_auc = auc(fpr, tpr)\n",
    "plt.figure()\n",
    "lw = 2\n",
    "plt.plot(fpr, tpr, color='darkorange', lw=lw, label='ROC curve (area = %0.2f)' % roc_auc)\n",
    "plt.plot([0, 1], [0, 1], color='navy', lw=lw, linestyle='--')\n",
    "plt.xlim([0.0, 1.0])\n",
    "plt.ylim([0.0, 1.05])\n",
    "plt.xlabel('False Positive Rate')\n",
    "plt.ylabel('True Positive Rate')\n",
    "plt.title('Receiver operating characteristic')\n",
    "plt.legend(loc=\"lower right\")\n",
    "plt.show()\n"
   ]
  },
  {
   "cell_type": "code",
   "execution_count": 23,
   "metadata": {},
   "outputs": [
    {
     "data": {
      "image/png": "[encoded data removed]",
      "text/plain": [
       "<Figure size 432x288 with 2 Axes>"
      ]
     },
     "metadata": {
      "needs_background": "light"
     },
     "output_type": "display_data"
    }
   ],
   "source": [
    "#plot confusion matrix\n",
    "from sklearn.metrics import confusion_matrix\n",
    "\n",
    "confusion_matrix = confusion_matrix(y_test, y_pred)\n",
    "#plot confusion matrix with labels\n",
    "plt.figure()\n",
    "sns.heatmap(confusion_matrix, annot=True, fmt='d')\n",
    "plt.title('Confusion matrix')\n",
    "plt.ylabel('True label')\n",
    "plt.xlabel('Predicted label')\n",
    "plt.show()\n",
    "\n",
    "\n",
    "\n"
   ]
  },
  {
   "cell_type": "code",
   "execution_count": 44,
   "metadata": {},
   "outputs": [
    {
     "name": "stdout",
     "output_type": "stream",
     "text": [
      "Accuracy score: 0.7642857142857142\n",
      "Recall score: 0.36904761904761907\n",
      "Precision score: 0.7045454545454546\n",
      "fbeta score: 0.4078947368421053\n"
     ]
    }
   ],
   "source": [
    "# use random forest to predict target variable\n",
    "from sklearn.ensemble import RandomForestClassifier\n",
    "# fit the model\n",
    "rf = RandomForestClassifier(n_estimators=1000, max_depth=1000, random_state=42)\n",
    "rf.fit(X_train, y_train)\n",
    "# predict the target variable\n",
    "y_pred = rf.predict(X_test)\n",
    "# print accuracy score and recall score\n",
    "print(\"Accuracy score:\", accuracy_score(y_test, y_pred))\n",
    "print(\"Recall score:\", recall_score(y_test, y_pred))\n",
    "print(\"Precision score:\", precision_score(y_test, y_pred))\n",
    "print(\"fbeta score:\", fbeta_score(y_test, y_pred, beta=2))\n"
   ]
  },
  {
   "cell_type": "code",
   "execution_count": 45,
   "metadata": {},
   "outputs": [
    {
     "data": {
      "image/png": "[encoded data removed]",
      "text/plain": [
       "<Figure size 432x288 with 1 Axes>"
      ]
     },
     "metadata": {
      "needs_background": "light"
     },
     "output_type": "display_data"
    }
   ],
   "source": [
    "fpr, tpr, thresholds = roc_curve(y_test, y_pred)\n",
    "roc_auc = auc(fpr, tpr)\n",
    "plt.figure()\n",
    "lw = 2\n",
    "plt.plot(fpr, tpr, color='darkorange', lw=lw, label='ROC curve (area = %0.2f)' % roc_auc)\n",
    "plt.plot([0, 1], [0, 1], color='navy', lw=lw, linestyle='--')\n",
    "plt.xlim([0.0, 1.0])\n",
    "plt.ylim([0.0, 1.05])\n",
    "plt.xlabel('False Positive Rate')\n",
    "plt.ylabel('True Positive Rate')\n",
    "plt.title('Receiver operating characteristic')\n",
    "plt.legend(loc=\"lower right\")\n",
    "plt.show()"
   ]
  },
  {
   "cell_type": "code",
   "execution_count": 49,
   "metadata": {},
   "outputs": [
    {
     "name": "stdout",
     "output_type": "stream",
     "text": [
      "Accuracy score: 0.6357142857142857\n",
      "Recall score: 0.5833333333333334\n",
      "Precision score: 0.4224137931034483\n",
      "fbeta score: 0.5420353982300885\n"
     ]
    }
   ],
   "source": [
    "# use neuro network to predict target variable\n",
    "from sklearn.neural_network import MLPClassifier\n",
    "# fit the model\n",
    "nn = MLPClassifier(hidden_layer_sizes=(10,), max_iter=1000, random_state=0)\n",
    "nn.fit(X_train, y_train)\n",
    "# predict the target variable\n",
    "y_pred = nn.predict(X_test)\n",
    "# print accuracy score and recall score\n",
    "print(\"Accuracy score:\", accuracy_score(y_test, y_pred))\n",
    "print(\"Recall score:\", recall_score(y_test, y_pred))\n",
    "print(\"Precision score:\", precision_score(y_test, y_pred))\n",
    "print(\"fbeta score:\", fbeta_score(y_test, y_pred, beta=2))"
   ]
  },
  {
   "cell_type": "code",
   "execution_count": 50,
   "metadata": {},
   "outputs": [
    {
     "data": {
      "image/png": "[encoded data removed]",
      "text/plain": [
       "<Figure size 432x288 with 1 Axes>"
      ]
     },
     "metadata": {
      "needs_background": "light"
     },
     "output_type": "display_data"
    }
   ],
   "source": [
    "fpr, tpr, thresholds = roc_curve(y_test, y_pred)\n",
    "roc_auc = auc(fpr, tpr)\n",
    "plt.figure()\n",
    "lw = 2\n",
    "plt.plot(fpr, tpr, color='darkorange', lw=lw, label='ROC curve (area = %0.2f)' % roc_auc)\n",
    "plt.plot([0, 1], [0, 1], color='navy', lw=lw, linestyle='--')\n",
    "plt.xlim([0.0, 1.0])\n",
    "plt.ylim([0.0, 1.05])\n",
    "plt.xlabel('False Positive Rate')\n",
    "plt.ylabel('True Positive Rate')\n",
    "plt.title('Receiver operating characteristic')\n",
    "plt.legend(loc=\"lower right\")\n",
    "plt.show()"
   ]
  },
  {
   "cell_type": "code",
   "execution_count": 51,
   "metadata": {},
   "outputs": [
    {
     "ename": "ValueError",
     "evalue": "feature_names must be string, and may not contain [, ] or <",
     "output_type": "error",
     "traceback": [
      "\u001b[0;31m---------------------------------------------------------------------------\u001b[0m",
      "\u001b[0;31mValueError\u001b[0m                                Traceback (most recent call last)",
      "\u001b[1;32m/Users/danielhorn/Desktop/AML_Project_2/AML/German_Credit_data/eda.ipynb Cell 33'\u001b[0m in \u001b[0;36m<cell line: 9>\u001b[0;34m()\u001b[0m\n\u001b[1;32m      <a href='vscode-notebook-cell:/Users/danielhorn/Desktop/AML_Project_2/AML/German_Credit_data/eda.ipynb#ch0000030?line=2'>3</a>\u001b[0m \u001b[39m# fit the model\u001b[39;00m\n\u001b[1;32m      <a href='vscode-notebook-cell:/Users/danielhorn/Desktop/AML_Project_2/AML/German_Credit_data/eda.ipynb#ch0000030?line=3'>4</a>\u001b[0m xgb \u001b[39m=\u001b[39m XGBClassifier(n_estimators\u001b[39m=\u001b[39m\u001b[39m1000\u001b[39m, max_depth\u001b[39m=\u001b[39m\u001b[39m1000\u001b[39m, random_state\u001b[39m=\u001b[39m\u001b[39m42\u001b[39m)\n\u001b[0;32m----> <a href='vscode-notebook-cell:/Users/danielhorn/Desktop/AML_Project_2/AML/German_Credit_data/eda.ipynb#ch0000030?line=8'>9</a>\u001b[0m xgb\u001b[39m.\u001b[39;49mfit(X_train, y_train)\n\u001b[1;32m     <a href='vscode-notebook-cell:/Users/danielhorn/Desktop/AML_Project_2/AML/German_Credit_data/eda.ipynb#ch0000030?line=9'>10</a>\u001b[0m \u001b[39m# predict the target variable\u001b[39;00m\n\u001b[1;32m     <a href='vscode-notebook-cell:/Users/danielhorn/Desktop/AML_Project_2/AML/German_Credit_data/eda.ipynb#ch0000030?line=10'>11</a>\u001b[0m y_pred \u001b[39m=\u001b[39m xgb\u001b[39m.\u001b[39mpredict(X_test)\n",
      "File \u001b[0;32m~/opt/anaconda3/lib/python3.9/site-packages/xgboost/core.py:532\u001b[0m, in \u001b[0;36m_deprecate_positional_args.<locals>.inner_f\u001b[0;34m(*args, **kwargs)\u001b[0m\n\u001b[1;32m    <a href='file:///Users/danielhorn/opt/anaconda3/lib/python3.9/site-packages/xgboost/core.py?line=529'>530</a>\u001b[0m \u001b[39mfor\u001b[39;00m k, arg \u001b[39min\u001b[39;00m \u001b[39mzip\u001b[39m(sig\u001b[39m.\u001b[39mparameters, args):\n\u001b[1;32m    <a href='file:///Users/danielhorn/opt/anaconda3/lib/python3.9/site-packages/xgboost/core.py?line=530'>531</a>\u001b[0m     kwargs[k] \u001b[39m=\u001b[39m arg\n\u001b[0;32m--> <a href='file:///Users/danielhorn/opt/anaconda3/lib/python3.9/site-packages/xgboost/core.py?line=531'>532</a>\u001b[0m \u001b[39mreturn\u001b[39;00m f(\u001b[39m*\u001b[39;49m\u001b[39m*\u001b[39;49mkwargs)\n",
      "File \u001b[0;32m~/opt/anaconda3/lib/python3.9/site-packages/xgboost/sklearn.py:1382\u001b[0m, in \u001b[0;36mXGBClassifier.fit\u001b[0;34m(self, X, y, sample_weight, base_margin, eval_set, eval_metric, early_stopping_rounds, verbose, xgb_model, sample_weight_eval_set, base_margin_eval_set, feature_weights, callbacks)\u001b[0m\n\u001b[1;32m   <a href='file:///Users/danielhorn/opt/anaconda3/lib/python3.9/site-packages/xgboost/sklearn.py?line=1376'>1377</a>\u001b[0m     params[\u001b[39m\"\u001b[39m\u001b[39mnum_class\u001b[39m\u001b[39m\"\u001b[39m] \u001b[39m=\u001b[39m \u001b[39mself\u001b[39m\u001b[39m.\u001b[39mn_classes_\n\u001b[1;32m   <a href='file:///Users/danielhorn/opt/anaconda3/lib/python3.9/site-packages/xgboost/sklearn.py?line=1378'>1379</a>\u001b[0m model, metric, params, early_stopping_rounds, callbacks \u001b[39m=\u001b[39m \u001b[39mself\u001b[39m\u001b[39m.\u001b[39m_configure_fit(\n\u001b[1;32m   <a href='file:///Users/danielhorn/opt/anaconda3/lib/python3.9/site-packages/xgboost/sklearn.py?line=1379'>1380</a>\u001b[0m     xgb_model, eval_metric, params, early_stopping_rounds, callbacks\n\u001b[1;32m   <a href='file:///Users/danielhorn/opt/anaconda3/lib/python3.9/site-packages/xgboost/sklearn.py?line=1380'>1381</a>\u001b[0m )\n\u001b[0;32m-> <a href='file:///Users/danielhorn/opt/anaconda3/lib/python3.9/site-packages/xgboost/sklearn.py?line=1381'>1382</a>\u001b[0m train_dmatrix, evals \u001b[39m=\u001b[39m _wrap_evaluation_matrices(\n\u001b[1;32m   <a href='file:///Users/danielhorn/opt/anaconda3/lib/python3.9/site-packages/xgboost/sklearn.py?line=1382'>1383</a>\u001b[0m     missing\u001b[39m=\u001b[39;49m\u001b[39mself\u001b[39;49m\u001b[39m.\u001b[39;49mmissing,\n\u001b[1;32m   <a href='file:///Users/danielhorn/opt/anaconda3/lib/python3.9/site-packages/xgboost/sklearn.py?line=1383'>1384</a>\u001b[0m     X\u001b[39m=\u001b[39;49mX,\n\u001b[1;32m   <a href='file:///Users/danielhorn/opt/anaconda3/lib/python3.9/site-packages/xgboost/sklearn.py?line=1384'>1385</a>\u001b[0m     y\u001b[39m=\u001b[39;49my,\n\u001b[1;32m   <a href='file:///Users/danielhorn/opt/anaconda3/lib/python3.9/site-packages/xgboost/sklearn.py?line=1385'>1386</a>\u001b[0m     group\u001b[39m=\u001b[39;49m\u001b[39mNone\u001b[39;49;00m,\n\u001b[1;32m   <a href='file:///Users/danielhorn/opt/anaconda3/lib/python3.9/site-packages/xgboost/sklearn.py?line=1386'>1387</a>\u001b[0m     qid\u001b[39m=\u001b[39;49m\u001b[39mNone\u001b[39;49;00m,\n\u001b[1;32m   <a href='file:///Users/danielhorn/opt/anaconda3/lib/python3.9/site-packages/xgboost/sklearn.py?line=1387'>1388</a>\u001b[0m     sample_weight\u001b[39m=\u001b[39;49msample_weight,\n\u001b[1;32m   <a href='file:///Users/danielhorn/opt/anaconda3/lib/python3.9/site-packages/xgboost/sklearn.py?line=1388'>1389</a>\u001b[0m     base_margin\u001b[39m=\u001b[39;49mbase_margin,\n\u001b[1;32m   <a href='file:///Users/danielhorn/opt/anaconda3/lib/python3.9/site-packages/xgboost/sklearn.py?line=1389'>1390</a>\u001b[0m     feature_weights\u001b[39m=\u001b[39;49mfeature_weights,\n\u001b[1;32m   <a href='file:///Users/danielhorn/opt/anaconda3/lib/python3.9/site-packages/xgboost/sklearn.py?line=1390'>1391</a>\u001b[0m     eval_set\u001b[39m=\u001b[39;49meval_set,\n\u001b[1;32m   <a href='file:///Users/danielhorn/opt/anaconda3/lib/python3.9/site-packages/xgboost/sklearn.py?line=1391'>1392</a>\u001b[0m     sample_weight_eval_set\u001b[39m=\u001b[39;49msample_weight_eval_set,\n\u001b[1;32m   <a href='file:///Users/danielhorn/opt/anaconda3/lib/python3.9/site-packages/xgboost/sklearn.py?line=1392'>1393</a>\u001b[0m     base_margin_eval_set\u001b[39m=\u001b[39;49mbase_margin_eval_set,\n\u001b[1;32m   <a href='file:///Users/danielhorn/opt/anaconda3/lib/python3.9/site-packages/xgboost/sklearn.py?line=1393'>1394</a>\u001b[0m     eval_group\u001b[39m=\u001b[39;49m\u001b[39mNone\u001b[39;49;00m,\n\u001b[1;32m   <a href='file:///Users/danielhorn/opt/anaconda3/lib/python3.9/site-packages/xgboost/sklearn.py?line=1394'>1395</a>\u001b[0m     eval_qid\u001b[39m=\u001b[39;49m\u001b[39mNone\u001b[39;49;00m,\n\u001b[1;32m   <a href='file:///Users/danielhorn/opt/anaconda3/lib/python3.9/site-packages/xgboost/sklearn.py?line=1395'>1396</a>\u001b[0m     create_dmatrix\u001b[39m=\u001b[39;49m\u001b[39mlambda\u001b[39;49;00m \u001b[39m*\u001b[39;49m\u001b[39m*\u001b[39;49mkwargs: DMatrix(nthread\u001b[39m=\u001b[39;49m\u001b[39mself\u001b[39;49m\u001b[39m.\u001b[39;49mn_jobs, \u001b[39m*\u001b[39;49m\u001b[39m*\u001b[39;49mkwargs),\n\u001b[1;32m   <a href='file:///Users/danielhorn/opt/anaconda3/lib/python3.9/site-packages/xgboost/sklearn.py?line=1396'>1397</a>\u001b[0m     enable_categorical\u001b[39m=\u001b[39;49m\u001b[39mself\u001b[39;49m\u001b[39m.\u001b[39;49menable_categorical,\n\u001b[1;32m   <a href='file:///Users/danielhorn/opt/anaconda3/lib/python3.9/site-packages/xgboost/sklearn.py?line=1397'>1398</a>\u001b[0m )\n\u001b[1;32m   <a href='file:///Users/danielhorn/opt/anaconda3/lib/python3.9/site-packages/xgboost/sklearn.py?line=1399'>1400</a>\u001b[0m \u001b[39mself\u001b[39m\u001b[39m.\u001b[39m_Booster \u001b[39m=\u001b[39m train(\n\u001b[1;32m   <a href='file:///Users/danielhorn/opt/anaconda3/lib/python3.9/site-packages/xgboost/sklearn.py?line=1400'>1401</a>\u001b[0m     params,\n\u001b[1;32m   <a href='file:///Users/danielhorn/opt/anaconda3/lib/python3.9/site-packages/xgboost/sklearn.py?line=1401'>1402</a>\u001b[0m     train_dmatrix,\n\u001b[0;32m   (...)\u001b[0m\n\u001b[1;32m   <a href='file:///Users/danielhorn/opt/anaconda3/lib/python3.9/site-packages/xgboost/sklearn.py?line=1410'>1411</a>\u001b[0m     callbacks\u001b[39m=\u001b[39mcallbacks,\n\u001b[1;32m   <a href='file:///Users/danielhorn/opt/anaconda3/lib/python3.9/site-packages/xgboost/sklearn.py?line=1411'>1412</a>\u001b[0m )\n\u001b[1;32m   <a href='file:///Users/danielhorn/opt/anaconda3/lib/python3.9/site-packages/xgboost/sklearn.py?line=1413'>1414</a>\u001b[0m \u001b[39mif\u001b[39;00m \u001b[39mnot\u001b[39;00m callable(\u001b[39mself\u001b[39m\u001b[39m.\u001b[39mobjective):\n",
      "File \u001b[0;32m~/opt/anaconda3/lib/python3.9/site-packages/xgboost/sklearn.py:401\u001b[0m, in \u001b[0;36m_wrap_evaluation_matrices\u001b[0;34m(missing, X, y, group, qid, sample_weight, base_margin, feature_weights, eval_set, sample_weight_eval_set, base_margin_eval_set, eval_group, eval_qid, create_dmatrix, enable_categorical)\u001b[0m\n\u001b[1;32m    <a href='file:///Users/danielhorn/opt/anaconda3/lib/python3.9/site-packages/xgboost/sklearn.py?line=380'>381</a>\u001b[0m \u001b[39mdef\u001b[39;00m \u001b[39m_wrap_evaluation_matrices\u001b[39m(\n\u001b[1;32m    <a href='file:///Users/danielhorn/opt/anaconda3/lib/python3.9/site-packages/xgboost/sklearn.py?line=381'>382</a>\u001b[0m     missing: \u001b[39mfloat\u001b[39m,\n\u001b[1;32m    <a href='file:///Users/danielhorn/opt/anaconda3/lib/python3.9/site-packages/xgboost/sklearn.py?line=382'>383</a>\u001b[0m     X: Any,\n\u001b[0;32m   (...)\u001b[0m\n\u001b[1;32m    <a href='file:///Users/danielhorn/opt/anaconda3/lib/python3.9/site-packages/xgboost/sklearn.py?line=395'>396</a>\u001b[0m     enable_categorical: \u001b[39mbool\u001b[39m,\n\u001b[1;32m    <a href='file:///Users/danielhorn/opt/anaconda3/lib/python3.9/site-packages/xgboost/sklearn.py?line=396'>397</a>\u001b[0m ) \u001b[39m-\u001b[39m\u001b[39m>\u001b[39m Tuple[Any, List[Tuple[Any, \u001b[39mstr\u001b[39m]]]:\n\u001b[1;32m    <a href='file:///Users/danielhorn/opt/anaconda3/lib/python3.9/site-packages/xgboost/sklearn.py?line=397'>398</a>\u001b[0m     \u001b[39m\"\"\"Convert array_like evaluation matrices into DMatrix.  Perform validation on the way.\u001b[39;00m\n\u001b[1;32m    <a href='file:///Users/danielhorn/opt/anaconda3/lib/python3.9/site-packages/xgboost/sklearn.py?line=398'>399</a>\u001b[0m \n\u001b[1;32m    <a href='file:///Users/danielhorn/opt/anaconda3/lib/python3.9/site-packages/xgboost/sklearn.py?line=399'>400</a>\u001b[0m \u001b[39m    \"\"\"\u001b[39;00m\n\u001b[0;32m--> <a href='file:///Users/danielhorn/opt/anaconda3/lib/python3.9/site-packages/xgboost/sklearn.py?line=400'>401</a>\u001b[0m     train_dmatrix \u001b[39m=\u001b[39m create_dmatrix(\n\u001b[1;32m    <a href='file:///Users/danielhorn/opt/anaconda3/lib/python3.9/site-packages/xgboost/sklearn.py?line=401'>402</a>\u001b[0m         data\u001b[39m=\u001b[39;49mX,\n\u001b[1;32m    <a href='file:///Users/danielhorn/opt/anaconda3/lib/python3.9/site-packages/xgboost/sklearn.py?line=402'>403</a>\u001b[0m         label\u001b[39m=\u001b[39;49my,\n\u001b[1;32m    <a href='file:///Users/danielhorn/opt/anaconda3/lib/python3.9/site-packages/xgboost/sklearn.py?line=403'>404</a>\u001b[0m         group\u001b[39m=\u001b[39;49mgroup,\n\u001b[1;32m    <a href='file:///Users/danielhorn/opt/anaconda3/lib/python3.9/site-packages/xgboost/sklearn.py?line=404'>405</a>\u001b[0m         qid\u001b[39m=\u001b[39;49mqid,\n\u001b[1;32m    <a href='file:///Users/danielhorn/opt/anaconda3/lib/python3.9/site-packages/xgboost/sklearn.py?line=405'>406</a>\u001b[0m         weight\u001b[39m=\u001b[39;49msample_weight,\n\u001b[1;32m    <a href='file:///Users/danielhorn/opt/anaconda3/lib/python3.9/site-packages/xgboost/sklearn.py?line=406'>407</a>\u001b[0m         base_margin\u001b[39m=\u001b[39;49mbase_margin,\n\u001b[1;32m    <a href='file:///Users/danielhorn/opt/anaconda3/lib/python3.9/site-packages/xgboost/sklearn.py?line=407'>408</a>\u001b[0m         feature_weights\u001b[39m=\u001b[39;49mfeature_weights,\n\u001b[1;32m    <a href='file:///Users/danielhorn/opt/anaconda3/lib/python3.9/site-packages/xgboost/sklearn.py?line=408'>409</a>\u001b[0m         missing\u001b[39m=\u001b[39;49mmissing,\n\u001b[1;32m    <a href='file:///Users/danielhorn/opt/anaconda3/lib/python3.9/site-packages/xgboost/sklearn.py?line=409'>410</a>\u001b[0m         enable_categorical\u001b[39m=\u001b[39;49menable_categorical,\n\u001b[1;32m    <a href='file:///Users/danielhorn/opt/anaconda3/lib/python3.9/site-packages/xgboost/sklearn.py?line=410'>411</a>\u001b[0m     )\n\u001b[1;32m    <a href='file:///Users/danielhorn/opt/anaconda3/lib/python3.9/site-packages/xgboost/sklearn.py?line=412'>413</a>\u001b[0m     n_validation \u001b[39m=\u001b[39m \u001b[39m0\u001b[39m \u001b[39mif\u001b[39;00m eval_set \u001b[39mis\u001b[39;00m \u001b[39mNone\u001b[39;00m \u001b[39melse\u001b[39;00m \u001b[39mlen\u001b[39m(eval_set)\n\u001b[1;32m    <a href='file:///Users/danielhorn/opt/anaconda3/lib/python3.9/site-packages/xgboost/sklearn.py?line=414'>415</a>\u001b[0m     \u001b[39mdef\u001b[39;00m \u001b[39mvalidate_or_none\u001b[39m(meta: Optional[Sequence], name: \u001b[39mstr\u001b[39m) \u001b[39m-\u001b[39m\u001b[39m>\u001b[39m Sequence:\n",
      "File \u001b[0;32m~/opt/anaconda3/lib/python3.9/site-packages/xgboost/sklearn.py:1396\u001b[0m, in \u001b[0;36mXGBClassifier.fit.<locals>.<lambda>\u001b[0;34m(**kwargs)\u001b[0m\n\u001b[1;32m   <a href='file:///Users/danielhorn/opt/anaconda3/lib/python3.9/site-packages/xgboost/sklearn.py?line=1376'>1377</a>\u001b[0m     params[\u001b[39m\"\u001b[39m\u001b[39mnum_class\u001b[39m\u001b[39m\"\u001b[39m] \u001b[39m=\u001b[39m \u001b[39mself\u001b[39m\u001b[39m.\u001b[39mn_classes_\n\u001b[1;32m   <a href='file:///Users/danielhorn/opt/anaconda3/lib/python3.9/site-packages/xgboost/sklearn.py?line=1378'>1379</a>\u001b[0m model, metric, params, early_stopping_rounds, callbacks \u001b[39m=\u001b[39m \u001b[39mself\u001b[39m\u001b[39m.\u001b[39m_configure_fit(\n\u001b[1;32m   <a href='file:///Users/danielhorn/opt/anaconda3/lib/python3.9/site-packages/xgboost/sklearn.py?line=1379'>1380</a>\u001b[0m     xgb_model, eval_metric, params, early_stopping_rounds, callbacks\n\u001b[1;32m   <a href='file:///Users/danielhorn/opt/anaconda3/lib/python3.9/site-packages/xgboost/sklearn.py?line=1380'>1381</a>\u001b[0m )\n\u001b[1;32m   <a href='file:///Users/danielhorn/opt/anaconda3/lib/python3.9/site-packages/xgboost/sklearn.py?line=1381'>1382</a>\u001b[0m train_dmatrix, evals \u001b[39m=\u001b[39m _wrap_evaluation_matrices(\n\u001b[1;32m   <a href='file:///Users/danielhorn/opt/anaconda3/lib/python3.9/site-packages/xgboost/sklearn.py?line=1382'>1383</a>\u001b[0m     missing\u001b[39m=\u001b[39m\u001b[39mself\u001b[39m\u001b[39m.\u001b[39mmissing,\n\u001b[1;32m   <a href='file:///Users/danielhorn/opt/anaconda3/lib/python3.9/site-packages/xgboost/sklearn.py?line=1383'>1384</a>\u001b[0m     X\u001b[39m=\u001b[39mX,\n\u001b[1;32m   <a href='file:///Users/danielhorn/opt/anaconda3/lib/python3.9/site-packages/xgboost/sklearn.py?line=1384'>1385</a>\u001b[0m     y\u001b[39m=\u001b[39my,\n\u001b[1;32m   <a href='file:///Users/danielhorn/opt/anaconda3/lib/python3.9/site-packages/xgboost/sklearn.py?line=1385'>1386</a>\u001b[0m     group\u001b[39m=\u001b[39m\u001b[39mNone\u001b[39;00m,\n\u001b[1;32m   <a href='file:///Users/danielhorn/opt/anaconda3/lib/python3.9/site-packages/xgboost/sklearn.py?line=1386'>1387</a>\u001b[0m     qid\u001b[39m=\u001b[39m\u001b[39mNone\u001b[39;00m,\n\u001b[1;32m   <a href='file:///Users/danielhorn/opt/anaconda3/lib/python3.9/site-packages/xgboost/sklearn.py?line=1387'>1388</a>\u001b[0m     sample_weight\u001b[39m=\u001b[39msample_weight,\n\u001b[1;32m   <a href='file:///Users/danielhorn/opt/anaconda3/lib/python3.9/site-packages/xgboost/sklearn.py?line=1388'>1389</a>\u001b[0m     base_margin\u001b[39m=\u001b[39mbase_margin,\n\u001b[1;32m   <a href='file:///Users/danielhorn/opt/anaconda3/lib/python3.9/site-packages/xgboost/sklearn.py?line=1389'>1390</a>\u001b[0m     feature_weights\u001b[39m=\u001b[39mfeature_weights,\n\u001b[1;32m   <a href='file:///Users/danielhorn/opt/anaconda3/lib/python3.9/site-packages/xgboost/sklearn.py?line=1390'>1391</a>\u001b[0m     eval_set\u001b[39m=\u001b[39meval_set,\n\u001b[1;32m   <a href='file:///Users/danielhorn/opt/anaconda3/lib/python3.9/site-packages/xgboost/sklearn.py?line=1391'>1392</a>\u001b[0m     sample_weight_eval_set\u001b[39m=\u001b[39msample_weight_eval_set,\n\u001b[1;32m   <a href='file:///Users/danielhorn/opt/anaconda3/lib/python3.9/site-packages/xgboost/sklearn.py?line=1392'>1393</a>\u001b[0m     base_margin_eval_set\u001b[39m=\u001b[39mbase_margin_eval_set,\n\u001b[1;32m   <a href='file:///Users/danielhorn/opt/anaconda3/lib/python3.9/site-packages/xgboost/sklearn.py?line=1393'>1394</a>\u001b[0m     eval_group\u001b[39m=\u001b[39m\u001b[39mNone\u001b[39;00m,\n\u001b[1;32m   <a href='file:///Users/danielhorn/opt/anaconda3/lib/python3.9/site-packages/xgboost/sklearn.py?line=1394'>1395</a>\u001b[0m     eval_qid\u001b[39m=\u001b[39m\u001b[39mNone\u001b[39;00m,\n\u001b[0;32m-> <a href='file:///Users/danielhorn/opt/anaconda3/lib/python3.9/site-packages/xgboost/sklearn.py?line=1395'>1396</a>\u001b[0m     create_dmatrix\u001b[39m=\u001b[39m\u001b[39mlambda\u001b[39;00m \u001b[39m*\u001b[39m\u001b[39m*\u001b[39mkwargs: DMatrix(nthread\u001b[39m=\u001b[39;49m\u001b[39mself\u001b[39;49m\u001b[39m.\u001b[39;49mn_jobs, \u001b[39m*\u001b[39;49m\u001b[39m*\u001b[39;49mkwargs),\n\u001b[1;32m   <a href='file:///Users/danielhorn/opt/anaconda3/lib/python3.9/site-packages/xgboost/sklearn.py?line=1396'>1397</a>\u001b[0m     enable_categorical\u001b[39m=\u001b[39m\u001b[39mself\u001b[39m\u001b[39m.\u001b[39menable_categorical,\n\u001b[1;32m   <a href='file:///Users/danielhorn/opt/anaconda3/lib/python3.9/site-packages/xgboost/sklearn.py?line=1397'>1398</a>\u001b[0m )\n\u001b[1;32m   <a href='file:///Users/danielhorn/opt/anaconda3/lib/python3.9/site-packages/xgboost/sklearn.py?line=1399'>1400</a>\u001b[0m \u001b[39mself\u001b[39m\u001b[39m.\u001b[39m_Booster \u001b[39m=\u001b[39m train(\n\u001b[1;32m   <a href='file:///Users/danielhorn/opt/anaconda3/lib/python3.9/site-packages/xgboost/sklearn.py?line=1400'>1401</a>\u001b[0m     params,\n\u001b[1;32m   <a href='file:///Users/danielhorn/opt/anaconda3/lib/python3.9/site-packages/xgboost/sklearn.py?line=1401'>1402</a>\u001b[0m     train_dmatrix,\n\u001b[0;32m   (...)\u001b[0m\n\u001b[1;32m   <a href='file:///Users/danielhorn/opt/anaconda3/lib/python3.9/site-packages/xgboost/sklearn.py?line=1410'>1411</a>\u001b[0m     callbacks\u001b[39m=\u001b[39mcallbacks,\n\u001b[1;32m   <a href='file:///Users/danielhorn/opt/anaconda3/lib/python3.9/site-packages/xgboost/sklearn.py?line=1411'>1412</a>\u001b[0m )\n\u001b[1;32m   <a href='file:///Users/danielhorn/opt/anaconda3/lib/python3.9/site-packages/xgboost/sklearn.py?line=1413'>1414</a>\u001b[0m \u001b[39mif\u001b[39;00m \u001b[39mnot\u001b[39;00m callable(\u001b[39mself\u001b[39m\u001b[39m.\u001b[39mobjective):\n",
      "File \u001b[0;32m~/opt/anaconda3/lib/python3.9/site-packages/xgboost/core.py:532\u001b[0m, in \u001b[0;36m_deprecate_positional_args.<locals>.inner_f\u001b[0;34m(*args, **kwargs)\u001b[0m\n\u001b[1;32m    <a href='file:///Users/danielhorn/opt/anaconda3/lib/python3.9/site-packages/xgboost/core.py?line=529'>530</a>\u001b[0m \u001b[39mfor\u001b[39;00m k, arg \u001b[39min\u001b[39;00m \u001b[39mzip\u001b[39m(sig\u001b[39m.\u001b[39mparameters, args):\n\u001b[1;32m    <a href='file:///Users/danielhorn/opt/anaconda3/lib/python3.9/site-packages/xgboost/core.py?line=530'>531</a>\u001b[0m     kwargs[k] \u001b[39m=\u001b[39m arg\n\u001b[0;32m--> <a href='file:///Users/danielhorn/opt/anaconda3/lib/python3.9/site-packages/xgboost/core.py?line=531'>532</a>\u001b[0m \u001b[39mreturn\u001b[39;00m f(\u001b[39m*\u001b[39;49m\u001b[39m*\u001b[39;49mkwargs)\n",
      "File \u001b[0;32m~/opt/anaconda3/lib/python3.9/site-packages/xgboost/core.py:666\u001b[0m, in \u001b[0;36mDMatrix.__init__\u001b[0;34m(self, data, label, weight, base_margin, missing, silent, feature_names, feature_types, nthread, group, qid, label_lower_bound, label_upper_bound, feature_weights, enable_categorical)\u001b[0m\n\u001b[1;32m    <a href='file:///Users/danielhorn/opt/anaconda3/lib/python3.9/site-packages/xgboost/core.py?line=653'>654</a>\u001b[0m \u001b[39mself\u001b[39m\u001b[39m.\u001b[39mset_info(\n\u001b[1;32m    <a href='file:///Users/danielhorn/opt/anaconda3/lib/python3.9/site-packages/xgboost/core.py?line=654'>655</a>\u001b[0m     label\u001b[39m=\u001b[39mlabel,\n\u001b[1;32m    <a href='file:///Users/danielhorn/opt/anaconda3/lib/python3.9/site-packages/xgboost/core.py?line=655'>656</a>\u001b[0m     weight\u001b[39m=\u001b[39mweight,\n\u001b[0;32m   (...)\u001b[0m\n\u001b[1;32m    <a href='file:///Users/danielhorn/opt/anaconda3/lib/python3.9/site-packages/xgboost/core.py?line=661'>662</a>\u001b[0m     feature_weights\u001b[39m=\u001b[39mfeature_weights,\n\u001b[1;32m    <a href='file:///Users/danielhorn/opt/anaconda3/lib/python3.9/site-packages/xgboost/core.py?line=662'>663</a>\u001b[0m )\n\u001b[1;32m    <a href='file:///Users/danielhorn/opt/anaconda3/lib/python3.9/site-packages/xgboost/core.py?line=664'>665</a>\u001b[0m \u001b[39mif\u001b[39;00m feature_names \u001b[39mis\u001b[39;00m \u001b[39mnot\u001b[39;00m \u001b[39mNone\u001b[39;00m:\n\u001b[0;32m--> <a href='file:///Users/danielhorn/opt/anaconda3/lib/python3.9/site-packages/xgboost/core.py?line=665'>666</a>\u001b[0m     \u001b[39mself\u001b[39m\u001b[39m.\u001b[39mfeature_names \u001b[39m=\u001b[39m feature_names\n\u001b[1;32m    <a href='file:///Users/danielhorn/opt/anaconda3/lib/python3.9/site-packages/xgboost/core.py?line=666'>667</a>\u001b[0m \u001b[39mif\u001b[39;00m feature_types \u001b[39mis\u001b[39;00m \u001b[39mnot\u001b[39;00m \u001b[39mNone\u001b[39;00m:\n\u001b[1;32m    <a href='file:///Users/danielhorn/opt/anaconda3/lib/python3.9/site-packages/xgboost/core.py?line=667'>668</a>\u001b[0m     \u001b[39mself\u001b[39m\u001b[39m.\u001b[39mfeature_types \u001b[39m=\u001b[39m feature_types\n",
      "File \u001b[0;32m~/opt/anaconda3/lib/python3.9/site-packages/xgboost/core.py:1044\u001b[0m, in \u001b[0;36mDMatrix.feature_names\u001b[0;34m(self, feature_names)\u001b[0m\n\u001b[1;32m   <a href='file:///Users/danielhorn/opt/anaconda3/lib/python3.9/site-packages/xgboost/core.py?line=1039'>1040</a>\u001b[0m \u001b[39m# prohibit to use symbols may affect to parse. e.g. []<\u001b[39;00m\n\u001b[1;32m   <a href='file:///Users/danielhorn/opt/anaconda3/lib/python3.9/site-packages/xgboost/core.py?line=1040'>1041</a>\u001b[0m \u001b[39mif\u001b[39;00m \u001b[39mnot\u001b[39;00m \u001b[39mall\u001b[39m(\u001b[39misinstance\u001b[39m(f, \u001b[39mstr\u001b[39m) \u001b[39mand\u001b[39;00m\n\u001b[1;32m   <a href='file:///Users/danielhorn/opt/anaconda3/lib/python3.9/site-packages/xgboost/core.py?line=1041'>1042</a>\u001b[0m            \u001b[39mnot\u001b[39;00m \u001b[39many\u001b[39m(x \u001b[39min\u001b[39;00m f \u001b[39mfor\u001b[39;00m x \u001b[39min\u001b[39;00m \u001b[39mset\u001b[39m((\u001b[39m'\u001b[39m\u001b[39m[\u001b[39m\u001b[39m'\u001b[39m, \u001b[39m'\u001b[39m\u001b[39m]\u001b[39m\u001b[39m'\u001b[39m, \u001b[39m'\u001b[39m\u001b[39m<\u001b[39m\u001b[39m'\u001b[39m)))\n\u001b[1;32m   <a href='file:///Users/danielhorn/opt/anaconda3/lib/python3.9/site-packages/xgboost/core.py?line=1042'>1043</a>\u001b[0m            \u001b[39mfor\u001b[39;00m f \u001b[39min\u001b[39;00m feature_names):\n\u001b[0;32m-> <a href='file:///Users/danielhorn/opt/anaconda3/lib/python3.9/site-packages/xgboost/core.py?line=1043'>1044</a>\u001b[0m     \u001b[39mraise\u001b[39;00m \u001b[39mValueError\u001b[39;00m(\u001b[39m'\u001b[39m\u001b[39mfeature_names must be string, and may not contain [, ] or <\u001b[39m\u001b[39m'\u001b[39m)\n\u001b[1;32m   <a href='file:///Users/danielhorn/opt/anaconda3/lib/python3.9/site-packages/xgboost/core.py?line=1044'>1045</a>\u001b[0m feature_names_bytes \u001b[39m=\u001b[39m [\u001b[39mbytes\u001b[39m(f, encoding\u001b[39m=\u001b[39m\u001b[39m'\u001b[39m\u001b[39mutf-8\u001b[39m\u001b[39m'\u001b[39m) \u001b[39mfor\u001b[39;00m f \u001b[39min\u001b[39;00m feature_names]\n\u001b[1;32m   <a href='file:///Users/danielhorn/opt/anaconda3/lib/python3.9/site-packages/xgboost/core.py?line=1045'>1046</a>\u001b[0m c_feature_names \u001b[39m=\u001b[39m (ctypes\u001b[39m.\u001b[39mc_char_p \u001b[39m*\u001b[39m\n\u001b[1;32m   <a href='file:///Users/danielhorn/opt/anaconda3/lib/python3.9/site-packages/xgboost/core.py?line=1046'>1047</a>\u001b[0m                    \u001b[39mlen\u001b[39m(feature_names_bytes))(\u001b[39m*\u001b[39mfeature_names_bytes)\n",
      "\u001b[0;31mValueError\u001b[0m: feature_names must be string, and may not contain [, ] or <"
     ]
    }
   ],
   "source": [
    "# use xgboost to predict target variable\n",
    "from xgboost import XGBClassifier\n",
    "# fit the model\n",
    "xgb = XGBClassifier(n_estimators=1000, max_depth=1000, random_state=42)\n",
    "\n",
    "\n",
    "\n",
    "\n",
    "xgb.fit(X_train, y_train)\n",
    "# predict the target variable\n",
    "y_pred = xgb.predict(X_test)\n",
    "# print accuracy score and recall score\n",
    "print(\"Accuracy score:\", accuracy_score(y_test, y_pred))\n",
    "print(\"Recall score:\", recall_score(y_test, y_pred))\n",
    "print(\"Precision score:\", precision_score(y_test, y_pred))\n",
    "print(\"fbeta score:\", fbeta_score(y_test, y_pred, beta=2))\n"
   ]
  },
  {
   "cell_type": "code",
   "execution_count": null,
   "metadata": {},
   "outputs": [],
   "source": []
  }
 ],
 "metadata": {
  "interpreter": {
   "hash": "800f0b85eeee35c3cacd47e90f543e046d27129974546771a66e11c352dc03d2"
  },
  "kernelspec": {
   "display_name": "Python 3.9.7 ('base')",
   "language": "python",
   "name": "python3"
  },
  "language_info": {
   "codemirror_mode": {
    "name": "ipython",
    "version": 3
   },
   "file_extension": ".py",
   "mimetype": "text/x-python",
   "name": "python",
   "nbconvert_exporter": "python",
   "pygments_lexer": "ipython3",
   "version": "3.9.7"
  },
  "orig_nbformat": 4
 },
 "nbformat": 4,
 "nbformat_minor": 2
}
